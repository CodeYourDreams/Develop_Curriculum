{
 "cells": [
  {
   "cell_type": "markdown",
   "metadata": {},
   "source": [
    "# Variables, Strings, Numbers...Oh My!\n",
    "\n",
    "By the end of this lesson, you will learn how to use variables, variable types, lists, and dictionaries.\n",
    "\n",
    "## Constants and Variables\n",
    "\n",
    "Constants are fixed values in code. They are called \"constants\" because they don't ever change. Here are some examples of constants:"
   ]
  },
  {
   "cell_type": "code",
   "execution_count": 1,
   "metadata": {},
   "outputs": [
    {
     "name": "stdout",
     "output_type": "stream",
     "text": [
      "348\n",
      "Hello!\n"
     ]
    }
   ],
   "source": [
    "# 348 is a constant\n",
    "print(348)\n",
    "\n",
    "# \"Hello!\" is a constant\n",
    "print(\"Hello!\")"
   ]
  },
  {
   "cell_type": "markdown",
   "metadata": {},
   "source": [
    "A variable is a name to store data (like numbers). Things stored in variables can be changed later. Here's an example of how to use a variable:"
   ]
  },
  {
   "cell_type": "code",
   "execution_count": 2,
   "metadata": {},
   "outputs": [
    {
     "name": "stdout",
     "output_type": "stream",
     "text": [
      "Your name is:\n",
      "fill in your name here\n",
      "Now your name is Hannah !\n"
     ]
    }
   ],
   "source": [
    "# Replace \"fill in your name here\" with your own name!\n",
    "name = 'fill in your name here'\n",
    "\n",
    "print('Your name is:')\n",
    "print(name)\n",
    "\n",
    "# Now let's try changing the name\n",
    "name = 'Hannah'\n",
    "print('Now your name is', name, '!')"
   ]
  },
  {
   "cell_type": "markdown",
   "metadata": {},
   "source": [
    "The value for a variable can be changed at any time, and you can name a variable anything you like, except for a few special cases. Most importantly, a variable needs to start with a letter."
   ]
  },
  {
   "cell_type": "code",
   "execution_count": 3,
   "metadata": {},
   "outputs": [
    {
     "name": "stdout",
     "output_type": "stream",
     "text": [
      "Hello Class! How are you today?\n",
      "I'm doing fantastic, thanks for asking!\n",
      "Print makes my variable appear on the screen... cool!\n",
      "4\n"
     ]
    }
   ],
   "source": [
    "message = \"Hello Class! How are you today?\"\n",
    "print(message)\n",
    "\n",
    "message = \"I'm doing fantastic, thanks for asking!\"\n",
    "print(message)\n",
    "\n",
    "message = \"Print makes my variable appear on the screen... cool!\"\n",
    "print(message)\n",
    "\n",
    "# Now the message is a number rather than a string!\n",
    "message = 4\n",
    "print(message)"
   ]
  },
  {
   "cell_type": "markdown",
   "metadata": {},
   "source": [
    "![SegmentLocal](https://media1.giphy.com/media/112Ti5aKwelYys/giphy.gif \"segment\")"
   ]
  },
  {
   "cell_type": "markdown",
   "metadata": {},
   "source": [
    "### Naming Rules\n",
    "\n",
    "Here are some rules about naming variables;\n",
    "\n",
    "1. Variables can only contain letters, numbers, and underscores. Variable names cannot start with a number.\n",
    "\n",
    "    - `first_message` is an ok variable name, but `1st_message` is not allowed because it starts with a number `1`\n",
    "    \n",
    "2. Spaces are not allowed in variable names, so we use underscores instead of spaces\n",
    " \n",
    "    - `my_message` is an ok variable name, but `my message` is not allowed because it has a space\n",
    "    \n",
    "3. You cannot use Python keywords as variable names. Keywords are just special words that Python already uses.\n",
    "\n",
    "    - `my_class` is an ok variable name, but `class` is not allowed because `class` is a keyword\n"
   ]
  },
  {
   "cell_type": "markdown",
   "metadata": {},
   "source": [
    "### Helpful Names\n",
    "\n",
    "It's very important to use helpful names for your variables. Most programmers end up reading more code than they write!\n",
    "\n",
    "Here's an example program that doesn't use helpful variable names:"
   ]
  },
  {
   "cell_type": "code",
   "execution_count": 13,
   "metadata": {},
   "outputs": [
    {
     "name": "stdout",
     "output_type": "stream",
     "text": [
      "45.0\n"
     ]
    }
   ],
   "source": [
    "d88fj38jkj = 50.0\n",
    "f12kfjd8zp = 0.9  # 90%\n",
    "q98jlk2j3r = d88fj38jkj * f12kfjd8zp\n",
    "print(q98jlk2j3r)"
   ]
  },
  {
   "cell_type": "markdown",
   "metadata": {},
   "source": [
    "Do you understand what this code might be doing? Neither do I!\n",
    "\n",
    "Let's clean up the code using better variable names so that we understand what's going on:"
   ]
  },
  {
   "cell_type": "code",
   "execution_count": 14,
   "metadata": {},
   "outputs": [
    {
     "name": "stdout",
     "output_type": "stream",
     "text": [
      "45.0\n"
     ]
    }
   ],
   "source": [
    "price = 50.0\n",
    "coupon_discount = 0.9  # 90%\n",
    "final_price = price * coupon_discount\n",
    "print(final_price)"
   ]
  },
  {
   "cell_type": "markdown",
   "metadata": {},
   "source": [
    "### Exercise "
   ]
  },
  {
   "cell_type": "markdown",
   "metadata": {},
   "source": [
    "Let's write the beginning of an app that displays a welcoming message to users when they log in. First, create a variable named `welcome_message` to be displayed. Then, `print` the variable `welcome_message`"
   ]
  },
  {
   "cell_type": "code",
   "execution_count": 15,
   "metadata": {},
   "outputs": [],
   "source": [
    "# Create the variable welcome_message\n",
    "\n",
    "# Print the welcome_message "
   ]
  },
  {
   "cell_type": "markdown",
   "metadata": {},
   "source": [
    "## Strings\n",
    "\n",
    "So far, we've seen a lot of example messages in our code, like `\"Hello, world!\"` and `\"Hannah\"`. These messages in double quotes (`\"`) or single quotes (`'`) are called _strings_. Strings are made of of _characters_. For example, the string `'cat'` has three characters: `c`, `a`, and `t`. When defining strings, there is no difference between using single quotes (`'`) or double quotes (`\"`). \n",
    "\n",
    "Let's create a few strings and print them:"
   ]
  },
  {
   "cell_type": "code",
   "execution_count": 16,
   "metadata": {},
   "outputs": [
    {
     "ename": "NameError",
     "evalue": "name '_____' is not defined",
     "output_type": "error",
     "traceback": [
      "\u001b[0;31m---------------------------------------------------------------------------\u001b[0m",
      "\u001b[0;31mNameError\u001b[0m                                 Traceback (most recent call last)",
      "\u001b[0;32m<ipython-input-16-36fc8d37d794>\u001b[0m in \u001b[0;36m<module>\u001b[0;34m\u001b[0m\n\u001b[1;32m      1\u001b[0m \u001b[0;31m# Set the variable below (my_first_string) to equal \"Hello, world!\"\u001b[0m\u001b[0;34m\u001b[0m\u001b[0;34m\u001b[0m\u001b[0;34m\u001b[0m\u001b[0m\n\u001b[0;32m----> 2\u001b[0;31m \u001b[0mmy_first_string\u001b[0m \u001b[0;34m=\u001b[0m \u001b[0m_____\u001b[0m\u001b[0;34m\u001b[0m\u001b[0;34m\u001b[0m\u001b[0m\n\u001b[0m\u001b[1;32m      3\u001b[0m \u001b[0mprint\u001b[0m\u001b[0;34m(\u001b[0m\u001b[0mmy_first_string\u001b[0m\u001b[0;34m)\u001b[0m\u001b[0;34m\u001b[0m\u001b[0;34m\u001b[0m\u001b[0m\n\u001b[1;32m      4\u001b[0m \u001b[0;34m\u001b[0m\u001b[0m\n\u001b[1;32m      5\u001b[0m \u001b[0;31m# Set the variable below (my_second_stirng) to equal \"Code Your Dreams\"\u001b[0m\u001b[0;34m\u001b[0m\u001b[0;34m\u001b[0m\u001b[0;34m\u001b[0m\u001b[0m\n",
      "\u001b[0;31mNameError\u001b[0m: name '_____' is not defined"
     ]
    }
   ],
   "source": [
    "# Set the variable below (my_first_string) to equal \"Hello, world!\"\n",
    "my_first_string = _____\n",
    "print(my_first_string)\n",
    "\n",
    "# Set the variable below (my_second_stirng) to equal \"Code Your Dreams\"\n",
    "my_second_string = _____\n",
    "print(my_second_string)"
   ]
  },
  {
   "cell_type": "markdown",
   "metadata": {},
   "source": [
    "### Encountering Errors\n",
    "\n",
    "Errors are your friends! They tell you when there is something you need to fix in order to make your code run. Let's look at the following code and try to run it:"
   ]
  },
  {
   "cell_type": "code",
   "execution_count": 17,
   "metadata": {},
   "outputs": [
    {
     "ename": "NameError",
     "evalue": "name 'mycity' is not defined",
     "output_type": "error",
     "traceback": [
      "\u001b[0;31m---------------------------------------------------------------------------\u001b[0m",
      "\u001b[0;31mNameError\u001b[0m                                 Traceback (most recent call last)",
      "\u001b[0;32m<ipython-input-17-ebc5489c038c>\u001b[0m in \u001b[0;36m<module>\u001b[0;34m\u001b[0m\n\u001b[1;32m      1\u001b[0m \u001b[0mmy_city\u001b[0m \u001b[0;34m=\u001b[0m \u001b[0;34m\"Chicago\"\u001b[0m\u001b[0;34m\u001b[0m\u001b[0;34m\u001b[0m\u001b[0m\n\u001b[0;32m----> 2\u001b[0;31m \u001b[0mprint\u001b[0m\u001b[0;34m(\u001b[0m\u001b[0;34m\"My favorite city is \"\u001b[0m \u001b[0;34m+\u001b[0m \u001b[0mmycity\u001b[0m\u001b[0;34m)\u001b[0m\u001b[0;34m\u001b[0m\u001b[0;34m\u001b[0m\u001b[0m\n\u001b[0m",
      "\u001b[0;31mNameError\u001b[0m: name 'mycity' is not defined"
     ]
    }
   ],
   "source": [
    "my_city = \"Chicago\"\n",
    "print(\"My favorite city is \" + mycity)"
   ]
  },
  {
   "cell_type": "markdown",
   "metadata": {},
   "source": [
    "Okay, we got an error. The error is called `NameError` and it tells us that 'mycity' is not defined. Can you help fix this?"
   ]
  },
  {
   "cell_type": "markdown",
   "metadata": {},
   "source": [
    "![SegmentLocal](https://media.giphy.com/media/CzbiCJTYOzHTW/giphy.gif \"segment\")"
   ]
  },
  {
   "cell_type": "markdown",
   "metadata": {},
   "source": [
    "The problem in the code above was that there were actually two variables: `my_city` in the first line, and `mycity` in the second line. Python said that `mycity` was not defined because there was no `mycity = ...` in the code. \n",
    "\n",
    "Fill out the code below using the instructions to fix the error. "
   ]
  },
  {
   "cell_type": "code",
   "execution_count": 18,
   "metadata": {},
   "outputs": [],
   "source": [
    "# Create a variable called my_city for your favorite city, like Chicago!\n",
    "\n",
    "# Write a correct print statement to print out what your favorite city is "
   ]
  },
  {
   "cell_type": "markdown",
   "metadata": {},
   "source": [
    "#### String Modifications\n",
    "\n",
    "Sometimes, it can be helpful to add strings togther. Just like you can write two sentences next to each other on a piece of paper, you can combine strings together in Python. We use addition (`+`) to add strings together. Adding strings together is also known as concatenation. \n",
    "\n",
    "Let's look at an example:"
   ]
  },
  {
   "cell_type": "code",
   "execution_count": 19,
   "metadata": {
    "scrolled": true
   },
   "outputs": [
    {
     "name": "stdout",
     "output_type": "stream",
     "text": [
      "BrianneCaplan\n"
     ]
    }
   ],
   "source": [
    "# Fill in your first name and last name here\n",
    "first_name = \"Brianne\"\n",
    "last_name = \"Caplan\"\n",
    "full_name = first_name + last_name\n",
    "print(full_name)"
   ]
  },
  {
   "cell_type": "markdown",
   "metadata": {},
   "source": [
    "Now let's add a space in between our first name and our last name:"
   ]
  },
  {
   "cell_type": "code",
   "execution_count": 20,
   "metadata": {},
   "outputs": [
    {
     "name": "stdout",
     "output_type": "stream",
     "text": [
      "My name is brianne caplan.\n"
     ]
    }
   ],
   "source": [
    "first_name = \"brianne\"\n",
    "last_name = \"caplan\"\n",
    "full_name = first_name + \" \" + last_name\n",
    "print(\"My name is \" + full_name + \".\")"
   ]
  },
  {
   "cell_type": "markdown",
   "metadata": {},
   "source": [
    "## Exercise "
   ]
  },
  {
   "cell_type": "markdown",
   "metadata": {},
   "source": [
    "Fill out the code below to print out your two favorite types of food! Replace the underscores with either a string or a variable name"
   ]
  },
  {
   "cell_type": "code",
   "execution_count": 21,
   "metadata": {},
   "outputs": [
    {
     "ename": "NameError",
     "evalue": "name '_____' is not defined",
     "output_type": "error",
     "traceback": [
      "\u001b[0;31m---------------------------------------------------------------------------\u001b[0m",
      "\u001b[0;31mNameError\u001b[0m                                 Traceback (most recent call last)",
      "\u001b[0;32m<ipython-input-21-a383f6e5d9eb>\u001b[0m in \u001b[0;36m<module>\u001b[0;34m\u001b[0m\n\u001b[1;32m      1\u001b[0m \u001b[0;31m# Assign the first food variable\u001b[0m\u001b[0;34m\u001b[0m\u001b[0;34m\u001b[0m\u001b[0;34m\u001b[0m\u001b[0m\n\u001b[0;32m----> 2\u001b[0;31m \u001b[0mfirst_favorite_food\u001b[0m \u001b[0;34m=\u001b[0m \u001b[0m_____\u001b[0m\u001b[0;34m\u001b[0m\u001b[0;34m\u001b[0m\u001b[0m\n\u001b[0m\u001b[1;32m      3\u001b[0m \u001b[0;34m\u001b[0m\u001b[0m\n\u001b[1;32m      4\u001b[0m \u001b[0;31m# Assign the second food variable\u001b[0m\u001b[0;34m\u001b[0m\u001b[0;34m\u001b[0m\u001b[0;34m\u001b[0m\u001b[0m\n\u001b[1;32m      5\u001b[0m \u001b[0msecond_favorite_food\u001b[0m \u001b[0;34m=\u001b[0m \u001b[0m_____\u001b[0m\u001b[0;34m\u001b[0m\u001b[0;34m\u001b[0m\u001b[0m\n",
      "\u001b[0;31mNameError\u001b[0m: name '_____' is not defined"
     ]
    }
   ],
   "source": [
    "# Assign the first food variable\n",
    "first_favorite_food = _____\n",
    "\n",
    "# Assign the second food variable\n",
    "second_favorite_food = _____\n",
    "\n",
    "# Print statement that combines both variables\n",
    "# Example: I love pizza and popcorn\n",
    "print('I love ' + _____ + _____ + _____)"
   ]
  },
  {
   "cell_type": "markdown",
   "metadata": {},
   "source": [
    "## Integers and Floats"
   ]
  },
  {
   "cell_type": "markdown",
   "metadata": {},
   "source": [
    "There are two main types of numbers in Python. The first number type is an integer, or an `int`. `int`s are whole numbers, and they can be negative or positive:"
   ]
  },
  {
   "cell_type": "code",
   "execution_count": 22,
   "metadata": {},
   "outputs": [
    {
     "name": "stdout",
     "output_type": "stream",
     "text": [
      "14\n",
      "<class 'int'>\n"
     ]
    }
   ],
   "source": [
    "fave_num = 14\n",
    "print(fave_num)\n",
    "print(type(fave_num))"
   ]
  },
  {
   "cell_type": "markdown",
   "metadata": {},
   "source": [
    "The second main type of number is a `float`. `float`s are numbers with decimal points:"
   ]
  },
  {
   "cell_type": "code",
   "execution_count": 23,
   "metadata": {},
   "outputs": [
    {
     "name": "stdout",
     "output_type": "stream",
     "text": [
      "3.2\n",
      "<class 'float'>\n"
     ]
    }
   ],
   "source": [
    "fave_num = 3.2\n",
    "print(fave_num)\n",
    "print(type(fave_num))"
   ]
  },
  {
   "cell_type": "markdown",
   "metadata": {},
   "source": [
    "`int`s and `float`s can be combined together to create new values for variables. Let's look at an example program to calculate the answer to a math question:"
   ]
  },
  {
   "cell_type": "code",
   "execution_count": 24,
   "metadata": {},
   "outputs": [
    {
     "name": "stdout",
     "output_type": "stream",
     "text": [
      "48.0\n",
      "3.0\n"
     ]
    }
   ],
   "source": [
    "math_question = 3 + 5 * 18 / 2\n",
    "print(math_question)\n",
    "print(math_question % 5)"
   ]
  },
  {
   "cell_type": "markdown",
   "metadata": {},
   "source": [
    "Be careful with working with strings and numbers together though! Sometimes, you will need to convert an `int` or `float` variable into a string (or `str`) type when you want to combine them together.\n",
    "\n",
    "For example, when you run this code you will get a `TypeError`:"
   ]
  },
  {
   "cell_type": "code",
   "execution_count": 25,
   "metadata": {},
   "outputs": [
    {
     "ename": "TypeError",
     "evalue": "can only concatenate str (not \"int\") to str",
     "output_type": "error",
     "traceback": [
      "\u001b[0;31m---------------------------------------------------------------------------\u001b[0m",
      "\u001b[0;31mTypeError\u001b[0m                                 Traceback (most recent call last)",
      "\u001b[0;32m<ipython-input-25-e070102e233b>\u001b[0m in \u001b[0;36m<module>\u001b[0;34m\u001b[0m\n\u001b[1;32m      1\u001b[0m \u001b[0mfave_num\u001b[0m \u001b[0;34m=\u001b[0m \u001b[0;36m22\u001b[0m\u001b[0;34m\u001b[0m\u001b[0;34m\u001b[0m\u001b[0m\n\u001b[0;32m----> 2\u001b[0;31m \u001b[0mprint\u001b[0m\u001b[0;34m(\u001b[0m\u001b[0;34m\"My favorite number is \"\u001b[0m \u001b[0;34m+\u001b[0m \u001b[0mfave_num\u001b[0m\u001b[0;34m)\u001b[0m\u001b[0;34m\u001b[0m\u001b[0;34m\u001b[0m\u001b[0m\n\u001b[0m",
      "\u001b[0;31mTypeError\u001b[0m: can only concatenate str (not \"int\") to str"
     ]
    }
   ],
   "source": [
    "fave_num = 22\n",
    "print(\"My favorite number is \" + fave_num)"
   ]
  },
  {
   "cell_type": "markdown",
   "metadata": {},
   "source": [
    "The `TypeError` means that something in your code had the wrong type. In this case, we tried to add a string to a variable with the type `int`. We can fix this error by first converting `fave_num` into a string (or `str`) before adding them together:"
   ]
  },
  {
   "cell_type": "code",
   "execution_count": 26,
   "metadata": {},
   "outputs": [
    {
     "name": "stdout",
     "output_type": "stream",
     "text": [
      "My favorite number is 22\n"
     ]
    }
   ],
   "source": [
    "print(\"My favorite number is \" + str(fave_num))"
   ]
  },
  {
   "cell_type": "markdown",
   "metadata": {},
   "source": [
    "## Lists\n",
    "\n",
    "A list is a type of variable that can store many things in one place. A `list` is a collection, which carries many values around using one convenient name.\n",
    "\n",
    "For example, here's a list of different chicago neighborhoods:"
   ]
  },
  {
   "cell_type": "code",
   "execution_count": 27,
   "metadata": {},
   "outputs": [],
   "source": [
    "chicago_neighborhoods = ['Hyde Park', 'Englewood', 'Woodlawn', 'Pilsen', 'South Loop']     "
   ]
  },
  {
   "cell_type": "markdown",
   "metadata": {},
   "source": [
    "And here's a list of different classes:"
   ]
  },
  {
   "cell_type": "code",
   "execution_count": 28,
   "metadata": {},
   "outputs": [],
   "source": [
    "my_classes = ['English', 'Computer Science', 'Spanish', 'World History']"
   ]
  },
  {
   "cell_type": "markdown",
   "metadata": {},
   "source": [
    "Lists can have an type of variable in them, from strings, to integers, to floats, to other types of variables!"
   ]
  },
  {
   "cell_type": "code",
   "execution_count": 29,
   "metadata": {},
   "outputs": [],
   "source": [
    "all_types_of_items = ['a string', 34, True, 27.234, 'apple', False]"
   ]
  },
  {
   "cell_type": "markdown",
   "metadata": {},
   "source": [
    "## List Indexes\n",
    "\n",
    "You can get the individual items in a list by using an _index_. An index is the number location of an item in list. In Python, the first item has an _index_ of 0, the second item has an _index_ of 1, and so on.\n",
    "\n",
    "Let's look at a grocery list example:"
   ]
  },
  {
   "cell_type": "code",
   "execution_count": 30,
   "metadata": {},
   "outputs": [
    {
     "name": "stdout",
     "output_type": "stream",
     "text": [
      "The first item in the list is: apples\n",
      "The second item in the list is: bananas\n",
      "The third item in the list is: grapes\n"
     ]
    }
   ],
   "source": [
    "grocery_list = ['apples', 'bananas', 'grapes']\n",
    "\n",
    "print('The first item in the list is: ' + grocery_list[0])\n",
    "print('The second item in the list is: ' + grocery_list[1])\n",
    "print('The third item in the list is: ' + grocery_list[2])"
   ]
  },
  {
   "cell_type": "markdown",
   "metadata": {},
   "source": [
    "Items in a list can be changed later in code using their index. Let's update our grocery list after we've created the `grocery_list` variable:"
   ]
  },
  {
   "cell_type": "code",
   "execution_count": 31,
   "metadata": {},
   "outputs": [
    {
     "name": "stdout",
     "output_type": "stream",
     "text": [
      "Your grocery list is ['apples', 'bananas', 'grapes']\n",
      "Your updated grocery list is ['apples', 'bagel bites', 'grapes']\n"
     ]
    }
   ],
   "source": [
    "grocery_list = ['apples', 'bananas', 'grapes']\n",
    "# To print the list, we need to convert it into a string first\n",
    "print('Your grocery list is ' + str(grocery_list))\n",
    "\n",
    "# Update the second item in the list\n",
    "grocery_list[1] = 'bagel bites'\n",
    "print('Your updated grocery list is ' + str(grocery_list))"
   ]
  },
  {
   "cell_type": "markdown",
   "metadata": {},
   "source": [
    "### Exercise\n",
    "\n",
    "Create two lists in the block of code below. The first list should be your first and last name, like ['Johnny', 'Test']. The second list should be your age and the number of siblings you have. \n",
    "\n",
    "Then, fill in blanks in the code to print out the information from the lists about yourself!"
   ]
  },
  {
   "cell_type": "code",
   "execution_count": 32,
   "metadata": {},
   "outputs": [
    {
     "ename": "SyntaxError",
     "evalue": "invalid syntax (<ipython-input-32-0410dcf31993>, line 7)",
     "output_type": "error",
     "traceback": [
      "\u001b[0;36m  File \u001b[0;32m\"<ipython-input-32-0410dcf31993>\"\u001b[0;36m, line \u001b[0;32m7\u001b[0m\n\u001b[0;31m    print('I am ' + my_info[_____] ' years old and I have ' + my_info[_____] + ' siblings')\u001b[0m\n\u001b[0m                                                          ^\u001b[0m\n\u001b[0;31mSyntaxError\u001b[0m\u001b[0;31m:\u001b[0m invalid syntax\n"
     ]
    }
   ],
   "source": [
    "# Create a list called \"full_name\" that includes your first and last name\n",
    "\n",
    "# Create a list called \"my_info\" that includes your age and the number of siblings you have\n",
    "\n",
    "# Print out your information\n",
    "print('Hello, my name is ' + full_name[_____] + ' ' + full_name[_____])\n",
    "print('I am ' + my_info[_____] ' years old and I have ' + my_info[_____] + ' siblings')"
   ]
  },
  {
   "cell_type": "markdown",
   "metadata": {},
   "source": [
    "## Dictionaries\n",
    "\n",
    "Dictionaries (or a `dict`) are collections of items within one variable. Dictionaries are similar to a list because they contain many different pieces of information, but instead of being in a single order, dictionaries use `key`s and `value`s in pairs.\n",
    "\n",
    "A dictionary is created in Python using the following syntax:"
   ]
  },
  {
   "cell_type": "code",
   "execution_count": 33,
   "metadata": {},
   "outputs": [],
   "source": [
    "ages = {'Nicky': 22}"
   ]
  },
  {
   "cell_type": "markdown",
   "metadata": {},
   "source": [
    "`ages` is a dictionary holding, and `'Nicky': 22` is called a _key-value pair_. The value that we're holding in the dictionary is the age `22`, and the key that we use to get the value from the dictionary is the name `Nicky`.\n",
    "\n",
    "Dictionaries are like \"bags\" of values. When you open the bag, each item in it has a label. If you want to find your wallet in the bag, you would look for a label named \"wallet\". \n",
    "\n",
    "Let's create our first dictionary! Fill in the values for the dictionary below to create an `about_me` dictionary:"
   ]
  },
  {
   "cell_type": "code",
   "execution_count": 34,
   "metadata": {},
   "outputs": [
    {
     "ename": "NameError",
     "evalue": "name '_____' is not defined",
     "output_type": "error",
     "traceback": [
      "\u001b[0;31m---------------------------------------------------------------------------\u001b[0m",
      "\u001b[0;31mNameError\u001b[0m                                 Traceback (most recent call last)",
      "\u001b[0;32m<ipython-input-34-26b634491b02>\u001b[0m in \u001b[0;36m<module>\u001b[0;34m\u001b[0m\n\u001b[1;32m      1\u001b[0m about_me = {\n\u001b[0;32m----> 2\u001b[0;31m     \u001b[0;34m'name'\u001b[0m\u001b[0;34m:\u001b[0m \u001b[0m_____\u001b[0m\u001b[0;34m,\u001b[0m\u001b[0;34m\u001b[0m\u001b[0;34m\u001b[0m\u001b[0m\n\u001b[0m\u001b[1;32m      3\u001b[0m     \u001b[0;34m'city'\u001b[0m\u001b[0;34m:\u001b[0m \u001b[0m_____\u001b[0m\u001b[0;34m,\u001b[0m\u001b[0;34m\u001b[0m\u001b[0;34m\u001b[0m\u001b[0m\n\u001b[1;32m      4\u001b[0m     \u001b[0;34m'age'\u001b[0m\u001b[0;34m:\u001b[0m \u001b[0m_____\u001b[0m\u001b[0;34m\u001b[0m\u001b[0;34m\u001b[0m\u001b[0m\n\u001b[1;32m      5\u001b[0m }\n",
      "\u001b[0;31mNameError\u001b[0m: name '_____' is not defined"
     ]
    }
   ],
   "source": [
    "about_me = {\n",
    "    'name': _____,\n",
    "    'city': _____,\n",
    "    'age': _____\n",
    "}\n",
    "\n",
    "print(about_me)"
   ]
  },
  {
   "cell_type": "markdown",
   "metadata": {},
   "source": [
    "### Dictionary Indexing\n",
    "\n",
    "Rather than using an index number to get an item (like in a `list`), you use the keys of a `dict` to get each value. For example, let's print out just your name from the `about_me` dictionary:"
   ]
  },
  {
   "cell_type": "code",
   "execution_count": 35,
   "metadata": {},
   "outputs": [
    {
     "ename": "NameError",
     "evalue": "name 'about_me' is not defined",
     "output_type": "error",
     "traceback": [
      "\u001b[0;31m---------------------------------------------------------------------------\u001b[0m",
      "\u001b[0;31mNameError\u001b[0m                                 Traceback (most recent call last)",
      "\u001b[0;32m<ipython-input-35-ae272a79f02b>\u001b[0m in \u001b[0;36m<module>\u001b[0;34m\u001b[0m\n\u001b[0;32m----> 1\u001b[0;31m \u001b[0mprint\u001b[0m\u001b[0;34m(\u001b[0m\u001b[0;34m'My name is '\u001b[0m \u001b[0;34m+\u001b[0m \u001b[0mabout_me\u001b[0m\u001b[0;34m[\u001b[0m\u001b[0;34m'name'\u001b[0m\u001b[0;34m]\u001b[0m\u001b[0;34m)\u001b[0m\u001b[0;34m\u001b[0m\u001b[0;34m\u001b[0m\u001b[0m\n\u001b[0m",
      "\u001b[0;31mNameError\u001b[0m: name 'about_me' is not defined"
     ]
    }
   ],
   "source": [
    "print('My name is ' + about_me['name'])"
   ]
  },
  {
   "cell_type": "markdown",
   "metadata": {},
   "source": [
    "Notice that, just like a list, we use brackets `[]` at the end of the variable name, and we put the key inside the brackets to get the value of that key in the dictionary.\n",
    "\n",
    "You can add key-value pairs to a dictionary in a similar way. Let's add this class to your `about_me` information:"
   ]
  },
  {
   "cell_type": "code",
   "execution_count": 36,
   "metadata": {},
   "outputs": [
    {
     "ename": "NameError",
     "evalue": "name 'about_me' is not defined",
     "output_type": "error",
     "traceback": [
      "\u001b[0;31m---------------------------------------------------------------------------\u001b[0m",
      "\u001b[0;31mNameError\u001b[0m                                 Traceback (most recent call last)",
      "\u001b[0;32m<ipython-input-36-a8899bcf7790>\u001b[0m in \u001b[0;36m<module>\u001b[0;34m\u001b[0m\n\u001b[0;32m----> 1\u001b[0;31m \u001b[0mabout_me\u001b[0m\u001b[0;34m[\u001b[0m\u001b[0;34m'class'\u001b[0m\u001b[0;34m]\u001b[0m \u001b[0;34m=\u001b[0m \u001b[0;34m'Code Your Dreams'\u001b[0m\u001b[0;34m\u001b[0m\u001b[0;34m\u001b[0m\u001b[0m\n\u001b[0m\u001b[1;32m      2\u001b[0m \u001b[0mprint\u001b[0m\u001b[0;34m(\u001b[0m\u001b[0mabout_me\u001b[0m\u001b[0;34m)\u001b[0m\u001b[0;34m\u001b[0m\u001b[0;34m\u001b[0m\u001b[0m\n",
      "\u001b[0;31mNameError\u001b[0m: name 'about_me' is not defined"
     ]
    }
   ],
   "source": [
    "about_me['class'] = 'Code Your Dreams'\n",
    "print(about_me)"
   ]
  },
  {
   "cell_type": "markdown",
   "metadata": {},
   "source": [
    "# Homework\n",
    "\n",
    "![SegmentLocal](https://media1.tenor.com/images/406dea3c20cda3680a54de5f0c2ddd91/tenor.gif?itemid=5121344 \"segment\")"
   ]
  },
  {
   "cell_type": "markdown",
   "metadata": {},
   "source": [
    "First, create a variable named `my_list`, and place an `int`, a `float`, and a string inside the list. Then, print the list."
   ]
  },
  {
   "cell_type": "code",
   "execution_count": 37,
   "metadata": {},
   "outputs": [],
   "source": [
    "# Create list here\n",
    "\n",
    "\n",
    "# Print the list\n",
    "\n"
   ]
  },
  {
   "cell_type": "markdown",
   "metadata": {},
   "source": [
    "Now we have a dictionary of information about you, but the information is current wrong!"
   ]
  },
  {
   "cell_type": "code",
   "execution_count": 38,
   "metadata": {},
   "outputs": [],
   "source": [
    "about_me = {\n",
    "    'name': 'Patrick Star',\n",
    "    'age': 105,\n",
    "    'favorite_food': 'broccoli'\n",
    "}"
   ]
  },
  {
   "cell_type": "markdown",
   "metadata": {},
   "source": [
    "Using the code block **below** (not by modifying the code block above), update the values for each of the keys (`name`, `age`, and `favorite_food`) using dictionary indexing. Then, print the entire dictionary."
   ]
  },
  {
   "cell_type": "code",
   "execution_count": 39,
   "metadata": {},
   "outputs": [],
   "source": [
    "# Update the key 'name'\n",
    "\n",
    "\n",
    "# Update the key 'age'\n",
    "\n",
    "\n",
    "# Update the key 'favorite_food'\n",
    "\n",
    "\n",
    "# Print the dictionary"
   ]
  }
 ],
 "metadata": {
  "kernelspec": {
   "display_name": "Python 3",
   "language": "python",
   "name": "python3"
  },
  "language_info": {
   "codemirror_mode": {
    "name": "ipython",
    "version": 3
   },
   "file_extension": ".py",
   "mimetype": "text/x-python",
   "name": "python",
   "nbconvert_exporter": "python",
   "pygments_lexer": "ipython3",
   "version": "3.7.6"
  }
 },
 "nbformat": 4,
 "nbformat_minor": 2
}

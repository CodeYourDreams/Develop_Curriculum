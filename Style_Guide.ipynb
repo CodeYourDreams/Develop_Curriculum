{
 "metadata": {
  "language_info": {
   "codemirror_mode": {
    "name": "ipython",
    "version": 3
   },
   "file_extension": ".py",
   "mimetype": "text/x-python",
   "name": "python",
   "nbconvert_exporter": "python",
   "pygments_lexer": "ipython3",
   "version": 3
  },
  "orig_nbformat": 2
 },
 "nbformat": 4,
 "nbformat_minor": 2,
 "cells": [
  {
   "cell_type": "markdown",
   "metadata": {},
   "source": [
    "# Clean Code Style Guide"
   ]
  },
  {
   "cell_type": "markdown",
   "metadata": {},
   "source": [
    "![SegmentLocal](https://media.giphy.com/media/9PtfS5tTC8ejlYfCLU/giphy.gif \"clean\")"
   ]
  },
  {
   "cell_type": "markdown",
   "metadata": {},
   "source": [
    "## Introduction\n",
    "\n",
    "Code is read much more than it is written. The guidelines here are intended to improve the readability of your code and make it as consistent as possible. \n",
    "\n",
    "Consistency is important, whether it has to do with multiple projects, one project, or one module/function. \n",
    "\n",
    "Yet it's also important to know when to be inconsistent - sometimes a style guide just doesn't apply. For example, if a guideline would make the code less readable, or following the style guide would be inconsistent with the surrounding code, it may make sense to break some rules. When in doubt, do your research and use your best judgement. And don't hesitate to ask! \n",
    "\n",
    "This guide is based on John Magee’s Python Style Guide: simplified version for beginner programmers, which in turn was based on Style Guide for Python Code by Guido van Rossum and Barry Warsaw. The original version of Style for Python Code has been placed in the public domain by the authors and is available at: http://www.python.org/dev/peps/pep-0008/. Any errors, omissions, or odious style conventions are on us."
   ]
  },
  {
   "cell_type": "markdown",
   "metadata": {},
   "source": [
    "## Code Layout\n",
    "\n",
    "### Indentation\n",
    "\n",
    "Each indent should contain 4 spaces, NOT one tab character.\n",
    "\n",
    "You can check for this by trying this: in your editor, press the tab key and then press the left arrow key. If your cursor goes back to the beginning of the line, your editor inserted a single (incorrect) \"tab\" character. Many editors can be configured to insert four spaces when the tab key is pressed; google around for instructions. \n",
    "\n",
    "If the cursor only goes back by one space (and you have to press the left arrow key three more times to get it to the beginning of the line), your editor is correctly inserting four spaces. \n",
    "\n",
    "#### Maximum Line Length\n",
    "\n",
    "Limit all lines to a maximum of 79 characters. Many devices still limit their line lengths to 80 characters. Limiting line length also enables you to have multiple editors side by side. And automatic wrapping may disrupt the visual structure of the code, making it harder to understand.\n",
    "\n",
    "In Python, the preferred way to wrap long lines is by inserting line breaks inside of parentheses, brackets, and braces. In some cases, a backslash (\\) looks better.\n",
    "\n",
    "### Blank lines\n",
    "\n",
    "Separate functions and class definitions with two blank lines.\n",
    "\n",
    "Extra blank lines can be used to separate groups of related functions. \n",
    "\n",
    "Blank lines may sparingly be used in functions to indicate logical sections.\n"
   ]
  },
  {
   "cell_type": "markdown",
   "metadata": {},
   "source": [
    "## Imports\n",
    "\n",
    "### Placement\n",
    "\n",
    "Imports should be placed at the top of files, after any module comments and before module globals and constants.\n",
    "\n",
    "### Formatting\n",
    "\n",
    "Formats should be on separate lines. For example:\n"
   ]
  },
  {
   "cell_type": "markdown",
   "metadata": {},
   "source": [
    "Yes:"
   ]
  },
  {
   "cell_type": "code",
   "execution_count": null,
   "metadata": {},
   "outputs": [],
   "source": [
    "import pandas\n",
    "import numpy"
   ]
  },
  {
   "cell_type": "markdown",
   "metadata": {},
   "source": [
    "No:"
   ]
  },
  {
   "cell_type": "code",
   "execution_count": null,
   "metadata": {},
   "outputs": [],
   "source": [
    "import pandas, numpy"
   ]
  },
  {
   "cell_type": "markdown",
   "metadata": {},
   "source": [
    "But this is ok:"
   ]
  },
  {
   "cell_type": "code",
   "execution_count": null,
   "metadata": {},
   "outputs": [],
   "source": [
    "from math import ceil, sqrt"
   ]
  },
  {
   "cell_type": "markdown",
   "metadata": {},
   "source": [
    "## Whitespace\n",
    "\n",
    "### Avoid extra white spaces in these situations:\n",
    "\n",
    "Immediately inside parentheses, brackets, or braces:"
   ]
  },
  {
   "cell_type": "code",
   "execution_count": null,
   "metadata": {},
   "outputs": [],
   "source": [
    "Yes: groceries(bread[1], {milk: 2}) \n",
    "No: groceries( bread[ 1 ], { milk: 2 } )"
   ]
  },
  {
   "cell_type": "markdown",
   "metadata": {},
   "source": [
    "Immediately before a comma or colon:"
   ]
  },
  {
   "cell_type": "code",
   "execution_count": null,
   "metadata": {},
   "outputs": [],
   "source": [
    "Yes: if x == 15: print x, y\n",
    "No:  if x == 15 : print x , y"
   ]
  },
  {
   "cell_type": "markdown",
   "metadata": {},
   "source": [
    "Immediately before the parenthesis that begins the argument list of a function call:"
   ]
  },
  {
   "cell_type": "code",
   "execution_count": null,
   "metadata": {},
   "outputs": [],
   "source": [
    "Yes: groceries(1)\n",
    "No:  groceries (1)"
   ]
  },
  {
   "cell_type": "markdown",
   "metadata": {},
   "source": [
    "Immediately before the open parenthesis that begins indexing or slicing:\n"
   ]
  },
  {
   "cell_type": "code",
   "execution_count": null,
   "metadata": {},
   "outputs": [],
   "source": [
    "Yes: dict['key'] = list[index]\n",
    "No:  dict ['key'] = list [index]"
   ]
  },
  {
   "cell_type": "markdown",
   "metadata": {},
   "source": [
    "More than one space around an assignment (or other) operator to align it with others."
   ]
  },
  {
   "cell_type": "code",
   "execution_count": null,
   "metadata": {},
   "outputs": [],
   "source": [
    "# Yes:\n",
    "\n",
    "x = 1\n",
    "y = 2\n",
    "long_variable = 3\n",
    "\n",
    "# No:\n",
    "\n",
    "x             = 1\n",
    "y             = 2\n",
    "long_variable = 3"
   ]
  },
  {
   "cell_type": "markdown",
   "metadata": {},
   "source": [
    "### Where to use spaces\n",
    "\n",
    "Surround  these binary operators with one space on both sides: assignment (=), augmented assignment (+=, -=, etc.), comparisons (==, <, >, !=, <>, <=, >=, in, not in, is, is not), Booleans (and, or, not).\n",
    "Use spaces around mathematical operators:"
   ]
  },
  {
   "cell_type": "code",
   "execution_count": null,
   "metadata": {},
   "outputs": [],
   "source": [
    "# Yes:\n",
    "\n",
    "i = i + 1\n",
    "variable += 1\n",
    "x = x * 2 - 1\n",
    "hypot = x * x + y * y\n",
    "c = (a + b) * (a - b)\n",
    "\n",
    "# No:\n",
    "\n",
    "i=i+1\n",
    "variable+= 1\n",
    "x = x*2 - 1\n",
    "hypot = x*x + y*y\n",
    "c = (a+b) * (a-b)"
   ]
  },
  {
   "cell_type": "markdown",
   "metadata": {},
   "source": [
    "Multiple statements on the same line are generally discouraged:"
   ]
  },
  {
   "cell_type": "code",
   "execution_count": null,
   "metadata": {},
   "outputs": [],
   "source": [
    "# Yes:\n",
    "\n",
    "if foo == 'blah':\n",
    "    do_blah_thing()\n",
    "do_one()\n",
    "do_two()\n",
    "do_three()\n",
    "\n",
    "# Probably not:\n",
    "\n",
    "if foo == 'blah': do_blah_thing()\n",
    "do_one(); do_two(); do_three()"
   ]
  },
  {
   "cell_type": "markdown",
   "metadata": {},
   "source": [
    "## Comments\n",
    "\n",
    "It's worse to have contradicting comments than no comments at all. Always remember to keep comments up to date when your code changes. Comments should have either a single short phrase or multiple complete sentences. The first word of both kinds of comments should be capitalized, unless it is an identifier that begins with a lower case letter (never alter the case of identifiers!). \n",
    "\n",
    "Short comments do not need a period at the end. Block comments consist of one or more paragraphs built out of complete sentences, and each sentence should end in a period. \n",
    "\n",
    "### Header Comments\n",
    "\n",
    "These appear at the top of a file. They generally include the filename, author, date, and a description of what the file is for and what it contains.\n"
   ]
  },
  {
   "cell_type": "code",
   "execution_count": null,
   "metadata": {},
   "outputs": [],
   "source": [
    "# One line description of the contents of the file.\n",
    "#\n",
    "# Your name\n",
    "#\n",
    "# Usage information."
   ]
  },
  {
   "cell_type": "markdown",
   "metadata": {},
   "source": [
    "### Block Comments\n",
    "\n",
    "Block comments generally apply to code that follows them, and are indented to the same level as that code. Each line of a block comment starts with a # and one space (unless it's indented text inside a comment). Paragraphs inside a block comment are separated by a line containing one #, as in the block comment above.\n",
    "\n",
    "### Inline Comments\n",
    "\n",
    "Inline comments are comments on the same line as a statement. They should be separated by at least two spaces from the statement. They should start with a # and a single space.\n",
    "\n",
    "These should be used sparingly, and are often unnecessary. They can even be distracting if they state the obvious. Do not do this:"
   ]
  },
  {
   "cell_type": "code",
   "execution_count": null,
   "metadata": {},
   "outputs": [],
   "source": [
    "x = x + 1         # Increment X"
   ]
  },
  {
   "cell_type": "markdown",
   "metadata": {},
   "source": [
    "But this type of comment can be useful:"
   ]
  },
  {
   "cell_type": "code",
   "execution_count": null,
   "metadata": {},
   "outputs": [],
   "source": [
    "x = x + 1        # Compensate for border."
   ]
  },
  {
   "cell_type": "markdown",
   "metadata": {},
   "source": [
    "## Naming Conventions\n",
    "\n",
    "There are many naming conventions common in Python and other programming languages. The two common ones we will see are lowercase_with_underscore (aka snake_case) and CamelCase. For consistency, try to stick to the snake case convention.\n",
    "\n",
    "Examples:"
   ]
  },
  {
   "cell_type": "code",
   "execution_count": null,
   "metadata": {},
   "outputs": [],
   "source": [
    "find_perimeter\n",
    "total_tshirts\n",
    "print_hello_world"
   ]
  },
  {
   "cell_type": "markdown",
   "metadata": {},
   "source": [
    "One exception: class names should start with a capital letter and use CamelCase. "
   ]
  },
  {
   "cell_type": "code",
   "execution_count": null,
   "metadata": {},
   "outputs": [],
   "source": [
    "ClassOne\n",
    "Route\n",
    "ClassTrip"
   ]
  },
  {
   "cell_type": "markdown",
   "metadata": {},
   "source": [
    "Use descriptive names for parameters, global variables, functions, classes, and modules. Use short names for local variables. In general, the larger the scope of the variable, the more descriptive the name should be."
   ]
  },
  {
   "cell_type": "code",
   "execution_count": null,
   "metadata": {},
   "outputs": [],
   "source": [
    "# Yes:\n",
    "\n",
    "for x in data:\n",
    "    print(f(x))\n",
    "\n",
    "# No:\n",
    "\n",
    "for element_of_list in data:\n",
    "    print(f(element_of_list))"
   ]
  },
  {
   "cell_type": "markdown",
   "metadata": {},
   "source": [
    "### Avoid Magic Numbers\n",
    "\n",
    "Avoid using numbers that have little meaning to your reader; use constants instead.\n",
    "\n",
    "Example:"
   ]
  },
  {
   "cell_type": "code",
   "execution_count": null,
   "metadata": {},
   "outputs": [],
   "source": [
    "# Yes:\n",
    "\n",
    "if abs(expected) >= TOLERANCE:\n",
    "    print(\"Over tolerance level\")\n",
    "\n",
    "# No:\n",
    "\n",
    "if abs(expected) >= 10:\n",
    "    print(\"Over tolerance level\")\n"
   ]
  },
  {
   "cell_type": "markdown",
   "metadata": {},
   "source": [
    "It's preferred if you use all caps for constants"
   ]
  },
  {
   "cell_type": "markdown",
   "metadata": {},
   "source": [
    "## Other Recommendations\n",
    "\n",
    "Do not compare boolean values to True or False using ==."
   ]
  },
  {
   "cell_type": "code",
   "execution_count": null,
   "metadata": {},
   "outputs": [],
   "source": [
    "Yes:   if greeting:\n",
    "No:    if greeting == True:\n",
    "Worse: if greeting is True:"
   ]
  }
 ]
}
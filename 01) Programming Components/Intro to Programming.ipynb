{
 "cells": [
  {
   "cell_type": "markdown",
   "metadata": {},
   "source": [
    "# Introduction to Computer Programming Components"
   ]
  },
  {
   "cell_type": "markdown",
   "metadata": {},
   "source": [
    "\n",
    "## What is Programming? \n",
    "   Programming is a way of giving computers instructions about what we want them to do next. \n",
    "   \n",
    "   Also called coding, it is a translation of our human instructions into computer language. \n",
    "   \n",
    "   The code is a way for the programmer to tell the computer how to solve problems or what tasks to perform. "
   ]
  },
  {
   "cell_type": "markdown",
   "metadata": {},
   "source": [
    "### Anyone can code!"
   ]
  },
  {
   "cell_type": "markdown",
   "metadata": {},
   "source": [
    "![codingURL](https://media.giphy.com/media/3oKIPnAiaMCws8nOsE/giphy.gif \"cat coding\")"
   ]
  },
  {
   "cell_type": "markdown",
   "metadata": {},
   "source": [
    "## What is the life of a programmer like? What do they do?\n",
    "   Since computer science can be applied to so many different ideas, programmers are pretty free to design content to address almost any need.\n",
    "   \n",
    "   Computer scientists design, develop, and test software for performance, reliability, and security. \n",
    "   \n",
    "   Projects can range from designing a website, to developing an android application to save the environment, to inventing a new video game, to adapting software for medical uses. "
   ]
  },
  {
   "cell_type": "markdown",
   "metadata": {},
   "source": [
    "# Why study Computer Science?\n",
    "   The most important aspect of computer science is problem solving, an essential skill for life. Students study the design, development and analysis of software and hardware used to solve problems in a variety of business, scientific and social contexts.\n",
    "   \n",
    "   Watch the first 6 minutes of this video to talk to real life programmers at YouTube!!"
   ]
  },
  {
   "cell_type": "markdown",
   "metadata": {},
   "source": [
    "[What_do_Programmers_Actually_Do](https://www.youtube.com/watch?v=g4a7_HH9Wbg)"
   ]
  },
  {
   "cell_type": "markdown",
   "metadata": {},
   "source": [
    "#### Exercise:\n",
    "At minute 4:52 in the video, Physics Girl says that it all starts with a problem you want to solve. What is a problem you have or see in your life right now?\n",
    "Can you think of a program or an app that could solve that problem? What would it do?"
   ]
  },
  {
   "cell_type": "markdown",
   "metadata": {},
   "source": [
    "## What is pseudocode and why is it so important?\n",
    "   Pseudocode is a way of explaining code in a simplified way, without using real code. As it is super important to have a complete understanding of what you want to tell the computer, before you start coding, pseudocode can be helpful in this way. \n",
    "   \n",
    "   This is an example of how specific code needs to be to tell the computer what to do with a simple task such as making a sandwhich.\n",
    "   "
   ]
  },
  {
   "cell_type": "code",
   "execution_count": 4,
   "metadata": {
    "scrolled": false
   },
   "outputs": [
    {
     "data": {
      "text/html": [
       "<img src=\"https://images.slideplayer.com/12/3455881/slides/slide_9.jpg\" width=\"500\" height=\"500\"/>"
      ],
      "text/plain": [
       "<IPython.core.display.Image object>"
      ]
     },
     "execution_count": 4,
     "metadata": {},
     "output_type": "execute_result"
    }
   ],
   "source": [
    "from IPython.display import Image\n",
    "from IPython.core.display import HTML \n",
    "Image(url= \"https://images.slideplayer.com/12/3455881/slides/slide_9.jpg\", width = 500, height = 500)"
   ]
  },
  {
   "cell_type": "markdown",
   "metadata": {},
   "source": [
    "The specificty and the separation into smaller sections to be executed, is what makes code run smoothly."
   ]
  },
  {
   "cell_type": "markdown",
   "metadata": {},
   "source": [
    "## Try for yourself:"
   ]
  },
  {
   "cell_type": "markdown",
   "metadata": {},
   "source": [
    "#### Exercise 1\n",
    "Here's a problem we need to solve - can you transfer it to pseudocode?\n",
    "\n",
    "A prime number is one that is divisible by the number 1 and itself. You can test if a number is prime by trying to divide it by every number from 2 onward."
   ]
  },
  {
   "cell_type": "code",
   "execution_count": 4,
   "metadata": {},
   "outputs": [],
   "source": [
    "## Write your pseudocode here"
   ]
  },
  {
   "cell_type": "raw",
   "metadata": {},
   "source": [
    "# Answer:\n",
    "    number is 17\n",
    "    prime is true / false\n",
    "    \n",
    "    for all the numbers from 2 up to the number\n",
    "        if the number is divisible by each of those numbers, then\n",
    "            prime is false\n",
    "            \n",
    "        otherwise\n",
    "            prime is true\n",
    "            \n",
    "    if prime is true\n",
    "        output is \"prime\"\n",
    "        \n",
    "    if not\n",
    "        output is \"not prime\"\n",
    "    \n",
    "# Source: https://www.futurelearn.com/courses/block-to-text-programming/0/steps/39492"
   ]
  },
  {
   "cell_type": "markdown",
   "metadata": {},
   "source": [
    "#### Exercise 2"
   ]
  },
  {
   "cell_type": "code",
   "execution_count": 6,
   "metadata": {},
   "outputs": [
    {
     "name": "stdout",
     "output_type": "stream",
     "text": [
      "num is greater than 5\n"
     ]
    }
   ],
   "source": [
    "# Exercise 2\n",
    "# Translate the following code into pseudocode\n",
    "# Hint: describe what the following code is doing\n",
    "# and don't think too hard about it\n",
    "num = 7\n",
    "if num < 5:\n",
    "    print(\"num is less than 5\")\n",
    "else:\n",
    "    print(\"num is greater than 5\")\n",
    "    \n",
    "## Write your pseudocode here"
   ]
  },
  {
   "cell_type": "markdown",
   "metadata": {},
   "source": [
    "## What is a language in Computer Science? \n",
    "   A language is a vocabulary and set of grammatical rules for instructing a computer or computing device to perform specific tasks. How we communicate with the computer!\n",
    "   \n",
    "   The language we are coding in is called Python. Python is a language with applications in numerous areas, including web programming, scripting, scientific computing, and artificial intelligence. \n",
    "    \n",
    "![python2](https://tenor.com/view/python-snake-snake-pile-cuddle-nope-gif-4860424.gif \"python2\")\n",
    "\n",
    "   # Why do we like Python as much as this guy?\n",
    "   It is general purpose langauge that can be used for both desktop and web applications. The syntax is generally considered easy to read, and Python is designed to facilitate data analysis and visualization. Python also has a big standard library as well as open framework for us to use!\n",
    "       \n",
    "  It is very popular and used by organizations such as Google, Nasa, the CIA, and Disney!!\n",
    "  \n",
    "  Fun Python Fact: Python was named after a famous British comedy show that was playing in the 1960s, 70s, and 80s named 'Monty Python's Flying Circus.' The creator of the programming language wanted to capture a playfulness - a silly and fun aspect of Python."
   ]
  },
  {
   "cell_type": "markdown",
   "metadata": {},
   "source": [
    "# What are the main components associated with programming?\n",
    "    Variables, Control Structures, Data Structures, Syntax, Tools.\n",
    "    \n",
    "## Variables\n",
    "   Variables are the storage location and name of a piece of data. You can change the value of a variable at any time."
   ]
  },
  {
   "cell_type": "markdown",
   "metadata": {},
   "source": [
    "There are different \"types of data\". For example, some basic Python data types are:\n",
    "1. int (integer) eg. 200\n",
    "2. float (number with a decimal) eg. 3.0\n",
    "3. boolean (true or false value) eg. True\n",
    "4. string (a sequence of characters in single or double quotes) eg. 'python' or \"Hello World\"\n"
   ]
  },
  {
   "cell_type": "code",
   "execution_count": 12,
   "metadata": {},
   "outputs": [
    {
     "data": {
      "text/html": [
       "<img src=\"http://www.relatably.com/m/img/variable-memes/web-developer-walrus-meme-generator-can-t-think-of-a-name-for-the-variable-x-it-is-40c9da.jpg\" width=\"300\" height=\"300\"/>"
      ],
      "text/plain": [
       "<IPython.core.display.Image object>"
      ]
     },
     "execution_count": 12,
     "metadata": {},
     "output_type": "execute_result"
    }
   ],
   "source": [
    "from IPython.display import Image\n",
    "from IPython.core.display import HTML \n",
    "Image(url= \"http://www.relatably.com/m/img/variable-memes/web-developer-walrus-meme-generator-can-t-think-of-a-name-for-the-variable-x-it-is-40c9da.jpg\", height = 300, width = 300)"
   ]
  },
  {
   "cell_type": "markdown",
   "metadata": {},
   "source": [
    "### No! Please be specific when naming your variables! This will become more helpful as your code gets longer, and other people begin reading it!\n",
    "For example:"
   ]
  },
  {
   "cell_type": "code",
   "execution_count": 41,
   "metadata": {},
   "outputs": [],
   "source": [
    "my_name = \"Abbey\"\n",
    "# the variable my_name stores the value of \"Abbey\" in the computer's memory.\n",
    "# my_name is the name of the variable that holds a string\n",
    "\n",
    "year = 2019\n",
    "# the variable year stores the value of 2019 for later use.\n",
    "# year is the name of the variable that holds an int"
   ]
  },
  {
   "cell_type": "markdown",
   "metadata": {},
   "source": [
    "#### Exercise\n",
    "Decide what type of data the following variables are. The first one is completed for you."
   ]
  },
  {
   "cell_type": "code",
   "execution_count": 6,
   "metadata": {},
   "outputs": [],
   "source": [
    "number_of_people = 132\n",
    "# int\n",
    "\n",
    "last_name = \"Welch\"\n",
    "#\n",
    "\n",
    "stair_count = 44\n",
    "#\n",
    "\n",
    "hours_of_sleep = 7.5\n",
    "#\n",
    "\n",
    "has_mustache = True\n",
    "#\n",
    "\n",
    "book_title = 'To Kill A Mockingbird'\n",
    "#\n",
    "\n",
    "mph = 65\n",
    "#"
   ]
  },
  {
   "cell_type": "markdown",
   "metadata": {},
   "source": [
    "## Control Structures\n",
    "   Control Structures are a block of code which analyzes variables and chooses a direction in which to go based on given parameters. They determine how a computer will respond when given certain conditions. \n",
    "    \n",
    "   Control structures can be broken down into 3 types:\n",
    "   1. Sequence\n",
    "       - Line by line execution (same order as they appear in the script).\n",
    "       - may be used for arithmetic operations or assigning values to variables\n",
    "   2. Decision\n",
    "       - Depending on whether a condition is true or false, the execution sequence changes.\n",
    "   3. Loop\n",
    "       - allows the execution of a block until a specified condition is met"
   ]
  },
  {
   "cell_type": "markdown",
   "metadata": {},
   "source": [
    "### Sequence Control Structure"
   ]
  },
  {
   "cell_type": "code",
   "execution_count": 7,
   "metadata": {},
   "outputs": [
    {
     "data": {
      "text/html": [
       "<img src=\"https://www.bouraspage.com/wp-content/uploads/2015/09/img_5604e893e7bfe-e1547477211655.png\"/>"
      ],
      "text/plain": [
       "<IPython.core.display.Image object>"
      ]
     },
     "execution_count": 7,
     "metadata": {},
     "output_type": "execute_result"
    }
   ],
   "source": [
    "from IPython.display import Image\n",
    "from IPython.core.display import HTML\n",
    "Image(url= \"https://www.bouraspage.com/wp-content/uploads/2015/09/img_5604e893e7bfe-e1547477211655.png\")"
   ]
  },
  {
   "cell_type": "code",
   "execution_count": 8,
   "metadata": {
    "scrolled": true
   },
   "outputs": [
    {
     "name": "stdout",
     "output_type": "stream",
     "text": [
      "Hi, my name is Jordan\n",
      "I am 16 years old.\n",
      "I live in Chicago\n"
     ]
    }
   ],
   "source": [
    "# Code example for a sequence control structure\n",
    "my_name = \"Jordan\"\n",
    "age = \"16\"\n",
    "city = \"Chicago\"\n",
    "print(\"Hi, my name is \" + my_name)\n",
    "print(\"I am \" + age + \" years old.\")\n",
    "print(\"I live in \" + city)"
   ]
  },
  {
   "cell_type": "markdown",
   "metadata": {},
   "source": [
    "#### Notice that in a Sequence Control Structure, the tasks come one after the next.\n",
    "We create different variables, then we print different strings using those variables."
   ]
  },
  {
   "cell_type": "markdown",
   "metadata": {},
   "source": [
    "### Decision Control Structure"
   ]
  },
  {
   "cell_type": "code",
   "execution_count": 3,
   "metadata": {},
   "outputs": [
    {
     "data": {
      "text/html": [
       "<img src=\"http://pages.cs.wisc.edu/~cs310-1/modules/Programming/_NOT%20USED%20MATLAB%20Programming/Conditional%20Execution/if_else_flow.jpg\"/>"
      ],
      "text/plain": [
       "<IPython.core.display.Image object>"
      ]
     },
     "execution_count": 3,
     "metadata": {},
     "output_type": "execute_result"
    }
   ],
   "source": [
    "from IPython.display import Image\n",
    "from IPython.core.display import HTML\n",
    "# Broken link: Image(url= \"https://www.freewebmentor.com/wp-content/uploads/2017/08/if-else-flow-control-diagram.png\")\n",
    "Image(url= \"http://pages.cs.wisc.edu/~cs310-1/modules/Programming/_NOT%20USED%20MATLAB%20Programming/Conditional%20Execution/if_else_flow.jpg\")"
   ]
  },
  {
   "cell_type": "code",
   "execution_count": 1,
   "metadata": {},
   "outputs": [
    {
     "name": "stdout",
     "output_type": "stream",
     "text": [
      "You cannot get your driver's license yet. :(\n"
     ]
    }
   ],
   "source": [
    "# Code example for decision control structure\n",
    "\n",
    "age = 14 # try changing this number to change the outcome!\n",
    "\n",
    "if age >= 16:\n",
    "    print(\"You can get your driver's license!\")\n",
    "else:\n",
    "    print(\"You cannot get your driver's license yet. :(\")"
   ]
  },
  {
   "cell_type": "markdown",
   "metadata": {},
   "source": [
    "### Loop Control Structure"
   ]
  },
  {
   "cell_type": "code",
   "execution_count": 15,
   "metadata": {},
   "outputs": [
    {
     "data": {
      "text/html": [
       "<img src=\"https://www.bouraspage.com/wp-content/uploads/2015/09/img_5604e8e913c7d.png\"/>"
      ],
      "text/plain": [
       "<IPython.core.display.Image object>"
      ]
     },
     "execution_count": 15,
     "metadata": {},
     "output_type": "execute_result"
    }
   ],
   "source": [
    "from IPython.display import Image\n",
    "from IPython.core.display import HTML\n",
    "Image(url= \"https://www.bouraspage.com/wp-content/uploads/2015/09/img_5604e8e913c7d.png\")"
   ]
  },
  {
   "cell_type": "code",
   "execution_count": 8,
   "metadata": {},
   "outputs": [
    {
     "name": "stdout",
     "output_type": "stream",
     "text": [
      "Keep Fundraising!\n",
      "donation fund: 100\n",
      "Keep Fundraising!\n",
      "donation fund: 200\n",
      "Keep Fundraising!\n",
      "donation fund: 300\n",
      "Students without computers: 2\n",
      "\n",
      "Keep Fundraising!\n",
      "donation fund: 100\n",
      "Keep Fundraising!\n",
      "donation fund: 200\n",
      "Keep Fundraising!\n",
      "donation fund: 300\n",
      "Students without computers: 1\n",
      "\n",
      "Keep Fundraising!\n",
      "donation fund: 100\n",
      "Keep Fundraising!\n",
      "donation fund: 200\n",
      "Keep Fundraising!\n",
      "donation fund: 300\n",
      "Students without computers: 0\n",
      "\n",
      "Everyone has a computer now!! Great Job Everyone!\n"
     ]
    }
   ],
   "source": [
    "# Code example of a loop control structure\n",
    "\n",
    "students_without_computers = 3  # try changing this number to change the outcome!\n",
    "donations = 0  # try changing this number to change the outcome!\n",
    "\n",
    "while students_without_computers > 0:\n",
    "    print(\"Keep Fundraising!\")\n",
    "    donations += 100\n",
    "    print(\"donation fund: \" + str(donations))\n",
    "    \n",
    "    if donations >= 300:\n",
    "        students_without_computers -= 1\n",
    "        donations -= 300\n",
    "        print(\"Students without computers: \" + \n",
    "              str(students_without_computers) + \"\\n\")\n",
    "print(\"Everyone has a computer now!! Great Job Everyone!\")\n"
   ]
  },
  {
   "cell_type": "markdown",
   "metadata": {},
   "source": [
    "![thumbsupURL](https://tenor.com/view/grilla-yes-hell-thumbs-up-grills-gif-10889686.gif \"thumbs up\")"
   ]
  },
  {
   "cell_type": "markdown",
   "metadata": {},
   "source": [
    "## Tools\n",
    "   A tool in programming is something you can use while coding to make your code run faster!\n",
    "   \n",
    "   An important tool is an IDE, an Integrated Development Environment. This check's a program's syntax for errors, and will organize the files in a nice way to view them. \n",
    "   \n",
    "   Python has a library of tools that you can access by simply including the correct keyword into your code. "
   ]
  },
  {
   "cell_type": "markdown",
   "metadata": {},
   "source": [
    "## What is a console?\n",
    "   A console is a way for the computer and the user to communicate. \n",
    "   \n",
    "   - The keyboard is used to access input from the user to the computer\n",
    "   - The monitor provides the output from the computer to the user\n",
    "   \n",
    "   When using a print statement like above, the computer displays the print argument to the console. "
   ]
  },
  {
   "cell_type": "code",
   "execution_count": null,
   "metadata": {},
   "outputs": [],
   "source": [
    "# to run a cell, press the run button or \n",
    "# select the cell by clicking on it, and \n",
    "# pressing Ctrl + Enter on your keyboard\n",
    "# (in command mode meaning you are not typing)\n",
    "print(\"Congrats! You are interacting with the console!\")\n",
    "print('You have now run some Python code!')\n",
    "\n",
    "# try adding another line of code and re-running the cell\n"
   ]
  },
  {
   "cell_type": "markdown",
   "metadata": {},
   "source": [
    "## What does storage mean in the World of Programming?\n",
    "\n",
    "Storage is computer memory where it keeps things we create, or things we want to use later. Just like a variable stores a value, that means that the computer now remembers what that value means by remembering its name, and also remembers where it puts that piece of data in its memory box. \n",
    "\n"
   ]
  },
  {
   "cell_type": "markdown",
   "metadata": {},
   "source": [
    "\n",
    "\n",
    "# Last Few Exercises"
   ]
  },
  {
   "cell_type": "code",
   "execution_count": 1,
   "metadata": {},
   "outputs": [],
   "source": [
    "# Create the following variables, and assign \n",
    "# to them their corresponding definitions:\n",
    "# console, storage, language, python\n",
    "# hint: use strings like the first example\n",
    "ide = \"Integrated Development Environment\"\n",
    "\n",
    "\n",
    "# Now get the computer to portray those variables to the console\n",
    "# To print a variable you can just type print(var_name) and then \n",
    "# run this cell. "
   ]
  },
  {
   "cell_type": "code",
   "execution_count": 3,
   "metadata": {},
   "outputs": [],
   "source": [
    "# Create a control structure that decides what type the inputed variable holds (maybe a string or an int)\n",
    "# write in pseudocode!!\n"
   ]
  },
  {
   "cell_type": "markdown",
   "metadata": {},
   "source": [
    "## Homework"
   ]
  },
  {
   "cell_type": "code",
   "execution_count": null,
   "metadata": {},
   "outputs": [],
   "source": [
    "# Write pseudocode outlining key features of your application\n",
    "# Hint: create an outline for your app in summary form\n"
   ]
  }
 ],
 "metadata": {
  "kernelspec": {
   "display_name": "Python 3",
   "language": "python",
   "name": "python3"
  },
  "language_info": {
   "codemirror_mode": {
    "name": "ipython",
    "version": 3
   },
   "file_extension": ".py",
   "mimetype": "text/x-python",
   "name": "python",
   "nbconvert_exporter": "python",
   "pygments_lexer": "ipython3",
   "version": "3.7.3"
  }
 },
 "nbformat": 4,
 "nbformat_minor": 2
}

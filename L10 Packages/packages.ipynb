Lesson 10: Packages

Goal: Students will be able to explain the role of packages in handling specific jobs for their 	
	Application. Students will be able to find packages online that provide relevant utility for their                                           application.
Exercises: Establish list of packages needed for the app and find those applicable packages using an online search
Homework: Edit the previous pseudo code with packages in mind that were found in class and during independent research at home.

•	A module is any python file. A package is a directory of python modules
•	from <package_name> import *
•	How to import modules in Python?
•	We can import the definitions inside a module to another module or the interactive interpreter in Python.
•	We use the import keyword to do this. To import our previously defined module example we type the following in the Python prompt.
•	>>> import example
•	This does not enter the names of the functions defined in example directly in the current symbol table. It only enters the module name example there.
•	
•	Using the module name we can access the function using the dot . operator. For example:
•	
•	>>> example.add(4,5.5)
•	9.5
•	Python has a ton of standard modules available.
•	
•	You can check out the full list of Python standard modules and what they are for. These files are in the Lib directory inside the location where you installed Python.
•	
•	Standard modules can be imported the same way as we import our user-defined modules.
•	
•	There are various ways to import modules. They are listed as follows.
•	Python import statement
•	We can import a module using import statement and access the definitions inside it using the dot operator as described above. Here is an example.
•	# import statement example
•	# to import standard module math
•	
•	import math
•	print("The value of pi is", math.pi)
•	When you run the program, the output will be:
•	The value of pi is 3.141592653589793
•	Python from...import statement
o	We can import specific names from a module without importing the module as a whole. Here is an example
•	# import only pi from math module
•	
•	from math import pi
•	print("The value of pi is", pi)
•	We imported only the attribute pi from the module.
•	In such case we don't use the dot operator. We could have imported multiple attributes as follows.
•	Import all names
•	We can import all names(definitions) from a module using the following construct.
o	# import all names from the standard module math
o	
o	from math import *
o	print("The value of pi is", pi)

Lesson 10: Packages

Goal: Students will be able to explain the role of packages in handling specific jobs for their 	
	Application. Students will be able to find packages online that provide relevant utility for their                                           application.
Exercises: Establish list of packages needed for the app and find those applicable packages using an online search
Homework: Edit the previous pseudo code with packages in mind that were found in class and during independent research at home.

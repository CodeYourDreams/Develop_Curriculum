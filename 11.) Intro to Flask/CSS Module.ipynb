{
 "cells": [
  {
   "cell_type": "markdown",
   "metadata": {},
   "source": [
    "# CSS"
   ]
  },
  {
   "cell_type": "markdown",
   "metadata": {},
   "source": [
    "![SegmentLocal](https://media1.tenor.com/images/e354a2987559eeef67e582baa3195d2f/tenor.gif?itemid=12063860 \"segment\")"
   ]
  },
  {
   "cell_type": "markdown",
   "metadata": {},
   "source": [
    "CSS allows us to change the style of our HTML elements, including the color, background, and borders"
   ]
  },
  {
   "cell_type": "markdown",
   "metadata": {},
   "source": [
    "You need a seperate file than your .html file, this time .css"
   ]
  },
  {
   "cell_type": "markdown",
   "metadata": {},
   "source": [
    "## Basics"
   ]
  },
  {
   "cell_type": "markdown",
   "metadata": {},
   "source": [
    "To change a style aspect of one of your HTML elements, use the name of the tag that it is in "
   ]
  },
  {
   "cell_type": "markdown",
   "metadata": {},
   "source": [
    "For example:"
   ]
  },
  {
   "cell_type": "markdown",
   "metadata": {},
   "source": [
    "If your HTML has a heading, and you want to make it blue, you would type in your CSS file:"
   ]
  },
  {
   "cell_type": "code",
   "execution_count": null,
   "metadata": {},
   "outputs": [],
   "source": [
    "h1{\n",
    "    color: blue;\n",
    "}"
   ]
  },
  {
   "cell_type": "markdown",
   "metadata": {},
   "source": [
    "Which will make anything in your HTML file inside of a h1 tag blue "
   ]
  },
  {
   "cell_type": "markdown",
   "metadata": {},
   "source": [
    "For this to actually work though, you need to link your CSS file to your HTML file!"
   ]
  },
  {
   "cell_type": "markdown",
   "metadata": {},
   "source": [
    "You do this in the head component of your HTML file"
   ]
  },
  {
   "cell_type": "markdown",
   "metadata": {},
   "source": [
    "If your CSS file is called style.css, it would like this:"
   ]
  },
  {
   "cell_type": "code",
   "execution_count": null,
   "metadata": {},
   "outputs": [],
   "source": [
    "<head>\n",
    "    <meta charset = \"utf-8\">\n",
    "    <title></title>\n",
    "    <link rel = \"stylesheet\" href = \"style.css\">\n",
    "</head>"
   ]
  },
  {
   "cell_type": "markdown",
   "metadata": {},
   "source": [
    "Just adding the link tag and putting in the name of the css file into the href. You only have to put the name of the file as long as the HTML and CSS file are in the same place on your computer "
   ]
  },
  {
   "cell_type": "markdown",
   "metadata": {},
   "source": [
    "## Color "
   ]
  },
  {
   "cell_type": "markdown",
   "metadata": {},
   "source": [
    "There is more than one way to pick a color to change the text to than shown above"
   ]
  },
  {
   "cell_type": "markdown",
   "metadata": {},
   "source": [
    "There is also rgb() and rgba()"
   ]
  },
  {
   "cell_type": "code",
   "execution_count": null,
   "metadata": {},
   "outputs": [],
   "source": [
    "p{\n",
    "    color: rgb(red, green, blue);\n",
    "}\n",
    "h1{\n",
    "    color: rgba(red, green, blue, alpha);\n",
    "}"
   ]
  },
  {
   "cell_type": "markdown",
   "metadata": {},
   "source": [
    "You can put in different numbers for each parameter, so that the intensity of each color is different, giving you a specific color you've created"
   ]
  },
  {
   "cell_type": "markdown",
   "metadata": {},
   "source": [
    "The alpha parameter allows you to change the transparency, by picking a number between 0-1, 1 being solid and 0 being totally transparent "
   ]
  },
  {
   "cell_type": "markdown",
   "metadata": {},
   "source": [
    "A way to get any color you want but might not know how to create using red, green, and blue, is using hex color "
   ]
  },
  {
   "cell_type": "markdown",
   "metadata": {},
   "source": [
    "Type into google: hex color, then move the cursor around until you get the color you want, then copy the number after the #, and in your CSS file: "
   ]
  },
  {
   "cell_type": "markdown",
   "metadata": {},
   "source": [
    "![SegmentLocal](https://www.androidpolice.com/wp-content/uploads/2016/10/nexus2cee_google-color-picker.png \"segment\")"
   ]
  },
  {
   "cell_type": "code",
   "execution_count": null,
   "metadata": {},
   "outputs": [],
   "source": [
    "p{\n",
    "    color: #123456\n",
    "}"
   ]
  },
  {
   "cell_type": "markdown",
   "metadata": {},
   "source": [
    "## Background and Borders "
   ]
  },
  {
   "cell_type": "markdown",
   "metadata": {},
   "source": [
    "![SegmentLocal](https://thumbs.gfycat.com/MealyGrimHalicore-max-1mb.gif \"segment\")"
   ]
  },
  {
   "cell_type": "markdown",
   "metadata": {},
   "source": [
    "You can change the background of the page, as well as the borders "
   ]
  },
  {
   "cell_type": "code",
   "execution_count": null,
   "metadata": {},
   "outputs": [],
   "source": [
    "Body{\n",
    "    background: gray; \n",
    "    border: orange;\n",
    "    border-width: thick;\n",
    "    border-style: solid;\n",
    "}"
   ]
  },
  {
   "cell_type": "markdown",
   "metadata": {},
   "source": [
    "You can also type background: url(); and put the link to a photo you want into the () to get a certain photo as your background!"
   ]
  },
  {
   "cell_type": "markdown",
   "metadata": {},
   "source": [
    "Also, for shorthand, you can just type:"
   ]
  },
  {
   "cell_type": "code",
   "execution_count": null,
   "metadata": {},
   "outputs": [],
   "source": [
    "border: orange thick solid; "
   ]
  },
  {
   "cell_type": "markdown",
   "metadata": {},
   "source": [
    "And it will work the same "
   ]
  },
  {
   "cell_type": "markdown",
   "metadata": {},
   "source": [
    "## Divs and Spans "
   ]
  },
  {
   "cell_type": "markdown",
   "metadata": {},
   "source": [
    "![SegmentLocal](https://media2.giphy.com/media/9S1zkYeluvYwzoj9pC/giphy.gif \"segment\")"
   ]
  },
  {
   "cell_type": "markdown",
   "metadata": {},
   "source": [
    "We covered these a bit in the HTML lesson, but now we will learn their importance!"
   ]
  },
  {
   "cell_type": "markdown",
   "metadata": {},
   "source": [
    "They are extremely useful for situations where you want a color or background for specific instances of a specific tag, but not all of them "
   ]
  },
  {
   "cell_type": "code",
   "execution_count": null,
   "metadata": {},
   "outputs": [],
   "source": [
    "div{\n",
    "    background: blue;\n",
    "    border: red 10px dashed; \n",
    "}"
   ]
  },
  {
   "cell_type": "markdown",
   "metadata": {},
   "source": [
    "This will make it so only the elements within the div have this background and border, rather than the entire body or all of a certain tag "
   ]
  },
  {
   "cell_type": "markdown",
   "metadata": {},
   "source": [
    "The same goes for spans, except they would be used for smaller sections of HTML"
   ]
  },
  {
   "cell_type": "markdown",
   "metadata": {},
   "source": [
    "## Classes and IDs "
   ]
  },
  {
   "cell_type": "markdown",
   "metadata": {},
   "source": [
    "Divs and Spans are very helpful in being able to divide up your styling, but still can cause problems "
   ]
  },
  {
   "cell_type": "markdown",
   "metadata": {},
   "source": [
    "Every HTML element can accept a class or ID attribute "
   ]
  },
  {
   "cell_type": "markdown",
   "metadata": {},
   "source": [
    "If you give these elements a specific class or ID, they can be called in CSS using that class or ID:"
   ]
  },
  {
   "cell_type": "markdown",
   "metadata": {},
   "source": [
    "For class: use a period in front, like\n",
    ".class{\n",
    "\n",
    "}"
   ]
  },
  {
   "cell_type": "markdown",
   "metadata": {},
   "source": [
    "For IDs: use a # in front, like\n",
    "#ID{\n",
    "\n",
    "}"
   ]
  },
  {
   "cell_type": "markdown",
   "metadata": {},
   "source": [
    "Classes are used to assign a CSS style to multiple different elements through the HTML file, and IDS are used to apply a style to a single element "
   ]
  },
  {
   "cell_type": "code",
   "execution_count": null,
   "metadata": {},
   "outputs": [],
   "source": [
    "# In HTML file: \n",
    "<div class = \"firstDiv\">\n",
    "    <p>Hello!</p>\n",
    "</div>\n",
    "\n",
    "<div class = \"secondDiv\">\n",
    "    <p>Hello again!</p>\n",
    "</div>\n",
    "\n",
    "<p id = \"paragraph\">Unique</p>\n",
    "\n",
    "# In CSS file:\n",
    ".firstDiv{\n",
    "    color: blue;\n",
    "}\n",
    "\n",
    ".secondDiv{\n",
    "    background: gray;\n",
    "}\n",
    "\n",
    "#paragraph{\n",
    "    color: red;\n",
    "}"
   ]
  },
  {
   "cell_type": "markdown",
   "metadata": {},
   "source": [
    "This will make Hello! appear in blue, \n",
    "Hello again! appear on a gray background\n",
    "and Unique to appear in red "
   ]
  },
  {
   "cell_type": "markdown",
   "metadata": {},
   "source": [
    "## Fonts"
   ]
  },
  {
   "cell_type": "markdown",
   "metadata": {},
   "source": [
    "![SegmentLocal](https://media.giphy.com/media/13UPtnr8JdidYA/giphy.gif \"segment\")"
   ]
  },
  {
   "cell_type": "markdown",
   "metadata": {},
   "source": [
    "You can change the fonts of your text using CSS"
   ]
  },
  {
   "cell_type": "markdown",
   "metadata": {},
   "source": [
    "There are many aspects of the font that you can change: "
   ]
  },
  {
   "cell_type": "code",
   "execution_count": null,
   "metadata": {},
   "outputs": [],
   "source": [
    "h1{\n",
    "    Font-family: cursive;\n",
    "    Font-size: 20px;\n",
    "    Font-weight: bold;\n",
    "    Font-style: italic;\n",
    "    Text-align: center;\n",
    "}"
   ]
  },
  {
   "cell_type": "markdown",
   "metadata": {},
   "source": [
    "You can find a list of the different options for these styles online "
   ]
  },
  {
   "cell_type": "markdown",
   "metadata": {},
   "source": [
    "You can also find these through the Google Font API"
   ]
  },
  {
   "cell_type": "markdown",
   "metadata": {},
   "source": [
    "To find it go to google, and search google fonts, then go to the first link"
   ]
  },
  {
   "cell_type": "markdown",
   "metadata": {},
   "source": [
    "Find the font you want, then press the plus button for that font, and a little pop up will appear. Use this pop up to find the <link> for HTML"
   ]
  },
  {
   "cell_type": "markdown",
   "metadata": {},
   "source": [
    "Copy and paste that link tag and put it below the link tag for connecting to the CSS file. Then copy and paste the font-family: and put that where you want it in your CSS file "
   ]
  },
  {
   "cell_type": "markdown",
   "metadata": {},
   "source": [
    "# Homework"
   ]
  },
  {
   "cell_type": "markdown",
   "metadata": {},
   "source": [
    "Use CSS to add style to your basic HTML from last time!"
   ]
  }
 ],
 "metadata": {
  "kernelspec": {
   "display_name": "Python 3",
   "language": "python",
   "name": "python3"
  },
  "language_info": {
   "codemirror_mode": {
    "name": "ipython",
    "version": 3
   },
   "file_extension": ".py",
   "mimetype": "text/x-python",
   "name": "python",
   "nbconvert_exporter": "python",
   "pygments_lexer": "ipython3",
   "version": "3.7.3"
  }
 },
 "nbformat": 4,
 "nbformat_minor": 2
}

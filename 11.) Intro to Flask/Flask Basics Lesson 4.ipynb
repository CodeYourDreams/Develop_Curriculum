{
 "cells": [
  {
   "cell_type": "markdown",
   "metadata": {},
   "source": [
    "# Flask Basics, lesson four!!"
   ]
  },
  {
   "cell_type": "markdown",
   "metadata": {},
   "source": [
    "### Databases"
   ]
  },
  {
   "cell_type": "markdown",
   "metadata": {},
   "source": [
    "So far, we've just learned how to grab user information with forms on Flask, but we don't know how to store that long term"
   ]
  },
  {
   "cell_type": "markdown",
   "metadata": {},
   "source": [
    "We can use what we know, and add to that by linking our Flask Applications to a database "
   ]
  },
  {
   "cell_type": "markdown",
   "metadata": {},
   "source": [
    "We will do this with SQL, structured query language, which will allow you to store data in a format similar to a large excel sheet"
   ]
  },
  {
   "cell_type": "markdown",
   "metadata": {},
   "source": [
    "![SegmentLocal](https://www.dummies.com/wp-content/uploads/414095.image0.jpg \"segment\")"
   ]
  },
  {
   "cell_type": "markdown",
   "metadata": {},
   "source": [
    "In a lot of cases, it would be beneficial to learn SQL syntax and statements to work with SQL databases, but we can use libraries that allow us to just use Python code, so that we don't have to learn a whole new language"
   ]
  },
  {
   "cell_type": "markdown",
   "metadata": {},
   "source": [
    "We will connect our python and flask to SQLite, which is a simple database engine that can handle everything we need"
   ]
  },
  {
   "cell_type": "markdown",
   "metadata": {},
   "source": [
    "To connect all three though, we need an ORM, object rotational mapper, which can directly use python instead of SQL syntax to do anything we might need, such as create or updating from our database"
   ]
  },
  {
   "cell_type": "markdown",
   "metadata": {},
   "source": [
    "The most common ORm for python is SQLAlchemy, but we will use Flask-SQLAlchemy, which is a further extension that allows for the connection of Flask with SQLAlchemy. To install:"
   ]
  },
  {
   "cell_type": "code",
   "execution_count": null,
   "metadata": {},
   "outputs": [],
   "source": [
    "pip install Flask-SQLAlchemy"
   ]
  },
  {
   "cell_type": "markdown",
   "metadata": {},
   "source": [
    "To start working with databases, we must do the following things:\n",
    "\n",
    "1) Set up SQLite Database in a Flask application\n",
    "\n",
    "2) Create a model in Flask application\n",
    "\n",
    "3) Create, read, update, and delete on model, also known as CRUD"
   ]
  },
  {
   "cell_type": "markdown",
   "metadata": {},
   "source": [
    "### Setting up SQLite database in a Flask application"
   ]
  },
  {
   "cell_type": "markdown",
   "metadata": {},
   "source": [
    "You start this by creating a Flask app, like we have before:"
   ]
  },
  {
   "cell_type": "code",
   "execution_count": null,
   "metadata": {},
   "outputs": [],
   "source": [
    "app = Flask(__name__)"
   ]
  },
  {
   "cell_type": "markdown",
   "metadata": {},
   "source": [
    "Then you need to configure flask app for SQLAlchemy, in a similar way to configuring a secret key when working with forms "
   ]
  },
  {
   "cell_type": "markdown",
   "metadata": {},
   "source": [
    "Then you will pass app into a SQLAlchemy class call"
   ]
  },
  {
   "cell_type": "markdown",
   "metadata": {},
   "source": [
    "We will see this in an example later in the lesson, so that you will get a better understanding of it "
   ]
  },
  {
   "cell_type": "markdown",
   "metadata": {},
   "source": [
    "### Create a model in Flask App"
   ]
  },
  {
   "cell_type": "markdown",
   "metadata": {},
   "source": [
    "![SegmentLocal](https://media0.giphy.com/media/evYq0C369LiQ8/giphy.gif \"segment\")"
   ]
  },
  {
   "cell_type": "markdown",
   "metadata": {},
   "source": [
    "Models are important because they directly link to a table in a SQL database, so you do not have to manually create the table, you just have to create a model class that makes the table for us!!"
   ]
  },
  {
   "cell_type": "markdown",
   "metadata": {},
   "source": [
    "The process is similar to creating a FlaskForm, except for models:\n",
    "\n",
    "1) You create a model class\n",
    "\n",
    "2) Inherit from db.model\n",
    "\n",
    "3) optionally provide a table name\n",
    "\n",
    "4) Add in table columns as attributes\n",
    "\n",
    "5) and add methods for __init__ and __rep__\n"
   ]
  },
  {
   "cell_type": "markdown",
   "metadata": {},
   "source": [
    "Again, this will make more sense when you see it in an example!"
   ]
  },
  {
   "cell_type": "markdown",
   "metadata": {},
   "source": [
    "## Example!!"
   ]
  },
  {
   "cell_type": "markdown",
   "metadata": {},
   "source": [
    "![SegmentLocal](https://media0.giphy.com/media/3o6ZtaO9BZHcOjmErm/giphy.gif \"segment\")"
   ]
  },
  {
   "cell_type": "markdown",
   "metadata": {},
   "source": [
    "This example will help understand what was explained above and the syntax, but you do not always do it manually like this!"
   ]
  },
  {
   "cell_type": "code",
   "execution_count": null,
   "metadata": {},
   "outputs": [],
   "source": [
    "## Basic.py\n",
    "import os\n",
    "## allows us to grab directory names and filepath names programmatically with python\n",
    "from flask import Flask \n",
    "from flask_sqlalchemy import SQLAlchemy\n",
    "\n",
    "basefir = os.path.abspath(os.path.dirname(__file__))\n",
    "##__file__ is built in and set to name of file, aka basic.py, os.path grabs the name and then the file path\n",
    "## this gives you something like C://Desktop/flaskwork/basic.py\n",
    "\n",
    "app = Flask(__name__)\n",
    "\n",
    "app.config['SQLALCHEMY_DATABASE_URI'] = 'sqlite:///' + os.path.join(basedir, 'data,sqlite')\n",
    "app.config['SQLALCHEMY_TRACK_MODIFICATIONS'] = False\n",
    "\n",
    "db = SQLAlchemy(app)\n",
    "## These create a SQLite database using python \n",
    "\n",
    "Class Puppy(db.Model):\n",
    "    ## creating the table model \n",
    "    __tablename__ = 'puppies'\n",
    "    \n",
    "    id = db.column(db.integer, primary_key = True)\n",
    "    ## id is an attribute in the class, and is set equal to a column of integers. \n",
    "    ## making it a primary key means that the ID attribute will be unique for each puppy, so it should be the primary \n",
    "    ## distinguisher, unlike names or breeds \n",
    "    name = db.column(db.text)\n",
    "    age = db.column(db.integer)\n",
    "    \n",
    "    def __init__ = (self, name, age):\n",
    "        self.name = name\n",
    "        self.age = age\n",
    "    \n",
    "    def __rep__= (self):\n",
    "        return \"puppy {self.name} is {self.age} years old\""
   ]
  },
  {
   "cell_type": "code",
   "execution_count": null,
   "metadata": {},
   "outputs": [],
   "source": [
    "# setupdatabase.py\n",
    "from basic import db, Puppy\n",
    "## takes from basic.py\n",
    "\n",
    "db.create_all() \n",
    "## creates all tables, models become db tables\n",
    "\n",
    "sam = Puppy('sammy', 3)\n",
    "# This is basically saying: sam is an instance of Puppy class, named sammy, 3 years old \n",
    "frank = Puppy('frankie', 4)\n",
    "\n",
    "print(sam.id)\n",
    "print(frank.id)\n",
    "# These shpuld both print None because they are not yet in the database\n",
    "\n",
    "db.session.add_all([sam, frank])\n",
    "# You can also just add one by using .add(sam)\n",
    "\n",
    "db.session.commit()\n",
    "# Saves changes\n",
    "\n",
    "print(sam.id)\n",
    "print(frank.id)"
   ]
  },
  {
   "cell_type": "markdown",
   "metadata": {},
   "source": [
    "When you run this, it will print:\n",
    "\n",
    "None\n",
    "\n",
    "None\n",
    "\n",
    "1\n",
    "\n",
    "2\n",
    "\n",
    "because indexing for databases starts at 1 rather than 0"
   ]
  },
  {
   "cell_type": "markdown",
   "metadata": {},
   "source": [
    "The next part is just to show you the basics of CRUD, creating, reading, updating, and deleting "
   ]
  },
  {
   "cell_type": "code",
   "execution_count": null,
   "metadata": {},
   "outputs": [],
   "source": [
    "# Crud.py\n",
    "from basic import db, puppy\n",
    "\n",
    "# Create \n",
    "my_puppy = Puppy('Rufus', 5)\n",
    "db.session.add(my_puppy)\n",
    "db.session.commit()\n",
    "# same we saw in last one \n",
    "\n",
    "# Read\n",
    "all_puppies = Puppy.query.all()\n",
    "# returns a list of puppy objects in table\n",
    "print(all_puppies)\n",
    "\n",
    "# select by ID:\n",
    "puppy_one = Puppy.query.get(1)\n",
    "print(puppy_one.name)\n",
    "\n",
    "# filters:\n",
    "puppy_frankie = Puppy.query.filter_by(name = 'Frankie')\n",
    "print(puppy_frankie.all())\n",
    "# prints all puppies with name frankie\n",
    "# prints in the form: puppy Frankie is 3 years old \n",
    "\n",
    "# Update\n",
    "first_puppy = Puppy.query.get(1)\n",
    "first_puppy.age = 10\n",
    "db.session.add(first_puppy)\n",
    "db.session.commit()\n",
    "\n",
    "# Delete\n",
    "second_pup = Puppy.query.get(2)\n",
    "db.session.delete(second_pup)\n",
    "db.session.commit()"
   ]
  },
  {
   "cell_type": "markdown",
   "metadata": {},
   "source": [
    "Source Jose Portilla"
   ]
  }
 ],
 "metadata": {
  "kernelspec": {
   "display_name": "Python 3",
   "language": "python",
   "name": "python3"
  },
  "language_info": {
   "codemirror_mode": {
    "name": "ipython",
    "version": 3
   },
   "file_extension": ".py",
   "mimetype": "text/x-python",
   "name": "python",
   "nbconvert_exporter": "python",
   "pygments_lexer": "ipython3",
   "version": "3.7.3"
  }
 },
 "nbformat": 4,
 "nbformat_minor": 2
}

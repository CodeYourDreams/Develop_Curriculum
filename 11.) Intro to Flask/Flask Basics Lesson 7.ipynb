{
 "cells": [
  {
   "cell_type": "markdown",
   "metadata": {},
   "source": [
    "# Flask Basics, Lesson 7!!!"
   ]
  },
  {
   "cell_type": "markdown",
   "metadata": {},
   "source": [
    "## APIs "
   ]
  },
  {
   "cell_type": "markdown",
   "metadata": {},
   "source": [
    "### REST APIs"
   ]
  },
  {
   "cell_type": "markdown",
   "metadata": {},
   "source": [
    "So far, we only have visited sites manually, so we have put our information into templates and views!"
   ]
  },
  {
   "cell_type": "markdown",
   "metadata": {},
   "source": [
    "But we have yet to consider what to do if we wanted to just directly access information, or wanted a server to directly access our database"
   ]
  },
  {
   "cell_type": "markdown",
   "metadata": {},
   "source": [
    "This is where __REST__ comes in, with stands for:\n",
    "\n",
    "__RE__ representational \n",
    "\n",
    "__S__ state\n",
    "\n",
    "__T__ transfer "
   ]
  },
  {
   "cell_type": "markdown",
   "metadata": {},
   "source": [
    "This allows us to provide interactions between different computer systems online in a standardized way!! "
   ]
  },
  {
   "cell_type": "markdown",
   "metadata": {},
   "source": [
    "There are only certain times when you will want to use REST though, for example:\n",
    "\n",
    "        If you are making a website for something and it will mostly just be photos and concrete information, then you will likely not need REST here!\n",
    "\n",
    "        But if you are making a site with a lot of different information that changes often, such as an online shop, and users want to look for only parts of that information with a specific characteristic, then they could either manually scrape through the website with their own programming scripts, or you can get a REST API for them to use!!"
   ]
  },
  {
   "cell_type": "markdown",
   "metadata": {},
   "source": [
    "The easiest and most popular way to go about this is to use the Flask-Restful Library "
   ]
  },
  {
   "cell_type": "markdown",
   "metadata": {},
   "source": [
    "To use this need to understand some of the terminology for APIs, in a similar to way to that with Databases:\n",
    "\n",
    "    To create with API: POST\n",
    "    To read with API: GET\n",
    "    To update with API: PUT\n",
    "    To delete with API: DELETE"
   ]
  },
  {
   "cell_type": "markdown",
   "metadata": {},
   "source": [
    "A helpful service is Postman, which you will want to install to use the above operations. The website is called Postman, and there you just want to hit Download, and select the operating systeming you are running on (Mac/OS or Linux)"
   ]
  },
  {
   "cell_type": "markdown",
   "metadata": {},
   "source": [
    "So now we need to learn how actually learn how to send back information using REST, and the most common format for this is to use json, which as you will see is very similar to python dictionary"
   ]
  },
  {
   "cell_type": "markdown",
   "metadata": {},
   "source": [
    "Before you begin to work on a flask application to try this, you need to make sure your environment is activated and that you: "
   ]
  },
  {
   "cell_type": "code",
   "execution_count": null,
   "metadata": {},
   "outputs": [],
   "source": [
    "pip install Flask-Restful"
   ]
  },
  {
   "cell_type": "markdown",
   "metadata": {},
   "source": [
    "Then for a really simple example:"
   ]
  },
  {
   "cell_type": "code",
   "execution_count": null,
   "metadata": {},
   "outputs": [],
   "source": [
    "# Simpleapi.py\n",
    "from flask import Flask \n",
    "from flask_restful import Resource, Api\n",
    "# Resource allows you to create a resource to connect to, and Api will allow that resource to actually connect!\n",
    "\n",
    "app = Flask(__name__)\n",
    "\n",
    "api = Api(app)\n",
    "# Wrapping our application with an api call\n",
    "\n",
    "class HelloWorld(Resource):\n",
    "    #created a class which inherits from Resource\n",
    "    \n",
    "    def get(self):\n",
    "        return {'hello': 'world'}\n",
    "    \n",
    "app.add_resource(HelloWorld, '/')\n",
    "# This adds a resources, and by passing the class and the homepage denoter, it connects the two \n",
    "\n",
    "if __name__ == '__main__':\n",
    "    app.run(debug = True)"
   ]
  },
  {
   "cell_type": "markdown",
   "metadata": {},
   "source": [
    "source Jose Portilla"
   ]
  },
  {
   "cell_type": "markdown",
   "metadata": {},
   "source": [
    "First run this, then open up Postman and create a new __collection__! A collection is basically a folder holding a bunch of requests. After creating this, you will see the name of the collection on the left hand side, with three dots that when you hover over, you get a variety of options in regards to the collection"
   ]
  },
  {
   "cell_type": "markdown",
   "metadata": {},
   "source": [
    "![SegmentLocal](https://developer.foursquare.com/docs/images/postman-setup.png \"segment\")"
   ]
  },
  {
   "cell_type": "markdown",
   "metadata": {},
   "source": [
    "What you want to do here is choose to __add request__ "
   ]
  },
  {
   "cell_type": "markdown",
   "metadata": {},
   "source": [
    "Then you can click on your new request, and in the search bar it provides for you, choose the GET option, and provide the URL given to you by your running app, this should return hello world!!!!"
   ]
  },
  {
   "cell_type": "markdown",
   "metadata": {},
   "source": [
    "Now if we want to build a more complicated example!!!"
   ]
  },
  {
   "cell_type": "code",
   "execution_count": null,
   "metadata": {},
   "outputs": [],
   "source": [
    "from flask import Flask\n",
    "from flask_restful import Resource, Api\n",
    "\n",
    "app = Flask(__name__)\n",
    "api = Api(app)\n",
    "\n",
    "puppies = []\n",
    "# This is creating an empty list of puppies that will eventually be formated like:\n",
    "# [{'name':'Rufus'}, {'name':'Atticus'},...]\n",
    "\n",
    "class PuppyName(Resource):\n",
    "    \n",
    "    def get(self, name):\n",
    "        \n",
    "        for pup in puppies:\n",
    "            if pup['name'] == name:\n",
    "                return pup\n",
    "            #goes through every puppy and finds the one with the given name \n",
    "        \n",
    "        return {'name': None}\n",
    "        #if no puppy has that name \n",
    "    \n",
    "    def post(self, name):\n",
    "        \n",
    "        pup = {'name': name}\n",
    "        # we will pass in a URL that ends in /name, where the name is what we are using\n",
    "        \n",
    "        puppies.append(pup)\n",
    "        # adds the pup to the end of the list of puppies\n",
    "        \n",
    "        return pup\n",
    "    \n",
    "    def delete(self, name):\n",
    "        if ind,pup in endumerate(puppies):\n",
    "            #ind is the index position and enumerate basically passes a counter\n",
    "            \n",
    "            if pup['name'] == name:\n",
    "                deleted_pup = puppies.pop(ind)\n",
    "                return {'note':'delete success'}\n",
    "    # All the get, post, delete methods have to have the same parameters\n",
    "\n",
    "class AllNames(Resource):\n",
    "    \n",
    "    def get(self):\n",
    "        return {'puppies': puppies}\n",
    "        # returns the full list of puppies\n",
    "    \n",
    "\n",
    "api.add_resource(PuppyNames, '/puppy/<string:name>')\n",
    "api.add_resource(AllNames, '/puppies')\n",
    "\n",
    "if __name__ == '__main__':\n",
    "    app.run(debug = True)\n",
    "    "
   ]
  },
  {
   "cell_type": "markdown",
   "metadata": {},
   "source": [
    "source Jose Portilla"
   ]
  },
  {
   "cell_type": "markdown",
   "metadata": {},
   "source": [
    "So when you use Postman as we did before, you can use __POST__ to add puppies to the list, then typing the URL and adding __/puppy/atticus__ or any name "
   ]
  },
  {
   "cell_type": "markdown",
   "metadata": {},
   "source": [
    "You can retrieve a puppy by name by using the same URL but changing the method to __GET__ "
   ]
  },
  {
   "cell_type": "markdown",
   "metadata": {},
   "source": [
    "Then you can delete by once again using the same URL but changing the method to __DELETE__"
   ]
  },
  {
   "cell_type": "markdown",
   "metadata": {},
   "source": [
    "If you want a list of all the puppies, you would just give the provided URL and add __/puppies__ and it will be displayed "
   ]
  }
 ],
 "metadata": {
  "kernelspec": {
   "display_name": "Python 3",
   "language": "python",
   "name": "python3"
  },
  "language_info": {
   "codemirror_mode": {
    "name": "ipython",
    "version": 3
   },
   "file_extension": ".py",
   "mimetype": "text/x-python",
   "name": "python",
   "nbconvert_exporter": "python",
   "pygments_lexer": "ipython3",
   "version": "3.7.3"
  }
 },
 "nbformat": 4,
 "nbformat_minor": 2
}

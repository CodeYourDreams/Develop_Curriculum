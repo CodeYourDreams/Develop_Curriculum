{
 "cells": [
  {
   "cell_type": "markdown",
   "metadata": {},
   "source": [
    "# Flask "
   ]
  },
  {
   "cell_type": "markdown",
   "metadata": {},
   "source": [
    "Flask is a web application framework, and it uses Python"
   ]
  },
  {
   "cell_type": "markdown",
   "metadata": {},
   "source": [
    "Therefore it will be a tool to help you develop your web application easier "
   ]
  },
  {
   "cell_type": "markdown",
   "metadata": {},
   "source": [
    "## Environments!!"
   ]
  },
  {
   "cell_type": "markdown",
   "metadata": {},
   "source": [
    "It is very helpful for each version of your project to have its own environment, as things change, and certain code will only work with certain environments"
   ]
  },
  {
   "cell_type": "markdown",
   "metadata": {},
   "source": [
    "So we use Virtual Environments"
   ]
  },
  {
   "cell_type": "markdown",
   "metadata": {},
   "source": [
    "### Creating Your Environment "
   ]
  },
  {
   "cell_type": "code",
   "execution_count": null,
   "metadata": {},
   "outputs": [],
   "source": [
    "## On command line\n",
    "conda create -n flaskenvname flask\n",
    "## flaskenvname is just the name you want to give your enviroment!\n",
    "## adding flask after the name tells it to include the flask package "
   ]
  },
  {
   "cell_type": "markdown",
   "metadata": {},
   "source": [
    "It will as you a yes or no (y/n?)\n",
    "Answer yes (y), this allows it to download the various packages necessary to get flask "
   ]
  },
  {
   "cell_type": "code",
   "execution_count": null,
   "metadata": {},
   "outputs": [],
   "source": [
    "Now we need to activate our environment!"
   ]
  },
  {
   "cell_type": "code",
   "execution_count": null,
   "metadata": {},
   "outputs": [],
   "source": [
    "activate myflaskenv \n",
    "## If you want import a different package, such as numpy:\n",
    "import numpy\n",
    "## And to deactivate: \n",
    "deactivate "
   ]
  },
  {
   "cell_type": "markdown",
   "metadata": {},
   "source": [
    "## Basics "
   ]
  },
  {
   "cell_type": "code",
   "execution_count": null,
   "metadata": {},
   "outputs": [],
   "source": [
    "conda install flask"
   ]
  },
  {
   "cell_type": "markdown",
   "metadata": {},
   "source": [
    "The most basic you can create:"
   ]
  },
  {
   "cell_type": "code",
   "execution_count": null,
   "metadata": {},
   "outputs": [],
   "source": [
    "from flask import Flask\n",
    "## Flask class has an upper case F, while flask package has a lowercase f\n",
    "app = Flask(_name_)\n",
    "## Creating an application object as an instance of the flask class that is imported, with the name specified\n",
    "@app.rout('/')\n",
    "## This directly links that page to whatever route on your application\n",
    "## The single forward slash signifies the home page\n",
    "def index():\n",
    "    return '<h1>Hello World!</h1>'\n",
    "## Defines a page index with the functions and returns the string. \n",
    "## The page is the page linked in the command above^^\n",
    "if _name_ = '_main_':\n",
    "    app.run()\n",
    "## If you're running the script, then run your application "
   ]
  },
  {
   "cell_type": "markdown",
   "metadata": {},
   "source": [
    "To run this:"
   ]
  },
  {
   "cell_type": "code",
   "execution_count": null,
   "metadata": {},
   "outputs": [],
   "source": [
    "Python name.py"
   ]
  }
 ],
 "metadata": {
  "kernelspec": {
   "display_name": "Python 3",
   "language": "python",
   "name": "python3"
  },
  "language_info": {
   "codemirror_mode": {
    "name": "ipython",
    "version": 3
   },
   "file_extension": ".py",
   "mimetype": "text/x-python",
   "name": "python",
   "nbconvert_exporter": "python",
   "pygments_lexer": "ipython3",
   "version": "3.7.3"
  }
 },
 "nbformat": 4,
 "nbformat_minor": 2
}

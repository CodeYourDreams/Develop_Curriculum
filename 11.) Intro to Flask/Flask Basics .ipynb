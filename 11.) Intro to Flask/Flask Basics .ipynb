{
 "cells": [
  {
   "cell_type": "markdown",
   "metadata": {},
   "source": [
    "# Flask Basics, lesson one!!"
   ]
  },
  {
   "cell_type": "markdown",
   "metadata": {},
   "source": [
    "Flask is a web application framework, and it uses Python"
   ]
  },
  {
   "cell_type": "markdown",
   "metadata": {},
   "source": [
    "Therefore it will be a tool to help you develop your web application easier "
   ]
  },
  {
   "cell_type": "markdown",
   "metadata": {},
   "source": [
    "![SegmentLocal](https://miro.medium.com/max/876/1*0G5zu7CnXdMT9pGbYUTQLQ.png \"segment\")"
   ]
  },
  {
   "cell_type": "markdown",
   "metadata": {},
   "source": [
    "## Environments!!"
   ]
  },
  {
   "cell_type": "markdown",
   "metadata": {},
   "source": [
    "If you launch your web application, you may use some external python library, which becomes a dependency because your app is dependent on that library "
   ]
  },
  {
   "cell_type": "markdown",
   "metadata": {},
   "source": [
    "That library will most likely be updated to a newer version, with new useful features and breaking changes in syntax that will make you have to change your code "
   ]
  },
  {
   "cell_type": "markdown",
   "metadata": {},
   "source": [
    "This is why we use virtual environments! They manage dependencies so that each project and version of those projects can have their own environment with different versions of libraries. "
   ]
  },
  {
   "cell_type": "markdown",
   "metadata": {},
   "source": [
    "Anaconda is a very helpful tool for this, as it comes with a built-in environment manager!"
   ]
  },
  {
   "cell_type": "markdown",
   "metadata": {},
   "source": [
    "### Creating Your Environment "
   ]
  },
  {
   "cell_type": "markdown",
   "metadata": {},
   "source": [
    "![SegmentLocal](https://media.tenor.com/images/5c6db3619bf771d34baa97a503856c7b/tenor.gif \"segment\")"
   ]
  },
  {
   "cell_type": "markdown",
   "metadata": {},
   "source": [
    "You want to type on your command line:\n",
    "\n",
    "conda create --name myenvname\n",
    "\n",
    "myenvname is the name of the environment you are creating, so you can make it whatever you choose, as long as you don't have a differnt environment with that name already!"
   ]
  },
  {
   "cell_type": "markdown",
   "metadata": {},
   "source": [
    "If you want to create the environment with a specific package, you would just type it like this:\n",
    "\n",
    "conda create --name myenvname numpy\n",
    "\n",
    "with the package name following the environment name "
   ]
  },
  {
   "cell_type": "markdown",
   "metadata": {},
   "source": [
    "If you want to create the environment with a specific version of python: \n",
    "\n",
    "conda create --name myenvname python=3.5"
   ]
  },
  {
   "cell_type": "markdown",
   "metadata": {},
   "source": [
    "And if you want to do both in creating your environment:\n",
    "\n",
    "conda create --name myenvname numpy=3.5"
   ]
  },
  {
   "cell_type": "code",
   "execution_count": null,
   "metadata": {},
   "outputs": [],
   "source": [
    "## For us:\n",
    "## On command line\n",
    "conda create -n myenvname flask\n",
    "## flaskenvname is just the name you want to give your enviroment!\n",
    "## adding flask after the name tells it to include the flask package "
   ]
  },
  {
   "cell_type": "markdown",
   "metadata": {},
   "source": [
    "It will as you a yes or no (y/n?)\n",
    "Answer yes (y), this allows it to download the various packages necessary to get flask "
   ]
  },
  {
   "cell_type": "markdown",
   "metadata": {},
   "source": [
    "Now we need to activate our environment!"
   ]
  },
  {
   "cell_type": "code",
   "execution_count": null,
   "metadata": {},
   "outputs": [],
   "source": [
    "activate myenvname\n",
    "## If you are on Mac OS:\n",
    "source activate myenvname \n",
    "## If you want import a different package, such as numpy:\n",
    "conda install numpy\n",
    "## And to deactivate: \n",
    "deactivate "
   ]
  },
  {
   "cell_type": "markdown",
   "metadata": {},
   "source": [
    "If you want a list of all your environments:"
   ]
  },
  {
   "cell_type": "code",
   "execution_count": null,
   "metadata": {},
   "outputs": [],
   "source": [
    "conda env list"
   ]
  },
  {
   "cell_type": "markdown",
   "metadata": {},
   "source": [
    "## Basics "
   ]
  },
  {
   "cell_type": "markdown",
   "metadata": {},
   "source": [
    "![SegmentLocal](https://media1.giphy.com/media/26gZ1mLStAYCiWlpe/giphy.gif \"segment\")"
   ]
  },
  {
   "cell_type": "markdown",
   "metadata": {},
   "source": [
    "The most basic site you can create:"
   ]
  },
  {
   "cell_type": "code",
   "execution_count": null,
   "metadata": {},
   "outputs": [],
   "source": [
    "from flask import Flask\n",
    "## Flask class has an upper case F, while flask package has a lowercase f\n",
    "app = Flask(_name_)\n",
    "## Creating an application object as an instance of the flask class that is imported, with the name specified\n",
    "@app.rout('/')\n",
    "## Decorator, directly links a page to whatever route on your web app it should be at\n",
    "## Whatever is in the '' specifies where it should be, usually it would be a URL\n",
    "## In this case it is a '/' which signifies the home page of the web application\n",
    "def index():\n",
    "    return '<h1>Hello World!</h1>'\n",
    "## Defines a page index with the functions and returns the string. \n",
    "## The page is the page linked and routed in the command above^^\n",
    "if _name_ = '_main_':\n",
    "    app.run()\n",
    "## If you're running the script, then run your application "
   ]
  },
  {
   "cell_type": "markdown",
   "metadata": {},
   "source": [
    "Source Jose Portilla"
   ]
  },
  {
   "cell_type": "markdown",
   "metadata": {},
   "source": [
    "To run this:"
   ]
  },
  {
   "cell_type": "code",
   "execution_count": null,
   "metadata": {},
   "outputs": [],
   "source": [
    "Python name.py"
   ]
  },
  {
   "cell_type": "markdown",
   "metadata": {},
   "source": [
    "Running it will give you a URL, which you can open in your browser to see Hello World"
   ]
  },
  {
   "cell_type": "markdown",
   "metadata": {},
   "source": [
    "![SegmentLocal](https://opentechschool.github.io/python-flask/core/images/hello-world.png \"segment\")"
   ]
  },
  {
   "cell_type": "markdown",
   "metadata": {},
   "source": [
    "### Routing!! "
   ]
  },
  {
   "cell_type": "markdown",
   "metadata": {},
   "source": [
    "![SegmentLocal](https://media.giphy.com/media/2A2H7esXXVOD0f27yP/giphy.gif \"segment\")"
   ]
  },
  {
   "cell_type": "markdown",
   "metadata": {},
   "source": [
    "By adding multiple routes, you are adding multiple pages to your web application!"
   ]
  },
  {
   "cell_type": "markdown",
   "metadata": {},
   "source": [
    "You do this by using the @app.route() decorator "
   ]
  },
  {
   "cell_type": "markdown",
   "metadata": {},
   "source": [
    "The string parameter, where we put a '\\' in the basic code, is what determines the URL extension that will link to the function"
   ]
  },
  {
   "cell_type": "markdown",
   "metadata": {},
   "source": [
    "So if the homepage is:\n",
    "http://homepage/\n",
    "and your code has a decorator:\n",
    "@app.route('/some_page')\n",
    "Then the URL for that function will be:\n",
    "http://homepage/some_page"
   ]
  },
  {
   "cell_type": "markdown",
   "metadata": {},
   "source": [
    "When the page is actually developed, the 'homepage' part of the URL will be replaced with something like www.site.com, like:\n",
    "http://www.site.com\n",
    "and\n",
    "http://www.site.com/some_page"
   ]
  },
  {
   "cell_type": "markdown",
   "metadata": {},
   "source": [
    "An example!!:"
   ]
  },
  {
   "cell_type": "code",
   "execution_count": null,
   "metadata": {},
   "outputs": [],
   "source": [
    "from flask import Flask\n",
    "\n",
    "app = Flask(__name__)\n",
    "\n",
    "@app.route('/')\n",
    "def index():\n",
    "    return \"<h1>Hello World!</h1>\"\n",
    "\n",
    "@app.route('/information')\n",
    "def info():\n",
    "    return \"<h1>A different page!</h1>\"\n",
    "\n",
    "if __name__ == '__main__':\n",
    "    app.run()"
   ]
  },
  {
   "cell_type": "markdown",
   "metadata": {},
   "source": [
    "Source Jose Portilla "
   ]
  },
  {
   "cell_type": "markdown",
   "metadata": {},
   "source": [
    "When your run it, and go to the given URL like before, you are brought to the home page, so \"Hello World!\" is displayed"
   ]
  },
  {
   "cell_type": "markdown",
   "metadata": {},
   "source": [
    "But if you go to the URL and add /information to the end, it will bring you to the info page! \n",
    "Therefore, \"A different page!\" is displayed"
   ]
  },
  {
   "cell_type": "markdown",
   "metadata": {},
   "source": [
    "If you try and visit a page that is not defined, then you will get a 404 error!"
   ]
  },
  {
   "cell_type": "markdown",
   "metadata": {},
   "source": [
    "### Dynamic Routing!"
   ]
  },
  {
   "cell_type": "markdown",
   "metadata": {},
   "source": [
    "Building on what we just learned about routing, we will learn how to route for particular situations!"
   ]
  },
  {
   "cell_type": "markdown",
   "metadata": {},
   "source": [
    "It is common for web applications to want a URL route extension that is specific to particular situation, \n",
    "such as if you want unique profile pages for each user, the URLs would look like:\n",
    "http://www.site.com/user/user_name\n",
    "where the user_name is the specific username of each user"
   ]
  },
  {
   "cell_type": "markdown",
   "metadata": {},
   "source": [
    "![SegmentLocal](https://media.tenor.com/images/365ca21ea3aef10038f62ae9244d5181/tenor.gif \"segment\")"
   ]
  },
  {
   "cell_type": "markdown",
   "metadata": {},
   "source": [
    "Two do this, you need two things:\n",
    "1) A variable in the app decorator @app.route() as we had before \n",
    "2) A parameter to the function being decorated that is synced up with the variable above"
   ]
  },
  {
   "cell_type": "markdown",
   "metadata": {},
   "source": [
    "Building on the example we've been using:"
   ]
  },
  {
   "cell_type": "code",
   "execution_count": null,
   "metadata": {},
   "outputs": [],
   "source": [
    "from flask import Flask\n",
    "\n",
    "app = Flask(__name__)\n",
    "\n",
    "@app.route('/')\n",
    "def index():\n",
    "    return \"<h1>Hello World!</h1>\"\n",
    "\n",
    "@app.route('/information')\n",
    "def info():\n",
    "    return \"<h1>A different page!</h1>\"\n",
    "\n",
    "@app.route('/profile/<name>')\n",
    "def profile(name):\n",
    "    return '<h1>This is a page for {}</h1>'.format(name)\n",
    "\n",
    "if __name__ == '__main__':\n",
    "    app.run()"
   ]
  },
  {
   "cell_type": "markdown",
   "metadata": {},
   "source": [
    "Source Jose Portilla "
   ]
  },
  {
   "cell_type": "markdown",
   "metadata": {},
   "source": [
    "When you go to the given URL upon running, type /profile/your_name after the URL!!\n",
    "What do you see??"
   ]
  },
  {
   "cell_type": "markdown",
   "metadata": {},
   "source": [
    "### Debug Mode"
   ]
  },
  {
   "cell_type": "markdown",
   "metadata": {},
   "source": [
    "![SegmentLocal](https://akns-images.eonline.com/eol_images/Entire_Site/2015315/rs_500x214-150415095549-Rq7GML4.gif?fit=inside|900:auto&output-quality=90 \"segment\")"
   ]
  },
  {
   "cell_type": "markdown",
   "metadata": {},
   "source": [
    "The flask app is started when you run it\n",
    "If the application is being changed, you must restart it manually for each change\n",
    "If you use debug mode, the server will reload itself for changes in code, so you don't have to restart manually. "
   ]
  },
  {
   "cell_type": "markdown",
   "metadata": {},
   "source": [
    "Turning debug mode on gives you access to a console on the browser, and when an error occurs, the error on the browser is specific and shows your where in the code it occurs, as well as providing a python shell to use to debug. To get access to this shell, you must go to where the app says it is running, where you get the URL originally, and there is a debugger pin. "
   ]
  },
  {
   "cell_type": "markdown",
   "metadata": {},
   "source": [
    "Copy that, and then click on the shell, and it will ask for the pin, paste it there. Then you can use the shell to debug easier!"
   ]
  },
  {
   "cell_type": "markdown",
   "metadata": {},
   "source": [
    "To turn debug mode on:"
   ]
  },
  {
   "cell_type": "code",
   "execution_count": null,
   "metadata": {},
   "outputs": [],
   "source": [
    "## For the last line of the above code:\n",
    "app.run(debug = True)"
   ]
  },
  {
   "cell_type": "markdown",
   "metadata": {},
   "source": [
    "You should never have debug mode on when you actually launch your app to production, as then actual users will see the specific errors and parts of your code, instead of the generic \"internal server error\" you get when debug mode is off"
   ]
  },
  {
   "cell_type": "markdown",
   "metadata": {},
   "source": [
    "## Templates"
   ]
  },
  {
   "cell_type": "markdown",
   "metadata": {},
   "source": [
    "![SegmentLocal](https://media.giphy.com/media/WZ4M8M2VbauEo/giphy.gif \"segment\")"
   ]
  },
  {
   "cell_type": "markdown",
   "metadata": {},
   "source": [
    "So far, we've only returned HTML manually through strings "
   ]
  },
  {
   "cell_type": "markdown",
   "metadata": {},
   "source": [
    "But we are going to want to connect our routed view functions to HTML templates, aka HTML files we've created for the page "
   ]
  },
  {
   "cell_type": "markdown",
   "metadata": {},
   "source": [
    "Flask automatically look for HTML templates in the \"template directory\""
   ]
  },
  {
   "cell_type": "markdown",
   "metadata": {},
   "source": [
    "Therefore, you need to make sure your folder that your HTML files are in is called templates"
   ]
  },
  {
   "cell_type": "markdown",
   "metadata": {},
   "source": [
    "The easiest way to render templates is to import the render_templates function from flask and returning the .html files from our view function "
   ]
  },
  {
   "cell_type": "markdown",
   "metadata": {},
   "source": [
    "### Example!!!"
   ]
  },
  {
   "cell_type": "markdown",
   "metadata": {},
   "source": [
    "In a directory, create a basic.py file, and in that same directory create a templates folder"
   ]
  },
  {
   "cell_type": "markdown",
   "metadata": {},
   "source": [
    "In the templates folder create a basic.html file, which creates a simple home page, that says \"Welcome to the Site!\" "
   ]
  },
  {
   "cell_type": "markdown",
   "metadata": {},
   "source": [
    "Then in basic.py:"
   ]
  },
  {
   "cell_type": "code",
   "execution_count": null,
   "metadata": {},
   "outputs": [],
   "source": [
    "from flask import Flask, render_template\n",
    "\n",
    "app = Flask(__name__)\n",
    "\n",
    "@app.route('/')\n",
    "def index():\n",
    "    return render_template('basic.html')\n",
    "\n",
    "if __name__ == '__main__':\n",
    "    app.run(debug = True)"
   ]
  },
  {
   "cell_type": "markdown",
   "metadata": {},
   "source": [
    "# Homework"
   ]
  },
  {
   "cell_type": "markdown",
   "metadata": {},
   "source": [
    "Use what you know about flask so far for your application"
   ]
  }
 ],
 "metadata": {
  "kernelspec": {
   "display_name": "Python 3",
   "language": "python",
   "name": "python3"
  },
  "language_info": {
   "codemirror_mode": {
    "name": "ipython",
    "version": 3
   },
   "file_extension": ".py",
   "mimetype": "text/x-python",
   "name": "python",
   "nbconvert_exporter": "python",
   "pygments_lexer": "ipython3",
   "version": "3.7.3"
  }
 },
 "nbformat": 4,
 "nbformat_minor": 2
}

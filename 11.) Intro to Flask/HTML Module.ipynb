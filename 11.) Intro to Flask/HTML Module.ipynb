{
 "cells": [
  {
   "cell_type": "markdown",
   "metadata": {},
   "source": [
    "# HTML"
   ]
  },
  {
   "cell_type": "markdown",
   "metadata": {},
   "source": [
    "HTML is used in Flask for the __Front-End__"
   ]
  },
  {
   "cell_type": "markdown",
   "metadata": {},
   "source": [
    "This means that HTML will be used to display the page elements of the application or website, such as texts or pictures"
   ]
  },
  {
   "cell_type": "markdown",
   "metadata": {},
   "source": [
    "When you create an HTML document, it is easiest to use a text editor such as Atom or Sublime "
   ]
  },
  {
   "cell_type": "markdown",
   "metadata": {},
   "source": [
    "You can just create the document and give it a name that ends in __.html__ to let the editor know what kind of document it is "
   ]
  },
  {
   "cell_type": "markdown",
   "metadata": {},
   "source": [
    "It is best to start with a \"skeleton code\" that can be provided for you"
   ]
  },
  {
   "cell_type": "markdown",
   "metadata": {},
   "source": [
    "![SegmentLocal](https://66.media.tumblr.com/3dc67bad807567ddf0ca4deb107cec08/tumblr_oobuub8FQD1rpduwho1_500.gif \"segment\")"
   ]
  },
  {
   "cell_type": "markdown",
   "metadata": {},
   "source": [
    "You can do this by typing \"html\" and pressing enter into the document, giving you:"
   ]
  },
  {
   "cell_type": "code",
   "execution_count": null,
   "metadata": {},
   "outputs": [],
   "source": [
    "<!DOCTYPE html>\n",
    "<html lang = \"en\" dir = \"ltr\">\n",
    "    <head>\n",
    "        #Head Component!\n",
    "        #Meta data, as well as where you link to CSS and Javascript files \n",
    "        <meta charset - \"utf-8\">\n",
    "        <title></title> # What is typed in between these two tags will be the title of the page, in the case of a webiste, it would be the tab name \n",
    "        </head>\n",
    "        \n",
    "        <body>\n",
    "        #Body component!\n",
    "        #Everything in here will be displayed on the page \n",
    "        #This is where the majority of the code will be \n",
    "        </body>\n",
    "</html>"
   ]
  },
  {
   "cell_type": "markdown",
   "metadata": {},
   "source": [
    "## Tagging"
   ]
  },
  {
   "cell_type": "markdown",
   "metadata": {},
   "source": [
    "HTML elements have corresponding tags inside an HTML file"
   ]
  },
  {
   "cell_type": "markdown",
   "metadata": {},
   "source": [
    "In the case above, everything in <> is an example of a tag, such as body or title "
   ]
  },
  {
   "cell_type": "markdown",
   "metadata": {},
   "source": [
    "Here are some important ones:"
   ]
  },
  {
   "cell_type": "code",
   "execution_count": null,
   "metadata": {},
   "outputs": [],
   "source": [
    "<h1> This is a header </h1>"
   ]
  },
  {
   "cell_type": "markdown",
   "metadata": {},
   "source": [
    "# This is a header "
   ]
  },
  {
   "cell_type": "markdown",
   "metadata": {},
   "source": [
    "There are different sized headers as well: h2... all the way to h6 which would be the smallest size "
   ]
  },
  {
   "cell_type": "code",
   "execution_count": null,
   "metadata": {},
   "outputs": [],
   "source": [
    "<h1> Header </h1>\n",
    "<p> Makes a new paragraph </p>"
   ]
  },
  {
   "cell_type": "markdown",
   "metadata": {},
   "source": [
    "# Header \n",
    "Makes a new paragraph "
   ]
  },
  {
   "cell_type": "code",
   "execution_count": null,
   "metadata": {},
   "outputs": [],
   "source": [
    "<strong> Makes this bold </strong>"
   ]
  },
  {
   "cell_type": "code",
   "execution_count": null,
   "metadata": {},
   "outputs": [],
   "source": [
    "<em> Puts this in italics </em>"
   ]
  },
  {
   "cell_type": "markdown",
   "metadata": {},
   "source": [
    "## Lists"
   ]
  },
  {
   "cell_type": "markdown",
   "metadata": {},
   "source": [
    "HTML can be used to put lists onto your site, using certain tags"
   ]
  },
  {
   "cell_type": "markdown",
   "metadata": {},
   "source": [
    "### Ordered List"
   ]
  },
  {
   "cell_type": "code",
   "execution_count": null,
   "metadata": {},
   "outputs": [],
   "source": [
    "<ol>\n",
    "    <li>Item 1</li>\n",
    "    <li>Item 2</li>\n",
    "    <li>Item 3</li>\n",
    "</ol>"
   ]
  },
  {
   "cell_type": "markdown",
   "metadata": {},
   "source": [
    "### Unordered List "
   ]
  },
  {
   "cell_type": "code",
   "execution_count": null,
   "metadata": {},
   "outputs": [],
   "source": [
    "<ul>\n",
    "    <li>Item 1</li>\n",
    "    <li>Item 2</li>\n",
    "    <li>Item 3</li>\n",
    "</ul>"
   ]
  },
  {
   "cell_type": "markdown",
   "metadata": {},
   "source": [
    "![SegmentLocal](http://server2client.com/images/lists1.jpg \"segment\")"
   ]
  },
  {
   "cell_type": "markdown",
   "metadata": {},
   "source": [
    "## Divs and Spans "
   ]
  },
  {
   "cell_type": "markdown",
   "metadata": {},
   "source": [
    "Divs and Spans are ways to divide your code beyond just the head and the body "
   ]
  },
  {
   "cell_type": "markdown",
   "metadata": {},
   "source": [
    "This becomes a more useful tool once you learn CSS, so we will cover it more later"
   ]
  },
  {
   "cell_type": "markdown",
   "metadata": {},
   "source": [
    "Divs are large divisions within the body, while Spans are small divisions within tags"
   ]
  },
  {
   "cell_type": "code",
   "execution_count": null,
   "metadata": {},
   "outputs": [],
   "source": [
    "<div class = \"\"> #Class is where the css call is \n",
    "# Code here \n",
    "</div>"
   ]
  },
  {
   "cell_type": "markdown",
   "metadata": {},
   "source": [
    "## Tag Attributes"
   ]
  },
  {
   "cell_type": "markdown",
   "metadata": {},
   "source": [
    "Some element tags have attributes that you can directly manipulate"
   ]
  },
  {
   "cell_type": "markdown",
   "metadata": {},
   "source": [
    "A common example is adding a __link to an image__:"
   ]
  },
  {
   "cell_type": "code",
   "execution_count": null,
   "metadata": {},
   "outputs": [],
   "source": [
    "<img src = \"link\" alt=\"#if no url is found\"> "
   ]
  },
  {
   "cell_type": "markdown",
   "metadata": {},
   "source": [
    "Or creating __hyperlinks:__"
   ]
  },
  {
   "cell_type": "code",
   "execution_count": null,
   "metadata": {},
   "outputs": [],
   "source": [
    "<a href = \"link\"> GO TO LINK </a>"
   ]
  },
  {
   "cell_type": "markdown",
   "metadata": {},
   "source": [
    "## Forms "
   ]
  },
  {
   "cell_type": "markdown",
   "metadata": {},
   "source": [
    "This is the way that the site will be able to take in user info "
   ]
  },
  {
   "cell_type": "code",
   "execution_count": null,
   "metadata": {},
   "outputs": [],
   "source": [
    "<form> \n",
    "    <input type = \"text\" placeholder = \"type here\">\n",
    "</form> "
   ]
  },
  {
   "cell_type": "markdown",
   "metadata": {},
   "source": [
    "Input is used as the way to take in the user info, and there are many differnt types"
   ]
  },
  {
   "cell_type": "markdown",
   "metadata": {},
   "source": [
    "The type above is text, so it would present the user with a textbox that has a __placeholder__ of: \"type here\" "
   ]
  },
  {
   "cell_type": "markdown",
   "metadata": {},
   "source": [
    "This would come out something like this:"
   ]
  },
  {
   "cell_type": "markdown",
   "metadata": {},
   "source": [
    "![SegmentLocal](http://learnwebtutorials.com/wp-content/uploads/2010/12/placeholder-text-chrome.jpg \"segment\")"
   ]
  },
  {
   "cell_type": "markdown",
   "metadata": {},
   "source": [
    "Other types include:"
   ]
  },
  {
   "cell_type": "markdown",
   "metadata": {},
   "source": [
    "__Radio__"
   ]
  },
  {
   "cell_type": "code",
   "execution_count": null,
   "metadata": {},
   "outputs": [],
   "source": [
    "<p>What would you like to drink?</p>\n",
    "<form>\n",
    "    <input type = \"radio\" id=\"coffee\" name=\"choice\" value = \"coffee\">\n",
    "    <label for= \"coffee\">Coffee</label>\n",
    "    \n",
    "    <input type = \"radio\" id= \"tea\" name= \"choice\"  value = \"tea\">\n",
    "    <label for= \"tea\">Tea</label>\n",
    "    \n",
    "    <input type = \"radio\" id = \"soda\" name = \"choice\" value = \"soda\">\n",
    "    <label for= \"soda\">Soda</label>\n",
    "</form>"
   ]
  },
  {
   "cell_type": "markdown",
   "metadata": {},
   "source": [
    "The above would produce something like this:"
   ]
  },
  {
   "cell_type": "markdown",
   "metadata": {},
   "source": [
    "![SegmentLocal](http://learnwebtutorials.com/wp-content/uploads/2013/07/which-radio-button-selected.jpg \"segment\")"
   ]
  },
  {
   "cell_type": "markdown",
   "metadata": {},
   "source": [
    "The \"Id\" attribute allows you to assign the label using the \"for\" attribute "
   ]
  },
  {
   "cell_type": "markdown",
   "metadata": {},
   "source": [
    "Making the name of the different radio buttons the same makes it so you can only give one answer at a time, rather than a \"select all that apply\" situation "
   ]
  },
  {
   "cell_type": "markdown",
   "metadata": {},
   "source": [
    "Another type is __select__:"
   ]
  },
  {
   "cell_type": "code",
   "execution_count": null,
   "metadata": {},
   "outputs": [],
   "source": [
    "<form>\n",
    "<p>What grade are you in?</p>\n",
    "    <select name = \"grade\">\n",
    "        <option value = \"9th\">Freshman</option>\n",
    "        <option value = \"10th\">Sophmore</option>\n",
    "        <option value = \"11th\">Junior</option>\n",
    "        <option value = \"12th\">Senior</option>\n",
    "    </select>\n",
    "</form>"
   ]
  },
  {
   "cell_type": "markdown",
   "metadata": {},
   "source": [
    "Which would format the options like this:"
   ]
  },
  {
   "cell_type": "markdown",
   "metadata": {},
   "source": [
    "![SegmentLocal](https://i.stack.imgur.com/aMzb1.png \"segment\")"
   ]
  },
  {
   "cell_type": "markdown",
   "metadata": {},
   "source": [
    "We can also provide a __submit button__:"
   ]
  },
  {
   "cell_type": "code",
   "execution_count": null,
   "metadata": {},
   "outputs": [],
   "source": [
    "<form>\n",
    "    <input type = \"submit\" name= \"\" value = \"Submit\">\n",
    "</form>"
   ]
  },
  {
   "cell_type": "markdown",
   "metadata": {},
   "source": [
    "Giving you:"
   ]
  },
  {
   "cell_type": "markdown",
   "metadata": {},
   "source": [
    "![SegmentLocal](https://www.homeandlearn.co.uk/WD/images/chapter8/forms_1.gif \"segment\")"
   ]
  },
  {
   "cell_type": "markdown",
   "metadata": {},
   "source": [
    "## Homework"
   ]
  },
  {
   "cell_type": "markdown",
   "metadata": {},
   "source": [
    "Use what you have learned about HTML to create a basic version of your application/website!"
   ]
  }
 ],
 "metadata": {
  "kernelspec": {
   "display_name": "Python 3",
   "language": "python",
   "name": "python3"
  },
  "language_info": {
   "codemirror_mode": {
    "name": "ipython",
    "version": 3
   },
   "file_extension": ".py",
   "mimetype": "text/x-python",
   "name": "python",
   "nbconvert_exporter": "python",
   "pygments_lexer": "ipython3",
   "version": "3.7.3"
  }
 },
 "nbformat": 4,
 "nbformat_minor": 2
}

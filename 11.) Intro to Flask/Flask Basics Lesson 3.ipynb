{
 "cells": [
  {
   "cell_type": "markdown",
   "metadata": {},
   "source": [
    "# Flask Basics!"
   ]
  },
  {
   "cell_type": "markdown",
   "metadata": {},
   "source": [
    "## Forms"
   ]
  },
  {
   "cell_type": "markdown",
   "metadata": {},
   "source": [
    "![SegmentLocal](https://i.imgur.com/zm5ROlS.gif?noredirect \"segment\")"
   ]
  },
  {
   "cell_type": "markdown",
   "metadata": {},
   "source": [
    "We will now look into ways to create forms using flask "
   ]
  },
  {
   "cell_type": "markdown",
   "metadata": {},
   "source": [
    "The first way, which is the very simple way, is making HTML forms the way we know, and then connecting our Flask Application"
   ]
  },
  {
   "cell_type": "markdown",
   "metadata": {},
   "source": [
    "The easiest way to show this is in a large example!!"
   ]
  },
  {
   "cell_type": "markdown",
   "metadata": {},
   "source": [
    "In this example we will create a website that has a home page, a nav bar that takes you to the home page when clicked, a survey page that takes the name of someone who wants to join, a thank you for signing up page, as well as a custom 404 error!!"
   ]
  },
  {
   "cell_type": "code",
   "execution_count": 1,
   "metadata": {},
   "outputs": [],
   "source": [
    "## Flask App\n",
    "from flask import Flask, render_template, request\n",
    "## request is another function we are getting that will help us with making our thank you page\n",
    "app = Flask(__name__)\n",
    "\n",
    "@app.route('/')\n",
    "def index():\n",
    "    return render_template('index.html')\n",
    "\n",
    "@app.route('/signupform')\n",
    "def signup_form():\n",
    "    return render_template('signup.html')\n",
    "\n",
    "@app.route('/thank_you')\n",
    "def thank_you():\n",
    "    first = request.args.get('first')\n",
    "    last = request.args.get('last')\n",
    "    ## These go to where the get was used in a form and find which one had the label first or last, and grab the answer provided\n",
    "    return render_template('thankyou.html', first = first, last = last)\n",
    "\n",
    "@app.errorhandler(404)\n",
    "def page_not_found(e):\n",
    "    ##The e is custom since it stands for error\n",
    "    return render_template('404.html'), 404\n",
    "\n",
    "if __name__ == '__main__':\n",
    "    app.run(debug)"
   ]
  },
  {
   "cell_type": "code",
   "execution_count": null,
   "metadata": {},
   "outputs": [],
   "source": [
    "## base.html\n",
    "<!DOCTYPE html>\n",
    "<html lang = \"en\" dir = \"ltr\">\n",
    "    <head>\n",
    "        <meta charset = “utf=8”>\n",
    "        <title>Puppy Rock</title>\n",
    "        Bootstrap links!\n",
    "    </head>\n",
    "    <body>\n",
    "        <nav class = “navbar navbar-expand-lg navbar-light bg-light”>\n",
    "        <a class = “navbar-brand” href = “{{ url_for(‘index’)}}”>Home Page</a>\n",
    "        </nav>\n",
    "        \n",
    "        {% block content %}\n",
    "        \n",
    "        {% endblock %}\n",
    "    <body>\n",
    "</html>"
   ]
  },
  {
   "cell_type": "code",
   "execution_count": null,
   "metadata": {},
   "outputs": [],
   "source": [
    "## index.html\n",
    "\n",
    "{% extends \"base.html\" %}\n",
    "\n",
    "{% block content %}\n",
    "    <div class = \"jumbotron\">\n",
    "        <p>Welcome to Puppy Rock!</p>\n",
    "        <p>Wanna sign up for our pupp band??</p>\n",
    "            <a href = \"{{url_for('signup_form')}}\">Sign up for auditions here</a>\n",
    "    </div>\n",
    "{% endblock %}"
   ]
  },
  {
   "cell_type": "code",
   "execution_count": null,
   "metadata": {},
   "outputs": [],
   "source": [
    "## Signup_form.html\n",
    "{% extends \"base.html\" %}\n",
    "\n",
    "{% block content %}\n",
    "    <div class = \"jumbotron\">\n",
    "        <h1>Welcome to the sign up page!</h1>\n",
    "        <p>Fill out the form</p>\n",
    "            <form action = \"{{url_for('thank_you')}}\">\n",
    "                <label for = \"first\">First name:</label>\n",
    "                <input type = \"text\" name = \"first\">\n",
    "                <label for = \"last\">Last name:</label>\n",
    "                <input type = \"text\" name = \"last\">\n",
    "                <input type = \"submit\" value = \"Submit Form\">\n",
    "            </form>\n",
    "    </div>\n",
    "{% endblock %}"
   ]
  },
  {
   "cell_type": "code",
   "execution_count": null,
   "metadata": {},
   "outputs": [],
   "source": [
    "## thank_you.html \n",
    "{% extends \"base.html\" %}\n",
    "\n",
    "{% block content %}\n",
    "    <div class = \"jumbotron\">\n",
    "        <h1>Thanks for signing up! {{first}} {{last}} </h1>\n",
    "    </div>\n",
    "{% endblock %}"
   ]
  },
  {
   "cell_type": "code",
   "execution_count": null,
   "metadata": {},
   "outputs": [],
   "source": [
    "## 404.html\n",
    "{% extends \"base.html\" %}\n",
    "\n",
    "{% block content %}\n",
    "    <div class = \"jumbotron\">\n",
    "        <p>Sorry could not find that page!</p>\n",
    "    </div>\n",
    "{% endblock %}"
   ]
  }
 ],
 "metadata": {
  "kernelspec": {
   "display_name": "Python 3",
   "language": "python",
   "name": "python3"
  },
  "language_info": {
   "codemirror_mode": {
    "name": "ipython",
    "version": 3
   },
   "file_extension": ".py",
   "mimetype": "text/x-python",
   "name": "python",
   "nbconvert_exporter": "python",
   "pygments_lexer": "ipython3",
   "version": "3.7.3"
  }
 },
 "nbformat": 4,
 "nbformat_minor": 2
}

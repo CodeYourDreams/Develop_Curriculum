{
 "cells": [
  {
   "cell_type": "markdown",
   "metadata": {},
   "source": [
    "# Flask Basics, Lesson 5!!!"
   ]
  },
  {
   "cell_type": "markdown",
   "metadata": {},
   "source": [
    "## Flask Relationships "
   ]
  },
  {
   "cell_type": "markdown",
   "metadata": {},
   "source": [
    "![SegmentLocal](https://media3.giphy.com/media/TFpXAJRtUIxlC/giphy.gif \"segment\")"
   ]
  },
  {
   "cell_type": "markdown",
   "metadata": {},
   "source": [
    "There are going to be times in big projects where you want to have more than one model, but these models will likely have relationships with eachother!"
   ]
  },
  {
   "cell_type": "markdown",
   "metadata": {},
   "source": [
    "Building off the puppies example we've been using, this could be a relationship with the Owner model"
   ]
  },
  {
   "cell_type": "markdown",
   "metadata": {},
   "source": [
    "An important thing to understand to understand these relationships is Primary Keys and Foreign Keys:\n",
    "\n",
    "#### Primary Keys:\n",
    "\n",
    "A unique identifier, something that will truely be different for each item \n",
    "\n",
    "#### Foreign Keys:\n",
    "\n",
    "A primary key in another table!"
   ]
  },
  {
   "cell_type": "markdown",
   "metadata": {},
   "source": [
    "Using the Puppy and Owner example:\n",
    "\n",
    "#### Puppy:\n",
    "ID Tag (Primary Key!)\n",
    "Puppy Name\n",
    "\n",
    "#### Owner:\n",
    "National ID Number (Primary Key)\n",
    "Owner Name\n",
    "Puppy ID (Foreign Key)"
   ]
  },
  {
   "cell_type": "markdown",
   "metadata": {},
   "source": [
    "### Example!!!"
   ]
  },
  {
   "cell_type": "code",
   "execution_count": null,
   "metadata": {},
   "outputs": [],
   "source": [
    "# Models.py\n",
    "import os\n",
    "from flask import Flask\n",
    "from flask_sqlalchemy import SQLAlchemy\n",
    "from flask_migrate import Migrate \n",
    "\n",
    "basedir = os.path.abspath(os.path.dirname(__file__))\n",
    "\n",
    "app = Flask(__name__)\n",
    "\n",
    "app.config['SQLALCHEMY_DATABASE_URI'] = 'sqlite:///'+os.path.join(basedir, 'data.sqlite')\n",
    "app.config['SQLALCHEMY_TRACK_MODIFICATIONS'] = False\n",
    "\n",
    "db = SQLAchemy(app)\n",
    "Migrate(app, db)\n",
    "\n",
    "class Puppy(db.Model):\n",
    "     \n",
    "    __tablename__ = 'puppies'\n",
    "    \n",
    "    id = db.Column(db.Integer, primary_key = True)\n",
    "    name = db.Column(db.Text)\n",
    "    toys = db.relationship('Toy', backref = 'puppy', lazy = 'dynamic')\n",
    "    # One to many, one puppy to many toys\n",
    "    # Lazy specifies how relationship is loaded into database\n",
    "    owner = db.relationship('owner', backref = 'puppy', uselist = False)\n",
    "    # one to one, one puppy to own owner\n",
    "    # Uselist is false because since it is only one owner for one puppy, you will never have a list for this relationship, like you might with toys\n",
    "    \n",
    "    def __init__(self, name):\n",
    "        self.name = name\n",
    "        \n",
    "    def __repr__(self):\n",
    "        if self.owner:\n",
    "            return \"Puppy name is {self.name} and owner is {self.owner}\"\n",
    "        else:\n",
    "            return \"Puppy is {self.name} and has no owner yet\"\n",
    "        \n",
    "    def report_toys(self):\n",
    "        print(\"Here are my toys:\")\n",
    "        for toy in self.toys:\n",
    "            print(toy.item_name)\n",
    "    \n",
    "class Toy(db.Model):\n",
    "    \n",
    "    __tablename__ = 'toys'\n",
    "    \n",
    "    id = db.Column(db.Integer, primary_key = True)\n",
    "    item_name = db.Column(db.Text)\n",
    "    puppy_id = db.Column(db.Integer, db.ForeignKey('puppies.id'))\n",
    "    \n",
    "    def __init__(self, item_name, puppy_id):\n",
    "        self.item_name = item_name\n",
    "        self.puppy_id = puppy_id\n",
    "        \n",
    "class Owner(db.Model):\n",
    "    __tablename__ = 'owners'\n",
    "    \n",
    "    id = db.Column(db.Integer, primary_key = True)\n",
    "    name = db.Column(db.Text)\n",
    "    puppy_id = db.Column(db.Integer, db.ForeignKey('puppies.id'))\n",
    "    \n",
    "    def __init__(self, name, puppy_id):\n",
    "        self.name = name\n",
    "        self.puppy_id = puppy_id"
   ]
  },
  {
   "cell_type": "markdown",
   "metadata": {},
   "source": [
    "Source Jose Portilla "
   ]
  },
  {
   "cell_type": "code",
   "execution_count": null,
   "metadata": {},
   "outputs": [],
   "source": []
  }
 ],
 "metadata": {
  "kernelspec": {
   "display_name": "Python 3",
   "language": "python",
   "name": "python3"
  },
  "language_info": {
   "codemirror_mode": {
    "name": "ipython",
    "version": 3
   },
   "file_extension": ".py",
   "mimetype": "text/x-python",
   "name": "python",
   "nbconvert_exporter": "python",
   "pygments_lexer": "ipython3",
   "version": "3.7.3"
  }
 },
 "nbformat": 4,
 "nbformat_minor": 2
}

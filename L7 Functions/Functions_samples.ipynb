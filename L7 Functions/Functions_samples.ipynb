{
 "cells": [
  {
   "cell_type": "markdown",
   "metadata": {},
   "source": [
    "Lesson 7 - Functions\n",
    "\n",
    "Goal:  Students will be able to explain the purpose of functions as re-usable programming abstractions. Students will be able to write a simple function on their own.\n",
    "Exercises:  Write first function\n",
    "Homework: Group lines of code to functions\n",
    "\n",
    "What is a function?\n",
    "\n",
    "What is the structure of a function?\n",
    "\n",
    "Example 1: Function with no input, with print statement\n",
    "\n",
    "Example 2: Function with an input, that prints the something + input\n",
    "\n",
    "Return statement - Purpose, uses\n",
    "   return vs print\n",
    "   \n",
    "Example 2: Simple arithmetic function with return value that is used somewhere else \n",
    "\n",
    "\n"
   ]
  }
 ],
 "metadata": {
  "kernelspec": {
   "display_name": "Python 3",
   "language": "python",
   "name": "python3"
  },
  "language_info": {
   "codemirror_mode": {
    "name": "ipython",
    "version": 3
   },
   "file_extension": ".py",
   "mimetype": "text/x-python",
   "name": "python",
   "nbconvert_exporter": "python",
   "pygments_lexer": "ipython3",
   "version": "3.7.3"
  }
 },
 "nbformat": 4,
 "nbformat_minor": 2
}

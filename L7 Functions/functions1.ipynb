{
 "cells": [
  {
   "cell_type": "markdown",
   "metadata": {},
   "source": [
    "# Lesson 7: Functions"
   ]
  },
  {
   "cell_type": "markdown",
   "metadata": {},
   "source": [
    "---"
   ]
  },
  {
   "cell_type": "markdown",
   "metadata": {},
   "source": [
    "## What is a function?"
   ]
  },
  {
   "cell_type": "markdown",
   "metadata": {},
   "source": [
    "---"
   ]
  },
  {
   "cell_type": "markdown",
   "metadata": {},
   "source": [
    "Functions in code work just like mathematical functions, for instance $y = f(x)$. In this example, $f$ is the function, $x$ is the input/parameter/argument, and $y$ is the return value."
   ]
  },
  {
   "cell_type": "markdown",
   "metadata": {},
   "source": [
    "$print$, which you've seen in earlier lessons, is a function. It takes in some input and prints that input to the screen:"
   ]
  },
  {
   "cell_type": "code",
   "execution_count": 1,
   "metadata": {},
   "outputs": [
    {
     "name": "stdout",
     "output_type": "stream",
     "text": [
      "Input\n"
     ]
    }
   ],
   "source": [
    "print(\"Input\")"
   ]
  },
  {
   "cell_type": "markdown",
   "metadata": {},
   "source": [
    "A coding function is a block of code that can be reused throughout a program. Functions eliminate the need to repeat code and allows for ease when completing one or more actions on several items. The structure of a function is as follows:\n",
    "    "
   ]
  },
  {
   "cell_type": "markdown",
   "metadata": {},
   "source": [
    "<img src = \"Add a little bit of body text.jpg\">"
   ]
  },
  {
   "cell_type": "markdown",
   "metadata": {},
   "source": [
    "The keyword $def$, which is short for define, introduces a function definition and it must preface all function segments. "
   ]
  },
  {
   "cell_type": "markdown",
   "metadata": {},
   "source": [
    "After the word $def$, comes the function name. The function can have any name, given it is not the same as any of the built-in commands. Besides the underscore, there can be no spaces or special characters in the function name, i.e. !@^&^=+. <br><br>After the function name, there should be a parenthesized list of formal parameters, with a concluding colon at the end of the line. The colon ( : ) at the end indicates that a new \"code block\" is beginning. <br><br>Subsequent lines in the code block, which are indented, form the body of the function. Some functions include a docstring, which is a string that documents what the function does, its inputs, and outputs. Docstrings are useful when looking over your code and for others to understand your functions."
   ]
  },
  {
   "cell_type": "code",
   "execution_count": 2,
   "metadata": {},
   "outputs": [],
   "source": [
    "def func_name (x,y):\n",
    "    '''\n",
    "    docstring\n",
    "    '''\n",
    "    #do something\n",
    "    return\n"
   ]
  },
  {
   "cell_type": "markdown",
   "metadata": {},
   "source": [
    "### Exercise 1: Function names"
   ]
  },
  {
   "cell_type": "markdown",
   "metadata": {},
   "source": [
    "Which of the below function names are acceptable?"
   ]
  },
  {
   "cell_type": "markdown",
   "metadata": {},
   "source": [
    "1. chicago\n",
    "2. social impact\n",
    "3. @pp\n",
    "4. code_your_dreams\n",
    "5. Dreamers"
   ]
  },
  {
   "cell_type": "markdown",
   "metadata": {},
   "source": [
    "_Answers: 1. Yes   2. No, includes a space    3. No, includes a special character    4. Yes    5. Yes, but it is recommended to use all lowercase for function names_"
   ]
  },
  {
   "cell_type": "markdown",
   "metadata": {},
   "source": [
    "#### Example 1"
   ]
  },
  {
   "cell_type": "markdown",
   "metadata": {},
   "source": [
    "Not all functions need to take in an argument to work. The function say_dream, for instance, needs no input argument and is still able to print the word \"Dream!\""
   ]
  },
  {
   "cell_type": "code",
   "execution_count": 3,
   "metadata": {},
   "outputs": [],
   "source": [
    "def say_dream():\n",
    "    print(\"Dream!\")"
   ]
  },
  {
   "cell_type": "markdown",
   "metadata": {},
   "source": [
    "So, how do we actually call the function?"
   ]
  },
  {
   "cell_type": "code",
   "execution_count": 4,
   "metadata": {},
   "outputs": [
    {
     "data": {
      "text/plain": [
       "<function __main__.say_dream()>"
      ]
     },
     "execution_count": 4,
     "metadata": {},
     "output_type": "execute_result"
    }
   ],
   "source": [
    "say_dream"
   ]
  },
  {
   "cell_type": "markdown",
   "metadata": {},
   "source": [
    "By running solely the function's name, the program returns information about the function. In order to get the results from the function, the function name must be called with the function parameters inside parentheses. In our case, given say_dream does not take any inputs, we would just use empty parentheses."
   ]
  },
  {
   "cell_type": "code",
   "execution_count": 5,
   "metadata": {},
   "outputs": [
    {
     "name": "stdout",
     "output_type": "stream",
     "text": [
      "Dream!\n"
     ]
    }
   ],
   "source": [
    "say_dream()"
   ]
  },
  {
   "cell_type": "markdown",
   "metadata": {},
   "source": [
    "#### Example 2"
   ]
  },
  {
   "cell_type": "markdown",
   "metadata": {},
   "source": [
    "The name function takes in a name and prints that name to the screen. "
   ]
  },
  {
   "cell_type": "code",
   "execution_count": 6,
   "metadata": {},
   "outputs": [],
   "source": [
    "def name (x):\n",
    "    print (x)"
   ]
  },
  {
   "cell_type": "markdown",
   "metadata": {},
   "source": [
    "So, what happens if you were to try to use the same parameter name given in the function? "
   ]
  },
  {
   "cell_type": "code",
   "execution_count": 7,
   "metadata": {},
   "outputs": [
    {
     "ename": "NameError",
     "evalue": "name 'x' is not defined",
     "output_type": "error",
     "traceback": [
      "\u001b[1;31m---------------------------------------------------------------------------\u001b[0m",
      "\u001b[1;31mNameError\u001b[0m                                 Traceback (most recent call last)",
      "\u001b[1;32m<ipython-input-7-b6974b1561ea>\u001b[0m in \u001b[0;36m<module>\u001b[1;34m\u001b[0m\n\u001b[1;32m----> 1\u001b[1;33m \u001b[0mname\u001b[0m\u001b[1;33m(\u001b[0m\u001b[0mx\u001b[0m\u001b[1;33m)\u001b[0m\u001b[1;33m\u001b[0m\u001b[1;33m\u001b[0m\u001b[0m\n\u001b[0m",
      "\u001b[1;31mNameError\u001b[0m: name 'x' is not defined"
     ]
    }
   ],
   "source": [
    "name(x)"
   ]
  },
  {
   "cell_type": "code",
   "execution_count": 8,
   "metadata": {},
   "outputs": [
    {
     "name": "stdout",
     "output_type": "stream",
     "text": [
      "Benny\n"
     ]
    }
   ],
   "source": [
    "name(\"Benny\")"
   ]
  },
  {
   "cell_type": "markdown",
   "metadata": {},
   "source": [
    "The parameters and variables used in any function only exist within the scope of that function. While $x$ inside the function correlates to whatever name is inputted, like \"Benny\", outside of the function x has not been assigned to anything, so, it returns an error."
   ]
  },
  {
   "cell_type": "markdown",
   "metadata": {},
   "source": [
    "### Exercise 2: Dream big __YOU__!"
   ]
  },
  {
   "cell_type": "markdown",
   "metadata": {},
   "source": [
    "Create a function named dream_big that takes in two parameters: name and neighborhood. Make the function print:<br><br>\"I am (name) and I am from (neighborhood), and I dream big!\"<br><br>Call the function with your desired inputs to make sure it works."
   ]
  },
  {
   "cell_type": "code",
   "execution_count": null,
   "metadata": {},
   "outputs": [],
   "source": []
  },
  {
   "cell_type": "markdown",
   "metadata": {},
   "source": [
    "### Exercise 3: Syntax error :("
   ]
  },
  {
   "cell_type": "markdown",
   "metadata": {},
   "source": [
    "Each of code cell below contains commented-out code that has a bug.\n",
    "1. Predict what will happen if the code was to run with the bug\n",
    "2. Check your prediction by removing the number sign and uncommenting the code\n",
    "3. Fix the code!"
   ]
  },
  {
   "cell_type": "code",
   "execution_count": 9,
   "metadata": {},
   "outputs": [],
   "source": [
    "# Error 1\n",
    "\n",
    "#def grade(num, total)\n",
    "#    value = num / total\n",
    "#    print(\"You received a {} on the exam\".format(value))\n"
   ]
  },
  {
   "cell_type": "code",
   "execution_count": 10,
   "metadata": {},
   "outputs": [],
   "source": [
    "# Error 2\n",
    "\n",
    "#def goodbye(name):\n",
    "#print(\"Goodbye {}\".format(name))"
   ]
  },
  {
   "cell_type": "markdown",
   "metadata": {},
   "source": [
    "---"
   ]
  },
  {
   "cell_type": "markdown",
   "metadata": {},
   "source": [
    "## Return Statements"
   ]
  },
  {
   "cell_type": "markdown",
   "metadata": {},
   "source": [
    "---"
   ]
  },
  {
   "cell_type": "markdown",
   "metadata": {},
   "source": [
    "So far, we have only used our functions to print things to the screen, however, what if we wanted to actually store those values? One of the main features of functions is their ability to return results that can later be used in other operations. In order to do so, we must use the $return$ call. The $return$ call allows the function to return a value that can both be used in other functions and stored in variables. To use return, just replace print with return in the previous functions we've used:"
   ]
  },
  {
   "cell_type": "code",
   "execution_count": 11,
   "metadata": {},
   "outputs": [],
   "source": [
    "def say_dream():\n",
    "    return \"Dream!\""
   ]
  },
  {
   "cell_type": "markdown",
   "metadata": {},
   "source": [
    "Notice how when returning a string, parentheses are not necessary. That is because unlike the print function, the return statement does not need to be executed with parentheses, eventhough parentheses may be used to make a return value easier to understand. Now, when we call say_dream, we get our same output, but with quotation marks:"
   ]
  },
  {
   "cell_type": "code",
   "execution_count": 12,
   "metadata": {},
   "outputs": [
    {
     "data": {
      "text/plain": [
       "'Dream!'"
      ]
     },
     "execution_count": 12,
     "metadata": {},
     "output_type": "execute_result"
    }
   ],
   "source": [
    "say_dream()"
   ]
  },
  {
   "cell_type": "markdown",
   "metadata": {},
   "source": [
    "The quotation marks indicate that the function returns a string. As such, whatever variable we assign to say dream will be treated as a string, which allows us to use functions associated with strings:"
   ]
  },
  {
   "cell_type": "code",
   "execution_count": 13,
   "metadata": {},
   "outputs": [
    {
     "name": "stdout",
     "output_type": "stream",
     "text": [
      "Dream! Big!\n",
      "6\n"
     ]
    },
    {
     "data": {
      "text/plain": [
       "'DREAM!'"
      ]
     },
     "execution_count": 13,
     "metadata": {},
     "output_type": "execute_result"
    }
   ],
   "source": [
    "dream_catcher = say_dream()\n",
    "\n",
    "print(dream_catcher + \" Big!\") #concatenation\n",
    "\n",
    "print(len(dream_catcher))\n",
    "\n",
    "dream_catcher.upper()"
   ]
  },
  {
   "cell_type": "markdown",
   "metadata": {},
   "source": [
    "#### Example 3"
   ]
  },
  {
   "cell_type": "markdown",
   "metadata": {},
   "source": [
    "Now, let's create a function that sums together the population of two neighborhoods. <br><br> We will name the function together and it will take in two parameters: neighborhood1 and neighborhood2. "
   ]
  },
  {
   "cell_type": "code",
   "execution_count": 14,
   "metadata": {},
   "outputs": [],
   "source": [
    "# Note that the function is commented because it is without a function body, which will cause it to throw an error\n",
    "\n",
    "# def together(neighborhood1, neighborhood2) \n"
   ]
  },
  {
   "cell_type": "markdown",
   "metadata": {},
   "source": [
    "We want the function to return the sum of the two populations. So, what exactly should the function return? <br><br>"
   ]
  },
  {
   "cell_type": "code",
   "execution_count": 15,
   "metadata": {},
   "outputs": [],
   "source": [
    "def together (neighborhood1, neighborhood2):\n",
    "    return neighborhood1 + neighborhood2"
   ]
  },
  {
   "cell_type": "markdown",
   "metadata": {},
   "source": [
    "__Quick Question: If we were to pass in number values for neighborhood1 and neighborhood2, what data type will together return?A string, integer, float,list, or dictionary ? Why?__"
   ]
  },
  {
   "cell_type": "code",
   "execution_count": 16,
   "metadata": {},
   "outputs": [],
   "source": [
    "#Let's test it, uncomment the line below to see the type\n",
    "\n",
    "#type(together(55000,51002))"
   ]
  },
  {
   "cell_type": "markdown",
   "metadata": {},
   "source": [
    "The together function can also be used with non-integer numbers, like strings."
   ]
  },
  {
   "cell_type": "code",
   "execution_count": 17,
   "metadata": {},
   "outputs": [
    {
     "data": {
      "text/plain": [
       "'Social Impact'"
      ]
     },
     "execution_count": 17,
     "metadata": {},
     "output_type": "execute_result"
    }
   ],
   "source": [
    "together(\"Social \", \"Impact\")"
   ]
  },
  {
   "cell_type": "markdown",
   "metadata": {},
   "source": [
    "Functions do not consider the data type of the inputs. So, just make sure whatever actions that are being performed within the function are suitable for the argument data type, and vice versa."
   ]
  },
  {
   "cell_type": "markdown",
   "metadata": {},
   "source": [
    "## Homework"
   ]
  },
  {
   "cell_type": "markdown",
   "metadata": {},
   "source": [
    "You decide to split your neighborhood into several circles in order to efficiently canvas your community and survey your neighbors. Convert the following lines of code into a function called community_area and find the area of a community partition with a diameter of 10:"
   ]
  },
  {
   "cell_type": "code",
   "execution_count": 18,
   "metadata": {},
   "outputs": [
    {
     "data": {
      "text/plain": [
       "78.53975"
      ]
     },
     "execution_count": 18,
     "metadata": {},
     "output_type": "execute_result"
    }
   ],
   "source": [
    "pi = 3.14159\n",
    "diameter = 10\n",
    "\n",
    "radius = diameter/2\n",
    "\n",
    "area = pi * (radius ** 2)\n",
    "area"
   ]
  }
 ],
 "metadata": {
  "kernelspec": {
   "display_name": "Python 3",
   "language": "python",
   "name": "python3"
  },
  "language_info": {
   "codemirror_mode": {
    "name": "ipython",
    "version": 3
   },
   "file_extension": ".py",
   "mimetype": "text/x-python",
   "name": "python",
   "nbconvert_exporter": "python",
   "pygments_lexer": "ipython3",
   "version": "3.7.3"
  }
 },
 "nbformat": 4,
 "nbformat_minor": 2
}

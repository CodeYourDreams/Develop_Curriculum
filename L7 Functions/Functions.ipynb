{
 "cells": [
  {
   "cell_type": "markdown",
   "metadata": {},
   "source": [
    "# <font color = blue>Lesson 7: Functions</font>"
   ]
  },
  {
   "cell_type": "markdown",
   "metadata": {},
   "source": [
    "### <font color = red>What is a function?</font>"
   ]
  },
  {
   "cell_type": "markdown",
   "metadata": {},
   "source": [
    "A function is a block of code that can be reused throughout a program"
   ]
  },
  {
   "cell_type": "markdown",
   "metadata": {},
   "source": [
    "\n",
    "Goal:  Students will be able to explain the purpose of functions as re-usable programming abstractions. Students will be able to write a simple function on their own.\n",
    "Exercises:  Write first function\n",
    "Homework: Group lines of code to functions\n",
    "\n",
    "What is a function?\n",
    "A block of code that can be reused through a program. Functions eliminate the need to repeat code.Functions allow for ease when doing one or more actions to different items.\n",
    "\n",
    "What is the structure of a function?\n",
    "\n",
    "def name (x, y,...):\n",
    "   '''\n",
    "   docstring\n",
    "   '''\n",
    "   do something\n",
    "\n",
    "- def (define)\n",
    "    *must be used to preface all function segments\n",
    "\n",
    "-The name\n",
    "    *cannot be the same as one that is already a built-in method\n",
    "    *all lower case\n",
    "    *no spaces or special characters besides the underscore ( __ )\n",
    "\n",
    "- must include the colons at the end\n",
    "    *indictates a code block, i.e. this code will all fall within the header\n",
    "    *Most python programs automatically idents after the code\n",
    "    *Everything within the function  should be idented\n",
    "    \n",
    "-docstring\n",
    "    - a string that documents what your function does,its inputs, and outputs\n",
    "    - useful when looking over your code and for others to understand your functions\n",
    "    \n",
    "    \n",
    "Example 1: Function with no input, with print statement\n",
    "\n",
    "Example 2: Function that in an input and just prints that input\n",
    "\n",
    "Default arguments\n",
    "    In case an argument is not passed into the function (ex: x = 1)\n",
    "    \n",
    "Now let's combine the two functions!\n",
    "\n",
    "Excercise 1: Write a function that takes in a name, and prints \"Dream big (name)!\"\n",
    "\n",
    "\n",
    "Return statement - Purpose, uses\n",
    "   return vs print\n",
    "   \n",
    "Example 3: Simple arithmetic function with return value that is used somewhere else \n",
    "\n",
    "def sum(x,y):\n",
    "    return x + y\n",
    "    \n",
    "(first illustrate with numbers,\n",
    "then use the sum function with strings to show how functions do not consider the data type)\n",
    "\n",
    "Functions can be used to return booleans \n",
    "\n",
    "example 4: lesser_than\n",
    "two ways to solve\n",
    "    1. using if statements\n",
    "    2. returning the result from x <y\n",
    "\n",
    "example 5:                                   \n",
    "                                      \n",
    "Excercise 3:\n",
    "Imagine you are creating an app that provides resources for teenagers in your community. On the app, you want to verify the users are both teenagers and are from your zip code.                      Create a function that will determine if the user is eligible to use the app. Return the appropriate message for all possible cases. (There should be 4 cases)\n",
    "\n",
    "\n",
    "\n",
    "\n"
   ]
  },
  {
   "cell_type": "code",
   "execution_count": null,
   "metadata": {},
   "outputs": [],
   "source": []
  }
 ],
 "metadata": {
  "kernelspec": {
   "display_name": "Python 3",
   "language": "python",
   "name": "python3"
  },
  "language_info": {
   "codemirror_mode": {
    "name": "ipython",
    "version": 3
   },
   "file_extension": ".py",
   "mimetype": "text/x-python",
   "name": "python",
   "nbconvert_exporter": "python",
   "pygments_lexer": "ipython3",
   "version": "3.7.3"
  }
 },
 "nbformat": 4,
 "nbformat_minor": 2
}

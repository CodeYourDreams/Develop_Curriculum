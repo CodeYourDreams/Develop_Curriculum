Lesson 7 - Functions

Goal:  Students will be able to explain the purpose of functions as re-usable programming abstractions. Students will be able to write a simple function on their own.
Exercises:  Write first function
Homework: Group lines of code to functions

What is a function?

What is the structure of a function?

Example 1: Function with no input, with print statement

Example 2: Function with an input, that prints the something + input

Return statement - Purpose, uses
   return vs print
   
Example 2: Simple arithmetic function with return value that is used somewhere else 




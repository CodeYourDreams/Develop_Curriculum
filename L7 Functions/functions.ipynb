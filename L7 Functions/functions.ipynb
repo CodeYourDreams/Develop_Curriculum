Lesson 7 - Functions

Goal:  Students will be able to explain the purpose of functions as re-usable programming abstractions. Students will be able to write a simple function on their own.
Exercises:  Write first function
Homework: Group lines of code to functions

What is a function?
A block of code that can be reused through a program. Functions eliminate the need to repeat code.Functions allow for ease when doing one or more actions to different items.

What is the structure of a function?

def name (x, y,...):
   '''
   docstring
   '''
   do something

- def (define)
    *must be used to preface all function segments

-The name
    *cannot be the same as one that is already a built-in method
    *all lower case
    *no spaces or special characters besides the underscore ( __ )

- must include the colons at the end
    *indictates a code block, i.e. this code will all fall within the header
    *Most python programs automatically idents after the code
    *Everything within the function  should be idented
    
-docstring
    - a string that documents what your function does,its inputs, and outputs
    - useful when looking over your code and for others to understand your functions
    
    
Example 1: Function with no input, with print statement

Example 2: Function that in an input and just prints that input

Default arguments
    In case an argument is not passed into the function (ex: x = 1)
    
Now let's combine the two functions!

Excercise 1: Write a function that takes in a name, and prints "Dream big (name)!"


Return statement - Purpose, uses
   return vs print
   
Example 3: Simple arithmetic function with return value that is used somewhere else 

def sum(x,y):
    return x + y
    
(first illustrate with numbers,
then use the sum function with strings to show how functions do not consider the data type)

Functions can be used to return booleans 

example 4: lesser_than
two ways to solve
    1. using if statements
    2. returning the result from x <y

example 5:                                   
                                      
Excercise 3:
Imagine you are creating an app that provides resources for teenagers in your community. On the app, you want to verify the users are both teenagers and are from your zip code.                      Create a function that will determine if the user is eligible to use the app. Return the appropriate message for all possible cases. (There should be 4 cases)





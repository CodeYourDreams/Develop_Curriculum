{
 "cells": [
  {
   "cell_type": "markdown",
   "metadata": {},
   "source": [
    "# Lesson 7 - Part 3"
   ]
  },
  {
   "cell_type": "markdown",
   "metadata": {},
   "source": [
    "## Iteration"
   ]
  },
  {
   "cell_type": "markdown",
   "metadata": {},
   "source": [
    "You can make your function iterative by incorporating the $for$ and $while$ loops we learned about in previous lessons"
   ]
  },
  {
   "cell_type": "markdown",
   "metadata": {},
   "source": [
    "As a recap, $for$ evaluates and manipulates each article within an object:"
   ]
  },
  {
   "cell_type": "code",
   "execution_count": 75,
   "metadata": {},
   "outputs": [
    {
     "name": "stdout",
     "output_type": "stream",
     "text": [
      "Jamal\n",
      "Tyra\n",
      "Samantha\n",
      "Jamal's name is more than 4 letters long.\n",
      "Samantha's name is more than 4 letters long.\n"
     ]
    }
   ],
   "source": [
    "students = [\"Jamal\", \"Tyra\", \"Samantha\"]\n",
    "for n in students:\n",
    "    print (n)\n",
    "    \n",
    "for x in students:\n",
    "    if len(x) >= 5:\n",
    "        print(x + \"'s name is more than 4 letters long.\")"
   ]
  },
  {
   "cell_type": "markdown",
   "metadata": {},
   "source": [
    "Recall that the variable following $for$ can be anything of your choosing."
   ]
  },
  {
   "cell_type": "markdown",
   "metadata": {},
   "source": [
    "Furthermore, $while$ repeats an action until a particular condition is meet. Depending on the purpose of your while loop, it may be useful to include a counter that is updated within the loop to ensure that the loop does not go on infinitively. In the below example, participants is the counter:"
   ]
  },
  {
   "cell_type": "code",
   "execution_count": 76,
   "metadata": {},
   "outputs": [
    {
     "name": "stdout",
     "output_type": "stream",
     "text": [
      "36\n"
     ]
    }
   ],
   "source": [
    "participants = 1 # counter\n",
    "total_participants = 0\n",
    "while participants < 9:\n",
    "    total_participants = total_participants + participants\n",
    "    participants = participants + 1 # updating the counter\n",
    "\n",
    "print(total_participants)"
   ]
  },
  {
   "cell_type": "markdown",
   "metadata": {},
   "source": [
    "You can also use a break point within a while loop:"
   ]
  },
  {
   "cell_type": "code",
   "execution_count": 77,
   "metadata": {},
   "outputs": [
    {
     "name": "stdout",
     "output_type": "stream",
     "text": [
      "All full\n",
      "21\n"
     ]
    }
   ],
   "source": [
    "participants = 1\n",
    "total_participants = 0\n",
    "while participants < 9:\n",
    "    if total_participants >= 16:\n",
    "        print(\"All full\")\n",
    "        break\n",
    "    total_participants = total_participants + participants\n",
    "    participants = participants + 1\n",
    "\n",
    "print(total_participants)"
   ]
  },
  {
   "cell_type": "markdown",
   "metadata": {},
   "source": [
    "<br>Now, how do we actually convert these lines of code into functions?\n",
    "<br>__Take a moment to discuss with a partner how you think we could convert the above coding portions into code__\n"
   ]
  },
  {
   "cell_type": "markdown",
   "metadata": {},
   "source": [
    "<br> Did you figure it out? <br><br> To convert these statements into function, just incorporate the function structure and convert the direct object calls into variables:"
   ]
  },
  {
   "cell_type": "code",
   "execution_count": 78,
   "metadata": {},
   "outputs": [
    {
     "name": "stdout",
     "output_type": "stream",
     "text": [
      "Jamal's name is more than 4 letters long.\n",
      "Samantha's name is more than 4 letters long.\n"
     ]
    }
   ],
   "source": [
    "def letters (list_students):\n",
    "    for x in list_students:\n",
    "        if len(x) >= 5:\n",
    "            print(x + \"'s name is more than 4 letters long.\")\n",
    "letters(students)"
   ]
  },
  {
   "cell_type": "markdown",
   "metadata": {},
   "source": [
    "Instead of directly taking in the list students, we now have a function that takes in a list variable. <br> The while loop conversion offers a bit more flexiblity than the loop conversion because it is dependent on which variable we choose to manipulate. For the sake of this example, we will make the while loop limit the number of participants:"
   ]
  },
  {
   "cell_type": "code",
   "execution_count": 79,
   "metadata": {},
   "outputs": [
    {
     "data": {
      "text/plain": [
       "45"
      ]
     },
     "execution_count": 79,
     "metadata": {},
     "output_type": "execute_result"
    }
   ],
   "source": [
    "def count_participants(cap): \n",
    "    participants = 1\n",
    "    total_participants = 0\n",
    "    while participants < cap:\n",
    "        total_participants = total_participants + participants\n",
    "        participants = participants + 1\n",
    "    return total_participants\n",
    "\n",
    "count_participants(10)"
   ]
  },
  {
   "cell_type": "markdown",
   "metadata": {},
   "source": [
    "### Exercise 1: A sum of helpers!"
   ]
  },
  {
   "cell_type": "markdown",
   "metadata": {},
   "source": [
    "Imagine you have a list that has the number of people who want to volunteer from various communities within Chicago. Create a function named $myvolunteers$ that sums up all the numbers in the list, and returns the total number of volunteers. <br>\n",
    "_Hint: Use a for loop_"
   ]
  },
  {
   "cell_type": "code",
   "execution_count": 80,
   "metadata": {},
   "outputs": [],
   "source": [
    "def myvolunteers(helpers):\n",
    "    pass\n",
    "\n",
    "# myvolunteers([3,1,4,5,2]) -> 15"
   ]
  },
  {
   "cell_type": "markdown",
   "metadata": {},
   "source": [
    "### Exercise 2: Community dictionary"
   ]
  },
  {
   "cell_type": "markdown",
   "metadata": {},
   "source": [
    "Create a function named helpers that iterates through a dictionary and prints each key(name) and value(age) pair in the dictionary. "
   ]
  },
  {
   "cell_type": "markdown",
   "metadata": {},
   "source": [
    "_Hint: Remember to use the .items() call in the for loop to acces both the key and value in a dictionary_"
   ]
  },
  {
   "cell_type": "code",
   "execution_count": 81,
   "metadata": {},
   "outputs": [],
   "source": [
    "sample_helpers = {\"Jessica\" : 48, \"Kiana\" : 19, \"David\" : 27, \"Bethany\" : 14, \"John\" : 52}\n",
    "def helpers(participants):\n",
    "    for x, y in participants.items():\n",
    "        print (x, \",\", y)\n",
    "\n",
    "# helpers(sample_helpers) ->\n",
    "# Jessica , 48\n",
    "# Kiana , 19\n",
    "# David , 27\n",
    "# Bethany , 14\n",
    "# John , 52\n",
    "\n"
   ]
  },
  {
   "cell_type": "markdown",
   "metadata": {},
   "source": [
    "<img src = \"While_loop.jpg\">"
   ]
  },
  {
   "cell_type": "markdown",
   "metadata": {},
   "source": [
    "## Recursion"
   ]
  },
  {
   "cell_type": "markdown",
   "metadata": {},
   "source": [
    "https://www.youtube.com/watch?v=eqQQoIAT9So"
   ]
  },
  {
   "cell_type": "markdown",
   "metadata": {},
   "source": [
    "A recursive function is a function calls itself within itself. Typically, it is returning the return value of this function call. A recursive function must terminate in order to be used in a program."
   ]
  },
  {
   "cell_type": "markdown",
   "metadata": {},
   "source": [
    "Now, let's create our own version of the $countdown$ function covered in the video named $impact\\_time$. As stated in the video, we want our function to count down from the inputted integer, so, every call to the function will be one less than the previous:"
   ]
  },
  {
   "cell_type": "code",
   "execution_count": 82,
   "metadata": {},
   "outputs": [],
   "source": [
    "#def impact_time(sec):\n",
    "#    print (sec)\n",
    "#    impact_time(sec - 1)\n",
    "    \n",
    "\n",
    "#impact_time(10)"
   ]
  },
  {
   "cell_type": "markdown",
   "metadata": {},
   "source": [
    "Remove the comments from the above code and see what happens when you run it.<br><br> This is called infinite recursion; it occurs when there is no terminating case within a recursive function. For our function, we want our function to terminate once the $sec$ variable get to 0, so we don't call the function again:"
   ]
  },
  {
   "cell_type": "code",
   "execution_count": 83,
   "metadata": {},
   "outputs": [
    {
     "name": "stdout",
     "output_type": "stream",
     "text": [
      "10\n",
      "9\n",
      "8\n",
      "7\n",
      "6\n",
      "5\n",
      "4\n",
      "3\n",
      "2\n",
      "1\n",
      "Time to make an impact!\n"
     ]
    }
   ],
   "source": [
    "def impact_time(sec):\n",
    "    if sec == 0:\n",
    "        print(\"Time to make an impact!\")\n",
    "    else:\n",
    "        print (sec)\n",
    "        impact_time(sec - 1)\n",
    "  \n",
    "impact_time(10)"
   ]
  },
  {
   "cell_type": "markdown",
   "metadata": {},
   "source": [
    "#### Example 1"
   ]
  },
  {
   "cell_type": "markdown",
   "metadata": {},
   "source": [
    "Let's create a recursive version of our $myvolunteers$ function. <br> Here's a version of $myvolunteers$ we can start with:"
   ]
  },
  {
   "cell_type": "code",
   "execution_count": 84,
   "metadata": {},
   "outputs": [
    {
     "data": {
      "text/plain": [
       "21"
      ]
     },
     "execution_count": 84,
     "metadata": {},
     "output_type": "execute_result"
    }
   ],
   "source": [
    "def myvolunteers (participants):\n",
    "    sum = 0\n",
    "    for volunteers in participants:\n",
    "        sum = sum + volunteers\n",
    "    return sum\n",
    "\n",
    "myvolunteers([1,4,6,3,7])"
   ]
  },
  {
   "cell_type": "markdown",
   "metadata": {},
   "source": [
    "What do we need in our recursive version? There has to be a summing aspect and the function needs to terminate once all of the elements are summed. For the terminating case, we need to know how long the list is that we are putting in. Therefore, the length of the list should be an input variable. Additionally, for the else, we need to return the sum of the currently group of participants plus the sum of all groups:"
   ]
  },
  {
   "cell_type": "code",
   "execution_count": 89,
   "metadata": {},
   "outputs": [
    {
     "data": {
      "text/plain": [
       "21"
      ]
     },
     "execution_count": 89,
     "metadata": {},
     "output_type": "execute_result"
    }
   ],
   "source": [
    "def myvolunteers(participants, length):\n",
    "    if length == 0:\n",
    "        return 0\n",
    "    else:\n",
    "        sum = participants[length - 1] + myvolunteers(participants, length - 1)\n",
    "        return sum\n",
    "\n",
    "myvolunteers([1,4,6,3,7], 5)   "
   ]
  },
  {
   "cell_type": "markdown",
   "metadata": {},
   "source": [
    "To better illustrate this, we can insert print statements throughout the function to track the recursion:"
   ]
  },
  {
   "cell_type": "code",
   "execution_count": 90,
   "metadata": {},
   "outputs": [
    {
     "name": "stdout",
     "output_type": "stream",
     "text": [
      "Current length is 5\n",
      "Current length is 4\n",
      "Current length is 3\n",
      "Current length is 2\n",
      "Current length is 1\n",
      "Current length is 0\n",
      "intermediate value of length = 1 is 1\n",
      "intermediate value of length = 2 is 5\n",
      "intermediate value of length = 3 is 11\n",
      "intermediate value of length = 4 is 14\n",
      "intermediate value of length = 5 is 21\n"
     ]
    },
    {
     "data": {
      "text/plain": [
       "21"
      ]
     },
     "execution_count": 90,
     "metadata": {},
     "output_type": "execute_result"
    }
   ],
   "source": [
    "def myvolunteers(participants, length):\n",
    "    print(\"Current length is %s\" %(length))\n",
    "    if length == 0:\n",
    "        return 0\n",
    "    else:\n",
    "        sum = participants[length - 1] + myvolunteers(participants, length - 1)\n",
    "        print(\"intermediate value of length = %s is %s\" %(length,sum))\n",
    "        return sum\n",
    "\n",
    "myvolunteers([1,4,6,3,7], 5)   "
   ]
  },
  {
   "cell_type": "markdown",
   "metadata": {},
   "source": [
    "Keep in mind that length - 1 is used in place of length because indexing begans at 0."
   ]
  },
  {
   "cell_type": "markdown",
   "metadata": {},
   "source": [
    "### Exercise 7"
   ]
  },
  {
   "cell_type": "markdown",
   "metadata": {},
   "source": [
    "Modify $impact\\_time$ to count up to a specify number, starting at 1. Don't worry about changing the placement of \"Time to make an impact\"."
   ]
  },
  {
   "cell_type": "markdown",
   "metadata": {},
   "source": [
    "_Hint: Look at how the calls are positioned within the function, and see what happens once different aspects of the function is reordered._"
   ]
  },
  {
   "cell_type": "code",
   "execution_count": 105,
   "metadata": {},
   "outputs": [
    {
     "name": "stdout",
     "output_type": "stream",
     "text": [
      "10\n",
      "9\n",
      "8\n",
      "7\n",
      "6\n",
      "5\n",
      "4\n",
      "3\n",
      "2\n",
      "1\n",
      "Time to make an impact!\n"
     ]
    }
   ],
   "source": [
    "def impact_time(sec):\n",
    "    if sec == 0:\n",
    "        print(\"Time to make an impact!\")\n",
    "    else:\n",
    "        print (sec)\n",
    "        impact_time(sec - 1)\n",
    "\n",
    "impact_time(10)"
   ]
  },
  {
   "cell_type": "markdown",
   "metadata": {},
   "source": [
    "![SegmentLocal](RECURSION.gif \"segment\")"
   ]
  },
  {
   "cell_type": "markdown",
   "metadata": {},
   "source": [
    "## Homework"
   ]
  },
  {
   "cell_type": "markdown",
   "metadata": {},
   "source": [
    "Create an iterative function named population that takes in a dictionary and sums the population of neighborhoods with a population greater than 100000."
   ]
  },
  {
   "cell_type": "code",
   "execution_count": 28,
   "metadata": {},
   "outputs": [],
   "source": [
    "neighborhoods = {\"Roseland\" : 120000, \"Chinatown\" : 110000, \"River North\":20000}\n",
    "def population(neighbors):\n",
    "    pass\n",
    "\n",
    "population(neighborhoods) -> 230000"
   ]
  }
 ],
 "metadata": {
  "kernelspec": {
   "display_name": "Python 3",
   "language": "python",
   "name": "python3"
  },
  "language_info": {
   "codemirror_mode": {
    "name": "ipython",
    "version": 3
   },
   "file_extension": ".py",
   "mimetype": "text/x-python",
   "name": "python",
   "nbconvert_exporter": "python",
   "pygments_lexer": "ipython3",
   "version": "3.7.3"
  }
 },
 "nbformat": 4,
 "nbformat_minor": 2
}

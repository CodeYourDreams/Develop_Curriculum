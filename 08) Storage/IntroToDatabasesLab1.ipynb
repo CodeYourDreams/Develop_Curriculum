{
 "cells": [
  {
   "cell_type": "markdown",
   "metadata": {},
   "source": [
    "# Intro to Databases: Lab 1\n",
    "Welcome to the *Introduction to Databases* course! In this lab you'll start on your database journey with MongoDB Atlas and MongoDB Compass. [MongoDB Atlas](http://bit.ly/cyd-atlas) is a hosted version of MongoDB. [MongoDB Compass](http://bit.ly/cyd-compass) is a Graphical User Interface (GUI) tool to explore and work with the data stored in a MongoDB database.\n",
    "\n",
    "Your instructor should have created an account for you on MongoDB Atlas and assigned you to a project (team) that has a database running. Your workstation should also have MongoDB Compass installed. With these pieces in place, you should be able to load data into your database and then explore that data. Let's get started!\n",
    "\n",
    "### Login to MongoDB Atlas\n",
    "\n",
    "1. Using the information provided by your instructor, go to the MongoDB Atlas [login](http://bit.ly/cyd-atlas-login) page and go to your account.\n",
    "2. Navigate to your team's *Clusters Dashboard* (look in the CONTEXT selection box in the upper-left corner to make sure you're viewing your team's project) and click the **CONNECT** button.\n",
    "3. Select the *Connect with MongoDB Compass* option.\n",
    "4. Select the *I have Compass* button and the *1.12 or later* version option.\n",
    "5. Copy the connection string to your clipboard. \n",
    "6. With the connection string in your clipboard, open the MongoDB Compass application on your workstation.\n",
    "\n",
    "\n",
    "### Connect to Your Cluster in Compass\n",
    "1. When Compass opens, a pop-up dialog box should appear saying that it has detected the connection string in your clipboard. Click **Yes** to use those settings inside MongoDB Compass.\n",
    "2. The connection information with the exception of the MongoDB User password is now filled in. Input the password provided by your instructor.\n",
    "3. Name this connection to save as a favorite. For this example, if you were connecting to the **Team 1** project, you could name the connection *Team1*. Then click on **Connect**.\n",
    "\n",
    "### Use MongoDB Compass to Load Your Sample Data\n",
    "**Only one person on your team needs to complete the steps in this section to load your team's sample data.**\n",
    "1. In Compass, click the **Create Database** button. For the *Database Name* use a meaningful name for your project. For this example, `ShipInfo` will be used. For the *Collection Name*, again use a meaningful name for your project and application. `shipwrecks` will be used for this example. Leave *Capped Collection* and *Use Custom Collation* unchecked and click **CREATE DATABASE**.\n",
    "1. Click on the new `ShipInfo` database and then the `shipwrecks` collection. \n",
    "1. We can now load our own data into the `ShipInfo.shipwrecks` collection. From the *Collection* menu in MongoDB Compass, select **Import Data**. Browse to a `json` or `csv` file you want to load as a dataset. This example will use a `ships.json` file, which can be found [here](https://github.com/mongodb-developer/CodeYourDreams/blob/master/ships.json). Then click **IMPORT**.\n",
    "1. MongoDB Compass will load the `ships.json` data into the `ShipInfo` database and it is ready to explore.\n",
    "\n",
    "### Browse Your Team's Data\n",
    "1. Click the Refresh button (below the Home icon in the upper-left corner of Compass) to refresh your data. \n",
    "1. Navigate to your newly loaded database and collection.  Explore the documents in your collection to see how they are formatted.\n",
    "1. Click on the **Schema** tab at the top of the window and then the green **Analyze Schema** button. This allows MongoDB Compass to give a summary of the different types of data inside the collection.\n",
    "1. Explore through your dataset and see some of the different types of data and how they are distributed across the collection. If you are using the `ships.json` dataset or another dataset that includes geolocation data, notice that MongoDB Compass is able to plot the data points on a map to provide additional context to the data.\n",
    "1. We will be using MongoDB Compass again in Lesson 2 to see how to perform CRUD (Create, Read, Update, and Delete) operations on your data.\n"
   ]
  },
  {
   "cell_type": "code",
   "execution_count": null,
   "metadata": {},
   "outputs": [],
   "source": []
  },
  {
   "cell_type": "code",
   "execution_count": null,
   "metadata": {},
   "outputs": [],
   "source": []
  }
 ],
 "metadata": {
  "kernelspec": {
   "display_name": "Python 3",
   "language": "python",
   "name": "python3"
  },
  "language_info": {
   "codemirror_mode": {
    "name": "ipython",
    "version": 3
   },
   "file_extension": ".py",
   "mimetype": "text/x-python",
   "name": "python",
   "nbconvert_exporter": "python",
   "pygments_lexer": "ipython3",
   "version": "3.7.3"
  }
 },
 "nbformat": 4,
 "nbformat_minor": 2
}

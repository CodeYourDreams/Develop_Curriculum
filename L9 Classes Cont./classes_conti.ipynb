{
 "cells": [
  {
   "cell_type": "markdown",
   "metadata": {},
   "source": [
    "# Lesson 9: Classes Continued"
   ]
  },
  {
   "cell_type": "markdown",
   "metadata": {},
   "source": [
    "Now let's learn a bit more about classes!"
   ]
  },
  {
   "cell_type": "markdown",
   "metadata": {},
   "source": [
    "As we mentioned in the last lecture, instance variables are assigned outside of the class. But what if you wanted to prevent a specific instance variable from being modifable from outside of that class?"
   ]
  },
  {
   "cell_type": "markdown",
   "metadata": {},
   "source": [
    "## Public vs Private"
   ]
  },
  {
   "cell_type": "markdown",
   "metadata": {},
   "source": [
    "In python, you can change the status of an instance variable or method from being public (accessible outside of class) to private by using the underscore. In the Impact class, the instance variable class time is set to private."
   ]
  },
  {
   "cell_type": "code",
   "execution_count": 1,
   "metadata": {},
   "outputs": [],
   "source": [
    "class Impact:\n",
    "    def __init__(self, teammates):\n",
    "        self._teammates = teammates\n",
    "        \n",
    "impact1 = Impact(teammates = 3)\n",
    "# Because days is private, neither of these actions are possible\n",
    "# print(impact1.teammates)\n",
    "# impact1.teammates = 5"
   ]
  },
  {
   "cell_type": "markdown",
   "metadata": {},
   "source": [
    "Based off the above class, it may seem like you cannot do very much with a private variable. But by using the property call, you can make a private variable readable, but not writable:"
   ]
  },
  {
   "cell_type": "code",
   "execution_count": 2,
   "metadata": {},
   "outputs": [
    {
     "name": "stdout",
     "output_type": "stream",
     "text": [
      "2\n"
     ]
    }
   ],
   "source": [
    "class Impact:\n",
    "    def __init__(self, teammates):\n",
    "        self._teammates = teammates\n",
    "    \n",
    "    @property\n",
    "    def teammates(self):\n",
    "        return self._teammates\n",
    "    \n",
    "impact2 = Impact(teammates = 2)\n",
    "# Now that the variable is readable,\n",
    "print(impact2.teammates)\n",
    "# But the value cannot be written over\n",
    "# impact2.days = 3"
   ]
  },
  {
   "cell_type": "markdown",
   "metadata": {},
   "source": [
    "The value of the private instance variable can be altered from the inside of the class:"
   ]
  },
  {
   "cell_type": "code",
   "execution_count": 3,
   "metadata": {},
   "outputs": [
    {
     "name": "stdout",
     "output_type": "stream",
     "text": [
      "2\n",
      "Now there are 3 ChangeMakers!\n",
      "3\n"
     ]
    }
   ],
   "source": [
    "class Impact:\n",
    "    def __init__(self, teammates):\n",
    "        self._teammates = teammates\n",
    "    \n",
    "    @property\n",
    "    def teammates(self):\n",
    "        return self._teammates\n",
    "    \n",
    "    def more_teammates(self):\n",
    "        self._teammates = self._teammates + 1\n",
    "        print(\"Now there are {} ChangeMakers!\".format(self.teammates))\n",
    "    \n",
    "impact2 = Impact(teammates = 2)\n",
    "\n",
    "print(impact2.teammates)\n",
    "\n",
    "impact2.more_teammates()\n",
    "\n",
    "print(impact2.teammates)"
   ]
  },
  {
   "cell_type": "markdown",
   "metadata": {},
   "source": [
    "## Inheritance"
   ]
  },
  {
   "cell_type": "markdown",
   "metadata": {},
   "source": [
    "Inheritance is a means of forming a new class while using a previous class as a base. With inheritance, once a class takes in a different class as a parameter, the new class absorbs all of the variables and methods of the other class."
   ]
  },
  {
   "cell_type": "code",
   "execution_count": 4,
   "metadata": {},
   "outputs": [],
   "source": [
    "class Mammal:\n",
    "    def greet(self):\n",
    "        print('Hello, I am a mammal')\n",
    "\n",
    "    def speak(self):\n",
    "        print('Animals can speak?')\n",
    "\n",
    "\n",
    "class Dog(Mammal):\n",
    "    def wag(self):\n",
    "        print('Wag tail!')\n",
    "\n",
    "\n",
    "class Cat(Mammal):\n",
    "    def sleep(self):\n",
    "        return 'Sleep'"
   ]
  },
  {
   "cell_type": "markdown",
   "metadata": {},
   "source": [
    "Now, the methods and variables of the Mammal class, the base class, are attributed to the Dog and Cat class."
   ]
  },
  {
   "cell_type": "code",
   "execution_count": 5,
   "metadata": {},
   "outputs": [
    {
     "name": "stdout",
     "output_type": "stream",
     "text": [
      "Hello, I am a mammal\n",
      "Animals can speak?\n"
     ]
    }
   ],
   "source": [
    "dreamer = Dog()\n",
    "\n",
    "aspirer = Cat()\n",
    "\n",
    "dreamer.greet()\n",
    "aspirer.speak()"
   ]
  },
  {
   "cell_type": "markdown",
   "metadata": {},
   "source": [
    "To modify any of the methods within the base class, just redefine that function within the new class."
   ]
  },
  {
   "cell_type": "code",
   "execution_count": 6,
   "metadata": {},
   "outputs": [],
   "source": [
    "class Dog(Mammal):\n",
    "    def wag(self):\n",
    "        print('Wag tail!')\n",
    "    def speak(self): # .speak is being redefined from the inherited Mammal class\n",
    "        print('Woof!')\n",
    "\n",
    "class Cat(Mammal):\n",
    "    def sleep(self): # .speak is being redefined from the inherited Mammal class\n",
    "        return 'Sleep'\n",
    "    def speak(self):\n",
    "        print('Meow!')"
   ]
  },
  {
   "cell_type": "code",
   "execution_count": 7,
   "metadata": {},
   "outputs": [
    {
     "name": "stdout",
     "output_type": "stream",
     "text": [
      "Woof!\n",
      "Meow!\n"
     ]
    }
   ],
   "source": [
    "dreamer = Dog()\n",
    "\n",
    "aspirer = Cat()\n",
    "\n",
    "dreamer.speak()\n",
    "aspirer.speak()"
   ]
  },
  {
   "cell_type": "markdown",
   "metadata": {},
   "source": [
    "### Exercise 1"
   ]
  },
  {
   "cell_type": "code",
   "execution_count": 8,
   "metadata": {},
   "outputs": [],
   "source": [
    "class Class1:\n",
    "    def method1(self):\n",
    "        return self.method2()\n",
    "\n",
    "    def method2(self):\n",
    "        return 'A'\n",
    "\n",
    "class Class2 (Class1):\n",
    "    def method2(self):\n",
    "        return 'B'\n",
    "\n",
    "instance1 = Class1()\n",
    "\n",
    "instance2 = Class2()"
   ]
  },
  {
   "cell_type": "markdown",
   "metadata": {},
   "source": [
    "What will be the output of the following print statements?"
   ]
  },
  {
   "cell_type": "code",
   "execution_count": 9,
   "metadata": {},
   "outputs": [],
   "source": [
    "# print (instance1.method1())\n",
    "# print (instance2.method1())\n",
    "# print (instance1.method2())\n",
    "# print (instance2.method2())"
   ]
  },
  {
   "cell_type": "markdown",
   "metadata": {},
   "source": [
    "## Polymorphism"
   ]
  },
  {
   "cell_type": "markdown",
   "metadata": {},
   "source": [
    "Polymorphism is a means by which multiple classes share a method with the same name even though they may take in different objects."
   ]
  },
  {
   "cell_type": "code",
   "execution_count": 10,
   "metadata": {},
   "outputs": [],
   "source": [
    "class Dog:\n",
    "    def wag(self):\n",
    "        print('Wag tail!')\n",
    "    def speak(self): # .speak is being redefined from the inherited Mammal class\n",
    "        print('Woof!')\n",
    "\n",
    "class Cat:\n",
    "    def sleep(self): # .speak is being redefined from the inherited Mammal class\n",
    "        return 'Sleep'\n",
    "    def speak(self):\n",
    "        print('Meow!')"
   ]
  },
  {
   "cell_type": "code",
   "execution_count": 11,
   "metadata": {},
   "outputs": [
    {
     "name": "stdout",
     "output_type": "stream",
     "text": [
      "Meow!\n",
      "Woof!\n"
     ]
    }
   ],
   "source": [
    "dreamer = Dog()\n",
    "\n",
    "aspirer = Cat()\n",
    "\n",
    "for pet in [aspirer,dreamer]:\n",
    "    pet.speak()"
   ]
  },
  {
   "cell_type": "markdown",
   "metadata": {},
   "source": [
    "As seen above, polymorphism allows us to pass in different object types into loops and functions and obtain object specific results."
   ]
  },
  {
   "cell_type": "markdown",
   "metadata": {},
   "source": [
    "### Exercise 2"
   ]
  },
  {
   "cell_type": "code",
   "execution_count": 12,
   "metadata": {},
   "outputs": [],
   "source": [
    "\n",
    "class Dog:\n",
    "    def wag(self):\n",
    "        print('Wag tail!')\n",
    "    def speak(self):\n",
    "        print('Woof!')\n",
    "\n",
    "class Cat:\n",
    "    def sleep(self): \n",
    "        return 'Sleep'\n",
    "    def speak(self):\n",
    "        print('Meow!')\n",
    "    "
   ]
  },
  {
   "cell_type": "markdown",
   "metadata": {},
   "source": [
    "Define a polymorphic function called talk that takes in an object and calls that object with its .speak method. "
   ]
  },
  {
   "cell_type": "code",
   "execution_count": 13,
   "metadata": {},
   "outputs": [],
   "source": [
    "# talk(dreamer) -> 'Woof!'\n",
    "# talk(aspirer) -> 'Meow!'"
   ]
  },
  {
   "cell_type": "markdown",
   "metadata": {},
   "source": [
    "## Other Special Methods"
   ]
  },
  {
   "cell_type": "markdown",
   "metadata": {},
   "source": [
    "In the last lecture, we learned about the special method __ str__, which allows us to create a string representation our class. <br><br>A similar special exist for giving the length of a class, __ len__, and for deleting a class, __ del__."
   ]
  },
  {
   "cell_type": "code",
   "execution_count": 14,
   "metadata": {},
   "outputs": [],
   "source": [
    "class Impact:\n",
    "    def __init__(self,project, category, days):\n",
    "        self.project = project\n",
    "        self.category = category\n",
    "        self.days = days\n",
    "        \n",
    "    def __str__(self):\n",
    "        return \"Project name: %s, type: %s, duration: %s days\" %(self.project, self.category, self.days)\n",
    "    \n",
    "    def __len__(self):\n",
    "        return self.days\n",
    "    \n",
    "    def __del__(self):\n",
    "        print(\"Project: %s is completed!\" %(self.project))\n",
    "    "
   ]
  },
  {
   "cell_type": "code",
   "execution_count": 15,
   "metadata": {},
   "outputs": [
    {
     "name": "stdout",
     "output_type": "stream",
     "text": [
      "Project name: Go Green, type: Environmental, duration: 14 days\n",
      "14\n",
      "Project: Go Green is completed!\n"
     ]
    }
   ],
   "source": [
    "greenhouse = Impact(\"Go Green\", \"Environmental\",14)\n",
    "\n",
    "print(greenhouse)\n",
    "print(len(greenhouse))\n",
    "del greenhouse"
   ]
  },
  {
   "cell_type": "markdown",
   "metadata": {},
   "source": [
    "### Homework"
   ]
  },
  {
   "cell_type": "markdown",
   "metadata": {},
   "source": [
    "Comment your code so everybody understands it!"
   ]
  }
 ],
 "metadata": {
  "kernelspec": {
   "display_name": "Python 3",
   "language": "python",
   "name": "python3"
  },
  "language_info": {
   "codemirror_mode": {
    "name": "ipython",
    "version": 3
   },
   "file_extension": ".py",
   "mimetype": "text/x-python",
   "name": "python",
   "nbconvert_exporter": "python",
   "pygments_lexer": "ipython3",
   "version": "3.7.3"
  }
 },
 "nbformat": 4,
 "nbformat_minor": 2
}

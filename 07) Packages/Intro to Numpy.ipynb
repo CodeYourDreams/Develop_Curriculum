{
 "cells": [
  {
   "cell_type": "markdown",
   "metadata": {},
   "source": [
    "# NumPy "
   ]
  },
  {
   "cell_type": "markdown",
   "metadata": {},
   "source": [
    "A package in python that is very important and a workhorse for data analysis "
   ]
  },
  {
   "cell_type": "markdown",
   "metadata": {},
   "source": [
    "Several other packages rely on NumPy for function, including the Pandas package (which we will get to!)"
   ]
  },
  {
   "cell_type": "markdown",
   "metadata": {},
   "source": [
    "One important feature of NumPy is its work with arrays!"
   ]
  },
  {
   "cell_type": "code",
   "execution_count": null,
   "metadata": {},
   "outputs": [],
   "source": [
    "import numpy as np \n",
    "#Gives the package the alias np\n",
    "\n",
    "#Create arrays by giving the array function a list\n",
    "mylist = [1, 2, 3]\n",
    "myarray = np.array[mylist]"
   ]
  },
  {
   "cell_type": "markdown",
   "metadata": {},
   "source": [
    "There are other functions from the package that initialize every value in an array to a specific value, all you have to do is specify array size"
   ]
  },
  {
   "cell_type": "code",
   "execution_count": null,
   "metadata": {},
   "outputs": [],
   "source": [
    "#An array consisting of all zeros, [0, 0, 0]:\n",
    "zeros_array = np.zeros(3)\n",
    "\n",
    "#An array consisting of all ones, [1, 1, 1]:\n",
    "ones_array = np.ones(3)\n",
    "\n",
    "#An array of random floats less than 1, [0.3056.., 0.7654.., 0.1234..]\n",
    "random_array = np.random.random(3)"
   ]
  },
  {
   "cell_type": "markdown",
   "metadata": {},
   "source": [
    "## Arithemetic "
   ]
  },
  {
   "cell_type": "markdown",
   "metadata": {},
   "source": [
    "![SegmentLocal](https://media.giphy.com/media/c7PcKQlOqZ8Ws/200.gif \"segemt\")"
   ]
  },
  {
   "cell_type": "markdown",
   "metadata": {},
   "source": [
    "Adding two arrays is as simple as adding two numbers!"
   ]
  },
  {
   "cell_type": "code",
   "execution_count": null,
   "metadata": {},
   "outputs": [],
   "source": [
    "first = np.array([1, 2, 3])\n",
    "\n",
    "second = np.ones(3)\n",
    "\n",
    "third = first + second\n",
    "#third will just be the indexes added together: [2, 3, 4]"
   ]
  },
  {
   "cell_type": "markdown",
   "metadata": {},
   "source": [
    "This works the same with subtraction, multiplication, and division"
   ]
  },
  {
   "cell_type": "markdown",
   "metadata": {},
   "source": [
    "Try multiplying an array by a single number! This is called broadcasting"
   ]
  },
  {
   "cell_type": "code",
   "execution_count": null,
   "metadata": {},
   "outputs": [],
   "source": [
    "myarray = np.array([1, 2, 3])\n",
    "\n",
    "newarray = myarray*4\n",
    "#newarray will be myarray with every index multiplied by 4: [4, 8, 12]"
   ]
  },
  {
   "cell_type": "markdown",
   "metadata": {},
   "source": [
    "## Indexing "
   ]
  },
  {
   "cell_type": "markdown",
   "metadata": {},
   "source": [
    "We can get certain parts of an array the same way you get certain parts of a list"
   ]
  },
  {
   "cell_type": "code",
   "execution_count": null,
   "metadata": {},
   "outputs": [],
   "source": [
    "myarray = np.array([1, 2, 3])\n",
    "\n",
    "myarray[0] \n",
    "# What would this be?\n",
    "\n",
    "myarray[1:]\n",
    "#What about this?\n",
    "\n",
    "myarray[0:2]\n",
    "#And this?"
   ]
  },
  {
   "cell_type": "markdown",
   "metadata": {},
   "source": [
    "## Helpful Functions!!"
   ]
  },
  {
   "cell_type": "code",
   "execution_count": null,
   "metadata": {},
   "outputs": [],
   "source": [
    "my_array = np.array([2, 4, 6, 8])\n",
    "\n",
    "my_max = my_array.max()"
   ]
  },
  {
   "cell_type": "markdown",
   "metadata": {},
   "source": [
    "This function gives you the maximum value in the array, so my_max = 8"
   ]
  },
  {
   "cell_type": "code",
   "execution_count": null,
   "metadata": {},
   "outputs": [],
   "source": [
    "my_min = my_array.min()"
   ]
  },
  {
   "cell_type": "markdown",
   "metadata": {},
   "source": [
    "This function gives you the minimum value in the array, so my_min = 2"
   ]
  },
  {
   "cell_type": "code",
   "execution_count": null,
   "metadata": {},
   "outputs": [],
   "source": [
    "my_sum = my_array.sum()"
   ]
  },
  {
   "cell_type": "markdown",
   "metadata": {},
   "source": [
    "This function gives you the sum of the values in the array, so my_sum = 20 "
   ]
  },
  {
   "cell_type": "code",
   "execution_count": null,
   "metadata": {},
   "outputs": [],
   "source": [
    "my_mean = my_array.mean()"
   ]
  },
  {
   "cell_type": "markdown",
   "metadata": {},
   "source": [
    "This function gives you the mean of the values in the array, so my_mean = 5"
   ]
  },
  {
   "cell_type": "code",
   "execution_count": null,
   "metadata": {},
   "outputs": [],
   "source": [
    "my_product = my_array.prod() "
   ]
  },
  {
   "cell_type": "markdown",
   "metadata": {},
   "source": [
    "This function gives you the product of the values in the array, so my_product = 432"
   ]
  },
  {
   "cell_type": "markdown",
   "metadata": {},
   "source": [
    "# Multiple Dimensions"
   ]
  },
  {
   "cell_type": "markdown",
   "metadata": {},
   "source": [
    "![SegmentLocal](https://media1.tenor.com/images/e5c21d98f56c4af119b4e14b6a9df893/tenor.gif?itemid=5437241 \"segment\")"
   ]
  },
  {
   "cell_type": "markdown",
   "metadata": {},
   "source": [
    "NumPy can do everything above in multiple dimensions, with matrices "
   ]
  },
  {
   "cell_type": "code",
   "execution_count": null,
   "metadata": {},
   "outputs": [],
   "source": [
    "#Creating a matrix!\n",
    "my_matrix = np.array([[1,2], [3, 4]])\n",
    "\n",
    "ones_matrix = np.ones(3, 2)\n",
    "#3 rows, 2 columns "
   ]
  },
  {
   "cell_type": "markdown",
   "metadata": {},
   "source": [
    "Indexing works the same for each individual dimension, you just need to seperate by commas!"
   ]
  },
  {
   "cell_type": "code",
   "execution_count": null,
   "metadata": {},
   "outputs": [],
   "source": [
    "data = np.array([ [1, 2, 3, 4]\n",
    "                  [5, 6, 7, 8]\n",
    "                  [9, 0, 2, 4]\n",
    "                  [6, 8, 3, 5] ])\n",
    "\n",
    "data[0, 3]\n",
    "#This would be the value in row 0, column 3, which is 3 \n",
    "\n",
    "data[1:3]\n",
    "#this would be the submatrix that includes row 1 and row 2, and all columns \n",
    "\n",
    "data[1:3, 0]\n",
    "#This would be a sub matrix that includes row 1 and row 2, and only column 0"
   ]
  },
  {
   "cell_type": "markdown",
   "metadata": {},
   "source": [
    "The helpful functions for arrays also apply to matrices"
   ]
  },
  {
   "cell_type": "markdown",
   "metadata": {},
   "source": [
    "You can use some of them in new ways as well!"
   ]
  },
  {
   "cell_type": "code",
   "execution_count": null,
   "metadata": {},
   "outputs": [],
   "source": [
    "data_max = data.max()\n",
    "#This would work the same as with arrays, giving you the largest element in the matrix, 9"
   ]
  },
  {
   "cell_type": "markdown",
   "metadata": {},
   "source": [
    "With .max(), you can now give it a parameter, the axis, that tells it to find the max in each row or each column "
   ]
  },
  {
   "cell_type": "code",
   "execution_count": null,
   "metadata": {},
   "outputs": [],
   "source": [
    "data_max0 = data.max(axis = 0)\n",
    "#This would give you the max in each column, in an array\n",
    "\n",
    "data_max1 = data.max(axis = 1)\n",
    "#This would give you the max in each row, in an array"
   ]
  },
  {
   "cell_type": "markdown",
   "metadata": {},
   "source": [
    "## Reshaping "
   ]
  },
  {
   "cell_type": "markdown",
   "metadata": {},
   "source": [
    "You can reshape your matrix in several different ways"
   ]
  },
  {
   "cell_type": "markdown",
   "metadata": {},
   "source": [
    "The first useful way is transposing your matrix, so that it becomes flipped. The value in data(2, 3) would become the value in data(3, 2)\n",
    "You do this by calling the T(): "
   ]
  },
  {
   "cell_type": "code",
   "execution_count": null,
   "metadata": {},
   "outputs": [],
   "source": [
    "data.T()"
   ]
  },
  {
   "cell_type": "markdown",
   "metadata": {},
   "source": [
    "There is also a reshape function, and in the parameters you specify the parameters you want to make your matrix into:"
   ]
  },
  {
   "cell_type": "code",
   "execution_count": null,
   "metadata": {},
   "outputs": [],
   "source": [
    "data.reshape(8, 2)\n",
    "#Would make it from 4 rows and 4 columns to 8 rows and 2 columns "
   ]
  },
  {
   "cell_type": "markdown",
   "metadata": {},
   "source": [
    "## Uses!! "
   ]
  },
  {
   "cell_type": "markdown",
   "metadata": {},
   "source": [
    "NumPy package has many important uses for writing and fixing python code, here are a few examples"
   ]
  },
  {
   "cell_type": "markdown",
   "metadata": {},
   "source": [
    "### Formulas "
   ]
  },
  {
   "cell_type": "markdown",
   "metadata": {},
   "source": [
    "Some formulas for problem solving with data can be long and complicated, but NumPy has many of the inner working of the equation as prewritten functions, such as squaring a number, and finding the sum!!"
   ]
  },
  {
   "cell_type": "markdown",
   "metadata": {},
   "source": [
    "### Data Representation "
   ]
  },
  {
   "cell_type": "markdown",
   "metadata": {},
   "source": [
    "Many pieces of data are well suited to be represented by an array or matrix of some size, and then you have all the NumPy tools you've learned at your disposal! "
   ]
  }
 ],
 "metadata": {
  "kernelspec": {
   "display_name": "Python 3",
   "language": "python",
   "name": "python3"
  },
  "language_info": {
   "codemirror_mode": {
    "name": "ipython",
    "version": 3
   },
   "file_extension": ".py",
   "mimetype": "text/x-python",
   "name": "python",
   "nbconvert_exporter": "python",
   "pygments_lexer": "ipython3",
   "version": "3.7.3"
  }
 },
 "nbformat": 4,
 "nbformat_minor": 2
}

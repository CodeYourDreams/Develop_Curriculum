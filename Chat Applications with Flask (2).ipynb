{
 "cells": [
  {
   "cell_type": "markdown",
   "metadata": {},
   "source": [
    "# Chat Applications with Flask!"
   ]
  },
  {
   "cell_type": "markdown",
   "metadata": {},
   "source": [
    "If you are looking to include a message or text interactive component to your application, you're in the right place!\n",
    "\n",
    "#### First, make sure you have installed flask. If not simply type this into your prompt environment:"
   ]
  },
  {
   "cell_type": "code",
   "execution_count": null,
   "metadata": {},
   "outputs": [],
   "source": [
    "pip install flask"
   ]
  },
  {
   "cell_type": "code",
   "execution_count": null,
   "metadata": {},
   "outputs": [],
   "source": [
    "# when coding in your python file, access Flask with the following:\n",
    "from flask import Flask"
   ]
  },
  {
   "cell_type": "markdown",
   "metadata": {},
   "source": [
    "## What is SocketIO?\n",
    "\n",
    "Using this, you can make sure any browser will be able to connect to your application. \n",
    "\n",
    "It establishes a path through which one computer can interact with another. \n",
    "\n",
    "If socket is open, then the communication gates are as well. "
   ]
  },
  {
   "cell_type": "code",
   "execution_count": null,
   "metadata": {},
   "outputs": [],
   "source": [
    "# to install this extension:\n",
    "pip install flask-socketio\n",
    "\n",
    "# to import SocketIO from flask_socketio module:\n",
    "from flask_socketio import SocketIO"
   ]
  },
  {
   "cell_type": "markdown",
   "metadata": {},
   "source": [
    "## Here is a video that will walk you through the use of SocketIO\n",
    "### Follow along in your IDE!\n",
    "[Creating a Chat App with Flask-SocketIO](https://www.youtube.com/watch?v=RdSrkkrj3l4)"
   ]
  },
  {
   "cell_type": "markdown",
   "metadata": {},
   "source": [
    "# Let's go over what you just watched"
   ]
  },
  {
   "cell_type": "code",
   "execution_count": null,
   "metadata": {},
   "outputs": [],
   "source": [
    "# What does the following code mean?\n",
    "\n",
    "@app.route('/')\n",
    "def sessions():\n",
    "    return render_template('session.html')"
   ]
  },
  {
   "cell_type": "markdown",
   "metadata": {},
   "source": [
    "answer: \n",
    "\n",
    "(When the user visits your home page [indicated by the single slash '/'] it triggers the sessions view you made.)\n"
   ]
  },
  {
   "cell_type": "markdown",
   "metadata": {},
   "source": [
    "How do you add another page to your site?\n",
    "\n",
    "a) make a new app with flask and connect them\n",
    "\n",
    "b) use @app.route() with your new extension inside parens\n",
    "\n",
    "c) use @app.route('/')\n",
    "\n"
   ]
  },
  {
   "cell_type": "code",
   "execution_count": null,
   "metadata": {},
   "outputs": [],
   "source": [
    "# b!! whatever you put in the parentheses of @app.route is the url connecting the pages of your app"
   ]
  },
  {
   "cell_type": "code",
   "execution_count": null,
   "metadata": {},
   "outputs": [],
   "source": [
    "# What URL do you use for your application home?"
   ]
  },
  {
   "cell_type": "markdown",
   "metadata": {},
   "source": [
    "### ??\n",
    "Integrating SocketJS in Flask templates:\n",
    "\n",
    "<script src=\"https://ajax.googleapis.com/ajax/libs/jquery/1.12.4/jquery.min.js\"></script>\n",
    "\n",
    "<script src=\"https://cdnjs.cloudflare.com/ajax/libs/socket.io/1.7.3/socket.io.min.js\"></script>\n",
    "   \n",
    "   URL is http://127.0.0.1:5000"
   ]
  },
  {
   "cell_type": "markdown",
   "metadata": {},
   "source": [
    "![cheatsheet flask](https://user-images.githubusercontent.com/51918954/61265757-587b9c00-a757-11e9-94b1-d6a1dac002b1.png)"
   ]
  },
  {
   "cell_type": "markdown",
   "metadata": {},
   "source": [
    "# Some code from the video explained:"
   ]
  },
  {
   "cell_type": "markdown",
   "metadata": {},
   "source": [
    "![Screenshot (43)](https://user-images.githubusercontent.com/51918954/61336905-cc21b580-a7f8-11e9-973f-dd2dce47ed8a.jpg)"
   ]
  },
  {
   "cell_type": "code",
   "execution_count": null,
   "metadata": {},
   "outputs": [],
   "source": [
    "# can also substitute the following into the code above:\n",
    "\n",
    "# to connect to your server (for web apps)\n",
    "var socket = io.connect('http://' + document.domain + ':' + location.port);\n"
   ]
  },
  {
   "cell_type": "markdown",
   "metadata": {},
   "source": [
    "![Screenshot (44)](https://user-images.githubusercontent.com/51918954/61336931-e78cc080-a7f8-11e9-9157-92df3bfe1bf5.jpg)\n"
   ]
  },
  {
   "cell_type": "markdown",
   "metadata": {},
   "source": [
    "![gif_url](https://media1.tenor.com/images/1243bae19fb26d6e16da59ccf7f5472d/tenor.gif?itemid=13432724 \"gif\")"
   ]
  },
  {
   "cell_type": "markdown",
   "metadata": {},
   "source": [
    "# What a chat app may look like\n",
    "By running the application above using the command\n",
    "\n",
    "$ python main.py (or whatever you named your python file)\n",
    "\n",
    "the following are examples of what may be displayed. "
   ]
  },
  {
   "cell_type": "markdown",
   "metadata": {},
   "source": [
    "<img src=https://miro.medium.com/max/875/1*UdGRjC2Ba9m8Zjm3SJKMNQ.png width=\"600\">"
   ]
  },
  {
   "cell_type": "markdown",
   "metadata": {},
   "source": [
    "<img src=https://miro.medium.com/max/875/1*H1EVRvj8Onk8kz0azN4xDg.png width=\"600\">"
   ]
  },
  {
   "cell_type": "markdown",
   "metadata": {},
   "source": [
    "## Example code from the chat app pictured above\n",
    "credit:\n",
    "[chat app codeburst.io](https://codeburst.io/building-your-first-chat-application-using-flask-in-7-minutes-f98de4adfa5d)"
   ]
  },
  {
   "cell_type": "code",
   "execution_count": null,
   "metadata": {},
   "outputs": [],
   "source": [
    "<!DOCTYPE html>\n",
    "  <html lang=\"en\">\n",
    "  <head>\n",
    "    <title>Flask_Chat_App</title>\n",
    "  </head>\n",
    "  <body>\n",
    "\n",
    "    <h3 style='color: #ccc;font-size: 30px;'>No message yet..</h3> # header 3 styled for when Chat is first opened. \n",
    "    <div class=\"message_holder\"></div>\n",
    "\n",
    "    <form action=\"\" method=\"POST\">\n",
    "      <input type=\"text\" class=\"username\" placeholder=\"User Name\"/> # asks for username input\n",
    "      <input type=\"text\" class=\"message\" placeholder=\"Messages\"/> # asks for message input\n",
    "      <input type=\"submit\"/> # submit button\n",
    "    </form>\n",
    "    \n",
    "\n",
    "    <!-- jQuery (necessary for Bootstrap's JavaScript plugins) -->\n",
    "                 \n",
    "    <script src=\"https://ajax.googleapis.com/ajax/libs/jquery/1.12.4/jquery.min.js\"></script>\n",
    "    <script src=\"https://cdnjs.cloudflare.com/ajax/libs/socket.io/1.7.3/socket.io.min.js\"></script>\n",
    "    <script type=\"text/javascript\">\n",
    "      var socket = io.connect('http://' + document.domain + ':' + location.port);\n",
    "                  \n",
    "                 \n",
    "    socket.on( 'connect', function() {  # when socket is turned on, chat begins to connect user\n",
    "        socket.emit( 'my event', {\n",
    "          data: 'User Connected'\n",
    "        } )\n",
    "        var form = $( 'form' ).on( 'submit', function( e ) { # submit form when button is clicked\n",
    "          e.preventDefault()\n",
    "          let user_name = $( 'input.username' ).val() # resets messages to default when previous messages are sent\n",
    "          let user_input = $( 'input.message' ).val()\n",
    "          socket.emit( 'my event', {\n",
    "            user_name : user_name,\n",
    "            message : user_input\n",
    "          } )\n",
    "          $( 'input.message' ).val( '' ).focus()\n",
    "        } )\n",
    "      } )\n",
    "      socket.on( 'my response', function( msg ) {\n",
    "        console.log( msg )\n",
    "        if( typeof msg.user_name !== 'undefined' ) {\n",
    "          $( 'h3' ).remove()\n",
    "          $( 'div.message_holder' ).append( '<div><b style=\"color: #000\">'+msg.user_name+'</b> '+msg.message+'</div>' )\n",
    "        }\n",
    "      })\n",
    "    </script>\n",
    "\n",
    "  </body>\n",
    "  </html>"
   ]
  },
  {
   "cell_type": "markdown",
   "metadata": {},
   "source": [
    "## Helpful Tips\n",
    "1. python main.py (or whatever you named your python file) in terminal or command prompt. \n",
    "\n",
    "2. then, go to url http://127.0.0.1:5000/ or whatever pops up in your terminal/cp\n",
    "\n",
    "3. check the outputs to make sure you code is doing what you want it to. \n",
    "\n",
    "4. make sure to be in right environment in order for this to work"
   ]
  }
 ],
 "metadata": {
  "kernelspec": {
   "display_name": "Python 3",
   "language": "python",
   "name": "python3"
  },
  "language_info": {
   "codemirror_mode": {
    "name": "ipython",
    "version": 3
   },
   "file_extension": ".py",
   "mimetype": "text/x-python",
   "name": "python",
   "nbconvert_exporter": "python",
   "pygments_lexer": "ipython3",
   "version": "3.7.3"
  }
 },
 "nbformat": 4,
 "nbformat_minor": 2
}

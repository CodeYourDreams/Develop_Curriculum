{
 "cells": [
  {
   "cell_type": "markdown",
   "metadata": {},
   "source": [
    "# Intro to Databases:  Lesson 2"
   ]
  },
  {
   "cell_type": "markdown",
   "metadata": {},
   "source": [
    "## Setup\n",
    "\n",
    "This lesson builds on Lesson 1.  You should execute the steps in the Lesson 1 notebook before beginning Lesson 2.  We also recommend you execute the following steps before the class begins."
   ]
  },
  {
   "cell_type": "markdown",
   "metadata": {},
   "source": [
    "### Install PyMongo\n",
    "\n",
    "PyMongo is a Python distribution containing tools for working with MongoDB, and is the recommended way to work with MongoDB from Python. The installation will take a couple of minutes. You can learn more about PyMongo in the [official documentation](http://bit.ly/cyd-pymongo)."
   ]
  },
  {
   "cell_type": "code",
   "execution_count": 1,
   "metadata": {},
   "outputs": [
    {
     "name": "stdout",
     "output_type": "stream",
     "text": [
      "Collecting package metadata (repodata.json): done\n",
      "Solving environment: done\n",
      "\n",
      "# All requested packages already installed.\n",
      "\n",
      "\n",
      "Note: you may need to restart the kernel to use updated packages.\n"
     ]
    }
   ],
   "source": [
    "conda install pymongo"
   ]
  },
  {
   "cell_type": "markdown",
   "metadata": {},
   "source": [
    "### Install dnspython\n",
    "\n",
    "[dnspython](http://bit.ly/cyd-dnspython) is a DNS toolkit for Python. You will need dnspython in order to successfully use your Atlas connection string. The installation will take a couple of minutes."
   ]
  },
  {
   "cell_type": "code",
   "execution_count": 2,
   "metadata": {},
   "outputs": [
    {
     "name": "stdout",
     "output_type": "stream",
     "text": [
      "Collecting package metadata (repodata.json): done\n",
      "Solving environment: done\n",
      "\n",
      "# All requested packages already installed.\n",
      "\n",
      "\n",
      "Note: you may need to restart the kernel to use updated packages.\n"
     ]
    }
   ],
   "source": [
    "conda install dnspython"
   ]
  },
  {
   "cell_type": "markdown",
   "metadata": {},
   "source": [
    "### Restart the kernel\n",
    "\n",
    "After installing PyMongo and dnspython, you will likely need to restart your kenrel.  You can do so in Jupyter Lab by selecting **Kernel > Restart Kernel...** and clicking **Restart**."
   ]
  },
  {
   "cell_type": "markdown",
   "metadata": {},
   "source": [
    "### Connect to your demo cluster\n",
    "\n",
    "Now we are ready to setup a connection to your demo cluster.  \n",
    "1. Navigate to [Atlas](http://bit.ly/cyd-atlas-login).\n",
    "1. In the CONTEXT menu in the upper-left, select your Demo project.\n",
    "1. Click **Clusters** in the left navigation pane.\n",
    "1. In the right pane, open your cluster by clicking **Cluster0**.\n",
    "1. Click the **CONNECT** button on the right side of the page. A **Connect to Cluster 0** dialog appears.\n",
    "1. Click **Connect Your Application**.\n",
    "1. In the **Choose your driver version** step, select **Python** as your driver and **3.6 or later** as your version.\n",
    "1. In the **Connection String Only** section, click **Copy**.\n",
    "1. Paste the connection string in the code below.\n",
    "1. Replace `<password>` with a valid password in the connection string you just pasted.\n",
    "1. Run the code below in order to connect to your database and execute a simple query. If information about a shipwreck is displayed, you are successfully connected.  Note that the output you receive may not be identical to the output shown below, which is fine.  If no output is displayed, check that your cluster has a database named `ShipInfo` that contains a collection named `shipwrecks` that contains the shipwreck sample data.  "
   ]
  },
  {
   "cell_type": "code",
   "execution_count": 2,
   "metadata": {},
   "outputs": [
    {
     "data": {
      "text/plain": [
       "{'_id': ObjectId('578f6fa2df35c7fbdbaed8c4'),\n",
       " 'recrd': '',\n",
       " 'vesslterms': '',\n",
       " 'feature_type': 'Wrecks - Visible',\n",
       " 'chart': 'US,U1,graph,DNC H1409860',\n",
       " 'latdec': 9.3547792,\n",
       " 'londec': -79.9081268,\n",
       " 'gp_quality': '',\n",
       " 'depth': '',\n",
       " 'sounding_type': '',\n",
       " 'history': '',\n",
       " 'quasou': '',\n",
       " 'watlev': 'always dry',\n",
       " 'coordinates': [-79.9081268, 9.3547792]}"
      ]
     },
     "execution_count": 2,
     "metadata": {},
     "output_type": "execute_result"
    }
   ],
   "source": [
    "import pymongo\n",
    "from pymongo import MongoClient\n",
    "\n",
    "client = pymongo.MongoClient(\"PASTE-YOUR-CONNECTION-STRING-HERE\")\n",
    "\n",
    "db = client.ShipInfo\n",
    "shipwrecks = db.shipwrecks\n",
    "shipwrecks.find_one()"
   ]
  },
  {
   "cell_type": "markdown",
   "metadata": {},
   "source": [
    "### Setup MongoDB Charts\n",
    "\n",
    "At the end of this lesson, you will give a brief demo of MongoDB Charts.  MongoDB Charts is a tool to create visual representations of your MongoDB data. The following steps will walk you through what you need to setup ahead of time.\n",
    "\n",
    "#### Open MongoDB Charts\n",
    "1. Open a new tab in your browser.\n",
    "1. Navigate to [Atlas](http://bit.ly/cyd-atlas-login).\n",
    "1. If prompted, authenticate.\n",
    "1. In the Context menu in the upper-left corner, select your Demo project.\n",
    "1. In the left menu, click **Charts**. \n",
    "1. If prompted, click **Activate MongoDB Charts**.  MongoDB Charts will open.\n",
    "\n",
    "#### Add a Data Source\n",
    "A Data Source is a reference to a MongoDB collection that contains the data you wish to visualize.\n",
    "1. In the top menu, click **Data Sources**.\n",
    "1. Click **New Data Source**.\n",
    "1. Select your Demo project and click **Connect**.\n",
    "1. When prompted to choose a collection, select the checkbox on the **ShipInfo** row and click **Set Permissions**.\n",
    "1. Click **Publish Data Source**.\n",
    "\n",
    "#### Create a Dashboard\n",
    "A dashboard is a place where you can display one or more charts.\n",
    "1. In the top menu, click **Dashboards**.\n",
    "1. Click **New Dashboard**.\n",
    "1. Leave the default title and description for your dashboard and click **Create**.\n",
    "\n",
    "#### Navigate back to Atlas\n",
    "1. In the upper-left corner, click **< Atlas** to navigate back to Atlas.\n",
    "\n",
    "Now you're ready to demo MongoDB Charts!\n"
   ]
  },
  {
   "cell_type": "markdown",
   "metadata": {},
   "source": [
    "## Lesson: CRUD Operations Demo\n",
    "\n",
    "This portion of the lesson is intended to be executed live in front of the students.  For each query, talk through what is happening, execute it, and explain the results.  Talking points are included.  You can share this notebook with students so they can use it as a reference later.  Encourage students to use the MongoDB documentation to learn more about writing queries.\n",
    "\n",
    "If you're comfortable live coding, we recommend using the steps below as a reference and working in a blank notebook so students don't become distracted by all of the explanatory text.  \n",
    "\n",
    "You can mention to students that they can also perform the CRUD operations in Atlas (navigate to your cluster and then click the Collections tab) or in Compass.  We are going to focus on writing queries using the MongoDB Query Language as that is what you will need to do if you want to interact with your data from your application.\n",
    "\n",
    "### Create\n",
    "\n",
    "The first thing you'll likely want to do is create data in your database.  We can do this with an [insert_one](http://bit.ly/cyd-insert-one) or [insert_many](http://bit.ly/cyd-insert-many) operation. \n",
    "\n",
    "Let's say we want to create data about a new shipwreck.  We can choose to insert as much or as little data about the shipwreck as we'd like.\n",
    "\n",
    "Note that MongoDB requires every document to contain a unique `_id`.  If you don't include an id in the document, MongoDB will create one for you.  The id will be returned as part of the results of `insert_one`.  Note that id of the document you insert will likely not match the id listed in the current output below."
   ]
  },
  {
   "cell_type": "code",
   "execution_count": 3,
   "metadata": {},
   "outputs": [
    {
     "name": "stdout",
     "output_type": "stream",
     "text": [
      "The id of the document is 5d408cd64bef3475dd57b123\n"
     ]
    }
   ],
   "source": [
    "# Create a Python dictionary for the new document we want to create\n",
    "new_shipwreck = {\n",
    "    'feature_type': 'Wrecks - Submerged, dangerous',\n",
    "    'latdec': 41.878113,\n",
    "    'londec': -86.929799,\n",
    "    'name': 'A glorious crash',\n",
    "    'coordinates': [-86.929799, 41.878113]\n",
    "}\n",
    "\n",
    "# Insert our new shipwreck into our collection\n",
    "results = shipwrecks.insert_one(new_shipwreck)\n",
    "\n",
    "# Print the new document's _id, which MongoDB automatically created for us\n",
    "print(\"The id of the document is \" + str(results.inserted_id))"
   ]
  },
  {
   "cell_type": "markdown",
   "metadata": {},
   "source": [
    "## Read\n",
    "\n",
    "Now that we have inserted a document, let's read it from the database.  We'll use [find_one](http://bit.ly/cyd-find-one) to retrieve one document from our shipwrecks collection that meets our query critera.  Let's search for the document we just created by using its _id.\n",
    "\n",
    "The document that is returned when you execute `find_one` should be identical to the document shown in the current output below except for the _id."
   ]
  },
  {
   "cell_type": "code",
   "execution_count": 4,
   "metadata": {},
   "outputs": [
    {
     "data": {
      "text/plain": [
       "{'_id': ObjectId('5d408cd64bef3475dd57b123'),\n",
       " 'feature_type': 'Wrecks - Submerged, dangerous',\n",
       " 'latdec': 41.878113,\n",
       " 'londec': -86.929799,\n",
       " 'name': 'A glorious crash',\n",
       " 'coordinates': [-86.929799, 41.878113]}"
      ]
     },
     "execution_count": 4,
     "metadata": {},
     "output_type": "execute_result"
    }
   ],
   "source": [
    "from bson.objectid import ObjectId\n",
    "\n",
    "shipwrecks.find_one({'_id': ObjectId('PASTE-THE-DOCUMENT-ID-HERE')})"
   ]
  },
  {
   "cell_type": "markdown",
   "metadata": {},
   "source": [
    "We successfully retrieved the documented we just created from our database!\n",
    "\n",
    "Now, let's use `find_one` to search for one document in our shipwrecks collection that has the name we used in our `new_shipwreck` dictionary. The document that is returned when you execute `find_one` should be identical to the document shown in the current output below except for the _id."
   ]
  },
  {
   "cell_type": "code",
   "execution_count": 5,
   "metadata": {},
   "outputs": [
    {
     "data": {
      "text/plain": [
       "{'_id': ObjectId('5d408cd64bef3475dd57b123'),\n",
       " 'feature_type': 'Wrecks - Submerged, dangerous',\n",
       " 'latdec': 41.878113,\n",
       " 'londec': -86.929799,\n",
       " 'name': 'A glorious crash',\n",
       " 'coordinates': [-86.929799, 41.878113]}"
      ]
     },
     "execution_count": 5,
     "metadata": {},
     "output_type": "execute_result"
    }
   ],
   "source": [
    "shipwrecks.find_one({'name': 'A glorious crash'})"
   ]
  },
  {
   "cell_type": "markdown",
   "metadata": {},
   "source": [
    "Let's say we want to search for all shipwrecks that occurred in the northern hemisphere.  We can use [find](http://bit.ly/cyd-find) to search for all documents in our shipwrecks collection that have a `latdec` greater than 0.  We'll use the `$gt` comparison query operator to search for numbers greater than 0.  See http://bit.ly/cyd-query-comparison for more comparison query operators."
   ]
  },
  {
   "cell_type": "code",
   "execution_count": 6,
   "metadata": {},
   "outputs": [
    {
     "name": "stdout",
     "output_type": "stream",
     "text": [
      "Our collection contains 11081 shipwrecks in the northern hemisphere.\n",
      "\n",
      "{'_id': ObjectId('578f6fa2df35c7fbdbaed8c4'),\n",
      " 'chart': 'US,U1,graph,DNC H1409860',\n",
      " 'coordinates': [-79.9081268, 9.3547792],\n",
      " 'depth': '',\n",
      " 'feature_type': 'Wrecks - Visible',\n",
      " 'gp_quality': '',\n",
      " 'history': '',\n",
      " 'latdec': 9.3547792,\n",
      " 'londec': -79.9081268,\n",
      " 'quasou': '',\n",
      " 'recrd': '',\n",
      " 'sounding_type': '',\n",
      " 'vesslterms': '',\n",
      " 'watlev': 'always dry'}\n",
      "{'_id': ObjectId('578f6fa2df35c7fbdbaed8c5'),\n",
      " 'chart': 'US,U1,graph,DNC H1409860',\n",
      " 'coordinates': [-79.9357223, 9.3340302],\n",
      " 'depth': '',\n",
      " 'feature_type': 'Wrecks - Visible',\n",
      " 'gp_quality': '',\n",
      " 'history': '',\n",
      " 'latdec': 9.3340302,\n",
      " 'londec': -79.9357223,\n",
      " 'quasou': '',\n",
      " 'recrd': '',\n",
      " 'sounding_type': '',\n",
      " 'vesslterms': '',\n",
      " 'watlev': 'always dry'}\n",
      "{'_id': ObjectId('578f6fa2df35c7fbdbaed8c6'),\n",
      " 'chart': 'US,U1,graph,DNC H1409860',\n",
      " 'coordinates': [-79.9074173, 9.3560572],\n",
      " 'depth': '',\n",
      " 'feature_type': 'Wrecks - Submerged, dangerous',\n",
      " 'gp_quality': '',\n",
      " 'history': '',\n",
      " 'latdec': 9.3560572,\n",
      " 'londec': -79.9074173,\n",
      " 'quasou': 'depth unknown',\n",
      " 'recrd': '',\n",
      " 'sounding_type': '',\n",
      " 'vesslterms': '',\n",
      " 'watlev': 'always under water/submerged'}\n"
     ]
    }
   ],
   "source": [
    "import pprint\n",
    "\n",
    "print(\"Our collection contains \" + str(shipwrecks.count_documents({'latdec': {'$gt': 0}})) + \" shipwrecks in the northern hemisphere.\\n\")\n",
    "\n",
    "# We don't want to print all of those results, so let's print the first 3.\n",
    "for wreck in shipwrecks.find({'latdec': {'$gt': 0}}).limit(3):\n",
    "    pprint.pprint(wreck)\n"
   ]
  },
  {
   "cell_type": "markdown",
   "metadata": {},
   "source": [
    "You have the power to build complex queries to search for exactly what you need.  The queries above all have a single query parameter, but you can add multiple query parameters to your query if you'd like."
   ]
  },
  {
   "cell_type": "markdown",
   "metadata": {},
   "source": [
    "### Update\n",
    "\n",
    "You may find that you need to make changes to a document after it is in your database.  In this case, we'd use [update_one](http://bit.ly/cyd-update-one).  Let's update the document we inserted earlier.  `update_one` has two mandatory parameters.  First, you indicate the filter (query) that should be used to find the document to update.  Second, you indicate how the document should be updated.\n",
    "\n",
    "After we execute the update, let's search for a document with the name name `A horrible crash` by using `find_one`.  The document that is returned when you execute `find_one` should be identical to the document shown in the current output below except for the _id."
   ]
  },
  {
   "cell_type": "code",
   "execution_count": 8,
   "metadata": {},
   "outputs": [
    {
     "name": "stdout",
     "output_type": "stream",
     "text": [
      "0 document was updated\n"
     ]
    },
    {
     "data": {
      "text/plain": [
       "{'_id': ObjectId('5d408cd64bef3475dd57b123'),\n",
       " 'feature_type': 'Wrecks - Visible',\n",
       " 'latdec': 41.878113,\n",
       " 'londec': -86.929799,\n",
       " 'name': 'A horrible crash',\n",
       " 'coordinates': [-86.929799, 41.878113]}"
      ]
     },
     "execution_count": 8,
     "metadata": {},
     "output_type": "execute_result"
    }
   ],
   "source": [
    "result = shipwrecks.update_one( {'name': 'A glorious crash'}, {'$set': {'feature_type': 'Wrecks - Visible', 'name': 'A horrible crash'}} )\n",
    "\n",
    "print(str(result.modified_count) + \" document was updated\")\n",
    "\n",
    "# Search for a document with the new name\n",
    "shipwrecks.find_one({'name': 'A horrible crash'})"
   ]
  },
  {
   "cell_type": "markdown",
   "metadata": {},
   "source": [
    "We can also update many documents at a time using [update_many](http://bit.ly/cyd-update-many). Let's update documents in the northern hemisphere so they have a new field indicating their hemisphere."
   ]
  },
  {
   "cell_type": "code",
   "execution_count": 9,
   "metadata": {},
   "outputs": [
    {
     "name": "stdout",
     "output_type": "stream",
     "text": [
      "11081 documents were updated.\n",
      "\n",
      "{'_id': ObjectId('578f6fa2df35c7fbdbaed8c4'),\n",
      " 'chart': 'US,U1,graph,DNC H1409860',\n",
      " 'coordinates': [-79.9081268, 9.3547792],\n",
      " 'depth': '',\n",
      " 'feature_type': 'Wrecks - Visible',\n",
      " 'gp_quality': '',\n",
      " 'hemisphere': 'northern',\n",
      " 'history': '',\n",
      " 'latdec': 9.3547792,\n",
      " 'londec': -79.9081268,\n",
      " 'quasou': '',\n",
      " 'recrd': '',\n",
      " 'sounding_type': '',\n",
      " 'vesslterms': '',\n",
      " 'watlev': 'always dry'}\n",
      "{'_id': ObjectId('578f6fa2df35c7fbdbaed8c5'),\n",
      " 'chart': 'US,U1,graph,DNC H1409860',\n",
      " 'coordinates': [-79.9357223, 9.3340302],\n",
      " 'depth': '',\n",
      " 'feature_type': 'Wrecks - Visible',\n",
      " 'gp_quality': '',\n",
      " 'hemisphere': 'northern',\n",
      " 'history': '',\n",
      " 'latdec': 9.3340302,\n",
      " 'londec': -79.9357223,\n",
      " 'quasou': '',\n",
      " 'recrd': '',\n",
      " 'sounding_type': '',\n",
      " 'vesslterms': '',\n",
      " 'watlev': 'always dry'}\n",
      "{'_id': ObjectId('578f6fa2df35c7fbdbaed8c6'),\n",
      " 'chart': 'US,U1,graph,DNC H1409860',\n",
      " 'coordinates': [-79.9074173, 9.3560572],\n",
      " 'depth': '',\n",
      " 'feature_type': 'Wrecks - Submerged, dangerous',\n",
      " 'gp_quality': '',\n",
      " 'hemisphere': 'northern',\n",
      " 'history': '',\n",
      " 'latdec': 9.3560572,\n",
      " 'londec': -79.9074173,\n",
      " 'quasou': 'depth unknown',\n",
      " 'recrd': '',\n",
      " 'sounding_type': '',\n",
      " 'vesslterms': '',\n",
      " 'watlev': 'always under water/submerged'}\n"
     ]
    }
   ],
   "source": [
    "result = shipwrecks.update_many( {'latdec': {'$gt': 0}}, {'$set': {'hemisphere': 'northern'} } )\n",
    "\n",
    "print(str(result.modified_count) + \" documents were updated.\\n\")\n",
    "\n",
    "# Let's print 3 of the updated docs, so we can see the updates\n",
    "for wreck in shipwrecks.find({'latdec': {'$gt': 0}}).limit(3):\n",
    "    pprint.pprint(wreck)"
   ]
  },
  {
   "cell_type": "markdown",
   "metadata": {},
   "source": [
    "The examples above use the `$set` Update Operator to indicate what fields should be set in the docs to be udpated.  See the [official documentation](http://bit.ly/cyd-docs-update) for a list of all Update Operators."
   ]
  },
  {
   "cell_type": "markdown",
   "metadata": {},
   "source": [
    "### Delete\n",
    "\n",
    "You may also need to delete documents.  You can use [delete_one](http://bit.ly/cyd-delete-one) or [delete_many](http://bit.ly/cyd-delete-many).  These functions behave similarly to the ones we have already used, so we'll only show an example of `delete_one` today.  \n",
    "\n",
    "Let's delete the document with the name 'A horrible crash'."
   ]
  },
  {
   "cell_type": "code",
   "execution_count": 10,
   "metadata": {},
   "outputs": [
    {
     "name": "stdout",
     "output_type": "stream",
     "text": [
      "1 document was deleted\n"
     ]
    }
   ],
   "source": [
    "result = shipwrecks.delete_one( {'name': 'A horrible crash'} )\n",
    "print(str(result.deleted_count) + \" document was deleted\")"
   ]
  },
  {
   "cell_type": "markdown",
   "metadata": {},
   "source": [
    "## Lesson: MongoDB Charts Demo\n",
    "\n",
    "This portion of the lesson is intended to be executed live in front of the students.  The steps below will walk you through the demo.  Talking points are included in *italics*.\n",
    "\n",
    "1. Open your browser and find the tab that is displaying Atlas.\n",
    "1. In the left menu, click **Charts**. *MongoDB Charts is a tool to create visual representations of your MongoDB data. You might use Charts if you want to display data from your apps to your stakeholders.  You might also use Charts to display data inside of your app itself.*\n",
    "1. *As you can see, I've already created a dashboard named My Dashboard.  A dashboard is a place where you can display one or more charts.  This dashboard is empty, so let's open it and add a chart.*\n",
    "1. Click **My Dashboard**.\n",
    "\n",
    "### Create a Map of the Shipwrecks\n",
    "1. Click **Add Chart**.\n",
    "1. *The first thing we need to do is choose what data we want to visualize. Let's say we want to see a map of shipwrecks where only the distributed remains are still available.  We also want to be able to see at a glance the history of the wreck.*\n",
    "1. In the **Choose a Data Source** selection box, select **ShipInfo.shipwrecks**. *Now we can see a list of fields I can choose to use in my chart.  Let's begin by creating a visualization of where the shipwrecks occurred.*\n",
    "1. In the Chart Type selection box, choose **Geospatial** and then click **Scatter**.\n",
    "1. Drag **coordinates** from the Fields pane and drop it on the **Coordinates** section of the Encode pane. *Now we can see a map of the shipwrecks. This chart type only supports 1,000 documents, so we'll filter some of the results in a moment.*\n",
    "1. Drag **history** from the Fields pane and drop it on the **Color** section of the Encode pane. *Let's give our users a visual indicator of the wreck feature types.*\n",
    "1. Click the **Filter** tab.  \n",
    "1. Drag **feature_type** from the Fields pane and drop it on the **Chart Filters** section of the **Filter** pane.  \n",
    "1. **Deselect All** of the boxes in the Chart Filters.\n",
    "1. Select the checkbox beside **distributed remains of wreck**. *Now we can see a nice visualization of the shipwrecks. We have limited our results to only display shipwrecks where the feature type is distributed reamins of wreck.*\n",
    "1. Above the map, click **Enter a title for your chart**, input **Map of wrecks with distributed remains**, and click the checkbox. *Let's give our map a title.*\n",
    "1. *Now that we have a nice visualization, let's save it.* In the upper-left corner, click **Save and Close**.\n",
    "1. *We want our dashboard to look nice, so let's adjust the size of the chart.* Drag the bottom-right corner of the chart to make it bigger.\n",
    "\n",
    "### Chart the Wreck Types\n",
    "1. *Let's create a different type of visualization.  Let's say we want to see what wreck types are the most popular.*\n",
    "1. Click **Add Chart**.\n",
    "1. In the **Choose a Data Source** selection box, select **ShipInfo.shipwrecks**. *Once again, we need to select our data source. If we had multiple collections, we could select a different data source here.*\n",
    "1. In the Chart Type selection box, choose **Circular**.\n",
    "1. Drag **feature_type** from the Fields pane and drop it on the **Label** section of the Encode pane. \n",
    "1. Drag **feature_type** from the Fields pane and drop it on the **Arc** section of the Encode pane. *Now we can see a nice visualization of the shipwrecks.*\n",
    "1. Above the map, hover your mouse over **Enter a title for your chart**, click the Pencil button that appears, input **Types of Wrecks**, and click the Checkmark button. *Let's give our map a title.* \n",
    "1. *Now that we have a nice visualization, let's save it.* In the upper-left corner, click **Save and Close**.\n",
    "1. Adjust the size of the chart if you'd like.\n",
    "\n",
    "*Now we have two charts on our dashboard.  We could add several more charts to this dashboard if we'd like.  We could then share this dashboard with our project stakeholders so they could easily see what is happening in the app.*\n",
    "\n",
    "### Embed the Wreck Types Chart\n",
    "\n",
    "*In addition to sharing the dashboard, I may want to display the chart in my app or on a webpage like a blog.  Today, I'll show you how to embed a chart in a Jupyter Notebook.*\n",
    "\n",
    "1. In your MongoDB Charts dashboard, hover over the Types of Wrecks chart, click the Options button (**...**) in the upper-right corner of the chart, and select **Embed Chart**.\n",
    "1. *Some data is private and you will only want certain users to be able to view it.  MongoDB Charts has authentication options to help you keep your data secure. In this case, our data is not private, so I'm going to enable unauthenticated access.* Click **Enable embedding options**.\n",
    "1. Switch the **Enable external embedding for charts that use this data source** option to **ON**.\n",
    "1. Choose the **Unauthenticated or Verified Signature** option.\n",
    "1. Click **Go Back**.\n",
    "1. Switch **Enable unauthenticated access** to **ON**. \n",
    "1. Copy the entire src url from inside the EMBED CODE. You should not copy the quotations. For example, the src url you copy should look something like `https://charts.mongodb.com/charts-team1-ximow/embed/charts?id=69fa82ce-d97f-4dc1-bc9b-404f8af7db6b&tenant=50e4d10e-b0a9-4e28-8c62-02c61b58f69a`. *If I were going to embed this in a webpage, I could simply copy this entire code snippet and paste it into my webpage. Since I want to embed in a Jupyter Notebook, I'm going to do things a little differently. I'll copy the src url out of the embed code.*\n",
    "1. Inside of this Jupyter notebook, paste the url in the code snippet below and run it.\n",
    "\n",
    "*Let's talk about what I just did.  In only a few minutes, I've created a nice visualization of my data and displayed it externally.  I didn't have to do any programming to make that happen.  Keep this capability in mind as you build your apps.  It might save you a lot of time to use MongoDB Charts instead of manually programming visualizations.*\n"
   ]
  },
  {
   "cell_type": "code",
   "execution_count": null,
   "metadata": {},
   "outputs": [],
   "source": [
    "from IPython.display import IFrame    \n",
    "IFrame('PASTE-YOUR-SRC-URL-HERE', width=640, height=480)"
   ]
  }
 ],
 "metadata": {
  "kernelspec": {
   "display_name": "Python 3",
   "language": "python",
   "name": "python3"
  },
  "language_info": {
   "codemirror_mode": {
    "name": "ipython",
    "version": 3
   },
   "file_extension": ".py",
   "mimetype": "text/x-python",
   "name": "python",
   "nbconvert_exporter": "python",
   "pygments_lexer": "ipython3",
   "version": "3.7.3"
  }
 },
 "nbformat": 4,
 "nbformat_minor": 2
}

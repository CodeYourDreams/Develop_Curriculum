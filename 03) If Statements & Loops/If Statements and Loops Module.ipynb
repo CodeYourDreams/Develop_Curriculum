{
 "cells": [
  {
   "cell_type": "markdown",
   "metadata": {},
   "source": [
    "# If Statements and Loops\n",
    "\n",
    "By the end of this lesson, you will have learned how to use logical operators, conditional statements, and loops.\n",
    "\n",
    "## Comparison and Logic Operators\n",
    "\n",
    "Earlier in the course, we discussed booleans (`True` and `False`), and we discussed using _comparison operators_:"
   ]
  },
  {
   "cell_type": "code",
   "execution_count": 11,
   "metadata": {},
   "outputs": [
    {
     "name": "stdout",
     "output_type": "stream",
     "text": [
      "Does a equal b? False\n",
      "Is b greater than a? True\n"
     ]
    }
   ],
   "source": [
    "a = 10\n",
    "b = 20\n",
    "\n",
    "print(\"Does a equal b?\", a==b)\n",
    "print(\"Is b greater than a?\", b>a)"
   ]
  },
  {
   "cell_type": "markdown",
   "metadata": {},
   "source": [
    "Here are some common comparison operators:\n",
    "\n",
    "- Less than `<`\n",
    "- Greater than `>`\n",
    "- Equal to `==` (Remember that one equal sign `=` assigns a value to a variable!)\n",
    "- Less than or equal to `<=`\n",
    "- Greater than or equal to `>=`\n",
    "\n",
    "These _comparison operators_ lets us compare multiple values to each other. When writing programs, we often want to check whether something is true or compare two things together. The comparison operators evaluate to `True` or `False` instead of values like numbers or strings. For example, if we were writing a grocery cart app, it would be handy to know if there are items in the user's cart:"
   ]
  },
  {
   "cell_type": "code",
   "execution_count": 12,
   "metadata": {},
   "outputs": [
    {
     "name": "stdout",
     "output_type": "stream",
     "text": [
      "Does your cart have items? True\n"
     ]
    }
   ],
   "source": [
    "# Let's say our cart has one apple and one banana in it\n",
    "items_in_cart = 2\n",
    "\n",
    "print(\"Does your cart have items?\", items_in_cart>0)"
   ]
  },
  {
   "cell_type": "markdown",
   "metadata": {},
   "source": [
    "_Logical operators_ allow us to compare multiple `True` or `False` values together. These `True` or `False` values are also known as boolean values.\n",
    "\n",
    "Here are some common logical operators:\n",
    "\n",
    "- `and`: Both values must be `True` to make the final result `True`\n",
    "- `or`: Only one of the values must be `True` to make the final result `True`\n",
    "- `not`: The final result is the opposite of the original value\n",
    "\n",
    "Let's try some examples with our grocery cart app:\n"
   ]
  },
  {
   "cell_type": "code",
   "execution_count": 13,
   "metadata": {
    "scrolled": true
   },
   "outputs": [
    {
     "name": "stdout",
     "output_type": "stream",
     "text": [
      "Do you have apples and oranges?\n"
     ]
    },
    {
     "data": {
      "text/plain": [
       "True"
      ]
     },
     "execution_count": 13,
     "metadata": {},
     "output_type": "execute_result"
    }
   ],
   "source": [
    "# Number of different items in our cart\n",
    "number_of_apples = 1\n",
    "number_of_oranges = 3\n",
    "number_of_carrots = 4\n",
    "number_of_tomatoes = 0\n",
    "\n",
    "print(\"Do you have apples and oranges?\")\n",
    "(number_of_apples > 0) and (number_of_oranges > 0)"
   ]
  },
  {
   "cell_type": "code",
   "execution_count": 14,
   "metadata": {},
   "outputs": [
    {
     "name": "stdout",
     "output_type": "stream",
     "text": [
      "Are there veggies in your cart?\n"
     ]
    },
    {
     "data": {
      "text/plain": [
       "True"
      ]
     },
     "execution_count": 14,
     "metadata": {},
     "output_type": "execute_result"
    }
   ],
   "source": [
    "print(\"Are there veggies in your cart?\")\n",
    "(number_of_carrots > 0) or (number_of_tomatoes > 0)"
   ]
  },
  {
   "cell_type": "code",
   "execution_count": 15,
   "metadata": {},
   "outputs": [
    {
     "name": "stdout",
     "output_type": "stream",
     "text": [
      "Do you have carrots?\n"
     ]
    },
    {
     "data": {
      "text/plain": [
       "True"
      ]
     },
     "execution_count": 15,
     "metadata": {},
     "output_type": "execute_result"
    }
   ],
   "source": [
    "print(\"Do you have carrots?\")\n",
    "number_of_carrots > 0"
   ]
  },
  {
   "cell_type": "code",
   "execution_count": 16,
   "metadata": {
    "scrolled": true
   },
   "outputs": [
    {
     "name": "stdout",
     "output_type": "stream",
     "text": [
      "Do you need carrots?\n"
     ]
    },
    {
     "data": {
      "text/plain": [
       "False"
      ]
     },
     "execution_count": 16,
     "metadata": {},
     "output_type": "execute_result"
    }
   ],
   "source": [
    "print(\"Do you need carrots?\")\n",
    "not (number_of_carrots > 0)"
   ]
  },
  {
   "cell_type": "markdown",
   "metadata": {},
   "source": [
    "Comparison operators and logical operators can be chained together to compare many different things at the same time.\n"
   ]
  },
  {
   "cell_type": "code",
   "execution_count": 17,
   "metadata": {},
   "outputs": [
    {
     "name": "stdout",
     "output_type": "stream",
     "text": [
      "Is everything you need in your cart?\n"
     ]
    },
    {
     "data": {
      "text/plain": [
       "False"
      ]
     },
     "execution_count": 17,
     "metadata": {},
     "output_type": "execute_result"
    }
   ],
   "source": [
    "print(\"Is everything you need in your cart?\")\n",
    "\n",
    "(number_of_apples > 0) and (number_of_oranges > 0) and (number_of_carrots > 0) and (number_of_tomatoes > 0)\n"
   ]
  },
  {
   "cell_type": "markdown",
   "metadata": {},
   "source": [
    "### Exercise\n",
    "\n",
    "Let's take another look at our grocery cart program. We want to look at the items that are in a user's cart and print helpful information about the cart to them. Finish the code below to print the right information:\n"
   ]
  },
  {
   "cell_type": "code",
   "execution_count": 18,
   "metadata": {},
   "outputs": [
    {
     "name": "stdout",
     "output_type": "stream",
     "text": [
      "Do you have milk?\n"
     ]
    },
    {
     "data": {
      "text/plain": [
       "True"
      ]
     },
     "execution_count": 18,
     "metadata": {},
     "output_type": "execute_result"
    }
   ],
   "source": [
    "# Number of each item in the cart\n",
    "cereal = 1\n",
    "apples = 0\n",
    "milk = 2\n",
    "strawberries = 0\n",
    "\n",
    "# Example\n",
    "print(\"Do you have milk?\")  # True\n",
    "milk > 0"
   ]
  },
  {
   "cell_type": "code",
   "execution_count": 19,
   "metadata": {},
   "outputs": [
    {
     "name": "stdout",
     "output_type": "stream",
     "text": [
      "Do you have more than 1 box of cereal?\n"
     ]
    }
   ],
   "source": [
    "print(\"Do you have more than 1 box of cereal?\")  # False\n",
    "# CODE HERE"
   ]
  },
  {
   "cell_type": "code",
   "execution_count": 20,
   "metadata": {},
   "outputs": [
    {
     "name": "stdout",
     "output_type": "stream",
     "text": [
      "Can you make cereal and milk tomorrow?\n"
     ]
    }
   ],
   "source": [
    "print(\"Can you make cereal and milk tomorrow?\")  # True\n",
    "# CODE HERE"
   ]
  },
  {
   "cell_type": "code",
   "execution_count": 21,
   "metadata": {},
   "outputs": [
    {
     "name": "stdout",
     "output_type": "stream",
     "text": [
      "Do you have any fruit?\n"
     ]
    }
   ],
   "source": [
    "print(\"Do you have any fruit?\")  # False\n",
    "# CODE HERE"
   ]
  },
  {
   "cell_type": "code",
   "execution_count": 22,
   "metadata": {},
   "outputs": [
    {
     "name": "stdout",
     "output_type": "stream",
     "text": [
      "Is there anything in your cart?\n"
     ]
    }
   ],
   "source": [
    "print(\"Is there anything in your cart?\")  # True\n",
    "# CODE HERE"
   ]
  },
  {
   "cell_type": "code",
   "execution_count": 23,
   "metadata": {},
   "outputs": [
    {
     "name": "stdout",
     "output_type": "stream",
     "text": [
      "Are you missing any items in your cart?\n"
     ]
    }
   ],
   "source": [
    "print(\"Are you missing any items in your cart?\") #  True\n",
    "# CODE HERE"
   ]
  },
  {
   "cell_type": "markdown",
   "metadata": {},
   "source": [
    "## Conditionals\n",
    "\n",
    "### If Statements\n",
    "\n",
    "Right now, our grocery cart program can only print `True` or `False`, which isn't very helpful. What if we only wanted to tell the user that their cart is empty, and we _don't_ want to tell them when their cart has items in it? An _if statement_ let us run parts (or blocks) of code when an expression is `True`:\n"
   ]
  },
  {
   "cell_type": "code",
   "execution_count": 24,
   "metadata": {},
   "outputs": [
    {
     "name": "stdout",
     "output_type": "stream",
     "text": [
      "The condition was true\n"
     ]
    }
   ],
   "source": [
    "if True:\n",
    "  print(\"The condition was true\")"
   ]
  },
  {
   "cell_type": "code",
   "execution_count": 26,
   "metadata": {},
   "outputs": [],
   "source": [
    "if False:\n",
    "  print(\"The condition was False, so this won't print\")"
   ]
  },
  {
   "cell_type": "markdown",
   "metadata": {},
   "source": [
    "Let's look at an example in our grocery cart program:"
   ]
  },
  {
   "cell_type": "code",
   "execution_count": 29,
   "metadata": {},
   "outputs": [
    {
     "name": "stdout",
     "output_type": "stream",
     "text": [
      "Your cart is empty! Add some items.\n"
     ]
    }
   ],
   "source": [
    "items_in_cart = 0\n",
    "\n",
    "if items_in_cart == 0:\n",
    "  # We could also use not(items_in_cart > 0) here\n",
    "  # There are many possibilities!\n",
    "  print(\"Your cart is empty! Add some items.\")\n"
   ]
  },
  {
   "cell_type": "code",
   "execution_count": 30,
   "metadata": {},
   "outputs": [],
   "source": [
    "if items_in_cart > 10:\n",
    "  # This won't print because items_in_cart isn't greater than 10\n",
    "  print(\"Your cart has too many items!\")\n"
   ]
  },
  {
   "cell_type": "markdown",
   "metadata": {},
   "source": [
    "### Exercise\n",
    "\n",
    "Now our grocery cart can choose when to tell a user something! Finish the _if statements_ below to print each sentence:\n"
   ]
  },
  {
   "cell_type": "code",
   "execution_count": null,
   "metadata": {},
   "outputs": [],
   "source": [
    "cereal = 1\n",
    "apples = 0\n",
    "milk = 2\n",
    "strawberries = 0\n",
    "\n",
    "# Example\n",
    "if milk > 0:\n",
    "  print(\"Your cart has milk\")\n"
   ]
  },
  {
   "cell_type": "code",
   "execution_count": null,
   "metadata": {},
   "outputs": [],
   "source": [
    "# Fill out the if statement below\n",
    "if :\n",
    "  print(\"Your cart has milk and cereal\")\n"
   ]
  },
  {
   "cell_type": "code",
   "execution_count": null,
   "metadata": {},
   "outputs": [],
   "source": [
    "# Fill out the if statement below\n",
    "if :\n",
    "  print(\"Your cart does not have fruit\")\n"
   ]
  },
  {
   "cell_type": "markdown",
   "metadata": {},
   "source": [
    "### Else Statements\n",
    "\n",
    "We can use an _else statements_ to add more possibilities to our grocery cart program. If an _if statement_ doesn't evaluate to True, the _else statement_ will be run instead.\n"
   ]
  },
  {
   "cell_type": "code",
   "execution_count": null,
   "metadata": {},
   "outputs": [],
   "source": [
    "condition = False\n",
    "\n",
    "if condition:\n",
    "  # Because condition is False, this won't print\n",
    "  print(\"Condition is True!\")\n",
    "else:\n",
    "  print(\"Condition is False, running else branch\")\n"
   ]
  },
  {
   "cell_type": "markdown",
   "metadata": {},
   "source": [
    "Let's look at an example in our grocery cart program:\n"
   ]
  },
  {
   "cell_type": "code",
   "execution_count": null,
   "metadata": {},
   "outputs": [],
   "source": [
    "# There are four apples in our cart\n",
    "apples = 4\n",
    "\n",
    "if apples == 0:\n",
    "  print(\"You still need to buy apples\")\n",
    "else:\n",
    "  print(\"There are apples in your cart\")\n"
   ]
  },
  {
   "cell_type": "markdown",
   "metadata": {},
   "source": [
    "### Elif Statements\n",
    "\n",
    "_If statements_ can be chained together using _else-if statements_. In Python, _else-if statements_ are named `elif`. If the _if statement_ is not True, the _else-if statements_ are evaluated in order from top to bottom:\n"
   ]
  },
  {
   "cell_type": "code",
   "execution_count": null,
   "metadata": {},
   "outputs": [],
   "source": [
    "# Change x and y to be other numbers to see how the result changes\n",
    "x = 3\n",
    "y = 2\n",
    "\n",
    "# Let's look at the variable x\n",
    "if x > 0:\n",
    "  print(\"x is positive\")\n",
    "elif x < 0:\n",
    "  print(\"x is negative\")\n",
    "else:\n",
    "  print(\"x is zero\")\n",
    "\n",
    "# Let's look at the variable y\n",
    "if y == 1:\n",
    "  print(\"y = 1\")\n",
    "elif y == 2:\n",
    "  print(\"y = 2\")\n",
    "elif y == 3:\n",
    "  print(\"y = 3\")\n",
    "elif y == 4:\n",
    "  print(\"y = 4\")\n",
    "elif y == 5:\n",
    "  print(\"y = 5\")\n",
    "else:\n",
    "  print(\"y is not between 1 and 5\")\n"
   ]
  },
  {
   "cell_type": "markdown",
   "metadata": {},
   "source": [
    "With our grocery cart program, we can now do different things when a user adds an item to their cart:\n"
   ]
  },
  {
   "cell_type": "code",
   "execution_count": null,
   "metadata": {},
   "outputs": [],
   "source": [
    "# Earlier, there were 4 oranges in the grocery cart\n",
    "# Modify this number to see what other outcomes can happen to the program\n",
    "oranges = 4\n",
    "\n",
    "# Now, the user has added another orange to the cart\n",
    "oranges = oranges + 1\n",
    "\n",
    "# Let's print some information for the user without looking at the exact\n",
    "# number of oranges they have\n",
    "if oranges == 0:\n",
    "  print(\"You don't have any oranges in your cart\")\n",
    "elif oranges > 10:\n",
    "  print(\"You have too many oranges!\")\n",
    "else:\n",
    "  print(\"You have oranges in your cart\")\n"
   ]
  },
  {
   "cell_type": "markdown",
   "metadata": {},
   "source": [
    "`if`, `elif`, and `else` statements can be _nested_, which means you can put statements inside of each other:\n"
   ]
  },
  {
   "cell_type": "code",
   "execution_count": null,
   "metadata": {},
   "outputs": [],
   "source": [
    "# Change this number to see what other outcomes can occur\n",
    "cars_on_road = 5\n",
    "\n",
    "if cars_on_road > 0:\n",
    "  if cars_on_road < 5:\n",
    "    print(\"There's a only a few cars on the road\")\n",
    "  elif cars_on_road > 10:\n",
    "    print(\"There are too many cars!\")\n",
    "  else:\n",
    "    print(\"There's some cars on the road\")\n",
    "else:\n",
    "  print(\"There are no nearby cars\")\n"
   ]
  },
  {
   "cell_type": "markdown",
   "metadata": {},
   "source": [
    "Logic statements using `if`, `elif`, and `else` can be written in many different ways but work the same way. For example, the above code block works the same as the below code block:\n"
   ]
  },
  {
   "cell_type": "code",
   "execution_count": null,
   "metadata": {},
   "outputs": [],
   "source": [
    "# Change cars_on_road in the block above and watch how both print the same statement every time\n",
    "\n",
    "if cars_on_road = 0:\n",
    "  print(\"There are no nearby cars\")\n",
    "elif cars_on_road > 10:\n",
    "  print(\"There are too many cars!\")\n",
    "elif cars_on_road < 5:\n",
    "  print(\"There's a only a few cars on the road\")\n",
    "else:\n",
    "  print(\"There's some cars on the road\")\n"
   ]
  },
  {
   "cell_type": "markdown",
   "metadata": {},
   "source": [
    "# While Loops"
   ]
  },
  {
   "cell_type": "markdown",
   "metadata": {},
   "source": [
    "Executing instructions as long as a condition remains true \n",
    "Important to update inside the while loop in order to avoid an infinite loop"
   ]
  },
  {
   "cell_type": "code",
   "execution_count": 14,
   "metadata": {},
   "outputs": [
    {
     "name": "stdout",
     "output_type": "stream",
     "text": [
      "8\n",
      "7\n",
      "6\n",
      "5\n",
      "4\n",
      "3\n",
      "2\n",
      "1\n"
     ]
    }
   ],
   "source": [
    "i = 8\n",
    "while(i > 0):\n",
    "    print(i)\n",
    "    i -= 1 ## The update in the loop, decrements i "
   ]
  },
  {
   "cell_type": "markdown",
   "metadata": {},
   "source": [
    "Continue and break statements work the same for while loops that they do in for loops "
   ]
  },
  {
   "cell_type": "code",
   "execution_count": 2,
   "metadata": {
    "scrolled": true
   },
   "outputs": [
    {
     "name": "stdout",
     "output_type": "stream",
     "text": [
      "0\n",
      "1\n",
      "2\n",
      "3\n",
      "4\n"
     ]
    }
   ],
   "source": [
    "num = 0\n",
    "while num in range(5):\n",
    "    print(num)\n",
    "    num += 1"
   ]
  },
  {
   "cell_type": "markdown",
   "metadata": {},
   "source": [
    "# for loops "
   ]
  },
  {
   "cell_type": "markdown",
   "metadata": {},
   "source": [
    "# Looping lists "
   ]
  },
  {
   "cell_type": "markdown",
   "metadata": {},
   "source": [
    "You can loop through a list by using \"in\" where the \"item\" (or what you choose to name it) will be set equal to each index in the list, and execute the code in the body of the loop on that index, until it reaches the end of the list. "
   ]
  },
  {
   "cell_type": "code",
   "execution_count": 4,
   "metadata": {},
   "outputs": [
    {
     "name": "stdout",
     "output_type": "stream",
     "text": [
      "1\n",
      "2\n",
      "3\n",
      "4\n",
      "Python\n",
      "is\n",
      "neat\n"
     ]
    }
   ],
   "source": [
    "my_list = [1, 2, 3, 4, 'Python', 'is', 'neat']\n",
    "for item in my_list:\n",
    "    print(item)"
   ]
  },
  {
   "cell_type": "markdown",
   "metadata": {},
   "source": [
    "# break "
   ]
  },
  {
   "cell_type": "markdown",
   "metadata": {},
   "source": [
    "a \"break\" statement stops the execution of the loop "
   ]
  },
  {
   "cell_type": "markdown",
   "metadata": {},
   "source": [
    "![SegmentLocal](https://media.giphy.com/media/TlNY7ob29c4Gk/giphy.gif \"segment\")"
   ]
  },
  {
   "cell_type": "code",
   "execution_count": 3,
   "metadata": {},
   "outputs": [
    {
     "name": "stdout",
     "output_type": "stream",
     "text": [
      "1\n",
      "2\n",
      "3\n",
      "4\n"
     ]
    }
   ],
   "source": [
    "my_list = [1, 2, 3, 4, 'Python', 'is', 'neat']\n",
    "for item in my_list:\n",
    "    if item == 'Python':\n",
    "        break\n",
    "    print(item)"
   ]
  },
  {
   "cell_type": "markdown",
   "metadata": {},
   "source": [
    "# continue"
   ]
  },
  {
   "cell_type": "markdown",
   "metadata": {},
   "source": [
    "continue to the next item without executing the lines occuring after continue inside the loop."
   ]
  },
  {
   "cell_type": "markdown",
   "metadata": {},
   "source": [
    "![SegmentLocal](https://media1.tenor.com/images/b8ff68ef7cc444a2c187955ae16e2759/tenor.gif?itemid=4814209 \"segment\")"
   ]
  },
  {
   "cell_type": "code",
   "execution_count": 2,
   "metadata": {},
   "outputs": [
    {
     "name": "stdout",
     "output_type": "stream",
     "text": [
      "2\n",
      "3\n",
      "4\n",
      "Python\n",
      "is\n",
      "neat\n"
     ]
    }
   ],
   "source": [
    "my_list = [1, 2, 3, 4, 'Python', 'is', 'neat']\n",
    "for item in my_list:\n",
    "    if item == 1:\n",
    "        continue\n",
    "    print(item)"
   ]
  },
  {
   "cell_type": "markdown",
   "metadata": {},
   "source": [
    "# enumerate()"
   ]
  },
  {
   "cell_type": "markdown",
   "metadata": {},
   "source": [
    "In case you need to also know the index:"
   ]
  },
  {
   "cell_type": "code",
   "execution_count": 5,
   "metadata": {},
   "outputs": [
    {
     "name": "stdout",
     "output_type": "stream",
     "text": [
      "idx: 0, value: 1\n",
      "idx: 1, value: 2\n",
      "idx: 2, value: 3\n",
      "idx: 3, value: 4\n",
      "idx: 4, value: Python\n",
      "idx: 5, value: is\n",
      "idx: 6, value: neat\n"
     ]
    }
   ],
   "source": [
    "my_list = [1, 2, 3, 4, 'Python', 'is', 'neat']\n",
    "for idx, val in enumerate(my_list):\n",
    "    print('idx: {}, value: {}' .format(idx, val))"
   ]
  },
  {
   "cell_type": "markdown",
   "metadata": {},
   "source": [
    "# Looping Dictionaries "
   ]
  },
  {
   "cell_type": "markdown",
   "metadata": {},
   "source": [
    "Looping a dictionary will set \"val\" equal to each value in the dictonary and execute the body of the loop on the value "
   ]
  },
  {
   "cell_type": "markdown",
   "metadata": {},
   "source": [
    "![SegmentLocal](https://media.giphy.com/media/l2Je66zG6mAAZxgqI/giphy.gif \"segment\")"
   ]
  },
  {
   "cell_type": "code",
   "execution_count": 7,
   "metadata": {},
   "outputs": [
    {
     "name": "stdout",
     "output_type": "stream",
     "text": [
      "hacker\n",
      "age\n",
      "name\n"
     ]
    }
   ],
   "source": [
    "my_dict = {'hacker': True, 'age': 72, 'name': 'John Doe'}\n",
    "for val in my_dict:\n",
    "    print(val)"
   ]
  },
  {
   "cell_type": "code",
   "execution_count": 10,
   "metadata": {},
   "outputs": [
    {
     "name": "stdout",
     "output_type": "stream",
     "text": [
      "hacker=True\n",
      "age=72\n",
      "name=John Doe\n"
     ]
    }
   ],
   "source": [
    "my_dict = {'hacker': True, 'age': 72, 'name': 'John Doe'}\n",
    "for key, val in my_dict.items():\n",
    "    print('{}={}'.format(key, val))"
   ]
  },
  {
   "cell_type": "markdown",
   "metadata": {},
   "source": [
    "# range()"
   ]
  },
  {
   "cell_type": "markdown",
   "metadata": {},
   "source": [
    "range() is used when looping through a certain number of items rather than a specifc struct "
   ]
  },
  {
   "cell_type": "code",
   "execution_count": 11,
   "metadata": {},
   "outputs": [
    {
     "name": "stdout",
     "output_type": "stream",
     "text": [
      "0\n",
      "1\n",
      "2\n",
      "3\n",
      "4\n"
     ]
    }
   ],
   "source": [
    "#starts at 0, goes till (but not including) 5\n",
    "for number in range(5):\n",
    "    print(number)"
   ]
  },
  {
   "cell_type": "code",
   "execution_count": 12,
   "metadata": {},
   "outputs": [
    {
     "name": "stdout",
     "output_type": "stream",
     "text": [
      "2\n",
      "3\n",
      "4\n"
     ]
    }
   ],
   "source": [
    "## Starts with 2, goes till (but not including) 5\n",
    "for number in range(2, 5):\n",
    "    print(number)"
   ]
  },
  {
   "cell_type": "code",
   "execution_count": 13,
   "metadata": {},
   "outputs": [
    {
     "name": "stdout",
     "output_type": "stream",
     "text": [
      "0\n",
      "2\n",
      "4\n",
      "6\n",
      "8\n"
     ]
    }
   ],
   "source": [
    "## Starts with 0, goes till (but not including) 10, has a step of 2 (skips 1, 3, etc)\n",
    "for number in range(0, 10, 2):\n",
    "    print(number)"
   ]
  },
  {
   "cell_type": "markdown",
   "metadata": {},
   "source": [
    "Credit: https://github.com/jerry-git/learn-python3"
   ]
  },
  {
   "cell_type": "markdown",
   "metadata": {},
   "source": [
    "# Exercise "
   ]
  },
  {
   "cell_type": "code",
   "execution_count": null,
   "metadata": {},
   "outputs": [],
   "source": [
    "List1 = [1, 2, 3, 4, 5, 6]\n",
    "## Make a loop that calculates the sum of all the items in List1\n",
    "\n"
   ]
  },
  {
   "cell_type": "markdown",
   "metadata": {},
   "source": [
    "# Homework "
   ]
  },
  {
   "cell_type": "markdown",
   "metadata": {},
   "source": [
    "Putting it all together "
   ]
  },
  {
   "cell_type": "code",
   "execution_count": null,
   "metadata": {},
   "outputs": [],
   "source": [
    "## A group of students is spending the day cleaning up liter in their town \n",
    "## The list below is the number of pieces of liter each student picked up \n",
    "## A student did below if they got less than 5, good if they picked up between 5 and 15 inclusive, \n",
    "## and great if they picked up more than 15\n",
    "## calculate the number in each of these catergories:\n",
    "List1 = [5, 12, 8, 2, 20, 13, 15, 3, 6, 18, 19, 14, 7, 1, 16]\n",
    "below = 0\n",
    "good = 0\n",
    "great = 0\n",
    "\n",
    "\n",
    "\n",
    "\n",
    "\n",
    "\n",
    "\n"
   ]
  }
 ],
 "metadata": {
  "kernelspec": {
   "display_name": "Python 3",
   "language": "python",
   "name": "python3"
  },
  "language_info": {
   "codemirror_mode": {
    "name": "ipython",
    "version": 3
   },
   "file_extension": ".py",
   "mimetype": "text/x-python",
   "name": "python",
   "nbconvert_exporter": "python",
   "pygments_lexer": "ipython3",
   "version": "3.7.1"
  }
 },
 "nbformat": 4,
 "nbformat_minor": 2
}

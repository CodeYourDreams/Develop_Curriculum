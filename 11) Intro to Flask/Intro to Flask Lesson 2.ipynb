{
 "cells": [
  {
   "cell_type": "markdown",
   "metadata": {},
   "source": [
    "# Intro to Flask: Lesson 2"
   ]
  },
  {
   "cell_type": "markdown",
   "metadata": {},
   "source": [
    "Now that we know how to add a route to our web application and serve an HTML file to the user (such as `return render_template('index.html')`), we can learn how to put variables in our `.html` files and create URLs for other pages.\n",
    "\n",
    "![SegmentLocal](https://media.giphy.com/media/d4zHnLjdy48Cc/giphy.gif \"segment\")\n",
    "\n",
    "## Templates\n",
    "\n",
    "Using Flask, we can pass variables from our Python code in `app.py` to template files, like our `index.py`. If we have a variable named `student_name`, we can insert the value of that variable in HTML using:\n",
    "\n",
    "```\n",
    "{{ student_name }}\n",
    "```\n",
    "\n",
    "This works for all sorts of python variables and structures, including strings, lists, dictionaries, and more. Let's create an example report card web app. Our index page will show the name of the school.\n",
    "\n",
    "When writing web applications, it's a good idea (a _best practice_) to separate the code from our views so that modifying one won't break the other. Variables are passed from the code (`app.py`) to the view (`index.html`) so that the view knows what to display. \n",
    "\n",
    "In our report card example, we might want to write an application that supports multiple schools, so having a `school_name` variable will allow us to use the same view for each school. Similarly, by passing student names and grades to the views using variables, we can use one signal `student.html` view to display the information for any student. \n",
    "\n",
    "Use the following code to tell our view `index.html` what school name to display:"
   ]
  },
  {
   "cell_type": "code",
   "execution_count": null,
   "metadata": {},
   "outputs": [],
   "source": [
    "# app.py\n",
    "from flask import Flask, render_template\n",
    "\n",
    "app = Flask(__name__)\n",
    "\n",
    "@app.route('/')\n",
    "def index():\n",
    "    school_name = \"Middleton High School\"\n",
    "    return render_template('index.html', school_name=school_name)\n",
    "\n",
    "if __name__ == '__main__':\n",
    "    app.run(debug=True)"
   ]
  },
  {
   "cell_type": "raw",
   "metadata": {},
   "source": [
    "<!-- index.html -->\n",
    "<!-- (Unlike Python, HTML comments use arrows) -->\n",
    "<!DOCTYPE html>\n",
    "<html lang=\"en\" dir=\"ltr\">\n",
    "    <head>\n",
    "        <meta charset=\"utf-8\">\n",
    "        <title></title>\n",
    "    </head>\n",
    "    <body>\n",
    "        <!-- The variable in the double brackets must be equal to what you used \n",
    "             in the python code, in this case my_variable -->\n",
    "        <h1>Welcome to {{ school_name }}</h1>\n",
    "    </body>\n",
    "</html>"
   ]
  },
  {
   "cell_type": "markdown",
   "metadata": {},
   "source": [
    "Run our Flask app with the following commands:\n",
    "\n",
    "```\n",
    "# Tell Flask which Python file is our app\n",
    "export FLASK_APP=app.py\n",
    "export FLASK_ENV=development\n",
    "\n",
    "# Run Flask\n",
    "flask run \n",
    "```\n",
    "\n",
    "And we'll see our `index.html` view with the correct high school name:\n",
    "\n",
    "![Index Page](img/lesson-2/welcome-index.png)"
   ]
  },
  {
   "cell_type": "markdown",
   "metadata": {},
   "source": [
    "Flask templates and variables inside the brackets `{{ }}` support all types of Python variables, such as lists, dicts and classes. Let's add a paragraph (a `<p>` element) to our index that displays the students at the school:"
   ]
  },
  {
   "cell_type": "code",
   "execution_count": null,
   "metadata": {},
   "outputs": [],
   "source": [
    "# app.py\n",
    "from flask import Flask, render_template\n",
    "\n",
    "app = Flask(__name__)\n",
    "\n",
    "# Keep a global set of students for our web app to keep track of\n",
    "students = ['Janet', 'Michael', 'Isabelle', 'Trish', 'Gabe']\n",
    "\n",
    "@app.route('/')\n",
    "def index():\n",
    "    school_name = \"Middleton High School\"\n",
    "    return render_template('index.html', school_name=school_name, students=students)\n",
    "\n",
    "if __name__ == '__main__':\n",
    "    app.run(debug=True, port=9874)"
   ]
  },
  {
   "cell_type": "markdown",
   "metadata": {},
   "source": [
    "<!-- index.html -->\n",
    "<!DOCTYPE html>\n",
    "<html lang=\"en\" dir=\"ltr\">\n",
    "    <head>\n",
    "        <meta charset=\"utf-8\">\n",
    "        <title></title>\n",
    "    </head>\n",
    "    <body>\n",
    "        <h1>Welcome to {{ school_name }}</h1>\n",
    "        <p>Students: {{ students }}</p>\n",
    "    </body>\n",
    "</html>"
   ]
  },
  {
   "cell_type": "markdown",
   "metadata": {},
   "source": [
    "![List of Students](img/lesson-2/list-students.png)"
   ]
  },
  {
   "cell_type": "markdown",
   "metadata": {},
   "source": [
    "### Control Flow!"
   ]
  },
  {
   "cell_type": "markdown",
   "metadata": {},
   "source": [
    "![SegmentLocal](https://media.tenor.com/images/e8f80414c8e4878b2b9633022a9adc17/tenor.gif \"segment\")"
   ]
  },
  {
   "cell_type": "markdown",
   "metadata": {},
   "source": [
    "Using templating, we also have access to control flow structures such as for loops and if statements!\n",
    "\n",
    "Templates also support control flow structures, such as `for` loops, `while` loops, and `if`/`elif`/`else` statements. These control flow structures use syntax `{% %}` rather than the variable syntax `{{ }}`.\n",
    "\n",
    "Our school web app should list the students in a more readable way. Let's update our `index.html` view template to use an unordered list `<ul>`, which means using bullet points for each list item `<li>`.\n",
    "\n",
    "Because we've separated our `index.html` view from our `app.py` logic, we only need to update the view to change how our students are listed:"
   ]
  },
  {
   "cell_type": "raw",
   "metadata": {},
   "source": [
    "<!-- index.html -->\n",
    "<!DOCTYPE html>\n",
    "<html lang=\"en\" dir=\"ltr\">\n",
    "    <head>\n",
    "        <meta charset=\"utf-8\">\n",
    "        <title></title>\n",
    "    </head>\n",
    "    <body>\n",
    "        <h1>Welcome to {{ school_name }}</h1>\n",
    "        <h3>Students</h3>\n",
    "        <ul>\n",
    "            {% for student in students %}\n",
    "            <li>{{ student }}</li>\n",
    "            <!-- With templates, you MUST end conditionals with endfor or endif -->\n",
    "            {% endfor %}\n",
    "        </ul>\n",
    "    </body>\n",
    "</html>\n"
   ]
  },
  {
   "cell_type": "markdown",
   "metadata": {},
   "source": [
    "Go to `http://localhost:5000` to test our new view!\n",
    "\n",
    "![Pretty Student List](img/lesson-2/bullet-list-students.png)"
   ]
  },
  {
   "cell_type": "markdown",
   "metadata": {},
   "source": [
    "Let's do an if statement example. We'll welcome Trish to the website:"
   ]
  },
  {
   "cell_type": "raw",
   "metadata": {},
   "source": [
    "<!-- index.html -->\n",
    "<!DOCTYPE html>\n",
    "<html lang=\"en\" dir=\"ltr\">\n",
    "    <head>\n",
    "        <meta charset=\"utf-8\">\n",
    "        <title></title>\n",
    "    </head>\n",
    "    <body>\n",
    "        <h1>Welcome to {{ school_name }}</h1>\n",
    "        <h3>Students</h3>\n",
    "        <ul>\n",
    "            {% for student in students %}\n",
    "            <li>\n",
    "                {{ student }}\n",
    "                {% if student == 'Trish' %}\n",
    "                Welcome Trish!\n",
    "                {% endif %}\n",
    "            </li>\n",
    "            <!-- With templates, you MUST end conditionals with endfor or endif -->\n",
    "            {% endfor %}\n",
    "        </ul>\n",
    "    </body>\n",
    "</html>"
   ]
  },
  {
   "cell_type": "markdown",
   "metadata": {},
   "source": [
    "![Welcome Trish](img/lesson-2/welcome-trish.png)\n",
    "\n",
    "## Inheritance\n",
    "\n",
    "![SegmentLocal](https://media2.giphy.com/media/eMb1k8QpUxXA4/giphy.gif \"segment\")"
   ]
  },
  {
   "cell_type": "markdown",
   "metadata": {},
   "source": [
    "Now that we can link our functions to an HTML template, we have to make one for every page. The problem here is that pages on web applications have a lot of the same features, a popular example being the navbar! A navbar, or navigation bar, is a group of links to parts of a website that are usually at the top of each page. To avoid having the same code in many spots, we can set up a `base.html` file that has the common features of your site! \n",
    "\n",
    "Each of our views, such as `index.html` or a `student.html`, will `extend` the `base.html` view by adding content. First let's add a base view named `base.html` in the `templates/` folder:"
   ]
  },
  {
   "cell_type": "raw",
   "metadata": {},
   "source": [
    "<!-- base.html -->\n",
    "<!DOCTYPE html>\n",
    "<html lang=\"en\" dir=\"ltr\">\n",
    "    <head>\n",
    "        <meta charset=\"utf-8\">\n",
    "        <title>My School App</title>\n",
    "    </head>\n",
    "    <body>\n",
    "        <!-- Other views will put their content here -->\n",
    "        {% block content %}\n",
    "\n",
    "        {% endblock %}\n",
    "    </body>\n",
    "</html>"
   ]
  },
  {
   "cell_type": "markdown",
   "metadata": {},
   "source": [
    "Then we update our `index.html` to extend from `base.html`:"
   ]
  },
  {
   "cell_type": "raw",
   "metadata": {},
   "source": [
    "<!-- index.html -->\n",
    "{% extends 'base.html' %}\n",
    "\n",
    "{% block content %}\n",
    "<h1>Welcome to {{ school_name }}</h1>\n",
    "<h3>Students</h3>\n",
    "<ul>\n",
    "    {% for student in students %}\n",
    "    <li>\n",
    "        {{ student }}\n",
    "        {% if student == 'Trish' %}\n",
    "        Welcome Trish!\n",
    "        {% endif %}\n",
    "    </li>\n",
    "    <!-- With templates, you MUST end conditionals with endfor or endif -->\n",
    "    {% endfor %}\n",
    "</ul>\n",
    "{% endblock %}"
   ]
  },
  {
   "cell_type": "markdown",
   "metadata": {},
   "source": [
    "Now we can add a `student.html` view in our `templates/` folder and a student route in `app.py` without needing to create an entire webpage!"
   ]
  },
  {
   "cell_type": "code",
   "execution_count": null,
   "metadata": {},
   "outputs": [],
   "source": [
    "# app.py\n",
    "from flask import Flask, render_template\n",
    "\n",
    "app = Flask(__name__)\n",
    "\n",
    "# Keep a global set of students for our web app to keep track of\n",
    "students = ['Janet', 'Michael', 'Isabelle', 'Trish', 'Gabe']\n",
    "\n",
    "@app.route('/')\n",
    "def index():\n",
    "    school_name = \"Middleton High School\"\n",
    "    return render_template('index.html', school_name=school_name, students=students)\n",
    "\n",
    "@app.route('/student/<name>')\n",
    "def student(name):\n",
    "    return render_template('student.html', student=name)\n",
    "\n",
    "if __name__ == '__main__':\n",
    "    app.run(debug=True, port=9874)"
   ]
  },
  {
   "cell_type": "raw",
   "metadata": {},
   "source": [
    "<!-- student.html -->\n",
    "{% extends 'base.html' %}\n",
    "\n",
    "{% block content %}\n",
    "<h1>Hello, {{ student }}</h1>\n",
    "{% endblock %}"
   ]
  },
  {
   "cell_type": "markdown",
   "metadata": {},
   "source": [
    "![Hello Student View](img/lesson-2/hello-nicky.png)"
   ]
  },
  {
   "cell_type": "markdown",
   "metadata": {},
   "source": [
    "## url_for"
   ]
  },
  {
   "cell_type": "markdown",
   "metadata": {},
   "source": [
    "Flask comes with a `url_for()` function that allows us to connect other template pages or files in our templates! Let's add links (or anchor tags, `<a>`) for each student on the index page:"
   ]
  },
  {
   "cell_type": "raw",
   "metadata": {},
   "source": [
    "<!-- index.html -->\n",
    "{% extends 'base.html' %}\n",
    "\n",
    "{% block content %}\n",
    "<h1>Welcome to {{ school_name }}</h1>\n",
    "<h3>Students</h3>\n",
    "<ul>\n",
    "    {% for student in students %}\n",
    "    <li>\n",
    "        <!-- Because we're calling the student(name) function in app.py, we need to pass the name variable to url_for() -->\n",
    "        <!-- Note that name=student doesn't use brackets because the variable is already in the url_for() function -->\n",
    "        <a href=\"{{ url_for('student', name=student) }}\">{{ student }}</a>\n",
    "        {% if student == 'Trish' %}\n",
    "        Welcome Trish!\n",
    "        {% endif %}\n",
    "    </li>\n",
    "    <!-- With templates, you MUST end conditionals with endfor or endif -->\n",
    "    {% endfor %}\n",
    "</ul>\n",
    "{% endblock %}"
   ]
  },
  {
   "cell_type": "markdown",
   "metadata": {},
   "source": [
    "![Links to Students](img/lesson-2/links-to-students.png)\n",
    "\n",
    "_Credit to Jose Portilla for code examples_\n",
    "\n",
    "# Homework\n",
    "\n",
    "Continue to use flask to add to your application!!"
   ]
  }
 ],
 "metadata": {
  "kernelspec": {
   "display_name": "Python 3",
   "language": "python",
   "name": "python3"
  },
  "language_info": {
   "codemirror_mode": {
    "name": "ipython",
    "version": 3
   },
   "file_extension": ".py",
   "mimetype": "text/x-python",
   "name": "python",
   "nbconvert_exporter": "python",
   "pygments_lexer": "ipython3",
   "version": "3.6.9"
  }
 },
 "nbformat": 4,
 "nbformat_minor": 2
}

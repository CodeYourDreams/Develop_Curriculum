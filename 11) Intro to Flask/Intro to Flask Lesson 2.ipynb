{
 "cells": [
  {
   "cell_type": "markdown",
   "metadata": {},
   "source": [
    "# Intro to Flask: Lesson 2"
   ]
  },
  {
   "cell_type": "markdown",
   "metadata": {},
   "source": [
    "Now that we know how to add a route to our web application and serve an HTML file to the user (such as `return render_template('index.html')`), we can learn how to put variables in our `.html` files and create URLs for other pages.\n",
    "\n",
    "![SegmentLocal](https://media.giphy.com/media/d4zHnLjdy48Cc/giphy.gif \"segment\")\n",
    "\n",
    "## Templates\n",
    "\n",
    "Using Flask, we can pass variables from our Python code in `app.py` to template files, like our `index.py`. If we have a variable named `student_name`, we can insert the value of that variable in HTML using:\n",
    "\n",
    "```\n",
    "{{ student_name }}\n",
    "```\n",
    "\n",
    "This works for all sorts of python variables and structures, including strings, lists, dictionaries, and more. Let's create an example report card web app. Our index page will show the name of the school.\n",
    "\n",
    "When writing web applications, it's a good idea (a _best practice_) to separate the code from our views so that modifying one won't break the other. Variables are passed from the code (`app.py`) to the view (`index.html`) so that the view knows what to display. \n",
    "\n",
    "In our report card example, we might want to write an application that supports multiple schools, so having a `school_name` variable will allow us to use the same view for each school. Similarly, by passing student names and grades to the views using variables, we can use one signal `student.html` view to display the information for any student. \n",
    "\n",
    "Use the following code to tell our view `index.html` what school name to display:"
   ]
  },
  {
   "cell_type": "code",
   "execution_count": null,
   "metadata": {},
   "outputs": [],
   "source": [
    "# app.py\n",
    "from flask import Flask, render_template\n",
    "\n",
    "app = Flask(__name__)\n",
    "\n",
    "@app.route('/')\n",
    "def index():\n",
    "    school_name = \"Middleton High School\"\n",
    "    return render_template('index.html', school_name=school_name)\n",
    "\n",
    "if __name__ == '__main__':\n",
    "    app.run(debug=True)"
   ]
  },
  {
   "cell_type": "markdown",
   "metadata": {},
   "source": [
    "```html\n",
    "<!-- index.html -->\n",
    "<!-- (Unlike Python, HTML comments use arrows) -->\n",
    "<!DOCTYPE html>\n",
    "<html lang=\"en\" dir=\"ltr\">\n",
    "    <head>\n",
    "        <meta charset=\"utf-8\">\n",
    "        <title></title>\n",
    "    </head>\n",
    "    <body>\n",
    "        <!-- The variable in the double brackets must be equal to what you used \n",
    "             in the python code, in this case my_variable -->\n",
    "        <h1>Welcome to {{ school_name }}</h1>\n",
    "    </body>\n",
    "</html>\n",
    "```"
   ]
  },
  {
   "cell_type": "markdown",
   "metadata": {},
   "source": [
    "Run our Flask app with the following commands:\n",
    "\n",
    "```\n",
    "# Tell Flask which Python file is our app\n",
    "export FLASK_APP=app.py\n",
    "export FLASK_ENV=development\n",
    "\n",
    "# Run Flask\n",
    "flask run \n",
    "```\n",
    "\n",
    "And we'll see our `index.html` view with the correct high school name:"
   ]
  },
  {
   "cell_type": "code",
   "execution_count": null,
   "metadata": {},
   "outputs": [],
   "source": [
    "## Flask App\n",
    "from flask import Flask, render_template\n",
    "\n",
    "app = Flask(__name__)\n",
    "\n",
    "@app.route('/')\n",
    "def index():\n",
    "    name = \"Alex\"\n",
    "    letters = list(name)\n",
    "    return render_template('basic.html', name = name, letters = letters)\n",
    "\n",
    "if __name__ == '__main__':\n",
    "    app.run(debug = True)"
   ]
  },
  {
   "cell_type": "code",
   "execution_count": null,
   "metadata": {},
   "outputs": [],
   "source": [
    "## HTML Code\n",
    "<!DOCTYPE html>\n",
    "<html lang = \"en\" dir = \"ltr\">\n",
    "    <head>\n",
    "        <meta charset = \"utf-8\">\n",
    "        <title></title>\n",
    "    </head>\n",
    "    <body>\n",
    "        <h1>Hello! {{name}}</h1>\n",
    "        <h1>{{letters}}</h1>\n",
    "    </body>\n",
    "</html>"
   ]
  },
  {
   "cell_type": "markdown",
   "metadata": {},
   "source": [
    "Source Jose Portilla"
   ]
  },
  {
   "cell_type": "markdown",
   "metadata": {},
   "source": [
    "This will print the list to the screen as well, in the form of [ 'A', 'l', 'e', 'x']"
   ]
  },
  {
   "cell_type": "markdown",
   "metadata": {},
   "source": [
    "You can use indexing and splicing as well, such as {{letters[0]}}"
   ]
  },
  {
   "cell_type": "markdown",
   "metadata": {},
   "source": [
    "Same logic goes for dictionaries!"
   ]
  },
  {
   "cell_type": "markdown",
   "metadata": {},
   "source": [
    "### Control Flow!"
   ]
  },
  {
   "cell_type": "markdown",
   "metadata": {},
   "source": [
    "![SegmentLocal](https://media.tenor.com/images/e8f80414c8e4878b2b9633022a9adc17/tenor.gif \"segment\")"
   ]
  },
  {
   "cell_type": "markdown",
   "metadata": {},
   "source": [
    "Using templating, we also have access to control flow structures such as for loops and if statements!"
   ]
  },
  {
   "cell_type": "markdown",
   "metadata": {},
   "source": [
    "Instead of the {{variable_name}} syntax used with variables, control flow structures use {%%} syntax"
   ]
  },
  {
   "cell_type": "markdown",
   "metadata": {},
   "source": [
    "This works great in situations where you have passed a list to your HTML template"
   ]
  },
  {
   "cell_type": "markdown",
   "metadata": {},
   "source": [
    "You won't usually just want to print the list, or a single item in the list, you you can display each item in the list as a bulleted HTML list:"
   ]
  },
  {
   "cell_type": "code",
   "execution_count": null,
   "metadata": {},
   "outputs": [],
   "source": [
    "<ul>\n",
    "    {% for item in mylist %}\n",
    "    <li>{{item}}</li>\n",
    "    {% endfor %}\n",
    "</ul>"
   ]
  },
  {
   "cell_type": "markdown",
   "metadata": {},
   "source": [
    "You must say {% endfor %} or {% endif %} in templates "
   ]
  },
  {
   "cell_type": "markdown",
   "metadata": {},
   "source": [
    "Here are a few examples!"
   ]
  },
  {
   "cell_type": "code",
   "execution_count": null,
   "metadata": {},
   "outputs": [],
   "source": [
    "## Flask App\n",
    "from flask import Flask, render_template\n",
    "\n",
    "app = Flask(__name__)\n",
    "\n",
    "@app.route('/')\n",
    "def index():\n",
    "    mylist - [1,2,3,4,5]\n",
    "    return render_template('basic.html', mylist = mylist)\n",
    "\n",
    "if __name__ == '__main__':\n",
    "    app.run(debug = True)"
   ]
  },
  {
   "cell_type": "code",
   "execution_count": null,
   "metadata": {},
   "outputs": [],
   "source": [
    "## HTML Code\n",
    "<!DOCTYPE html>\n",
    "<html lang = \"en\" dir = \"ltr\">\n",
    "    <head>\n",
    "        <meta charset = \"utf-8\">\n",
    "        <title></title>\n",
    "    </head>\n",
    "    <body>\n",
    "        <ul>\n",
    "            {%for item in mylist %}\n",
    "            <li>{{item}}</li>\n",
    "            {% endfor %}\n",
    "        </ul>\n",
    "    </body>\n",
    "</html>"
   ]
  },
  {
   "cell_type": "markdown",
   "metadata": {},
   "source": [
    "Source Jose Portilla"
   ]
  },
  {
   "cell_type": "markdown",
   "metadata": {},
   "source": [
    "This prints to the webpage:\n",
    "\n",
    "     • 1 \n",
    "     • 2\n",
    "     • 3\n",
    "     • 4\n",
    "     • 5"
   ]
  },
  {
   "cell_type": "markdown",
   "metadata": {},
   "source": [
    "Another Example, using if statements as well!:"
   ]
  },
  {
   "cell_type": "code",
   "execution_count": null,
   "metadata": {},
   "outputs": [],
   "source": [
    "## Flask App\n",
    "from flask import Flask, render_template\n",
    "\n",
    "app = Flask(__name__)\n",
    "\n",
    "@app.route('/')\n",
    "def index():\n",
    "    puppies = ['Fluffy', 'Rufus', 'Spike']\n",
    "    return render_template('basic.html', puppies = puppies)\n",
    "\n",
    "if __name__ == '__main__':\n",
    "    app.run(debug = True)"
   ]
  },
  {
   "cell_type": "code",
   "execution_count": null,
   "metadata": {},
   "outputs": [],
   "source": [
    "## HTML Code\n",
    "<!DOCTYPE html>\n",
    "<html lang = \"en\" dir = \"ltr\">\n",
    "    <head>\n",
    "        <meta charset = \"utf-8\">\n",
    "        <title></title>\n",
    "    </head>\n",
    "    <body>\n",
    "        <ul>\n",
    "            {% for pup in puppies %}\n",
    "            <li>{{pup}}</li>\n",
    "            {%endfor%}\n",
    "        </ul>\n",
    "        \n",
    "        {% if 'Rufus' in puppies %}\n",
    "            <p>found you Rufus!</p>\n",
    "        {% else %}\n",
    "            <p>Hmm.. Rufus is not in this list!</p>\n",
    "        {%endif%}\n",
    "    </body>\n",
    "</html>"
   ]
  },
  {
   "cell_type": "markdown",
   "metadata": {},
   "source": [
    "Source Jose Portilla"
   ]
  },
  {
   "cell_type": "markdown",
   "metadata": {},
   "source": [
    "This will print to the webpage:\n",
    "\n",
    "     • Fluffy\n",
    "     • Rufus\n",
    "     • Spike\n",
    "Found you Rufus!"
   ]
  },
  {
   "cell_type": "markdown",
   "metadata": {},
   "source": [
    "## Inheritance"
   ]
  },
  {
   "cell_type": "markdown",
   "metadata": {},
   "source": [
    "![SegmentLocal](https://media2.giphy.com/media/eMb1k8QpUxXA4/giphy.gif \"segment\")"
   ]
  },
  {
   "cell_type": "markdown",
   "metadata": {},
   "source": [
    "Now that we can link our functions to an HTML template, we have to make one for every page"
   ]
  },
  {
   "cell_type": "markdown",
   "metadata": {},
   "source": [
    "The problem here is that pages on web applications have a lot of the same features, a popular example being the navbar!"
   ]
  },
  {
   "cell_type": "markdown",
   "metadata": {},
   "source": [
    "To avoid having the same code in many spots, we can set up a base.html file that has the common features of your site!"
   ]
  },
  {
   "cell_type": "markdown",
   "metadata": {},
   "source": [
    "We do this using the syntaxes {% extend \"base.html\"%} and {% block %}"
   ]
  },
  {
   "cell_type": "markdown",
   "metadata": {},
   "source": [
    "An example!!"
   ]
  },
  {
   "cell_type": "code",
   "execution_count": null,
   "metadata": {},
   "outputs": [],
   "source": [
    "## Flask App\n",
    "from flask import Flask, render_template\n",
    "\n",
    "app = Flask(__name__)\n",
    "\n",
    "@app.route('/')\n",
    "def index():\n",
    "    return render_template('home.html')\n",
    "\n",
    "@app.route('/puppy/name')\n",
    "def pup_name(name):\n",
    "    return render_template('puppy.html', name=name)\n",
    "\n",
    "if __name__ == '__main__':\n",
    "    app.run(debug = True)"
   ]
  },
  {
   "cell_type": "code",
   "execution_count": null,
   "metadata": {},
   "outputs": [],
   "source": [
    "## Base.html\n",
    "<!DOCTYPE html>\n",
    "<html lang = \"en\" dir = \"ltr\">\n",
    "    <head>\n",
    "        <meta charset = \"utf-8\">\n",
    "        <title>Puppy Rock</title>\n",
    "        ## include the bootstrap links here!\n",
    "    </head>\n",
    "    <body>\n",
    "        <nav class = \"navbar navbar-expand-lg navbar-light bg-light\">\n",
    "            <a class = \"navbar-brand\" href = \"#\">Puppies Rock!</a>\n",
    "        </nax>\n",
    "        {% block content %}\n",
    "        \n",
    "        {% endblock %}\n",
    "    </body>\n",
    "</html>"
   ]
  },
  {
   "cell_type": "code",
   "execution_count": null,
   "metadata": {},
   "outputs": [],
   "source": [
    "## home.html\n",
    "{% extends \"base.html\" %}\n",
    "\n",
    "{% block content %}\n",
    "<h1> This is the homepage!</h1>\n",
    "<h2>Go to /puppy/name</h2>\n",
    "{% endblock %}"
   ]
  },
  {
   "cell_type": "code",
   "execution_count": null,
   "metadata": {},
   "outputs": [],
   "source": [
    "## puppy.html\n",
    "{% extends \"base.html\" %}\n",
    "\n",
    "{% block content %}\n",
    "<h2>This is the puppy page for: {{name}}</h2>\n",
    "{% endblock %}"
   ]
  },
  {
   "cell_type": "markdown",
   "metadata": {},
   "source": [
    "Source Jose Portilla "
   ]
  },
  {
   "cell_type": "markdown",
   "metadata": {},
   "source": [
    "## url_for"
   ]
  },
  {
   "cell_type": "markdown",
   "metadata": {},
   "source": [
    "Flask comes with a url_for() function that allows us to connect other template pages or files in our templates!!"
   ]
  },
  {
   "cell_type": "markdown",
   "metadata": {},
   "source": [
    "Building off the code from last time:"
   ]
  },
  {
   "cell_type": "code",
   "execution_count": null,
   "metadata": {},
   "outputs": [],
   "source": [
    "## Base.html\n",
    "<!DOCTYPE html>\n",
    "<html lang = \"en\" dir = \"ltr\">\n",
    "    <head>\n",
    "        <meta charset = \"utf-8\">\n",
    "        <title>Puppy Rock</title>\n",
    "        ## include the bootstrap links here!\n",
    "    </head>\n",
    "    <body>\n",
    "        <nav class = \"navbar navbar-expand-lg navbar-light bg-light\">\n",
    "            <a class = \"navbar-brand\" href = \"{{url_for('index')}}\">Puppies Rock!</a>\n",
    "        </nax>\n",
    "        {% block content %}\n",
    "        \n",
    "        {% endblock %}\n",
    "    </body>\n",
    "</html>"
   ]
  },
  {
   "cell_type": "markdown",
   "metadata": {},
   "source": [
    "Source Jose Portilla"
   ]
  },
  {
   "cell_type": "markdown",
   "metadata": {},
   "source": [
    "Notice the change in the href in the <a></a> within the nav bar"
   ]
  },
  {
   "cell_type": "markdown",
   "metadata": {},
   "source": [
    "This change allows that if you are on a different page, and click on the Puppies Rock! on the nav bar, it will take you to the home page"
   ]
  },
  {
   "cell_type": "markdown",
   "metadata": {},
   "source": [
    "You can also link to a static file, such as a picture!!"
   ]
  },
  {
   "cell_type": "markdown",
   "metadata": {},
   "source": [
    "If you have a picture of a puppy in your directory, called puppy_pic.jpg, and you want to add it to the puppy page:"
   ]
  },
  {
   "cell_type": "code",
   "execution_count": null,
   "metadata": {},
   "outputs": [],
   "source": [
    "## puppy.html\n",
    "{% extends \"base.html\" %}\n",
    "\n",
    "{% block content %}\n",
    "<h2>This is the puppy page for: {{name}}</h2>\n",
    "<a href = \"{{url_for('static', filename = 'puppy_pic.jpg')}}\">Here</a>\n",
    "{% endblock %}"
   ]
  },
  {
   "cell_type": "markdown",
   "metadata": {},
   "source": [
    "Once again the change is the added <a></a> with a specific href! \n",
    "This changes makes a hyperlinked Here which will take you to the picture of the puppy!"
   ]
  },
  {
   "cell_type": "markdown",
   "metadata": {},
   "source": [
    "![SegmentLocal](https://static.scientificamerican.com/sciam/cache/file/D059BC4A-CCF3-4495-849ABBAFAED10456_source.jpg?w=590&h=800&526ED1E1-34FF-4472-B348B8B4769AB2A1 \"segment\")"
   ]
  },
  {
   "cell_type": "markdown",
   "metadata": {},
   "source": [
    "# Homework"
   ]
  },
  {
   "cell_type": "markdown",
   "metadata": {},
   "source": [
    "Continue to use flask to add to your application!!"
   ]
  }
 ],
 "metadata": {
  "kernelspec": {
   "display_name": "Python 3",
   "language": "python",
   "name": "python3"
  },
  "language_info": {
   "codemirror_mode": {
    "name": "ipython",
    "version": 3
   },
   "file_extension": ".py",
   "mimetype": "text/x-python",
   "name": "python",
   "nbconvert_exporter": "python",
   "pygments_lexer": "ipython3",
   "version": "3.6.9"
  }
 },
 "nbformat": 4,
 "nbformat_minor": 2
}

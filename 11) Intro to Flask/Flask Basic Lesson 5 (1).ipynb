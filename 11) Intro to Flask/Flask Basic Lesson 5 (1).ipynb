{
 "cells": [
  {
   "cell_type": "markdown",
   "metadata": {},
   "source": [
    "# Flask Basics, Lesson 5!!!"
   ]
  },
  {
   "cell_type": "markdown",
   "metadata": {},
   "source": [
    "## Flask Relationships "
   ]
  },
  {
   "cell_type": "markdown",
   "metadata": {},
   "source": [
    "![SegmentLocal](https://media3.giphy.com/media/TFpXAJRtUIxlC/giphy.gif \"segment\")"
   ]
  },
  {
   "cell_type": "markdown",
   "metadata": {},
   "source": [
    "There are going to be times in big projects where you want to have more than one model, but these models will likely have relationships with eachother!"
   ]
  },
  {
   "cell_type": "markdown",
   "metadata": {},
   "source": [
    "Building off the puppies example we've been using, this could be a relationship with the Owner model"
   ]
  },
  {
   "cell_type": "markdown",
   "metadata": {},
   "source": [
    "An important thing to understand to understand these relationships is Primary Keys and Foreign Keys:\n",
    "\n",
    "#### Primary Keys:\n",
    "\n",
    "A unique identifier, something that will truely be different for each item \n",
    "\n",
    "#### Foreign Keys:\n",
    "\n",
    "A primary key in another table!"
   ]
  },
  {
   "cell_type": "markdown",
   "metadata": {},
   "source": [
    "Using the Puppy and Owner example:\n",
    "\n",
    "#### Puppy:\n",
    "ID Tag (Primary Key!)\n",
    "Puppy Name\n",
    "\n",
    "#### Owner:\n",
    "National ID Number (Primary Key)\n",
    "Owner Name\n",
    "Puppy ID (Foreign Key)"
   ]
  },
  {
   "cell_type": "markdown",
   "metadata": {},
   "source": [
    "### Example!!!"
   ]
  },
  {
   "cell_type": "markdown",
   "metadata": {},
   "source": [
    "![SegmentLocal](https://img.buzzfeed.com/buzzfeed-static/static/2014-10/29/12/enhanced/webdr02/anigif_enhanced-15050-1414600197-24.gif \"segment\")"
   ]
  },
  {
   "cell_type": "code",
   "execution_count": null,
   "metadata": {},
   "outputs": [],
   "source": [
    "# Models.py\n",
    "import os\n",
    "from flask import Flask\n",
    "from flask_sqlalchemy import SQLAlchemy\n",
    "from flask_migrate import Migrate \n",
    "\n",
    "basedir = os.path.abspath(os.path.dirname(__file__))\n",
    "\n",
    "app = Flask(__name__)\n",
    "\n",
    "app.config['SQLALCHEMY_DATABASE_URI'] = 'sqlite:///'+os.path.join(basedir, 'data.sqlite')\n",
    "app.config['SQLALCHEMY_TRACK_MODIFICATIONS'] = False\n",
    "\n",
    "db = SQLAchemy(app)\n",
    "Migrate(app, db)\n",
    "\n",
    "class Puppy(db.Model):\n",
    "     \n",
    "    __tablename__ = 'puppies'\n",
    "    \n",
    "    id = db.Column(db.Integer, primary_key = True)\n",
    "    name = db.Column(db.Text)\n",
    "    toys = db.relationship('Toy', backref = 'puppy', lazy = 'dynamic')\n",
    "    # One to many, one puppy to many toys\n",
    "    # Lazy specifies how relationship is loaded into database\n",
    "    owner = db.relationship('owner', backref = 'puppy', uselist = False)\n",
    "    # one to one, one puppy to own owner\n",
    "    # Uselist is false because since it is only one owner for one puppy, you will never have a list for this relationship, like you might with toys\n",
    "    \n",
    "    def __init__(self, name):\n",
    "        self.name = name\n",
    "        \n",
    "    def __repr__(self):\n",
    "        if self.owner:\n",
    "            return \"Puppy name is {self.name} and owner is {self.owner}\"\n",
    "        else:\n",
    "            return \"Puppy is {self.name} and has no owner yet\"\n",
    "        \n",
    "    def report_toys(self):\n",
    "        print(\"Here are my toys:\")\n",
    "        for toy in self.toys:\n",
    "            print(toy.item_name)\n",
    "    \n",
    "class Toy(db.Model):\n",
    "    \n",
    "    __tablename__ = 'toys'\n",
    "    \n",
    "    id = db.Column(db.Integer, primary_key = True)\n",
    "    item_name = db.Column(db.Text)\n",
    "    puppy_id = db.Column(db.Integer, db.ForeignKey('puppies.id'))\n",
    "    \n",
    "    def __init__(self, item_name, puppy_id):\n",
    "        self.item_name = item_name\n",
    "        self.puppy_id = puppy_id\n",
    "        \n",
    "class Owner(db.Model):\n",
    "    __tablename__ = 'owners'\n",
    "    \n",
    "    id = db.Column(db.Integer, primary_key = True)\n",
    "    name = db.Column(db.Text)\n",
    "    puppy_id = db.Column(db.Integer, db.ForeignKey('puppies.id'))\n",
    "    \n",
    "    def __init__(self, name, puppy_id):\n",
    "        self.name = name\n",
    "        self.puppy_id = puppy_id"
   ]
  },
  {
   "cell_type": "markdown",
   "metadata": {},
   "source": [
    "Source Jose Portilla "
   ]
  },
  {
   "cell_type": "markdown",
   "metadata": {},
   "source": [
    "Now we use the code above and create entries!"
   ]
  },
  {
   "cell_type": "code",
   "execution_count": null,
   "metadata": {},
   "outputs": [],
   "source": [
    "#basic.py\n",
    "from models import db, Puppy, Owner, Toy\n",
    "\n",
    "rufus = Puppy('Rufus')\n",
    "#this creates a pup using the self init in the Puppy class, which you pass a name into, \n",
    "#therefore we send in 'Rufus'\n",
    "fido = Puppy('Fido')\n",
    "\n",
    "db.session.add_all([rufus, fido])\n",
    "db.session.commit\n",
    "#adds the puppies to the database\n",
    "\n",
    "rufus = Puppy.query.filter_by(name = 'Rufus').first()\n",
    "#This grabs rufus now that it has been saved \n",
    "\n",
    "kate = Owner('Kate', rufus.id)\n",
    "#Creates an owner object, uses self init in owner class\n",
    "#This takes in a name, and the id of the pet\n",
    "\n",
    "toy1 = Toy('Chew Toy', rufus.id)\n",
    "toy2 = Toy('Ball', rufus.id)\n",
    "#Creating toys for rufus, once again uses Toy class self init\n",
    "\n",
    "db.session.add_all([kate, toy1, toy2])\n",
    "db.session.commit()"
   ]
  },
  {
   "cell_type": "markdown",
   "metadata": {},
   "source": [
    "Source Jose Portilla"
   ]
  },
  {
   "cell_type": "markdown",
   "metadata": {},
   "source": [
    "## User Authentication!!"
   ]
  },
  {
   "cell_type": "markdown",
   "metadata": {},
   "source": [
    "![SegmentLocal](https://66.media.tumblr.com/905e3b0e3abfab87071e8c68f869af64/tumblr_p78sscYqBd1qzhbquo2_250.gif \"segment\")"
   ]
  },
  {
   "cell_type": "markdown",
   "metadata": {},
   "source": [
    "So far, with everything we've gone over and created, anyone can access it, but like a lot of applications, you may only want registered users!"
   ]
  },
  {
   "cell_type": "markdown",
   "metadata": {},
   "source": [
    "We can do this with several different tools, the first being:             \n",
    "### Password Hashing!!"
   ]
  },
  {
   "cell_type": "markdown",
   "metadata": {},
   "source": [
    "You are going to want to store usernames and passwords for your users, but you never want to store the original password because that is unsecure, and could easily be hacked!"
   ]
  },
  {
   "cell_type": "markdown",
   "metadata": {},
   "source": [
    "The best way to solve this is a \n",
    "### Hash Function"
   ]
  },
  {
   "cell_type": "markdown",
   "metadata": {},
   "source": [
    "Which is an algorithm that takes in a document, in this case a password, and returns a secure hash based on that document "
   ]
  },
  {
   "cell_type": "markdown",
   "metadata": {},
   "source": [
    "Secure because with a hash a person cannot figure out what the password was that got that hash"
   ]
  },
  {
   "cell_type": "markdown",
   "metadata": {},
   "source": [
    "A really simple example would be using the number of characters in the password as the hash, so:\n",
    "\n",
    "thispassword --> 12\n",
    "\n",
    "12345 --> 5\n",
    "\n",
    "This is not a good hash function because it is unsecure and more than one password could have the same hash "
   ]
  },
  {
   "cell_type": "markdown",
   "metadata": {},
   "source": [
    "But we don't have to come up with a hashing algorithm, because there are already secure hashing algorithms for us to use!!!"
   ]
  },
  {
   "cell_type": "markdown",
   "metadata": {},
   "source": [
    "Two useful libraries:\n",
    "\n",
    "1) Bcrypt \n",
    "\n",
    "2) Werkzeug"
   ]
  },
  {
   "cell_type": "markdown",
   "metadata": {},
   "source": [
    "This is how to install either:"
   ]
  },
  {
   "cell_type": "code",
   "execution_count": null,
   "metadata": {},
   "outputs": [],
   "source": [
    "pip install flask-bcrypt\n",
    "\n",
    "pip install Werkzeug"
   ]
  },
  {
   "cell_type": "markdown",
   "metadata": {},
   "source": [
    "Here is an example for bcrypt!!"
   ]
  },
  {
   "cell_type": "code",
   "execution_count": null,
   "metadata": {},
   "outputs": [],
   "source": [
    "from flask_bcrypt import Bcrypt\n",
    "\n",
    "bcrypt = Bcrypt()\n",
    "\n",
    "password = 'supersecretpassword'\n",
    "\n",
    "hashed_password = bcrypt.generate_password_hash(password)\n",
    "#This will give you the hashed password, stored in hashed_password\n",
    "\n",
    "check = bcrypt.check_password_hash(hashed_password, 'wrongpassword')\n",
    "#This sees if the entered password is correct against the hashed_password\n",
    "#check is set to either true or false"
   ]
  },
  {
   "cell_type": "markdown",
   "metadata": {},
   "source": [
    "Example with Werkzeug!!"
   ]
  },
  {
   "cell_type": "code",
   "execution_count": null,
   "metadata": {},
   "outputs": [],
   "source": [
    "from werkzeug.security import generate_password_hash, check_password_hash\n",
    "\n",
    "hashed_password = generate_password_hash('mypassword')\n",
    "\n",
    "check = check_password_hash(hashed_pass, 'mypassword')"
   ]
  },
  {
   "cell_type": "markdown",
   "metadata": {},
   "source": [
    "They work very similarly !!"
   ]
  }
 ],
 "metadata": {
  "kernelspec": {
   "display_name": "Python 3",
   "language": "python",
   "name": "python3"
  },
  "language_info": {
   "codemirror_mode": {
    "name": "ipython",
    "version": 3
   },
   "file_extension": ".py",
   "mimetype": "text/x-python",
   "name": "python",
   "nbconvert_exporter": "python",
   "pygments_lexer": "ipython3",
   "version": "3.7.3"
  }
 },
 "nbformat": 4,
 "nbformat_minor": 2
}

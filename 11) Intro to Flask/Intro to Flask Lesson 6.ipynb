{
 "cells": [
  {
   "cell_type": "markdown",
   "metadata": {},
   "source": [
    "# Flask Basics, Lesson 6!!!"
   ]
  },
  {
   "cell_type": "markdown",
   "metadata": {},
   "source": [
    "## Flask_Login"
   ]
  },
  {
   "cell_type": "markdown",
   "metadata": {},
   "source": [
    "This is the 2nd tool for User Authentication!"
   ]
  },
  {
   "cell_type": "markdown",
   "metadata": {},
   "source": [
    "the *__flask_login__* library is an extremely useful tool for this process!!"
   ]
  },
  {
   "cell_type": "markdown",
   "metadata": {},
   "source": [
    "![SegmentLocal](https://media0.giphy.com/media/iOjNaLUI4oBgc/giphy.gif \"segment\")"
   ]
  },
  {
   "cell_type": "markdown",
   "metadata": {},
   "source": [
    "The best way to show you how to use it is a large example!!:"
   ]
  },
  {
   "cell_type": "markdown",
   "metadata": {},
   "source": [
    "In this example, app.py will be in a the same directory as myprojects, which is another directory that hold the rest of the files!!"
   ]
  },
  {
   "cell_type": "code",
   "execution_count": null,
   "metadata": {},
   "outputs": [],
   "source": [
    "# __init__.py\n",
    "import os\n",
    "from flask import Flask\n",
    "from flask_sqlalchemy import SQLAlchemy\n",
    "from flask_migrate import Migrate\n",
    "from flask_login import LoginManager\n",
    "\n",
    "login_manager = LoginManager()\n",
    "\n",
    "app = Flask(__name__)\n",
    "\n",
    "app.config['SECRET_KEY'] = 'mysecretkey'\n",
    "basedir = os.path.abspath(os.path.dirname(__file__))\n",
    "app.config['SQLALCHEMY_DATABASE_URI'] = 'sqlite:///'+os.path(basedir, 'data.sqlite')\n",
    "app.config['SQLALCHEMY_TRACK_MODIFICATIONS'] = False\n",
    "\n",
    "db = SQLAlchemy(app)\n",
    "Migrate(app, db)\n",
    "\n",
    "login_manager.init_app(app)\n",
    "#Pass your application to the login manager!\n",
    "login_manager.login_view = 'login'\n",
    "#the app will have a view called 'login' and that will link this to our login manager "
   ]
  },
  {
   "cell_type": "markdown",
   "metadata": {},
   "source": [
    "Now we have to make our __Models!!__ which will include the User"
   ]
  },
  {
   "cell_type": "code",
   "execution_count": null,
   "metadata": {},
   "outputs": [],
   "source": [
    "# models.py\n",
    "from myproject import db, login_manager\n",
    "from werkzeug.security import generate_password_hash, check_password_hash\n",
    "from flask_login import UserMixin\n",
    "\n",
    "@login_manager.user_loader\n",
    "def load_user(user_id):\n",
    "    return User.query.get(user_id)\n",
    "#Allows us to get the specific user to see their ID\n",
    "\n",
    "class User(db.Model, UserMixin):\n",
    "    #UserMixin has all the management features of logging in users and authorizing them, so we don't have to do that ourselves \n",
    "    \n",
    "    __tablename__ = 'users'\n",
    "    \n",
    "    id = db.Column(db.Integer, primary_key = True)\n",
    "    email = db.Column(db.String(64), unique = True, index = True)\n",
    "    #passing 64 characters sets a string limit, so the email cannot be more than 64 characters\n",
    "    #unique = True, makes sure that two users don't have the same email address\n",
    "    usernmane = db.Column(db.String(64), unique = True, index = True)\n",
    "    password_hash = db.Column(db.String(128))\n",
    "    \n",
    "    def __init__(self, email, username, password):\n",
    "        self.email = email\n",
    "        self.username = username\n",
    "        self.password_hash = generate_password_hash(password)\n",
    "        \n",
    "    def check_password(self, password):\n",
    "        return check_password_hash(self.password_hash, password)\n",
    "    "
   ]
  },
  {
   "cell_type": "markdown",
   "metadata": {},
   "source": [
    "Now we make our __Forms!__ one for logging in and one for registering!"
   ]
  },
  {
   "cell_type": "code",
   "execution_count": null,
   "metadata": {},
   "outputs": [],
   "source": [
    "#forms.py\n",
    "from flask_wtf import FlaskForm\n",
    "from wtforms import StringField, PasswordField, SubmitField \n",
    "from wtforms.validators import DataRequired, Email, EqualTo\n",
    "# The validator Email will make sure what is entered is in email format, such as includes the @\n",
    "# The validator EqualTo will make sure two things match, such as confirming password when registering \n",
    "from wtforms import ValidationError \n",
    "\n",
    "class LoginForm(FlaskForm):\n",
    "    email = StringField('Email', validators = [DataRequired(), Email()])\n",
    "    password = PasswordField('Password', validators = [DataRequired()])\n",
    "    submit = SubmitField('Login')\n",
    "\n",
    "class RegistrationForm(FlaskForm):\n",
    "    email = StringField('Email', validators = [DataRequired(), Email()])\n",
    "    username = StringField('Username', validators = [DataRequired()])\n",
    "    password = PasswordField('Password', validators = [DataRequired(), EqualTo('pass_confirm', message = 'Passwords must match!')])\n",
    "    # the message is what is presented if they are not equal \n",
    "    pass_confirm = PasswordField('Confirm Password', validators = [DataRequired()])\n",
    "    submit = SubmitField('Register!')\n",
    "    \n",
    "    def check_email(self, field):\n",
    "        if User.query.filter_by(email = field.data).first():\n",
    "            raise ValidationError('Your email has already been registered!')\n",
    "        #Checks to see if the email is already taken\n",
    "    \n",
    "    def check_username(self, field):\n",
    "        if User.query.filter_by(username = field.data).first():\n",
    "            raise ValidationError('Username is taken!')\n",
    "        #Like the above function but with username"
   ]
  },
  {
   "cell_type": "markdown",
   "metadata": {},
   "source": [
    "Now we will make our app.py, which contains our view functions!!"
   ]
  },
  {
   "cell_type": "code",
   "execution_count": null,
   "metadata": {},
   "outputs": [],
   "source": [
    "#app.py\n",
    "from myprojects import app,db\n",
    "from flask import render_template, redirect, request, url_for, flash, abort\n",
    "from flask_login import login_user, login_required, logout_user\n",
    "from myproject.models import users\n",
    "from myproject.forms import LoginForm, RegistrationForm \n",
    "\n",
    "@app.route('/')\n",
    "def home():\n",
    "    return render_template('home.html')\n",
    "\n",
    "@app.route('/welcome')\n",
    "@login_required\n",
    "#including this means that a user has to be logged in to see this page\n",
    "def welcome_user():\n",
    "    return render_template('welcome_user.html')\n",
    "\n",
    "@app.route('/logout')\n",
    "@login_required\n",
    "#must be logged in to logout!\n",
    "def logout():\n",
    "    logout_user()\n",
    "    flash(\"You logged out!\")\n",
    "    return redirect(url_for('home'))\n",
    "\n",
    "@app.route('/login', methods = ['GET', 'POST'])\n",
    "def login():\n",
    "    form = LoginForm()\n",
    "    if form.validate_on_submit():\n",
    "        user = User.query.filter_by(email = form.email.data).first()\n",
    "        \n",
    "        if user.check_password(form.password.data) and user is not none:\n",
    "            login_user(user)\n",
    "            flash('Logged in successfully!!')\n",
    "            \n",
    "            next = request.args.get('next')\n",
    "            \n",
    "            if next == None or notnext[0] == '/':\n",
    "                next = url_for('welcome_user')\n",
    "                \n",
    "            return redirect(next)\n",
    "        \n",
    "    return render_template('login.html', form=form)\n",
    "\n",
    "@app.route('/register', methods=['GET', 'POST'])\n",
    "def register():\n",
    "    form = RegistrationForm():\n",
    "        user = User(email = form.email.data, username = form.username.data, password = form.password.data)\n",
    "        db.session.add(user)\n",
    "        db.session.commit()\n",
    "        flash(\"Thanks for registering!\")\n",
    "        return redirect(url_for('login'))\n",
    "    return render_template('register.html', form=form)\n",
    "\n",
    "if __name__ == '__main__':\n",
    "    app.run(debug = True)"
   ]
  },
  {
   "cell_type": "markdown",
   "metadata": {},
   "source": [
    "Now we want to make our html files, starting with base:"
   ]
  },
  {
   "cell_type": "code",
   "execution_count": null,
   "metadata": {},
   "outputs": [],
   "source": [
    "# base.html\n",
    "<!DOCTYPE html>\n",
    "<html lang = \"en\" dir = \"ltr\">\n",
    "    <head>\n",
    "        bootstrap links!!!\n",
    "        <meta charset = \"utf-8\">\n",
    "        <title></title>\n",
    "    </head>\n",
    "    <body>\n",
    "        <ul class = \"nav\">\n",
    "            <li class = 'nav-link'<a href = \"{{url_for('home')}}\">Home</a></li>\n",
    "            {% if current_user.is_authenticated %}\n",
    "            <li class = 'nav-link'><a href = \"{{url_for('logout')}}\">Logout</a></li>\n",
    "            {% else %}\n",
    "            <li class = 'nav-link'><a href = \"{{url_for('login')}}\">Login</a></li>\n",
    "            <li class = 'nav-link'><a href \"{{url_for('register')}}\">Register</a></li>\n",
    "            {% endif %}\n",
    "        </ul>\n",
    "        {% block content %}\n",
    "        \n",
    "        {% endblock %}\n",
    "    </body>\n",
    "</html>"
   ]
  },
  {
   "cell_type": "code",
   "execution_count": null,
   "metadata": {},
   "outputs": [],
   "source": [
    "# home.html\n",
    "{% extends \"base.html\" %}\n",
    "{% block content %}\n",
    "    <div class = \"jumbotron\">\n",
    "        {% if current_user.is_authenticated %}\n",
    "        <p>Hi {{current_user.username}}</p>\n",
    "        {% else %}\n",
    "        <p>Please login or register</p>\n",
    "        {% endif %}\n",
    "    </div>\n",
    "{% endblock %}"
   ]
  },
  {
   "cell_type": "code",
   "execution_count": null,
   "metadata": {},
   "outputs": [],
   "source": [
    "# welcome_user.html\n",
    "{% extends \"base.html\" %}\n",
    "{% block content %}\n",
    "    <div class = \"jumbotron\">\n",
    "        <p> congrats! You are logged in! </p> \n",
    "    </div>\n",
    "{% endblock %}"
   ]
  },
  {
   "cell_type": "code",
   "execution_count": null,
   "metadata": {},
   "outputs": [],
   "source": [
    "# login.html \n",
    "{% extends \"base.html\" %}\n",
    "{% block content %}\n",
    "    <form method = \"post\">\n",
    "        {{form.hidden_tag()}}\n",
    "        {{form.email.label}}{{form.email()}}\n",
    "        {{form.password.label}}{{form.password()}}\n",
    "        {{form.submit()}}\n",
    "    </form>\n",
    "{% endblock %}"
   ]
  },
  {
   "cell_type": "code",
   "execution_count": null,
   "metadata": {},
   "outputs": [],
   "source": [
    "# register.html\n",
    "{% extends \"base.html\" %}\n",
    "{% block content %}\n",
    "    <form method = \"post\">\n",
    "        {{form.hidden_tag()}}\n",
    "        {{form.email.label}}{{form.email()}}<br>\n",
    "        {{form.username.label}}{{form.username()}}<br>\n",
    "        {{form.password.label}}{{form.password()}}<br>\n",
    "        {{form.password_confirm.label}}{{form.pass_confirm}}<br>\n",
    "        {{form.submit()}}\n",
    "    </form>\n",
    "{% endblock %}"
   ]
  },
  {
   "cell_type": "markdown",
   "metadata": {},
   "source": [
    "Source Jose Portilla "
   ]
  },
  {
   "cell_type": "markdown",
   "metadata": {},
   "source": [
    "This example is large, and can be a lot to take in, but, it is a very good way to see how all the things we have learned about using HTML, Bootstrap, and Flask can tie together to make a simple yet effective website!!!"
   ]
  },
  {
   "cell_type": "markdown",
   "metadata": {},
   "source": [
    "## Flask OAuth"
   ]
  },
  {
   "cell_type": "markdown",
   "metadata": {},
   "source": [
    "Many sites do not want to deal with the responsibility of handling users and their profiles and the authorization of them, so they use services that are used as logins"
   ]
  },
  {
   "cell_type": "markdown",
   "metadata": {},
   "source": [
    "You have likely seen this when you are trying to login or register an account with something, and it gives you the option to __\"login with google\"__ or __\"login with facebook\"__ or something along those lines "
   ]
  },
  {
   "cell_type": "markdown",
   "metadata": {},
   "source": [
    "The __Flask-Dance__ library is what we use to add these OAuth backend features "
   ]
  },
  {
   "cell_type": "markdown",
   "metadata": {},
   "source": [
    "![SegmentLocal](https://media3.giphy.com/media/6s1hcLp1VQzTSRu7Jl/giphy.gif \"segment\")"
   ]
  },
  {
   "cell_type": "markdown",
   "metadata": {},
   "source": [
    "An important part about this feature is that while it allows you to use the login authorization but does not give access to the assets of that login"
   ]
  },
  {
   "cell_type": "markdown",
   "metadata": {},
   "source": [
    "So in the google example, it would give you the google login, but would not give access to their google account "
   ]
  },
  {
   "cell_type": "code",
   "execution_count": null,
   "metadata": {},
   "outputs": [],
   "source": [
    "## To get Flask-Dance!!:\n",
    "pip install Flask-Dance"
   ]
  },
  {
   "cell_type": "markdown",
   "metadata": {},
   "source": [
    "To use Flask-Dance, it is best to look at the documetation, which can be found at : __flask-dance.readthedocs.io__"
   ]
  },
  {
   "cell_type": "markdown",
   "metadata": {},
   "source": [
    "This has all the information you need, with quickstarts to the different services, including Google QuickStart, Twitter QuickStart, and GitHub QuickStart. These tell you how to set up the application itself, as well as providing the basic code to set up the OAuth "
   ]
  }
 ],
 "metadata": {
  "kernelspec": {
   "display_name": "Python 3",
   "language": "python",
   "name": "python3"
  },
  "language_info": {
   "codemirror_mode": {
    "name": "ipython",
    "version": 3
   },
   "file_extension": ".py",
   "mimetype": "text/x-python",
   "name": "python",
   "nbconvert_exporter": "python",
   "pygments_lexer": "ipython3",
   "version": "3.6.9"
  }
 },
 "nbformat": 4,
 "nbformat_minor": 2
}

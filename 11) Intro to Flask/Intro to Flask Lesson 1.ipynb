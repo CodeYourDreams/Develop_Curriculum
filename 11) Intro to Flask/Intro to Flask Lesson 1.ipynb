{
 "cells": [
  {
   "cell_type": "markdown",
   "metadata": {},
   "source": [
    "# Intro to Flask: Lesson 1"
   ]
  },
  {
   "cell_type": "markdown",
   "metadata": {},
   "source": [
    "![SegmentLocal](https://miro.medium.com/max/876/1*0G5zu7CnXdMT9pGbYUTQLQ.png \"segment\")"
   ]
  },
  {
   "cell_type": "markdown",
   "metadata": {},
   "source": [
    "## Introduction\n",
    "\n",
    "No matter how much experience you have with programming, you've probably used a website at some point. From Safari on iPhones, to Chrome on Android phones, and to Firefox on a laptop, everyone uses websites in their day to day lives.\n",
    "\n",
    "Flask is a Python module that lets us write websites using Python. But first, we need to set up our programming environment to be able to use Flask.\n",
    "\n",
    "## Setting Up Your Environment\n",
    "\n",
    "When writing a Python program, such as a web application using Flask, we tend to use external libraries. These external libraries need to be imported into our program using `import`, and they are not part of the standard Python library.\n",
    "\n",
    "We use _virtual environments_ to create an environment for each of our Python projects. That way, we can use different external libraries (and different versions of those libraries!) for different projects on our computer.\n",
    "\n",
    "We'll be using _Anaconda_ as our virtual environment manager.\n",
    "\n",
    "### Creating the Environment"
   ]
  },
  {
   "cell_type": "markdown",
   "metadata": {},
   "source": [
    "![SegmentLocal](https://media.tenor.com/images/5c6db3619bf771d34baa97a503856c7b/tenor.gif \"segment\")"
   ]
  },
  {
   "cell_type": "markdown",
   "metadata": {},
   "source": [
    "We'll use Anaconda to create a new environment named `venv`, and we'll install Flask in the environment. Here's an example Anaconda command to create the environment `venv`"
   ]
  },
  {
   "cell_type": "code",
   "execution_count": null,
   "metadata": {},
   "outputs": [],
   "source": [
    "conda create --name venv"
   ]
  },
  {
   "cell_type": "markdown",
   "metadata": {},
   "source": [
    "We can also create an environment named `venv` and also install the library `numpy` within it:"
   ]
  },
  {
   "cell_type": "code",
   "execution_count": null,
   "metadata": {},
   "outputs": [],
   "source": [
    "conda create --name myenvname numpy"
   ]
  },
  {
   "cell_type": "markdown",
   "metadata": {},
   "source": [
    "Or, we can ask Anaconda to create an environment named `venv` using Python verison 3.5:"
   ]
  },
  {
   "cell_type": "code",
   "execution_count": null,
   "metadata": {},
   "outputs": [],
   "source": [
    "conda create --name myenvname python=3.5"
   ]
  },
  {
   "cell_type": "markdown",
   "metadata": {},
   "source": [
    "Or, both install `numpy` and use Python 3.5 at the same time!"
   ]
  },
  {
   "cell_type": "code",
   "execution_count": null,
   "metadata": {},
   "outputs": [],
   "source": [
    "conda create --name myenvname numpy=3.5"
   ]
  },
  {
   "cell_type": "markdown",
   "metadata": {},
   "source": [
    "Type the command below into your terminal. This command will create a virtual environment named `venv` and install the Flask package in our environment:"
   ]
  },
  {
   "cell_type": "code",
   "execution_count": null,
   "metadata": {},
   "outputs": [],
   "source": [
    "## For us:\n",
    "## On command line\n",
    "conda create -n venv flask"
   ]
  },
  {
   "cell_type": "markdown",
   "metadata": {},
   "source": [
    "When you type this into your terminal, you will be prompted with a yes or no question: `(y/n?)`\n",
    "Answer yes by typing `y` so that Anaconda knows to download the various packages required to install Flask.\n",
    "\n",
    "Now, we need to activate our environment to be able to use it. Type the following into your terminal if you're running Windows:"
   ]
  },
  {
   "cell_type": "code",
   "execution_count": null,
   "metadata": {},
   "outputs": [],
   "source": [
    "activate venv"
   ]
  },
  {
   "cell_type": "markdown",
   "metadata": {},
   "source": [
    "Or, if you're running macOS:"
   ]
  },
  {
   "cell_type": "code",
   "execution_count": null,
   "metadata": {},
   "outputs": [],
   "source": [
    "source activate venv"
   ]
  },
  {
   "cell_type": "markdown",
   "metadata": {},
   "source": [
    "Other commands you might want to use:\n",
    "\n",
    "- Install a package: `conda install <package>`\n",
    "- Deactivate the virtual environment: `deactivate`\n",
    "- List all environments: `conda env list`"
   ]
  },
  {
   "cell_type": "markdown",
   "metadata": {},
   "source": [
    "## Your First Web Page"
   ]
  },
  {
   "cell_type": "markdown",
   "metadata": {},
   "source": [
    "![SegmentLocal](https://media1.giphy.com/media/26gZ1mLStAYCiWlpe/giphy.gif \"segment\")"
   ]
  },
  {
   "cell_type": "markdown",
   "metadata": {},
   "source": [
    "Let's create your first web page! We'll want to display `Hello World!` to a user when they visit your site.\n",
    "\n",
    "First, create a folder to hold your web application. You can name it `flask-lesson-1` if you like. Then, create a text file named `app.py`. Your folder should look like this:\n",
    "\n",
    "```\n",
    "flask-lesson-1\n",
    "  |\n",
    "  +-- app.py\n",
    "```\n",
    "\n",
    "Then, inside `app.py`, type the following:"
   ]
  },
  {
   "cell_type": "code",
   "execution_count": null,
   "metadata": {},
   "outputs": [],
   "source": [
    "from flask import Flask\n",
    "\n",
    "app = Flask(_name_)\n",
    "\n",
    "@app.route('/')\n",
    "def index():\n",
    "    return '<h1>Hello World!</h1>'\n",
    "\n",
    "if __name__ == '__main__':\n",
    "    app.run()"
   ]
  },
  {
   "cell_type": "markdown",
   "metadata": {},
   "source": [
    "Source Jose Portilla"
   ]
  },
  {
   "cell_type": "markdown",
   "metadata": {},
   "source": [
    "Let's talk about this `app.py` program line by line. The first line:"
   ]
  },
  {
   "cell_type": "code",
   "execution_count": null,
   "metadata": {},
   "outputs": [],
   "source": [
    "from flask import Flask"
   ]
  },
  {
   "cell_type": "markdown",
   "metadata": {},
   "source": [
    "Imports a `class` named `Flask` from the package named `flask` that we installed earlier in this lesson. Note that the first `flask` has a lowercase `f`, while the second `Flask` has an uppercase `F`. \n",
    "\n",
    "The next line,"
   ]
  },
  {
   "cell_type": "code",
   "execution_count": null,
   "metadata": {},
   "outputs": [],
   "source": [
    "app = Flask(__name__)"
   ]
  },
  {
   "cell_type": "markdown",
   "metadata": {},
   "source": [
    "Creates a new `instance` of the class `Flask` and assigns it to the variable `app`. The variable `__name__` is a built-in variable in Python that is the name of the current module. Because the name of our file is `app.py`, then the name of the current module `__name__` is `app`.\n",
    "\n",
    "The next few lines are the \"meat and potatoes\" of our little `app.py`:"
   ]
  },
  {
   "cell_type": "code",
   "execution_count": null,
   "metadata": {},
   "outputs": [],
   "source": [
    "@app.route('/')\n",
    "def index():\n",
    "    return '<h1>Hello World!</h1>'"
   ]
  },
  {
   "cell_type": "markdown",
   "metadata": {},
   "source": [
    "`@app.route('/')` tells Flask that whenever a user goes to `/`, run the function `index()`. For example, if our website is hosted at `localhost:5000`, then Flask will run the function `index()` when the user goes to `localhost:5000/`.\n",
    "\n",
    "This function is called `index()` because the root of a website (in this case, `localhost:5000/`) is called the site _index_.\n",
    "\n",
    "When the user goes to `/`, `index()` will return `<h1>Hello World!</h1>`. The `<h1>` and `</h1>` are HTML tags to format the text, and `Hello World!` is the text to be displayed to the user. \n",
    "\n",
    "The last few lines tell Python to run the Flask application when `app.py` is run with Python:"
   ]
  },
  {
   "cell_type": "code",
   "execution_count": null,
   "metadata": {},
   "outputs": [],
   "source": [
    "if __name__ == '__main__':\n",
    "    app.run()"
   ]
  },
  {
   "cell_type": "markdown",
   "metadata": {},
   "source": [
    "Let's run our first Flask application! In your terminal, type the following command:"
   ]
  },
  {
   "cell_type": "code",
   "execution_count": null,
   "metadata": {},
   "outputs": [],
   "source": [
    "python app.py"
   ]
  },
  {
   "cell_type": "markdown",
   "metadata": {},
   "source": [
    "When you run this command, Flask will give you a URL that you can visit to test your web application. By default, this will be `http://localhost:5000`. Go to that website in a browser, and you should see your `Hello World!` message:"
   ]
  },
  {
   "cell_type": "markdown",
   "metadata": {},
   "source": [
    "![SegmentLocal](https://opentechschool.github.io/python-flask/core/images/hello-world.png \"segment\")"
   ]
  },
  {
   "cell_type": "markdown",
   "metadata": {},
   "source": [
    "## Adding More Routes"
   ]
  },
  {
   "cell_type": "markdown",
   "metadata": {},
   "source": [
    "![SegmentLocal](https://media.giphy.com/media/2A2H7esXXVOD0f27yP/giphy.gif \"segment\")"
   ]
  },
  {
   "cell_type": "markdown",
   "metadata": {},
   "source": [
    "A web application isn't very helpful if a user can only go to the index (`/`). We can add more routes by using `@app.route()`. The syntax for `@app.route()` is:\n",
    "\n",
    "```python\n",
    "@app.route(<URL>)\n",
    "```\n",
    "\n",
    "Where `<path>` is the route portion of a URL. For example, if you want to add a function to your app to display a message when a user goes to `localhost:5000/weather`, you would add the following to `app.py`:\n",
    "\n",
    "```python\n",
    "@app.route('/weather')\n",
    "def weather():\n",
    "    return '<h1>The weather is currently cloudy</h1>'\n",
    "```\n",
    "\n",
    "Note the slash at the front of `/weather`. In another example, if our Flask website is http://myapp.com, and our `app.py` includes this function:\n",
    "\n",
    "```python\n",
    "@app.route('/example_page')\n",
    "def example_page():\n",
    "    return '<p>This is an example</p>'\n",
    "```\n",
    "\n",
    "Then the URL for the function `example_page()` is http://myapp.com/example_page. **However**, during testing, the URL will be http://localhost:5000/example_page."
   ]
  },
  {
   "cell_type": "markdown",
   "metadata": {},
   "source": [
    "Let's do another example. Add the following code for `info()` to your `app.py`:"
   ]
  },
  {
   "cell_type": "code",
   "execution_count": null,
   "metadata": {},
   "outputs": [],
   "source": [
    "from flask import Flask\n",
    "\n",
    "app = Flask(__name__)\n",
    "\n",
    "@app.route('/')\n",
    "def index():\n",
    "    return \"<h1>Hello World!</h1>\"\n",
    "\n",
    "@app.route('/information')\n",
    "def info():\n",
    "    return \"<h1>A different page!</h1>\"\n",
    "\n",
    "if __name__ == '__main__':\n",
    "    app.run()"
   ]
  },
  {
   "cell_type": "markdown",
   "metadata": {},
   "source": [
    "Source Jose Portilla "
   ]
  },
  {
   "cell_type": "markdown",
   "metadata": {},
   "source": [
    "Now run the Flask app again:\n",
    "\n",
    "```\n",
    "python app.py\n",
    "```\n",
    "\n",
    "Now you can test two different URLs for your app: the first is `http://localhost:5000/`, which should display `Hello World!` again, and `http://localhost:5000/information`, which will display a new message.\n",
    "\n",
    "Try going to `http://localhost:5000/chicago`, and you'll see you get a _404 error_. This error means that the page does not exist."
   ]
  },
  {
   "cell_type": "markdown",
   "metadata": {},
   "source": [
    "## Dynamic Routing"
   ]
  },
  {
   "cell_type": "markdown",
   "metadata": {},
   "source": [
    "Now that we know how to add routes to our app, we can talk about _dynamic routing_.\n",
    "\n",
    "Dynamic routing lets us create URL route extensions that aren't hard coded. A common way for web applications to operate is to have URL extensions that are specific to particular situations, such as unique profile pages for each uers. For example, if we have two users with usernames `bob` and `laura`, we can display different information when Bob vists `site.com/user/bob` and when Laura visits `site.com/user/laura`."
   ]
  },
  {
   "cell_type": "markdown",
   "metadata": {},
   "source": [
    "![SegmentLocal](https://media.tenor.com/images/365ca21ea3aef10038f62ae9244d5181/tenor.gif \"segment\")"
   ]
  },
  {
   "cell_type": "markdown",
   "metadata": {},
   "source": [
    "Two do this, you need two things in the route function:\n",
    "1. A variable in the app decorator `@app.route()` \n",
    "2. A parameter to the function being decorated that is the same as the variable above"
   ]
  },
  {
   "cell_type": "markdown",
   "metadata": {},
   "source": [
    "Let's add a dynamic route to our `app.py`:"
   ]
  },
  {
   "cell_type": "code",
   "execution_count": null,
   "metadata": {},
   "outputs": [
    {
     "name": "stdout",
     "output_type": "stream",
     "text": [
      " * Serving Flask app \"__main__\" (lazy loading)\n",
      " * Environment: production\n",
      "   WARNING: This is a development server. Do not use it in a production deployment.\n",
      "   Use a production WSGI server instead.\n",
      " * Debug mode: on\n"
     ]
    },
    {
     "name": "stderr",
     "output_type": "stream",
     "text": [
      " * Running on http://127.0.0.1:5000/ (Press CTRL+C to quit)\n",
      " * Restarting with stat\n"
     ]
    }
   ],
   "source": [
    "from flask import Flask\n",
    "\n",
    "app = Flask(__name__)\n",
    "\n",
    "@app.route('/')\n",
    "def index():\n",
    "    return \"<h1>Hello World!</h1>\"\n",
    "\n",
    "@app.route('/information')\n",
    "def info():\n",
    "    return \"<h1>A different page!</h1>\"\n",
    "\n",
    "@app.route('/user/<name>')\n",
    "def profile(name):\n",
    "    return '<h1>Hello, {}!</h1>'.format(name)\n",
    "\n",
    "if __name__ == '__main__':\n",
    "    app.run(debug=True)"
   ]
  },
  {
   "cell_type": "markdown",
   "metadata": {},
   "source": [
    "Source Jose Portilla "
   ]
  },
  {
   "cell_type": "markdown",
   "metadata": {},
   "source": [
    "Note that the variable we've added is called `name`, so we had to include it in two different places:\n",
    "1. `<name>` at the end of `@app.route()`\n",
    "2. `name` as an argument to `profile(name)`\n",
    "\n",
    "Now, inside the function `profile(name)`, we can use the variable `name`. For example, if a user goes to `/user/Rachel`, then `name = 'Rachel'`.\n",
    "\n",
    "If someone named Anne went to `localhost:5000/user/Anne`, she would get:"
   ]
  },
  {
   "cell_type": "markdown",
   "metadata": {},
   "source": [
    "![SegmentLocal](http://codingdose.info/assets/images/flask/Selection_002.png \"segment\")"
   ]
  },
  {
   "cell_type": "markdown",
   "metadata": {},
   "source": [
    "## Debugging in Flask"
   ]
  },
  {
   "cell_type": "markdown",
   "metadata": {},
   "source": [
    "![SegmentLocal](https://akns-images.eonline.com/eol_images/Entire_Site/2015315/rs_500x214-150415095549-Rq7GML4.gif?fit=inside|900:auto&output-quality=90 \"segment\")"
   ]
  },
  {
   "cell_type": "markdown",
   "metadata": {},
   "source": [
    "The flask app is started when you run it\n",
    "If the application is being changed, you must restart it manually for each change\n",
    "If you use debug mode, the server will reload itself for changes in code, so you don't have to restart manually. \n",
    "\n",
    "By default, a Flask app needs to be restarted manually after every change. If you run the app in debug mode, the Flask server that runs the app will automatically detect and reload changes to your app. In addition, you will be able to see a console in the browser.\n",
    "\n",
    "When you run the Flask app in debug mode, Flask will give you a debug pin. To access the console, copy the debug pin, go to the website (such as `http://localhost:5000`), click on the console, and paste in the pin.\n",
    "\n",
    "To turn debug mode on:"
   ]
  },
  {
   "cell_type": "code",
   "execution_count": null,
   "metadata": {},
   "outputs": [],
   "source": [
    "## For the last line of the above code:\n",
    "app.run(debug = True)"
   ]
  },
  {
   "cell_type": "markdown",
   "metadata": {},
   "source": [
    "You should never have debug mode on when you actually launch your app to production, as then actual users will see the specific errors and parts of your code. Always make sure to turn off debug mode when you \"publish\" your website for real users to use."
   ]
  },
  {
   "cell_type": "markdown",
   "metadata": {},
   "source": [
    "## Templates"
   ]
  },
  {
   "cell_type": "markdown",
   "metadata": {},
   "source": [
    "![SegmentLocal](https://media.giphy.com/media/WZ4M8M2VbauEo/giphy.gif \"segment\")"
   ]
  },
  {
   "cell_type": "markdown",
   "metadata": {},
   "source": [
    "So far, our `app.py` returns HTML content to a user using `return` and raw strings, like `<h1>Hello World!</h1>`. We can use _templates_ to create .html files that our Flask app will load and return instead. By using templates, we can separate our code for running the app and our HTML to display content to a user.\n",
    "\n",
    "First, create a new folder called `templates`, and open a file named `index.html`:\n",
    "```\n",
    "flask-lesson-1/\n",
    "  |\n",
    "  +-- app.py\n",
    "  +-- templates/\n",
    "        |\n",
    "        +-- index.html\n",
    "```\n",
    "\n",
    "Flask will automatically look for template .html files in the `templates` folder. The easiest way to return template .html files in our `app.py` is by using `render_template(<filename>)`.\n",
    "\n",
    "### Example\n",
    "\n",
    "Let's try out our first template. In `index.html`, write the following:\n",
    "\n",
    "```\n",
    "<h1>Welcome to My Site!</h1>\n",
    "<p>The quick brown fox jumps over the lazy dog.</p>\n",
    "```\n",
    "\n",
    "Now to display this HTML content when a user goes to the index (`/`), we'll modify the function `index()` in our `app.py`:"
   ]
  },
  {
   "cell_type": "code",
   "execution_count": null,
   "metadata": {},
   "outputs": [],
   "source": [
    "from flask import Flask\n",
    "\n",
    "app = Flask(__name__)\n",
    "\n",
    "@app.route('/')\n",
    "def index():\n",
    "    return render_template('index.html')\n",
    "\n",
    "@app.route('/information')\n",
    "def info():\n",
    "    return \"<h1>A different page!</h1>\"\n",
    "\n",
    "@app.route('/user/<name>')\n",
    "def profile(name):\n",
    "    return '<h1>Hello, {}!</h1>'.format(name)\n",
    "\n",
    "if __name__ == '__main__':\n",
    "    app.run(debug=True)"
   ]
  },
  {
   "cell_type": "markdown",
   "metadata": {},
   "source": [
    "Run the app, go to `http://localhost:5000/`, and you'll see `Welcome to My Site!`."
   ]
  },
  {
   "cell_type": "markdown",
   "metadata": {},
   "source": [
    "# Homework"
   ]
  },
  {
   "cell_type": "markdown",
   "metadata": {},
   "source": [
    "Your assignment is to create a website for your school. Your website will have two routes:\n",
    "\n",
    "1. The index `/` will say \"Welcome to <School Name>\" as a header and a paragraph of information about your school. The paragraph should include at least one bold word and at least one italic word.\n",
    "2. The dynamic route `/student/<name>` will display \"Hello, <name>!\", where <name> will change based on the route. For example, if a user goes to `/student/Nicky`, then the page will display \"Hello, Nicky!\""
   ]
  }
 ],
 "metadata": {
  "kernelspec": {
   "display_name": "Python 3",
   "language": "python",
   "name": "python3"
  },
  "language_info": {
   "codemirror_mode": {
    "name": "ipython",
    "version": 3
   },
   "file_extension": ".py",
   "mimetype": "text/x-python",
   "name": "python",
   "nbconvert_exporter": "python",
   "pygments_lexer": "ipython3",
   "version": "3.6.9"
  }
 },
 "nbformat": 4,
 "nbformat_minor": 2
}

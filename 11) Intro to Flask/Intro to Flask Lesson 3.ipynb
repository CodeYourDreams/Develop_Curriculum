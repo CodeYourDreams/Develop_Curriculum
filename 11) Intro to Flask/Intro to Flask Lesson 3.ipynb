{
 "cells": [
  {
   "cell_type": "markdown",
   "metadata": {},
   "source": [
    "# Flask Basics, lesson three!!"
   ]
  },
  {
   "cell_type": "markdown",
   "metadata": {},
   "source": [
    "## Forms"
   ]
  },
  {
   "cell_type": "markdown",
   "metadata": {},
   "source": [
    "![SegmentLocal](https://i.imgur.com/zm5ROlS.gif?noredirect \"segment\")"
   ]
  },
  {
   "cell_type": "markdown",
   "metadata": {},
   "source": [
    "We will now look into ways to create forms using flask "
   ]
  },
  {
   "cell_type": "markdown",
   "metadata": {},
   "source": [
    "The first way, which is the very simple way, is making HTML forms the way we know, and then connecting our Flask Application"
   ]
  },
  {
   "cell_type": "markdown",
   "metadata": {},
   "source": [
    "The easiest way to show this is in a large example!!"
   ]
  },
  {
   "cell_type": "markdown",
   "metadata": {},
   "source": [
    "In this example we will create a website that has a home page, a nav bar that takes you to the home page when clicked, a survey page that takes the name of someone who wants to join, a thank you for signing up page, as well as a custom 404 error!!"
   ]
  },
  {
   "cell_type": "code",
   "execution_count": 1,
   "metadata": {},
   "outputs": [],
   "source": [
    "## Flask App\n",
    "from flask import Flask, render_template, request\n",
    "## request is another function we are getting that will help us with making our thank you page\n",
    "app = Flask(__name__)\n",
    "\n",
    "@app.route('/')\n",
    "def index():\n",
    "    return render_template('index.html')\n",
    "\n",
    "@app.route('/signupform')\n",
    "def signup_form():\n",
    "    return render_template('signup.html')\n",
    "\n",
    "@app.route('/thank_you')\n",
    "def thank_you():\n",
    "    first = request.args.get('first')\n",
    "    last = request.args.get('last')\n",
    "    ## These go to where the get was used in a form and find which one had the label first or last, and grab the answer provided\n",
    "    return render_template('thankyou.html', first = first, last = last)\n",
    "\n",
    "@app.errorhandler(404)\n",
    "def page_not_found(e):\n",
    "    ##The e is custom since it stands for error\n",
    "    return render_template('404.html'), 404\n",
    "\n",
    "if __name__ == '__main__':\n",
    "    app.run(debug)"
   ]
  },
  {
   "cell_type": "code",
   "execution_count": null,
   "metadata": {},
   "outputs": [],
   "source": [
    "## base.html\n",
    "<!DOCTYPE html>\n",
    "<html lang = \"en\" dir = \"ltr\">\n",
    "    <head>\n",
    "        <meta charset = “utf=8”>\n",
    "        <title>Puppy Rock</title>\n",
    "        Bootstrap links!\n",
    "    </head>\n",
    "    <body>\n",
    "        <nav class = “navbar navbar-expand-lg navbar-light bg-light”>\n",
    "        <a class = “navbar-brand” href = “{{ url_for(‘index’)}}”>Home Page</a>\n",
    "        </nav>\n",
    "        \n",
    "        {% block content %}\n",
    "        \n",
    "        {% endblock %}\n",
    "    <body>\n",
    "</html>"
   ]
  },
  {
   "cell_type": "code",
   "execution_count": null,
   "metadata": {},
   "outputs": [],
   "source": [
    "## index.html\n",
    "\n",
    "{% extends \"base.html\" %}\n",
    "\n",
    "{% block content %}\n",
    "    <div class = \"jumbotron\">\n",
    "        <p>Welcome to Puppy Rock!</p>\n",
    "        <p>Wanna sign up for our pupp band??</p>\n",
    "            <a href = \"{{url_for('signup_form')}}\">Sign up for auditions here</a>\n",
    "    </div>\n",
    "{% endblock %}"
   ]
  },
  {
   "cell_type": "code",
   "execution_count": null,
   "metadata": {},
   "outputs": [],
   "source": [
    "## Signup_form.html\n",
    "{% extends \"base.html\" %}\n",
    "\n",
    "{% block content %}\n",
    "    <div class = \"jumbotron\">\n",
    "        <h1>Welcome to the sign up page!</h1>\n",
    "        <p>Fill out the form</p>\n",
    "            <form action = \"{{url_for('thank_you')}}\">\n",
    "                <label for = \"first\">First name:</label>\n",
    "                <input type = \"text\" name = \"first\">\n",
    "                <label for = \"last\">Last name:</label>\n",
    "                <input type = \"text\" name = \"last\">\n",
    "                <input type = \"submit\" value = \"Submit Form\">\n",
    "            </form>\n",
    "    </div>\n",
    "{% endblock %}"
   ]
  },
  {
   "cell_type": "code",
   "execution_count": null,
   "metadata": {},
   "outputs": [],
   "source": [
    "## thank_you.html \n",
    "{% extends \"base.html\" %}\n",
    "\n",
    "{% block content %}\n",
    "    <div class = \"jumbotron\">\n",
    "        <h1>Thanks for signing up! {{first}} {{last}} </h1>\n",
    "    </div>\n",
    "{% endblock %}"
   ]
  },
  {
   "cell_type": "code",
   "execution_count": null,
   "metadata": {},
   "outputs": [],
   "source": [
    "## 404.html\n",
    "{% extends \"base.html\" %}\n",
    "\n",
    "{% block content %}\n",
    "    <div class = \"jumbotron\">\n",
    "        <p>Sorry could not find that page!</p>\n",
    "    </div>\n",
    "{% endblock %}"
   ]
  },
  {
   "cell_type": "markdown",
   "metadata": {},
   "source": [
    "Source Jose Portilla"
   ]
  },
  {
   "cell_type": "markdown",
   "metadata": {},
   "source": [
    "## More Advanced Forms "
   ]
  },
  {
   "cell_type": "markdown",
   "metadata": {},
   "source": [
    "![SegmentLocal](https://media.tenor.com/images/11735777cd03fe010787526ce1704027/tenor.gif \"segment\")"
   ]
  },
  {
   "cell_type": "markdown",
   "metadata": {},
   "source": [
    "We can use the flask_wtf and WTForms packages to create forms from our flask python scripts "
   ]
  },
  {
   "cell_type": "markdown",
   "metadata": {},
   "source": [
    "But we need certain things:"
   ]
  },
  {
   "cell_type": "markdown",
   "metadata": {},
   "source": [
    "We need to configure a secret key for security"
   ]
  },
  {
   "cell_type": "markdown",
   "metadata": {},
   "source": [
    "We need to create a WTForm class, and fields for each part of the form"
   ]
  },
  {
   "cell_type": "markdown",
   "metadata": {},
   "source": [
    "We need to set up a view function, and add methods = ['GET', 'POST']"
   ]
  },
  {
   "cell_type": "markdown",
   "metadata": {},
   "source": [
    "Create and instance of Form Class, and handle form submission"
   ]
  },
  {
   "cell_type": "markdown",
   "metadata": {},
   "source": [
    "Here is an example, with comments to break it down!"
   ]
  },
  {
   "cell_type": "code",
   "execution_count": null,
   "metadata": {},
   "outputs": [],
   "source": [
    "## Basic.py\n",
    "from flask import Flask, render_template\n",
    "from flask_wtf import FlaskForm\n",
    "from wtforms import StringField, SubmitField\n",
    "\n",
    "app = Flask(__name__)\n",
    "\n",
    "app.config['SECRET_KEY'] = 'mysecretkey'\n",
    "## Setting configuration of secret key to an arbitrary string \n",
    "\n",
    "Class InfoForm(FlaskForm):\n",
    "    ##InfoForm is the class of choice, inheriting from FlaskForm, which we imported from flask_wtf\n",
    "    breed = StringField(\"What breed are you?\")\n",
    "    submit = SubmitField('Submit')\n",
    "    ## InfoForm has two attributes, that we just created above\n",
    "\n",
    "@app.route('/', methods = ['GET', 'POST'])\n",
    "## So we are not able to get and post these forms\n",
    "def index():\n",
    "    breed = False\n",
    "    ## different from the breed above\n",
    "    form = InfoForm()\n",
    "    if form.validate_on_submit():\n",
    "        ##if the submission was valid\n",
    "        breed = form.breed.data\n",
    "        ##gets what was entered in the form for breed\n",
    "        form.breed.data = ''\n",
    "        ##resets the form.breed.data that we just copied back to an empty string\n",
    "    return render_template('home.html', form = form, breed = breed)\n",
    "\n",
    "if __name__ == '__main__':\n",
    "    app.run(debug = True)"
   ]
  },
  {
   "cell_type": "code",
   "execution_count": null,
   "metadata": {},
   "outputs": [],
   "source": [
    "## home.html\n",
    "<p>\n",
    "{% if breed %}\n",
    "    The breed you entered is {{breed}}\n",
    "    update it in the form below:\n",
    "{% else %}\n",
    "    Please enter your breed: \n",
    "{% endif %}\n",
    "</p>\n",
    "\n",
    "<form method = 'POST'>\n",
    "    {{form.hidden_tag()}}\n",
    "    {{form.breed.label}}{{form.breed()}}\n",
    "    {{form.submit()}}\n",
    "    ## We sent into the template a form with two attributes, and the attributes and methods inherited from FlaskForm\n",
    "    ## breed.label is the question the form poses, and form.breed() is where you type the answer to the question\n",
    "</form>"
   ]
  },
  {
   "cell_type": "markdown",
   "metadata": {},
   "source": [
    "Source Jose Portilla"
   ]
  },
  {
   "cell_type": "markdown",
   "metadata": {},
   "source": [
    "### Fields"
   ]
  },
  {
   "cell_type": "markdown",
   "metadata": {},
   "source": [
    "![SegmentLocal](https://media3.giphy.com/media/xUA7aLSKFAm4nmaeU8/giphy.gif \"segment\")"
   ]
  },
  {
   "cell_type": "markdown",
   "metadata": {},
   "source": [
    "Now that we have a better idea of forms, we will begin to work with form fields more"
   ]
  },
  {
   "cell_type": "markdown",
   "metadata": {},
   "source": [
    "If there is an HTML form field, then there is a wtforms class that you can import to match it"
   ]
  },
  {
   "cell_type": "markdown",
   "metadata": {},
   "source": [
    "wtforms also has a tool called validators you can import!"
   ]
  },
  {
   "cell_type": "markdown",
   "metadata": {},
   "source": [
    "These validators check the form data for specific things, such as making a field required to be filled out"
   ]
  },
  {
   "cell_type": "markdown",
   "metadata": {},
   "source": [
    "Here is an example to break it down:"
   ]
  },
  {
   "cell_type": "code",
   "execution_count": null,
   "metadata": {},
   "outputs": [],
   "source": [
    "## Basic.py\n",
    "from flask import Flask, render_template, session, redirect, url_for\n",
    "## session and redirect are new and you will see how to use them in this example\n",
    "from flask_wtf import FlaskForm\n",
    "from wtforms import (StringField, BooleanField, DateTimeField, RadioField, \n",
    "                     SelectField, TextField, TextAreaField, SubmitField)\n",
    "## The parentheses allow all the imports to be on seperate lines without error\n",
    "from wtforms.validators import DataRequired\n",
    "## this is where validators are introduced, DataRequired is an example of one, but there are many others as well\n",
    "\n",
    "app = Flask(__name__)\n",
    "\n",
    "app.config['SECRET_KEY'] = 'mykey'\n",
    "\n",
    "Class InfoForm(FlaskForm):\n",
    "    breed = StringField('What breed are you?', validators = [DataRequired()])\n",
    "    ## This is the first part of the form, a StringField, so users are presented with the question \"What breed are you?\" and then provide a string answer\n",
    "    ## DataRequired is used here as a validator, therefore it will make sure data is recieved for this question\n",
    "    neutered = BooleanField(\"Have you been neutered?\")\n",
    "    ##This is another form field, BooleanField, so the user is presented with the question, then can check the box for yes, or leave it unchecked for no\n",
    "    mood = RadioField('Please choose your mood:', choices = [('mood_one', 'Happy'), ('mood_two', 'Excited')])\n",
    "    ## Another form field type, RadioField. For the choices, the first part, such as mood_one or mood_two, of each is for back_end\n",
    "    ## The second part, such as Happy or Excited, is what is presented to the user for each radio button, as the label\n",
    "    food_choice = SelectField('Pick you favorite food:' choices = [('chi', 'Chicken'), ('bf', 'Beef'), ('fish', 'Fish')])\n",
    "    ## this works the same as the RadioField, but is presented in a different style than the radio buttons\n",
    "    feedback = TextAreaField()\n",
    "    ## TextAreaField is provided where the user can write whatever they want\n",
    "    submit = SubmitField('Submit')\n",
    "\n",
    "@app.route('/', methods = ['GET', 'POST'])\n",
    "def index():\n",
    "    form = InfoForm()\n",
    "    if form.validate_on_submit():\n",
    "        ##if form is valid on submission\n",
    "        session['breed'] = form.breed.data\n",
    "        ##session is a way to store data for a specific amount of time, from when a user logs in to when they log out\n",
    "        ## Treat it like a dictionary, using 'breed' as a key\n",
    "        session['neutered'] = form.neutered.data\n",
    "        session['mood'] = form.mood.data\n",
    "        session['food'] = form.food_choice.data\n",
    "        session['feedback'] = form.feedback.data\n",
    "        return redirect(url_for('thankyou'))\n",
    "        ##This redirection to the thankyou page only happens upon valid submission of the form\n",
    "    return render_template('index.html', form = form)\n",
    "\n",
    "@app.route('/thankyou')\n",
    "def thankyou():\n",
    "    return render_template('thankyou.html')\n",
    "\n",
    "if __name__ == '__main__':\n",
    "    app.run(debug = True)"
   ]
  },
  {
   "cell_type": "code",
   "execution_count": null,
   "metadata": {},
   "outputs": [],
   "source": [
    "## Index.html\n",
    "<h1> Welcome to the Puppy Survey</h1>\n",
    "<form method = 'post'>\n",
    "    {{form.hidden_tag()}}\n",
    "    {{form.breed.label}}{{form.breed}}\n",
    "    <br>\n",
    "    {{form.neutered.label}}{{form.neutered}}\n",
    "    <br>\n",
    "    {{form.food_choice.label}}{{form.food_choice}}\n",
    "    <br>\n",
    "    {{form.mood.label}}{{form.mood}}\n",
    "    <br>\n",
    "    Any other feedback?\n",
    "    <br>\n",
    "    {{form.feedback}}\n",
    "    <br>\n",
    "    {{form.submit}}\n",
    "    ## The <br> between them breaks up the text by line]"
   ]
  },
  {
   "cell_type": "code",
   "execution_count": null,
   "metadata": {},
   "outputs": [],
   "source": [
    "## thankyou.html\n",
    "<h1>Thank you. Here ios the info you have us:</h1>\n",
    "<ul>\n",
    "    <li>Breed: {{sessopn['breed']}} </li>\n",
    "    <li>Neutered: {{session['neutered']}} </li>\n",
    "    <li>Mood: {{session['mood']}} </li>\n",
    "    <li>Food: {{session['food']}} </li>\n",
    "    <li>Feedback: {{session['feedback']}} </li>\n",
    "</ul>\n",
    "## In the case of mood and food, what is printed is the backend balue, mood_one or mood_two, rather than Happy or Excited"
   ]
  },
  {
   "cell_type": "markdown",
   "metadata": {},
   "source": [
    "Source Jose Portilla"
   ]
  },
  {
   "cell_type": "markdown",
   "metadata": {},
   "source": [
    "### Flashing Messages!"
   ]
  },
  {
   "cell_type": "markdown",
   "metadata": {},
   "source": [
    "![SegmentLocal](https://media.giphy.com/media/OQJQuRHDVJ1a8/giphy.gif \"segment\")"
   ]
  },
  {
   "cell_type": "markdown",
   "metadata": {},
   "source": [
    "On web applications, there are many instances when you want to send a message to a user that you don't permanently want there"
   ]
  },
  {
   "cell_type": "markdown",
   "metadata": {},
   "source": [
    "A pop up message, where you flash the message to the users and the users then have the option to close the message "
   ]
  },
  {
   "cell_type": "markdown",
   "metadata": {},
   "source": [
    "This will create something that looks like one of these:"
   ]
  },
  {
   "cell_type": "markdown",
   "metadata": {},
   "source": [
    "![SegmentLocal](https://javabeat.net/wp-content/uploads/2014/06/Bootstrap-Dismissal-Alert-Messages-Example.jpg \"segment\")"
   ]
  },
  {
   "cell_type": "code",
   "execution_count": null,
   "metadata": {},
   "outputs": [],
   "source": [
    "##basic.py\n",
    "from flask import Flask, render_template, flash, session, redirect, url_for\n",
    "from flask_wtf import FlaskForm\n",
    "from wtforms import StringField, SubmitField\n",
    "\n",
    "app = Flask(__name__)\n",
    "\n",
    "app.config['SECRET_KEY'] = 'mykey'\n",
    "\n",
    "class SimpleForm(FlaskForm):\n",
    "    submit = SubmitField('Click Me.')\n",
    "    \n",
    "@app.route('/', methods = ['GET', 'POST'])\n",
    "def index():\n",
    "    form = SimpleForm()\n",
    "    if form.validate_on_submit():\n",
    "        ##if they clicked the button\n",
    "        flash('you just clicked the button!')\n",
    "        return redirect(url_for('index'))\n",
    "    return render_template('index.html', form=form)\n",
    "\n",
    "if __name__ == '__main__':\n",
    "    app.run(debug = True)"
   ]
  },
  {
   "cell_type": "code",
   "execution_count": null,
   "metadata": {},
   "outputs": [],
   "source": [
    "##index.html\n",
    "## We will use a bit of bootstrap code!!! It can be found in the alerts portion of the documentation, under dismissing \n",
    "<!DOCTYPE html>\n",
    "<html lang = \"en\" dir = \"ltr\">\n",
    "    <head>\n",
    "        <meta charset = \"utf-8\">\n",
    "        ## Bootstrap links for jquery and JS!!!!\n",
    "        <title></title>\n",
    "    </head>\n",
    "    <body>\n",
    "        {% for mess in get_flashed_messages() %}\n",
    "        ## get_flashed_messages is what gets passed back when you call flash in the python code, \n",
    "        ##you loop through in case there is more than one message you want to flash\n",
    "       ## begininnging of bootstrap code!!\n",
    "        <div class = \"alert alert-warning alert-dismissible fade show\" role = \"alert\">\n",
    "           <button type = \"button\" class = \"fade close\" data-dismiss = \"alert\" aria-label = \"close\">\n",
    "                <span aria-hidden = \"true\">&times;</span>\n",
    "           </button>\n",
    "            {{mess}}\n",
    "        </div>\n",
    "        ## end of boostrap code!\n",
    "        ## you don't need to memorize this or anything, just have an understanding of what it is doing!\n",
    "        {% endfor %}\n",
    "        <form method = \"POST\">\n",
    "            {{form.hidden_tag()}}\n",
    "            {{form.submit()}}\n",
    "        </form>\n",
    "    </body>\n",
    "</html>"
   ]
  },
  {
   "cell_type": "markdown",
   "metadata": {},
   "source": [
    "Source Jose Portilla"
   ]
  },
  {
   "cell_type": "markdown",
   "metadata": {},
   "source": [
    "For this code, a button will appear on the home page, that says \"Click Me\""
   ]
  },
  {
   "cell_type": "markdown",
   "metadata": {},
   "source": [
    "When you click it, a pop up appears from the top of the screen that says \"you just clicked the button!\" "
   ]
  },
  {
   "cell_type": "markdown",
   "metadata": {},
   "source": [
    "This pop up has an X on it, so the user can click that to get the pop up to fade away !!"
   ]
  },
  {
   "cell_type": "markdown",
   "metadata": {},
   "source": [
    "![SegmentLocal](https://media1.tenor.com/images/53285ed070aea4f963141d04a1d23fae/tenor.gif?itemid=7342741 \"segment\")"
   ]
  },
  {
   "cell_type": "markdown",
   "metadata": {},
   "source": [
    "# Homework"
   ]
  },
  {
   "cell_type": "markdown",
   "metadata": {},
   "source": [
    "Add forms to your flask application!!"
   ]
  }
 ],
 "metadata": {
  "kernelspec": {
   "display_name": "Python 3",
   "language": "python",
   "name": "python3"
  },
  "language_info": {
   "codemirror_mode": {
    "name": "ipython",
    "version": 3
   },
   "file_extension": ".py",
   "mimetype": "text/x-python",
   "name": "python",
   "nbconvert_exporter": "python",
   "pygments_lexer": "ipython3",
   "version": "3.6.9"
  }
 },
 "nbformat": 4,
 "nbformat_minor": 2
}

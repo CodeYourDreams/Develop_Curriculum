{
 "cells": [
  {
   "cell_type": "markdown",
   "metadata": {},
   "source": [
    "# Intro to Flask: Lesson 4"
   ]
  },
  {
   "cell_type": "markdown",
   "metadata": {},
   "source": [
    "### Databases"
   ]
  },
  {
   "cell_type": "markdown",
   "metadata": {},
   "source": [
    "So far, we've just learned how to grab user information with forms on Flask, but we don't know how to store that information long term.\n",
    "\n",
    "\n",
    "In this lesson, we will store learn how to store user-inputted information by linking our Flask Applications to a database. \n",
    "\n",
    "We will do this with SQL, structured query language, which will allow you to store data in a format similar to a large Excel sheet:"
   ]
  },
  {
   "cell_type": "markdown",
   "metadata": {},
   "source": [
    "![SegmentLocal](https://www.dummies.com/wp-content/uploads/414095.image0.jpg \"segment\")"
   ]
  },
  {
   "cell_type": "markdown",
   "metadata": {},
   "source": [
    "In a lot of cases, it would be beneficial to learn SQL syntax and statements to work with SQL databases, but we can use libraries that allow us to just use Python code, so that we don't have to learn a whole new language.\n",
    "\n",
    "We will connect our python and flask to SQLite, which is a simple SQL database engine that can handle everything we need.\n",
    "\n",
    "To connect all three though, we need an ORM, object rotational mapper, which can directly use python instead of SQL syntax to do anything we might need, such as create or updating from our database.\n",
    "\n",
    "The most common ORM for python is SQLAlchemy, but we will use Flask-SQLAlchemy, which is a further extension that allows for the connection of Flask with SQLAlchemy. To install:"
   ]
  },
  {
   "cell_type": "code",
   "execution_count": null,
   "metadata": {},
   "outputs": [],
   "source": [
    "pip install Flask-SQLAlchemy"
   ]
  },
  {
   "cell_type": "markdown",
   "metadata": {},
   "source": [
    "To start working with databases, we must do the following things:\n",
    "\n",
    "1) Set up an SQLite Database in a Flask application\n",
    "\n",
    "2) Create a model in Flask application\n",
    "\n",
    "3) Create, Read, Update, and Delete data in the model. These basic database operations are also known as CRUD."
   ]
  },
  {
   "cell_type": "markdown",
   "metadata": {},
   "source": [
    "### Setting up SQLite database in a Flask application"
   ]
  },
  {
   "cell_type": "markdown",
   "metadata": {},
   "source": [
    "You start this by creating a Flask app, like we have before:"
   ]
  },
  {
   "cell_type": "code",
   "execution_count": null,
   "metadata": {},
   "outputs": [],
   "source": [
    "app = Flask(__name__)"
   ]
  },
  {
   "cell_type": "markdown",
   "metadata": {},
   "source": [
    "Then you need to configure flask app for SQLAlchemy, in a similar way to configuring a secret key when working with forms:"
   ]
  },
  {
   "cell_type": "code",
   "execution_count": null,
   "metadata": {},
   "outputs": [],
   "source": [
    "app.config['SQLALCHEMY_DATABASE_URI'] = 'sqlite:///' + os.path.join(basedir, 'data,sqlite')\n",
    "app.config['SQLALCHEMY_TRACK_MODIFICATIONS'] = False"
   ]
  },
  {
   "cell_type": "markdown",
   "metadata": {},
   "source": [
    "Then you will pass app into a SQLAlchemy class call:"
   ]
  },
  {
   "cell_type": "code",
   "execution_count": null,
   "metadata": {},
   "outputs": [],
   "source": [
    "db = SQLAlchemy(app)"
   ]
  },
  {
   "cell_type": "markdown",
   "metadata": {},
   "source": [
    "And you're free to make a model and work with it in Python. We will see this in an example later in the lesson, so that you will get a better understanding of it."
   ]
  },
  {
   "cell_type": "markdown",
   "metadata": {},
   "source": [
    "### Create a model in Flask App"
   ]
  },
  {
   "cell_type": "markdown",
   "metadata": {},
   "source": [
    "![SegmentLocal](https://media0.giphy.com/media/evYq0C369LiQ8/giphy.gif \"segment\")"
   ]
  },
  {
   "cell_type": "markdown",
   "metadata": {},
   "source": [
    "Models are important because they directly link to a table in an SQL database, so you do not have to manually create the table, you just have to create a model class that makes the table for us!"
   ]
  },
  {
   "cell_type": "markdown",
   "metadata": {},
   "source": [
    "The process is similar to creating a FlaskForm, except for models:\n",
    "\n",
    "1) You create a model class\n",
    "\n",
    "2) Inherit from db.model\n",
    "\n",
    "3) optionally provide a table name\n",
    "\n",
    "4) Add in table columns as attributes\n",
    "\n",
    "5) and add methods for __init__ and __rep__\n"
   ]
  },
  {
   "cell_type": "markdown",
   "metadata": {},
   "source": [
    "Again, this will make more sense when you see it in an example."
   ]
  },
  {
   "cell_type": "markdown",
   "metadata": {},
   "source": [
    "## Example"
   ]
  },
  {
   "cell_type": "markdown",
   "metadata": {},
   "source": [
    "![SegmentLocal](https://media0.giphy.com/media/3o6ZtaO9BZHcOjmErm/giphy.gif \"segment\")"
   ]
  },
  {
   "cell_type": "markdown",
   "metadata": {},
   "source": [
    "The example below explains the concepts above with correct syntax. Here, create_database.py creates a table and manually adds two puppies (written in code). Since models were used we did not have to do this (users would do this on a website, etc), but it's useful to see as an initial example:"
   ]
  },
  {
   "cell_type": "code",
   "execution_count": null,
   "metadata": {},
   "outputs": [],
   "source": [
    "## basic.py\n",
    "import os\n",
    "## allows us to grab directory names and filepath names programmatically with python\n",
    "from flask import Flask \n",
    "from flask_sqlalchemy import SQLAlchemy\n",
    "\n",
    "basedir = os.path.abspath(os.path.dirname(__file__))\n",
    "##__file__ is built in and set to name of file, aka basic.py, os.path grabs the name and then the file path\n",
    "## this gives you something like C://Desktop/flaskwork/basic.py\n",
    "\n",
    "app = Flask(__name__)\n",
    "\n",
    "app.config['SQLALCHEMY_DATABASE_URI'] = 'sqlite:///' + os.path.join(basedir, 'data,sqlite')\n",
    "app.config['SQLALCHEMY_TRACK_MODIFICATIONS'] = False\n",
    "\n",
    "db = SQLAlchemy(app)\n",
    "## These create a SQLite database using python \n",
    "\n",
    "class Puppy(db.Model):\n",
    "    ## creating the table model \n",
    "    __tablename__ = 'puppies'\n",
    "    \n",
    "    id = db.Column(db.Integer, primary_key = True)\n",
    "    ## id is an attribute in the class, and is set equal to a column of integers. \n",
    "    ## making it a primary key means that the ID attribute will be unique for each puppy, so it should be the primary \n",
    "    ## distinguisher, unlike names or breeds. If you want to look for a specific puppy, you would use its id.  \n",
    "    name = db.Column(db.Text)\n",
    "    age = db.Column(db.Integer)\n",
    "    \n",
    "    def __init__(self, name, age):\n",
    "        self.name = name\n",
    "        self.age = age\n",
    "    \n",
    "    def __rep__(self):\n",
    "        return \"puppy {self.name} is {self.age} years old\""
   ]
  },
  {
   "cell_type": "code",
   "execution_count": null,
   "metadata": {},
   "outputs": [],
   "source": [
    "# create_database.py\n",
    "from basic import db, Puppy\n",
    "## takes from basic.py\n",
    "\n",
    "db.create_all() \n",
    "## creates all tables, models become db tables\n",
    "\n",
    "sam = Puppy('sammy', 3)\n",
    "# This is basically saying: sam is an instance of Puppy class, named sammy, 3 years old \n",
    "frank = Puppy('frankie', 4)\n",
    "\n",
    "print(sam.id)\n",
    "print(frank.id)\n",
    "# These shpuld both print None because they are not yet in the database\n",
    "\n",
    "db.session.add_all([sam, frank])\n",
    "# You can also just add one by using .add(sam)\n",
    "\n",
    "db.session.commit()\n",
    "# Saves changes\n",
    "\n",
    "print(sam.id)\n",
    "print(frank.id)"
   ]
  },
  {
   "cell_type": "markdown",
   "metadata": {},
   "source": [
    "Notice that when you run create_database.py, it will print:\n",
    "\n",
    "None\n",
    "\n",
    "None\n",
    "\n",
    "1\n",
    "\n",
    "2\n",
    "\n",
    "because indexing for databases starts at 1 rather than 0.\n",
    "\n",
    "This is the first time you have been introduced to apps that link multiple files in order to work. Note that you only import Flask and SQLAlchemy in basic.py. However, createdatabase.py still uses those packages effortlessly. This is because createdatabase.py imports basic.py and all the packages it uses - it's dependent on the main file. Thus here and in future lessons, basic.py or app.py will be the main file, and all supplementary files imports that code - and perhaps other files' code - according to its dependencies. If done correctly, the code files link and can run together.   "
   ]
  },
  {
   "cell_type": "markdown",
   "metadata": {},
   "source": [
    "The next part is just to show you the basics of CRUD - Creating, Reading, Updating, and Deleting:"
   ]
  },
  {
   "cell_type": "code",
   "execution_count": null,
   "metadata": {},
   "outputs": [],
   "source": [
    "# crud.py\n",
    "from basic import db, puppy\n",
    "\n",
    "# create \n",
    "my_puppy = Puppy('Rufus', 5)\n",
    "db.session.add(my_puppy)\n",
    "db.session.commit()\n",
    "# same we saw in last one \n",
    "\n",
    "# Read\n",
    "all_puppies = Puppy.query.all()\n",
    "# returns a list of puppy objects in table\n",
    "print(all_puppies)\n",
    "\n",
    "# select by ID:\n",
    "puppy_one = Puppy.query.get(1)\n",
    "print(puppy_one.name)\n",
    "\n",
    "# filters:\n",
    "puppy_frankie = Puppy.query.filter_by(name = 'Frankie')\n",
    "print(puppy_frankie.all())\n",
    "# prints all puppies with name frankie\n",
    "# prints in the form: puppy Frankie is 3 years old \n",
    "\n",
    "# Update\n",
    "first_puppy = Puppy.query.get(1)\n",
    "first_puppy.age = 10\n",
    "db.session.add(first_puppy)\n",
    "db.session.commit()\n",
    "\n",
    "# Delete\n",
    "second_pup = Puppy.query.get(2)\n",
    "db.session.delete(second_pup)\n",
    "db.session.commit()\n",
    "\n",
    "# Source Jose Portilla"
   ]
  },
  {
   "cell_type": "markdown",
   "metadata": {},
   "source": [
    "To see your results, run crud.py. Play around with this for a while. What happens when you print Puppy.query.get(2)? How would print sammy's age? "
   ]
  },
  {
   "cell_type": "markdown",
   "metadata": {},
   "source": [
    "### Flask Migrate"
   ]
  },
  {
   "cell_type": "markdown",
   "metadata": {},
   "source": [
    "![SegmentLocal](https://media3.giphy.com/media/U1keBkXnIeiY0/source.gif \"segment\")"
   ]
  },
  {
   "cell_type": "markdown",
   "metadata": {},
   "source": [
    "When you make a Model for a database table, there will be times where you need to make changes to the Model - if you want to add a new column to a data table, then revert it back to the previous state, for example. \n",
    "\n",
    "Database migration refers to the management of these incremental, reversible changes and version control of the database. When you make any change, you need to \"migrate\" the changes so the table itself gets updated, much like you do in git. Then you'll have a history of changes that you can revert or look at any time.\n",
    "\n",
    "We will use Flask Migrate to do this!"
   ]
  },
  {
   "cell_type": "markdown",
   "metadata": {},
   "source": [
    "To install:"
   ]
  },
  {
   "cell_type": "code",
   "execution_count": null,
   "metadata": {},
   "outputs": [],
   "source": [
    "pip install Flask-Migrate"
   ]
  },
  {
   "cell_type": "markdown",
   "metadata": {},
   "source": [
    "Using this allows us to link changes we make to our Model class with our SQL database.\n",
    "\n",
    "To use Migrate in your app, with the imports of your basic.py code, include:"
   ]
  },
  {
   "cell_type": "code",
   "execution_count": null,
   "metadata": {},
   "outputs": [],
   "source": [
    "from flask_migrate import Migrate "
   ]
  },
  {
   "cell_type": "markdown",
   "metadata": {},
   "source": [
    "and directly beneath db = SQLAlchemy(app), include:"
   ]
  },
  {
   "cell_type": "code",
   "execution_count": null,
   "metadata": {},
   "outputs": [],
   "source": [
    "Migrate(app, db) "
   ]
  },
  {
   "cell_type": "markdown",
   "metadata": {},
   "source": [
    "This connects the application with the database.\n",
    "\n",
    "Migration involves four main commands for the command line.\n",
    "\n",
    "First you need to set the FLASK_APP environment variable, to tell Flask how to load your document:"
   ]
  },
  {
   "cell_type": "code",
   "execution_count": null,
   "metadata": {},
   "outputs": [],
   "source": [
    "## MacOS/Linux:\n",
    "export FLASK_APP=basic.py\n",
    "\n",
    "## Windows:\n",
    "set FLASK_APP=basic.py\n",
    "\n",
    "## basic.py is whatever the name of your flask application is"
   ]
  },
  {
   "cell_type": "markdown",
   "metadata": {},
   "source": [
    "Remember, we refer to the file's directory when we do this. So when running the above, you need to make sure you are in the same directory as your file!!"
   ]
  },
  {
   "cell_type": "markdown",
   "metadata": {},
   "source": [
    "Next, you can add a migrations directory to your application:"
   ]
  },
  {
   "cell_type": "code",
   "execution_count": null,
   "metadata": {},
   "outputs": [],
   "source": [
    "flask db init"
   ]
  },
  {
   "cell_type": "markdown",
   "metadata": {},
   "source": [
    "If you type \"ls\" into the command line, you can see that the migrations directory has been created, along with a pycache directory. The pycache directory holds optimized versions of your files and can be ignored. The migrations directory can also be ignored; just note that that is where you will be putting your migrated database files."
   ]
  },
  {
   "cell_type": "markdown",
   "metadata": {},
   "source": [
    "Next set up the migrations file:"
   ]
  },
  {
   "cell_type": "code",
   "execution_count": null,
   "metadata": {},
   "outputs": [],
   "source": [
    "flask db migrate -m \"some message\"    # For this app, \"created puppy table\" could be useful."
   ]
  },
  {
   "cell_type": "markdown",
   "metadata": {},
   "source": [
    "When you do this and further steps, you might receive info tags, such as:\n",
    "\n",
    "INFO  [alembic.runtime.migration] Context impl SQLiteImpl.\n",
    "\n",
    "INFO  [alembic.runtime.migration] Will assume non-transactional DDL.\n",
    "\n",
    "INFO  [alembic.env] Detected added table 'puppies'\n",
    "\n",
    "This gives you information on the save and can be ignored for now.\n",
    "\n",
    "Note - the message in the migrate command is used to communicate the context of a save (what was updated or removed, why changes were made, etc) to others and your future self. If you look at your history of changes, the message will indicate what you were changing at that moment. \n",
    "\n"
   ]
  },
  {
   "cell_type": "markdown",
   "metadata": {},
   "source": [
    "\n",
    "To update the database with the migration:"
   ]
  },
  {
   "cell_type": "code",
   "execution_count": null,
   "metadata": {},
   "outputs": [],
   "source": [
    "flask db upgrade"
   ]
  },
  {
   "cell_type": "markdown",
   "metadata": {},
   "source": [
    "To summarize, you can run the four commands we just went over on your command line:"
   ]
  },
  {
   "cell_type": "code",
   "execution_count": null,
   "metadata": {},
   "outputs": [],
   "source": [
    "export FLASK_APP=basic.py\n",
    "flask db init\n",
    "flask db migrate -m \"some message\"\n",
    "flask db upgrade"
   ]
  },
  {
   "cell_type": "markdown",
   "metadata": {},
   "source": [
    "Go ahead and do this before continuing.\n",
    "\n",
    "We can now modify our database - add a column, for example. \n",
    "\n",
    "To do this, within the Puppy class of our code, we will add a breed attribute:\n"
   ]
  },
  {
   "cell_type": "code",
   "execution_count": null,
   "metadata": {},
   "outputs": [],
   "source": [
    "breed = db.Column(db.Text)"
   ]
  },
  {
   "cell_type": "markdown",
   "metadata": {},
   "source": [
    "This specifies a new text column for our database.\n",
    "\n",
    "You should also assign a value for breed:"
   ]
  },
  {
   "cell_type": "code",
   "execution_count": null,
   "metadata": {},
   "outputs": [],
   "source": [
    "self.breed = breed "
   ]
  },
  {
   "cell_type": "markdown",
   "metadata": {},
   "source": [
    "Finally, we need to save these changes since we added a column and rearranged the whole database:"
   ]
  },
  {
   "cell_type": "code",
   "execution_count": null,
   "metadata": {},
   "outputs": [],
   "source": [
    "flask db migrate -m \"added breed column\"\n",
    "flask db upgrade"
   ]
  },
  {
   "cell_type": "markdown",
   "metadata": {},
   "source": [
    "This column is empty at the moment. If anybody wants to add their dog's breed in the future, or you want to input another dog into the system, you can put their breed alongside their name and age. \n",
    "\n",
    "Next, on the command line, run:"
   ]
  },
  {
   "cell_type": "code",
   "execution_count": null,
   "metadata": {},
   "outputs": [],
   "source": [
    "flask db history"
   ]
  },
  {
   "cell_type": "markdown",
   "metadata": {},
   "source": [
    "Here you will see that there is a record of your migrations with your commit messages. You can go back and see your old version or revert the change whenever you want."
   ]
  },
  {
   "cell_type": "markdown",
   "metadata": {},
   "source": [
    "# Homework"
   ]
  },
  {
   "cell_type": "markdown",
   "metadata": {},
   "source": [
    "Begin using databases to store your users data/for what your app needs them for."
   ]
  }
 ],
 "metadata": {
  "kernelspec": {
   "display_name": "Python 3",
   "language": "python",
   "name": "python3"
  },
  "language_info": {
   "codemirror_mode": {
    "name": "ipython",
    "version": 3
   },
   "file_extension": ".py",
   "mimetype": "text/x-python",
   "name": "python",
   "nbconvert_exporter": "python",
   "pygments_lexer": "ipython3",
   "version": "3.6.9"
  }
 },
 "nbformat": 4,
 "nbformat_minor": 2
}
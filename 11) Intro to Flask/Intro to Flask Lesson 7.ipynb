{
 "cells": [
  {
   "cell_type": "markdown",
   "metadata": {},
   "source": [
    "# Intro to Flask, Lesson 7"
   ]
  },
  {
   "cell_type": "markdown",
   "metadata": {},
   "source": [
    "## APIs \n",
    "\n",
    "### REST APIs\n",
    "\n",
    "So far, we only have visited sites manually, so we had put user information into templates and views. But we have yet to consider what to do if we wanted to just directly access information, or wanted a server to directly access our database."
   ]
  },
  {
   "cell_type": "markdown",
   "metadata": {},
   "source": [
    "![SegmentLocal](https://media3.giphy.com/media/d2Z0zWe67TDcbCzC/giphy.gif \"segment\")"
   ]
  },
  {
   "cell_type": "markdown",
   "metadata": {},
   "source": [
    "This is where the software architecture style __REST__ comes in, with stands for:\n",
    "\n",
    "__RE__ representational \n",
    "\n",
    "__S__ state\n",
    "\n",
    "__T__ transfer \n",
    "\n",
    "This allows us to provide interactions between different computer systems online in a standardized way.\n",
    "\n",
    "There are only certain times when you will want to use REST though, for example:\n",
    "\n",
    "If you are making a website for something and it will mostly just be photos and concrete information, then you will likely not need REST here.\n",
    "\n",
    "But if you are making a site with a lot of different information that changes often, such as an online shop, and users want to filter information, users could either manually scrape through the website with their own programming scripts, or you can get a REST API for them to use!"
   ]
  },
  {
   "cell_type": "markdown",
   "metadata": {},
   "source": [
    "The easiest and most popular way to use this API is with the Flask-Restful Library. \n",
    "\n",
    "To use this need to understand some of the terminology for APIs, in a similar to way to that with Databases (and which you might have seen in your terminal when running the web page you made in lesson 6):\n",
    "\n",
    "    To create with API: POST\n",
    "    To read with API: GET\n",
    "    To update with API: PUT\n",
    "    To delete with API: DELETE"
   ]
  },
  {
   "cell_type": "markdown",
   "metadata": {},
   "source": [
    "A helpful service to use with REST is Postman, which you will want to install to use the above operations. The website is called Postman, and there you just want to hit Download and select the operating systeming you are running on (Mac/OS or Linux).\n",
    "\n",
    "So now we need to learn how actually learn how to send back information using REST, and the most common format for this is to use json, which as you will see is very similar to python dictionary"
   ]
  },
  {
   "cell_type": "markdown",
   "metadata": {},
   "source": [
    "Before you begin to work on a flask application to try this, you need to make sure your environment is activated and that you: "
   ]
  },
  {
   "cell_type": "code",
   "execution_count": null,
   "metadata": {},
   "outputs": [],
   "source": [
    "pip install Flask-Restful"
   ]
  },
  {
   "cell_type": "markdown",
   "metadata": {},
   "source": [
    "Then for a really simple example:"
   ]
  },
  {
   "cell_type": "code",
   "execution_count": null,
   "metadata": {},
   "outputs": [],
   "source": [
    "# simpleapi.py\n",
    "from flask import Flask \n",
    "from flask_restful import Resource, Api\n",
    "# Resource allows you to create a resource to connect to, \n",
    "# and Api will allow that resource to actually connect!\n",
    "\n",
    "app = Flask(__name__)\n",
    "\n",
    "api = Api(app)\n",
    "# Wrapping our application with an api call\n",
    "\n",
    "class HelloWorld(Resource):\n",
    "    # Created a class which inherits from Resource\n",
    "    \n",
    "    def get(self):\n",
    "        return {'hello': 'world'}\n",
    "    \n",
    "api.add_resource(HelloWorld, '/')\n",
    "# This adds a resources, and by passing the class and the homepage denoter, \n",
    "# it connects the two \n",
    "\n",
    "if __name__ == '__main__':\n",
    "    app.run(debug = True)"
   ]
  },
  {
   "cell_type": "markdown",
   "metadata": {},
   "source": [
    "source Jose Portilla"
   ]
  },
  {
   "cell_type": "markdown",
   "metadata": {},
   "source": [
    "First run this, then open up Postman and create a new __collection__! A collection is basically a folder holding a bunch of requests. After creating this, you will see the name of the collection on the left hand side, with three dots that when you hover over, you get a variety of options in regards to the collection (share collection, modify permissions, etc)."
   ]
  },
  {
   "cell_type": "markdown",
   "metadata": {},
   "source": [
    "![SegmentLocal](https://cdn.softwaretestinghelp.com/wp-content/qa/uploads/2019/10/Postman-addRequestToCollection.jpg \"segment\")"
   ]
  },
  {
   "cell_type": "markdown",
   "metadata": {},
   "source": [
    "What you want to do here is choose to __add request__."
   ]
  },
  {
   "cell_type": "markdown",
   "metadata": {},
   "source": [
    "Then you can click on your new request, and in the search bar it provides for you, choose the GET option, and provide the URL given to you by your running app. This should return hello world!"
   ]
  },
  {
   "cell_type": "markdown",
   "metadata": {},
   "source": [
    "Now if we want to build a more complicated example:"
   ]
  },
  {
   "cell_type": "code",
   "execution_count": null,
   "metadata": {},
   "outputs": [],
   "source": [
    "# simpleapi.py\n",
    "from flask import Flask\n",
    "from flask_restful import Resource, Api\n",
    "\n",
    "app = Flask(__name__)\n",
    "api = Api(app)\n",
    "\n",
    "puppies = []\n",
    "# This is creating an empty list of puppies that will eventually be formated like:\n",
    "# [{'name':'Rufus'}, {'name':'Atticus'},...]\n",
    "\n",
    "class PuppyNames(Resource):\n",
    "    \n",
    "    def get(self, name):\n",
    "        \n",
    "        for pup in puppies:\n",
    "            if pup['name'] == name:\n",
    "                return pup\n",
    "            # Goes through every puppy and finds the one with the given name \n",
    "        \n",
    "        return {'name': None}\n",
    "        # If no puppy has that name \n",
    "    \n",
    "    def post(self, name):\n",
    "        \n",
    "        pup = {'name': name}\n",
    "        # We will pass in a URL that ends in /name, where the name is what we are using\n",
    "        \n",
    "        puppies.append(pup)\n",
    "        # Adds the pup to the end of the list of puppies\n",
    "        \n",
    "        return pup\n",
    "    \n",
    "    def delete(self, name):\n",
    "        for index, pup in enumerate(puppies):\n",
    "            # index is the index position and enumerate basically passes a counter\n",
    "            \n",
    "            if pup['name'] == name:\n",
    "                deleted_pup = puppies.pop(ind)\n",
    "                return {'note':'delete success'}\n",
    "    # All the get, post, delete methods have to have the same parameters\n",
    "\n",
    "class AllNames(Resource):\n",
    "    \n",
    "    def get(self):\n",
    "        return {'puppies': puppies}\n",
    "        # Returns the full list of puppies\n",
    "    \n",
    "\n",
    "api.add_resource(PuppyNames, '/puppy/<string:name>')\n",
    "api.add_resource(AllNames, '/puppies')\n",
    "\n",
    "if __name__ == '__main__':\n",
    "    app.run(debug = True)\n",
    "    "
   ]
  },
  {
   "cell_type": "markdown",
   "metadata": {},
   "source": [
    "source Jose Portilla"
   ]
  },
  {
   "cell_type": "markdown",
   "metadata": {},
   "source": [
    "So when you use Postman as we did before, you can use __POST__ to add puppies to the list. If you want to add a puppy whose name is Atticus, for example, under \"method,\" select the __POST__ tab. Add the URL in the box, then type __/puppy/Atticus__, so you should be entering __URL/puppy/Atticus__.\n",
    "\n",
    "You can retrieve a puppy's information by name by using the same URL (with the addition of __/puppy/puppy_name__) but changing the method to __GET__.\n",
    "\n",
    "Then you can delete by once again using the same URL (with the addition of __/puppy/puppy_name__) but changing the method to __DELETE__.\n",
    "\n",
    "If you want to display a list of all the puppies, you would just give the same URL and add __/puppies__."
   ]
  },
  {
   "cell_type": "markdown",
   "metadata": {},
   "source": [
    "### Flask JWT"
   ]
  },
  {
   "cell_type": "markdown",
   "metadata": {},
   "source": [
    "The __Flask-JWT__ library, which stands for Jason Webb Token Library, can be used tp require authorizaation before a REST API is ever called "
   ]
  },
  {
   "cell_type": "code",
   "execution_count": null,
   "metadata": {},
   "outputs": [],
   "source": [
    "pip install Flask-JWT"
   ]
  },
  {
   "cell_type": "markdown",
   "metadata": {},
   "source": [
    "If we use the example from above, we just need to add a few lines to the main file, and then two more files"
   ]
  },
  {
   "cell_type": "markdown",
   "metadata": {},
   "source": [
    "So the two other files we need are:"
   ]
  },
  {
   "cell_type": "code",
   "execution_count": null,
   "metadata": {},
   "outputs": [],
   "source": [
    "# user.py\n",
    "class User():\n",
    "    \n",
    "    def __init__(self, id, username, password):\n",
    "        \n",
    "        self.id = id\n",
    "        self.username = username\n",
    "        self.password = password\n",
    "        \n",
    "    def __str__(self):\n",
    "        return \"User Id: {self.id}\""
   ]
  },
  {
   "cell_type": "code",
   "execution_count": null,
   "metadata": {},
   "outputs": [],
   "source": [
    "# secure_check.py\n",
    "from user import User\n",
    "# Imports the User class we just created above\n",
    "\n",
    "users = [User(1, \"Kelly\", \"mypassword\"), User(2, \"Mimi\", \"secret\")]\n",
    "# This creates some users\n",
    "\n",
    "username_table = {u.username: u for u in users}\n",
    "# For every user, grab username and link it to that user to create the table and be able to look things up by username\n",
    "userid_table = {u.id: u for u in users}\n",
    "\n",
    "def authenticate(username, password):\n",
    "    # Checks if user still exists and if so, returns the user\n",
    "    \n",
    "    user = username_table.get(username, None)\n",
    "    # The None signifies that if the user does not exist, return None\n",
    "    \n",
    "    if user and password == user.password:\n",
    "        # If the user is not None, therefore exists, and the psasword is correct\n",
    "        return user\n",
    "\n",
    "def identity(payload):\n",
    "    user_id = payload['identity']\n",
    "    return userid_table.get(user_id,None)"
   ]
  },
  {
   "cell_type": "markdown",
   "metadata": {},
   "source": [
    "Source Jose Portilla"
   ]
  },
  {
   "cell_type": "markdown",
   "metadata": {},
   "source": [
    "Then in the original file with PuppyClass and AllNames, we need to add two more imports:"
   ]
  },
  {
   "cell_type": "code",
   "execution_count": null,
   "metadata": {},
   "outputs": [],
   "source": [
    "from secure_check import authenticate, identity\n",
    "from flask_jwt import JWT, jwt_required"
   ]
  },
  {
   "cell_type": "markdown",
   "metadata": {},
   "source": [
    "Then below where you create the Flask application:"
   ]
  },
  {
   "cell_type": "code",
   "execution_count": null,
   "metadata": {},
   "outputs": [],
   "source": [
    "app.config['SECRET_KEY'] = 'secretkey'\n",
    "\n",
    "jwt = JWT(app, authenticate, identity)"
   ]
  },
  {
   "cell_type": "markdown",
   "metadata": {},
   "source": [
    "If you want to make something exclusively available to authorized users, add a decorator before each exclusive function.\n",
    "\n",
    "For example, if you want all the names to be printed only for authenticated users, your AllNames class would be like this:"
   ]
  },
  {
   "cell_type": "code",
   "execution_count": null,
   "metadata": {},
   "outputs": [],
   "source": [
    "class AllNames(Resource):\n",
    "    \n",
    "    @jwt_required()\n",
    "    def get(self):\n",
    "        return {'puppies': puppies}"
   ]
  },
  {
   "cell_type": "markdown",
   "metadata": {},
   "source": [
    "## With Databases!"
   ]
  },
  {
   "cell_type": "markdown",
   "metadata": {},
   "source": [
    "![SegmentLocal](https://media2.giphy.com/media/3q3QK6KyDVUBzih7hB/giphy.gif \"segment\")"
   ]
  },
  {
   "cell_type": "markdown",
   "metadata": {},
   "source": [
    "To make this work with databases, we just have to change a few things about our previous code!"
   ]
  },
  {
   "cell_type": "code",
   "execution_count": null,
   "metadata": {},
   "outputs": [],
   "source": [
    "# simpleapi.py\n",
    "import os\n",
    "from flask import Flask\n",
    "from flask_restful import Resource, Api\n",
    "from secure_check import authenticate, identity\n",
    "from flask_jwt import JWT, jwt_required\n",
    "from flask_sqlalchemy import SQLAlchemy\n",
    "from flask_migrate import Migrate \n",
    "\n",
    "app = Flask(__name__)\n",
    "app.config['SECRET_KEY'] = 'secretkey'\n",
    "basedir = os.path.abspath(os.path.dirname(__file__))\n",
    "app.config['SQLALCHEMY_DATABASE_URI'] = 'sqlite:///'+os.path.join(basedir, 'datasqlite')\n",
    "app.config['SQLALCHEMY_TRACK_MODIFICATIONS'] = False\n",
    "\n",
    "db = SQLAlchemy(app)\n",
    "Migrate(app,db)\n",
    "\n",
    "api = Api(app)\n",
    "jwt = JWT(app, authenticate, identity)\n",
    "\n",
    "class Puppy(db.Model):\n",
    "    \n",
    "    name = db.Column(db.String(80), primary_key = True)\n",
    "    \n",
    "    def __init__(self,name):\n",
    "        self.name = name\n",
    "        \n",
    "    def json(self):\n",
    "        return {'name':self.name}\n",
    "    \n",
    "class PuppyNames(Resource):\n",
    "    def get(self, name):\n",
    "        pup = Puppy.query.filter_by(name = name).first()\n",
    "        \n",
    "        if pup:\n",
    "            return pup.json()\n",
    "        else:\n",
    "            return {'name': None}\n",
    "    \n",
    "    def post(self,name):\n",
    "        \n",
    "        pup = Puppy(name = name)\n",
    "        db.session.add(pup)\n",
    "        db.session.commit()\n",
    "        \n",
    "        return pup.json()\n",
    "    \n",
    "    def delete(self, name):\n",
    "        pup = Puppy.query.filter_by(name = name).first()\n",
    "        db.session.delete(pup)\n",
    "        db.session.commit()\n",
    "        \n",
    "        return {'note': 'delete success'}\n",
    "    \n",
    "class AllNames(Resource):\n",
    "    def get(self):\n",
    "        puppies = Puppy.query.all()\n",
    "        \n",
    "        return [pup.json() for pup in puppies]\n",
    "    "
   ]
  },
  {
   "cell_type": "markdown",
   "metadata": {},
   "source": [
    "Then you need to perform a migration."
   ]
  },
  {
   "cell_type": "code",
   "execution_count": null,
   "metadata": {},
   "outputs": [],
   "source": [
    "export FLASK_APP=simpleapi.py\n",
    " \n",
    "flask db init\n",
    "\n",
    "flask db migrate -m \"first migrate\"\n",
    "\n",
    "flask db upgrade"
   ]
  },
  {
   "cell_type": "markdown",
   "metadata": {},
   "source": [
    "## Deploying Your Application!!"
   ]
  },
  {
   "cell_type": "markdown",
   "metadata": {},
   "source": [
    "![SegmentLocal](https://media3.giphy.com/media/5GoVLqeAOo6PK/giphy.gif \"segment\")"
   ]
  },
  {
   "cell_type": "markdown",
   "metadata": {},
   "source": [
    "Everything we have done so far has made local flask apps, but you want a live web app that can be accessed by everyone!!!"
   ]
  },
  {
   "cell_type": "markdown",
   "metadata": {},
   "source": [
    "We are going to do this using __Heroku__"
   ]
  },
  {
   "cell_type": "markdown",
   "metadata": {},
   "source": [
    "You have your application, for simplicity sake, here is my example:"
   ]
  },
  {
   "cell_type": "code",
   "execution_count": null,
   "metadata": {},
   "outputs": [],
   "source": [
    "# app.py\n",
    "from flask import Flask \n",
    "\n",
    "app = Flask(__name__)\n",
    "\n",
    "@app.route('/')\n",
    "def index():\n",
    "    return \"Hello World!\"\n",
    "\n",
    "if __name__ == '__main__':\n",
    "    app.run()"
   ]
  },
  {
   "cell_type": "markdown",
   "metadata": {},
   "source": [
    "Now you need to create your virtual environment at the command line:"
   ]
  },
  {
   "cell_type": "code",
   "execution_count": null,
   "metadata": {},
   "outputs": [],
   "source": [
    "conda create -n flaskdeploy flask \n",
    "# Name it whatever you please\n",
    "source activate flaskdeploy"
   ]
  },
  {
   "cell_type": "markdown",
   "metadata": {},
   "source": [
    "This is where you should install any libraries you will need for your application, such as flask_login or flask_migrate "
   ]
  },
  {
   "cell_type": "markdown",
   "metadata": {},
   "source": [
    "Now on command line:"
   ]
  },
  {
   "cell_type": "code",
   "execution_count": null,
   "metadata": {},
   "outputs": [],
   "source": [
    "python app.py"
   ]
  },
  {
   "cell_type": "markdown",
   "metadata": {},
   "source": [
    "You can see your app running in the browser now and check for errors,\n",
    "\n",
    "so back on the command line:"
   ]
  },
  {
   "cell_type": "code",
   "execution_count": null,
   "metadata": {},
   "outputs": [],
   "source": [
    "pip install gunicorn\n",
    "# Allows us to correctly render this on the web\n",
    "# Does a lot of behind the scenes work"
   ]
  },
  {
   "cell_type": "code",
   "execution_count": null,
   "metadata": {},
   "outputs": [],
   "source": [
    "pip freeze > requirements.txt"
   ]
  },
  {
   "cell_type": "markdown",
   "metadata": {},
   "source": [
    "You will now have a requirements.txt file with everything you need!"
   ]
  },
  {
   "cell_type": "markdown",
   "metadata": {},
   "source": [
    "Create a new file called Procfile, that contains:"
   ]
  },
  {
   "cell_type": "code",
   "execution_count": null,
   "metadata": {},
   "outputs": [],
   "source": [
    "web: gunicorn app:app"
   ]
  },
  {
   "cell_type": "markdown",
   "metadata": {},
   "source": [
    "Now go to google and search Heroku CLI"
   ]
  },
  {
   "cell_type": "markdown",
   "metadata": {},
   "source": [
    "It will require you to install git if you have not already, then download heroku"
   ]
  },
  {
   "cell_type": "markdown",
   "metadata": {},
   "source": [
    "Now go to www.heroku.com, and create an account"
   ]
  },
  {
   "cell_type": "markdown",
   "metadata": {},
   "source": [
    "It will take you to your dashboard, where you can hit \"Create New App\" and then name it"
   ]
  },
  {
   "cell_type": "markdown",
   "metadata": {},
   "source": [
    "This will instantly create the app, now we need to return to your command line and type:"
   ]
  },
  {
   "cell_type": "code",
   "execution_count": null,
   "metadata": {},
   "outputs": [],
   "source": [
    "heroku login"
   ]
  },
  {
   "cell_type": "markdown",
   "metadata": {},
   "source": [
    "After this it will give you a spot to enter your email and password\n",
    "\n",
    "Then make sure you cd into your project folder if thats not where you are right now"
   ]
  },
  {
   "cell_type": "code",
   "execution_count": null,
   "metadata": {},
   "outputs": [],
   "source": [
    "git init \n",
    "\n",
    "heroku git:remote -a appname\n",
    "# Appname is the name of YOUR app\n",
    "\n",
    "git add .\n",
    "\n",
    "git commit -am \"first commit\"\n",
    "\n",
    "git push heroku master"
   ]
  },
  {
   "cell_type": "markdown",
   "metadata": {},
   "source": [
    "Finishing these steps will deploy your application!!!! \n",
    "\n",
    "It will give you a URL and clicking on this will allow you to see it live on the web!!!"
   ]
  }
 ],
 "metadata": {
  "kernelspec": {
   "display_name": "Python 3",
   "language": "python",
   "name": "python3"
  },
  "language_info": {
   "codemirror_mode": {
    "name": "ipython",
    "version": 3
   },
   "file_extension": ".py",
   "mimetype": "text/x-python",
   "name": "python",
   "nbconvert_exporter": "python",
   "pygments_lexer": "ipython3",
   "version": "3.6.9"
  }
 },
 "nbformat": 4,
 "nbformat_minor": 2
}
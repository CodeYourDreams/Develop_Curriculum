{
 "cells": [
  {
   "cell_type": "markdown",
   "metadata": {},
   "source": [
    "# Data Cleansing "
   ]
  },
  {
   "cell_type": "markdown",
   "metadata": {},
   "source": [
    "## What is it? "
   ]
  },
  {
   "cell_type": "markdown",
   "metadata": {},
   "source": [
    "Data cleansing is a process of finding errors and corruptions in your data, and then fixing or deleting them, in order to make sure your data is accurate, usable, and consistent!"
   ]
  },
  {
   "cell_type": "code",
   "execution_count": 1,
   "metadata": {},
   "outputs": [
    {
     "data": {
      "text/html": [
       "<img src=\"https://media.makeameme.org/created/bad-data-bad.jpg\"/>"
      ],
      "text/plain": [
       "<IPython.core.display.Image object>"
      ]
     },
     "execution_count": 1,
     "metadata": {},
     "output_type": "execute_result"
    }
   ],
   "source": [
    "from IPython.display import Image \n",
    "from IPython.core.display import HTML\n",
    "Image(url = \"https://media.makeameme.org/created/bad-data-bad.jpg\")"
   ]
  },
  {
   "cell_type": "markdown",
   "metadata": {},
   "source": [
    "## Why is it important?"
   ]
  },
  {
   "cell_type": "markdown",
   "metadata": {},
   "source": [
    "When pulling multiple sources of data into one large dataset, errors, especially inconsistencies, are often going to occur. Even if you have amazing algorithms and code, unclean data can be extremely problematic!!"
   ]
  },
  {
   "cell_type": "markdown",
   "metadata": {},
   "source": [
    "Having unnecessary data in your dataset can make your runtime considerably slower than what it should be! Therefore cleaning your data is very helpful, and finding what is needed from the data becomes much easier "
   ]
  },
  {
   "cell_type": "markdown",
   "metadata": {},
   "source": [
    "In terms of an application that has been developed and is now being used by people, if the data is clean and error free, everyone using the app will be happier with its performance, because it will not only be faster, but also providing them with consistently correct and concise data"
   ]
  },
  {
   "cell_type": "markdown",
   "metadata": {},
   "source": [
    "#### Example!"
   ]
  },
  {
   "cell_type": "markdown",
   "metadata": {},
   "source": [
    "Let's say you have a large dataset about the students at a school, that consists of each student's: grades, age, parents, and address. This file is called \"Studnets.csv\". If you are writing a program that calculates the average GPA of the class, you only need the student's GPAs, so you should remove the other data, as it will just take up unecessary space and slowdown running time! "
   ]
  },
  {
   "cell_type": "markdown",
   "metadata": {},
   "source": [
    "## How do you do it:\n",
    "\n",
    "First, we'll import a library called Pandas that will help us work with the dataset.\n",
    "\n",
    "Pandas contains a function read_csv that will let us read in our dataset to work with."
   ]
  },
  {
   "cell_type": "code",
   "execution_count": 2,
   "metadata": {},
   "outputs": [
    {
     "data": {
      "text/html": [
       "<div>\n",
       "<style scoped>\n",
       "    .dataframe tbody tr th:only-of-type {\n",
       "        vertical-align: middle;\n",
       "    }\n",
       "\n",
       "    .dataframe tbody tr th {\n",
       "        vertical-align: top;\n",
       "    }\n",
       "\n",
       "    .dataframe thead th {\n",
       "        text-align: right;\n",
       "    }\n",
       "</style>\n",
       "<table border=\"1\" class=\"dataframe\">\n",
       "  <thead>\n",
       "    <tr style=\"text-align: right;\">\n",
       "      <th></th>\n",
       "      <th>Name</th>\n",
       "      <th>GPA</th>\n",
       "      <th>Age</th>\n",
       "      <th>Parents</th>\n",
       "    </tr>\n",
       "  </thead>\n",
       "  <tbody>\n",
       "    <tr>\n",
       "      <th>0</th>\n",
       "      <td>Katy Robbins</td>\n",
       "      <td>2.52</td>\n",
       "      <td>8</td>\n",
       "      <td>Nicky</td>\n",
       "    </tr>\n",
       "    <tr>\n",
       "      <th>1</th>\n",
       "      <td>Cira Kibby</td>\n",
       "      <td>2.85</td>\n",
       "      <td>8</td>\n",
       "      <td>Valarie</td>\n",
       "    </tr>\n",
       "    <tr>\n",
       "      <th>2</th>\n",
       "      <td>Alise Minter</td>\n",
       "      <td>2.75</td>\n",
       "      <td>6</td>\n",
       "      <td>Hulda</td>\n",
       "    </tr>\n",
       "    <tr>\n",
       "      <th>3</th>\n",
       "      <td>Brandie Gale</td>\n",
       "      <td>2.56</td>\n",
       "      <td>6</td>\n",
       "      <td>Asha</td>\n",
       "    </tr>\n",
       "    <tr>\n",
       "      <th>4</th>\n",
       "      <td>Malinda Wilmeth</td>\n",
       "      <td>3.21</td>\n",
       "      <td>6</td>\n",
       "      <td>Junior</td>\n",
       "    </tr>\n",
       "  </tbody>\n",
       "</table>\n",
       "</div>"
      ],
      "text/plain": [
       "                Name   GPA  Age    Parents\n",
       "0     Katy Robbins    2.52    8    Nicky  \n",
       "1       Cira Kibby    2.85    8  Valarie  \n",
       "2     Alise Minter    2.75    6    Hulda  \n",
       "3     Brandie Gale    2.56    6     Asha  \n",
       "4  Malinda Wilmeth    3.21    6   Junior  "
      ]
     },
     "execution_count": 2,
     "metadata": {},
     "output_type": "execute_result"
    }
   ],
   "source": [
    "import pandas as pd\n",
    "\n",
    "# this turns our dataset into a dataframe\n",
    "students = pd.read_csv(\"Students.csv\")\n",
    "\n",
    "# this line lets us see the dataframe we just made\n",
    "students.head()"
   ]
  },
  {
   "cell_type": "code",
   "execution_count": 7,
   "metadata": {},
   "outputs": [
    {
     "data": {
      "text/html": [
       "<div>\n",
       "<style scoped>\n",
       "    .dataframe tbody tr th:only-of-type {\n",
       "        vertical-align: middle;\n",
       "    }\n",
       "\n",
       "    .dataframe tbody tr th {\n",
       "        vertical-align: top;\n",
       "    }\n",
       "\n",
       "    .dataframe thead th {\n",
       "        text-align: right;\n",
       "    }\n",
       "</style>\n",
       "<table border=\"1\" class=\"dataframe\">\n",
       "  <thead>\n",
       "    <tr style=\"text-align: right;\">\n",
       "      <th></th>\n",
       "      <th>GPA</th>\n",
       "    </tr>\n",
       "  </thead>\n",
       "  <tbody>\n",
       "    <tr>\n",
       "      <th>0</th>\n",
       "      <td>2.52</td>\n",
       "    </tr>\n",
       "    <tr>\n",
       "      <th>1</th>\n",
       "      <td>2.85</td>\n",
       "    </tr>\n",
       "    <tr>\n",
       "      <th>2</th>\n",
       "      <td>2.75</td>\n",
       "    </tr>\n",
       "    <tr>\n",
       "      <th>3</th>\n",
       "      <td>2.56</td>\n",
       "    </tr>\n",
       "    <tr>\n",
       "      <th>4</th>\n",
       "      <td>3.21</td>\n",
       "    </tr>\n",
       "  </tbody>\n",
       "</table>\n",
       "</div>"
      ],
      "text/plain": [
       "    GPA\n",
       "0  2.52\n",
       "1  2.85\n",
       "2  2.75\n",
       "3  2.56\n",
       "4  3.21"
      ]
     },
     "execution_count": 7,
     "metadata": {},
     "output_type": "execute_result"
    }
   ],
   "source": [
    "# Next we want to drop all of the data besides GPA from the frame using the drop function\n",
    "to_drop = ['Name',\n",
    "          'Age',\n",
    "          'Parents']\n",
    "\n",
    "# inplace tells the function to remove the columns from the original dataset\n",
    "# axis = 1 tells the function to look for the labels in the columns instead of the rows\n",
    "students.drop(to_drop, inplace = True, axis = 1)\n",
    "\n",
    "# lets check what our dataframe looks like now\n",
    "students.head()"
   ]
  },
  {
   "cell_type": "code",
   "execution_count": 8,
   "metadata": {},
   "outputs": [
    {
     "name": "stdout",
     "output_type": "stream",
     "text": [
      "3.0004000000000004\n"
     ]
    }
   ],
   "source": [
    "# finally, we can calculate the average GPA of the class\n",
    "\n",
    "average_gpa = students['GPA'].mean()\n",
    "print(average_gpa)"
   ]
  },
  {
   "cell_type": "markdown",
   "metadata": {},
   "source": [
    "### Data visualization "
   ]
  },
  {
   "cell_type": "markdown",
   "metadata": {},
   "source": [
    "Data visualization is the creation and study of a visual representation of data"
   ]
  },
  {
   "cell_type": "markdown",
   "metadata": {},
   "source": [
    "Often done through tools such as statistical graphs, plots, infographics, ect. "
   ]
  },
  {
   "cell_type": "code",
   "execution_count": 3,
   "metadata": {},
   "outputs": [
    {
     "data": {
      "text/html": [
       "<img src=\"https://3u8npt2xyr3u2fgvai49zopv-wpengine.netdna-ssl.com/wp-content/uploads/2018/03/DarkPurpleDashboard920x400.png\"/>"
      ],
      "text/plain": [
       "<IPython.core.display.Image object>"
      ]
     },
     "execution_count": 3,
     "metadata": {},
     "output_type": "execute_result"
    }
   ],
   "source": [
    "from IPython.display import Image\n",
    "from IPython.core.display import HTML\n",
    "Image(url = \"https://3u8npt2xyr3u2fgvai49zopv-wpengine.netdna-ssl.com/wp-content/uploads/2018/03/DarkPurpleDashboard920x400.png\")"
   ]
  },
  {
   "cell_type": "markdown",
   "metadata": {},
   "source": [
    "Example of data visualization of data on social media usage of an application!"
   ]
  },
  {
   "cell_type": "markdown",
   "metadata": {},
   "source": [
    "Python has several data visualization packages/libraries available:\n",
    "matplotlib, seaborn, ggplot, bokeh, and many more "
   ]
  },
  {
   "cell_type": "markdown",
   "metadata": {},
   "source": [
    "Steps to getting and using these:"
   ]
  },
  {
   "cell_type": "code",
   "execution_count": 9,
   "metadata": {},
   "outputs": [
    {
     "data": {
      "image/png": "[encoded data removed]",
      "text/plain": [
       "<Figure size 432x288 with 1 Axes>"
      ]
     },
     "metadata": {
      "needs_background": "light"
     },
     "output_type": "display_data"
    }
   ],
   "source": [
    "#1. First must get the library by using \"import\"\n",
    "#you need to import a library\n",
    "#you can give the library an \"alias\" if the name is long:\n",
    "import matplotlib.pyplot as mpl\n",
    "\n",
    "#2. Now that they are imported you can use the tools that the libraries provide \n",
    "#You can see the description of the functions that a library contains using \"help\"\n",
    "# uncomment the line below to see!\n",
    "# help(mpl)\n",
    "ClassScores1 = [90.0, 85.0, 94.0, 75.0, 66.0, 98.0, 82.0]\n",
    "ClassScores2 = [80.0, 82.0, 86.0, 88.0, 85.0, 83.0, 60.0]\n",
    "ClassScores3 = [100.0, 72.0, 87.0, 65.0, 95.0, 88.0, 80.0]\n",
    "\n",
    "def ClassAverage(classlist):\n",
    "    total = 0\n",
    "    classsize = 0\n",
    "    for x in classlist:\n",
    "        total += x\n",
    "        classsize += 1\n",
    "    return total/classsize\n",
    "averages = [ClassAverage(ClassScores1), ClassAverage(ClassScores2), ClassAverage(ClassScores3)]\n",
    "mpl.plot([1, 2, 3], averages, 'ro')\n",
    "mpl.axis([0, 6, 70, 100])\n",
    "mpl.show()\n",
    "        "
   ]
  },
  {
   "cell_type": "markdown",
   "metadata": {},
   "source": [
    "### Methods"
   ]
  },
  {
   "cell_type": "code",
   "execution_count": 10,
   "metadata": {},
   "outputs": [
    {
     "data": {
      "text/html": [
       "<img src=\"https://y1vwcp5chj-flywheel.netdna-ssl.com/wp-content/uploads/2016/10/blog-meme.jpg\"/>"
      ],
      "text/plain": [
       "<IPython.core.display.Image object>"
      ]
     },
     "execution_count": 10,
     "metadata": {},
     "output_type": "execute_result"
    }
   ],
   "source": [
    "from IPython.display import Image\n",
    "from IPython.core.display import HTML\n",
    "Image(url = \"https://y1vwcp5chj-flywheel.netdna-ssl.com/wp-content/uploads/2016/10/blog-meme.jpg\")"
   ]
  },
  {
   "cell_type": "markdown",
   "metadata": {},
   "source": [
    "## Comonalities and Duplicates!"
   ]
  },
  {
   "cell_type": "markdown",
   "metadata": {},
   "source": [
    "When looking at the errors occuring, look at where the errors are most commonly coming from, so you can more easily pinpoint the cause of the error, and what needs to be fixed, or deleted. "
   ]
  },
  {
   "cell_type": "markdown",
   "metadata": {},
   "source": [
    "Check your data for duplicates and irrelevant data, as this is a common occurence "
   ]
  },
  {
   "cell_type": "markdown",
   "metadata": {},
   "source": [
    "## Mislabling "
   ]
  },
  {
   "cell_type": "markdown",
   "metadata": {},
   "source": [
    "Mislabled classes can be the cause of many problems, because it causes two separate classes that should be the same "
   ]
  },
  {
   "cell_type": "markdown",
   "metadata": {},
   "source": [
    "## Helpful fixes!! "
   ]
  },
  {
   "cell_type": "markdown",
   "metadata": {},
   "source": [
    "Standardizing your data processes, and place of entry, simplifies the process and reduces duplication "
   ]
  },
  {
   "cell_type": "markdown",
   "metadata": {},
   "source": [
    "Make sure the data is accurate, even after you have cleaned it. There are cleaning tools that are designed to ensure accuracy in your data in real time "
   ]
  }
 ],
 "metadata": {
  "kernelspec": {
   "display_name": "Python 2",
   "language": "python",
   "name": "python2"
  },
  "language_info": {
   "codemirror_mode": {
    "name": "ipython",
    "version": 2
   },
   "file_extension": ".py",
   "mimetype": "text/x-python",
   "name": "python",
   "nbconvert_exporter": "python",
   "pygments_lexer": "ipython2",
   "version": "2.7.17"
  }
 },
 "nbformat": 4,
 "nbformat_minor": 2
}

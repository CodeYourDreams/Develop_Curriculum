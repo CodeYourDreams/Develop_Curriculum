{
 "cells": [
  {
   "cell_type": "markdown",
   "source": [
    "# Working with Data"
   ],
   "metadata": {}
  },
  {
   "cell_type": "markdown",
   "source": [
    "![SegmentLocal](https://media2.giphy.com/media/EatwJZRUIv41G/giphy.gif \"segment\")"
   ],
   "metadata": {}
  },
  {
   "cell_type": "markdown",
   "source": [
    "A package that helps python become a better and more efficient source for data representation "
   ],
   "metadata": {}
  },
  {
   "cell_type": "markdown",
   "source": [
    "Built on top of the NumPy package (discussed previously!)"
   ],
   "metadata": {}
  },
  {
   "cell_type": "markdown",
   "source": [
    "## Perks!! "
   ],
   "metadata": {}
  },
  {
   "cell_type": "markdown",
   "source": [
    "Good for cleaning data because allows for deleting and inserting of columns in DataFrames and higher dimensional objects "
   ],
   "metadata": {}
  },
  {
   "cell_type": "markdown",
   "source": [
    "Allows for either explicit or automatic data alignment, depending on what the user decides, but either way, the data will be aligned. "
   ],
   "metadata": {}
  },
  {
   "cell_type": "markdown",
   "source": [
    "Easy handling of missing data!"
   ],
   "metadata": {}
  },
  {
   "cell_type": "markdown",
   "source": [
    "Intelligent and quick label-based indexing, and subsetting of large data sets"
   ],
   "metadata": {}
  },
  {
   "cell_type": "markdown",
   "source": [
    "![SegmentLocal](https://media2.giphy.com/media/4527jA8ErzDAYkJ9cf/giphy.gif \"segment\")"
   ],
   "metadata": {}
  },
  {
   "cell_type": "code",
   "execution_count": null,
   "source": [
    "#Import it:\n",
    "import numpy as np\n",
    "import pandas as pd"
   ],
   "outputs": [],
   "metadata": {}
  },
  {
   "cell_type": "markdown",
   "source": [
    "Has two primary data structures! "
   ],
   "metadata": {}
  },
  {
   "cell_type": "markdown",
   "source": [
    "### Series"
   ],
   "metadata": {}
  },
  {
   "cell_type": "markdown",
   "source": [
    "Series are 1 dimensional, and are created using a list:"
   ],
   "metadata": {}
  },
  {
   "cell_type": "code",
   "execution_count": null,
   "source": [
    "series = pd.series([1, 2, 3])"
   ],
   "outputs": [],
   "metadata": {}
  },
  {
   "cell_type": "markdown",
   "source": [
    "### DataFrame "
   ],
   "metadata": {}
  },
  {
   "cell_type": "markdown",
   "source": [
    "DataFrames are 2 dimensional, and are created using a NumPy array"
   ],
   "metadata": {}
  },
  {
   "cell_type": "markdown",
   "source": [
    "Example 1:"
   ],
   "metadata": {}
  },
  {
   "cell_type": "code",
   "execution_count": null,
   "source": [
    "dates = pd.date_range('20130101', periods=6)\n",
    "# Creates ['2013-01-01', '2013-01-02', '2013-01-03', '2013-01-04',\n",
    "#               '2013-01-05', '2013-01-06'],\n",
    "\n",
    "df = pd.DataFrame(np.random.randn(6, 4), index=dates, columns=list('ABCD'))\n",
    "#  Creates          A         B         C         D\n",
    "#2013-01-01  0.469112 -0.282863 -1.509059 -1.135632\n",
    "#2013-01-02  1.212112 -0.173215  0.119209 -1.044236\n",
    "#2013-01-03 -0.861849 -2.104569 -0.494929  1.071804\n",
    "#2013-01-04  0.721555 -0.706771 -1.039575  0.271860\n",
    "#2013-01-05 -0.424972  0.567020  0.276232 -1.087401\n",
    "#2013-01-06 -0.673690  0.113648 -1.478427  0.524988\n",
    "\n"
   ],
   "outputs": [],
   "metadata": {}
  },
  {
   "cell_type": "markdown",
   "source": [
    "credit : https://pandas.pydata.org/pandas-docs/stable/getting_started/10min.html"
   ],
   "metadata": {}
  },
  {
   "cell_type": "markdown",
   "source": [
    "Example 2:"
   ],
   "metadata": {}
  },
  {
   "cell_type": "code",
   "execution_count": null,
   "source": [
    "df2 = pd.DataFrame({'A': 1.,\n",
    "                    'B': pd.Timestamp('20130102'),\n",
    "                    'C': pd.Series(1, index=list(range(4)), dtype='float32'),\n",
    "                    'D': np.array([3] * 4, dtype='int32'),\n",
    "                    'E': pd.Categorical([\"test\", \"train\", \"test\", \"train\"]),\n",
    "                    'F': 'foo'})\n",
    "# Creates:\n",
    "#     A          B    C  D      E    F\n",
    "#0  1.0 2013-01-02  1.0  3   test  foo\n",
    "#1  1.0 2013-01-02  1.0  3  train  foo\n",
    "#2  1.0 2013-01-02  1.0  3   test  foo\n",
    "#3  1.0 2013-01-02  1.0  3  train  foo\n"
   ],
   "outputs": [],
   "metadata": {}
  },
  {
   "cell_type": "markdown",
   "source": [
    "credit : https://pandas.pydata.org/pandas-docs/stable/getting_started/10min.html"
   ],
   "metadata": {}
  },
  {
   "cell_type": "markdown",
   "source": [
    "### Viewing Data"
   ],
   "metadata": {}
  },
  {
   "cell_type": "markdown",
   "source": [
    "To view the top rows of the data:"
   ],
   "metadata": {}
  },
  {
   "cell_type": "code",
   "execution_count": null,
   "source": [
    "data.head()"
   ],
   "outputs": [],
   "metadata": {}
  },
  {
   "cell_type": "markdown",
   "source": [
    "To view the bottom rows of the data:"
   ],
   "metadata": {}
  },
  {
   "cell_type": "code",
   "execution_count": null,
   "source": [
    "data.tail()"
   ],
   "outputs": [],
   "metadata": {}
  },
  {
   "cell_type": "markdown",
   "source": [
    "For both of these, the parameter would be the number of rows you want to view!"
   ],
   "metadata": {}
  }
 ],
 "metadata": {
  "kernelspec": {
   "display_name": "Python 3",
   "language": "python",
   "name": "python3"
  },
  "language_info": {
   "codemirror_mode": {
    "name": "ipython",
    "version": 3
   },
   "file_extension": ".py",
   "mimetype": "text/x-python",
   "name": "python",
   "nbconvert_exporter": "python",
   "pygments_lexer": "ipython3",
   "version": "3.7.3"
  }
 },
 "nbformat": 4,
 "nbformat_minor": 2
}
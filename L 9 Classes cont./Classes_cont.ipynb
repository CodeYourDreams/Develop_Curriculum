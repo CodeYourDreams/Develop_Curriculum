Lesson 9: Classes continued

Goal:  Students will deepen their understanding of classes. Students will be able to write a more complicated classes in order to advance the functionality of their application. Students will be able to debug their code and work through different errors.
Exercises:  Debug our classes and git branch
Homework: Comment your code so everybody understands it

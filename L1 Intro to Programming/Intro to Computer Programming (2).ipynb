{
 "cells": [
  {
   "cell_type": "markdown",
   "metadata": {},
   "source": [
    "# Introduction To Programming Components"
   ]
  },
  {
   "cell_type": "markdown",
   "metadata": {},
   "source": [
    "Goal:  Students will learn about what programming is and will be able to describe the life of a programmer, \n",
    "    as well as the benefits of pursuing a degree in Computer Science. Students will be able to learn about \n",
    "    the need for pseudocode and be able to take a task and translate that task into pseudocode. At the end \n",
    "    of this lesson, students will be able to list the main components associated with programming.\n",
    "    \n",
    "Exercises: IDE, console, Languages, Pseudocode, Python, storage\n",
    "    \n",
    "Homework: Write pseudocode in the Jupyter Notebook outlining key features for the application.\n",
    "    \n"
   ]
  },
  {
   "cell_type": "markdown",
   "metadata": {},
   "source": [
    "notes:\n",
    "    What is programming?\n",
    "        A way of giving computers instructions about what we want them to do next. Coding is a translation of these instructions from english into computer language. The code is a way for the programmer to tell the computer how to solve problems or how to perform a tasks."
   ]
  },
  {
   "cell_type": "markdown",
   "metadata": {},
   "source": [
    "What is the life of a programmer?\n",
    "    Since computer science can be applied to so many different fields, programmers are pretty free to design content in which to address almost any need. Progamming is what makes our technology work the way we need it to. \n",
    "    Programmers design, develop and test software for performance, reliability, and security. Computer science if often very collaborative, so teams work toegether to plan, discuss, and invent each part of their project."
   ]
  },
  {
   "cell_type": "markdown",
   "metadata": {},
   "source": [
    "What is pseudocode and why is it important?\n",
    "    Pseudocode is a way of explaining code in a simplified way, without using real code. It is important to completely understand what you want to tell the computer to do before you start writing actual code. Pseudocode can be helpful in this way, to organize thoughts as well as have a visual representation of the program you are about to write. You can reference this pseudocode throughout the process of creating the project to see what tools to use for which parts, etc. "
   ]
  },
  {
   "cell_type": "markdown",
   "metadata": {},
   "source": [
    "What are the main components associated with programming?\n",
    "    input, output, arithmetic, conditional, and looping #??"
   ]
  },
  {
   "cell_type": "markdown",
   "metadata": {},
   "source": [
    "## Exercises (still notes)"
   ]
  },
  {
   "cell_type": "markdown",
   "metadata": {},
   "source": [
    "What is IDE?\n",
    "    IDE stands for Integrated Development Environment. It is a software application that provides comprehensive facilities to computer programmers for software development. Normally consists of a source code editor, build automation tools, and a debugger. Most modern IDEs have intelligent code completion. Basically a software suite that consolidates basic tools required to write and test software. \n",
    "    A place to develop programs with tools to help create, test, and run code. \n",
    "    try to simplify"
   ]
  },
  {
   "cell_type": "markdown",
   "metadata": {},
   "source": [
    "What is a console?\n",
    "    A way for the computer and the user to communicate. The keyboard is used to access input from the user, and the monitor provides the output from the computer. "
   ]
  },
  {
   "cell_type": "markdown",
   "metadata": {},
   "source": [
    "What is a language in Computer Science?\n",
    "    A set of commands, instructions, and other syntax use to create a software program. A vocabulary and set of grammatical rules for instructing a computer or computing device to perform specific tasks.\n",
    "    What language are we coding in?\n",
    "        Python! "
   ]
  },
  {
   "cell_type": "markdown",
   "metadata": {},
   "source": [
    "pseudocode? notes above. Be able to take a task and translate that task into pseudocode"
   ]
  },
  {
   "cell_type": "markdown",
   "metadata": {},
   "source": [
    "python\n",
    "What is Python? (hint: not just a snake)\n",
    "    The programming language we are using! \n",
    "    \n",
    "Why are we using Python?\n",
    "    It is a general purpose programming language that can be used both for desktop and web applications. Python is designed with features to facilitate data analysis and visualization. \n",
    "    Easy to read code; multiple programming paradigms; compatible with major platforms and systems; robust standard library; many open source frameworks and tools; simple test driven development;"
   ]
  },
  {
   "cell_type": "markdown",
   "metadata": {},
   "source": [
    "Storage\n",
    "What does storage mean in the World of Programming?\n",
    "    The computer memory where it keeps the things we create, for us to use later. There are also places in the computer that hold things we want to use that other people have created. "
   ]
  },
  {
   "cell_type": "markdown",
   "metadata": {},
   "source": [
    "# Homework"
   ]
  },
  {
   "cell_type": "markdown",
   "metadata": {},
   "source": [
    "Write pseudocode in the Jupyter Notebook outlining key features for the application.\n",
    "\n",
    "Teach them features of Jupyter Notebook?"
   ]
  }
 ],
 "metadata": {
  "kernelspec": {
   "display_name": "Python 3",
   "language": "python",
   "name": "python3"
  },
  "language_info": {
   "codemirror_mode": {
    "name": "ipython",
    "version": 3
   },
   "file_extension": ".py",
   "mimetype": "text/x-python",
   "name": "python",
   "nbconvert_exporter": "python",
   "pygments_lexer": "ipython3",
   "version": "3.7.3"
  }
 },
 "nbformat": 4,
 "nbformat_minor": 2
}

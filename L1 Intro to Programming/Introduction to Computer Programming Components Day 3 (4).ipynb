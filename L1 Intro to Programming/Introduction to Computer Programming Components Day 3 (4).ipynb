{
 "cells": [
  {
   "cell_type": "markdown",
   "metadata": {},
   "source": [
    "# Introduction to Programming Components Continued Continued"
   ]
  },
  {
   "cell_type": "markdown",
   "metadata": {},
   "source": [
    "# Arithmetic\n",
    "   The two most common types of numbers we will use will be floats and ints.\n",
    "   Int means integer, and float means a number with a decimal. As you play around between the two you will notice that they are good to use for different things.\n",
    "   "
   ]
  },
  {
   "cell_type": "markdown",
   "metadata": {},
   "source": [
    "# Note! separate into separate cells and make more relevant\n",
    "# also add more fun things throughout \n",
    "# maybe emoji's ?"
   ]
  },
  {
   "cell_type": "code",
   "execution_count": 17,
   "metadata": {},
   "outputs": [
    {
     "name": "stdout",
     "output_type": "stream",
     "text": [
      "20 + 10 = 30\n",
      "20 - 10 = 10\n",
      "20 * 10 = 200\n"
     ]
    }
   ],
   "source": [
    "# In Python, there are a few specific ways to write arithmetic values.\n",
    "# To start, addition, subtraction, and multiplication are \n",
    "# what you would think.\n",
    "a = 20 \n",
    "b = 10\n",
    "\n",
    "a1 = b + a # 10 + 20\n",
    "a2 = a - b # 20 - 10\n",
    "a3 = a * b # 20 * 10\n",
    "print('20 + 10 = {}'.format(a1))\n",
    "print('20 - 10 = {}'.format(a2))\n",
    "print('20 * 10 = {}'.format(a3))\n"
   ]
  },
  {
   "cell_type": "code",
   "execution_count": 8,
   "metadata": {},
   "outputs": [
    {
     "name": "stdout",
     "output_type": "stream",
     "text": [
      "10 / 3 = 3.3333333333333335\n",
      "10 // 3 (truncated integer division) = 3\n"
     ]
    }
   ],
   "source": [
    "# There are two types of division. \n",
    "\n",
    "# True division is with a single slash /\n",
    "# This returns a float\n",
    "c = 10 / 3\n",
    "print(\"10 / 3 = {}\".format(c))\n",
    "\n",
    "# Floor division is with two slashes //\n",
    "# this returns an int. \n",
    "# (the quotient of a and b removing fractional parts)\n",
    "d = 10 // 3 \n",
    "print('10 // 3 (truncated integer division) = {}'.format(d))"
   ]
  },
  {
   "cell_type": "code",
   "execution_count": 14,
   "metadata": {},
   "outputs": [
    {
     "name": "stdout",
     "output_type": "stream",
     "text": [
      "remainder of 10 / 3 = 1\n",
      "remainder of 17 / 3 = 2\n"
     ]
    }
   ],
   "source": [
    "# the percent sign % is called Modulus. \n",
    "# this returns the remainder after the division\n",
    "# of two numbers\n",
    "\n",
    "e = 10 % 3\n",
    "print(\"remainder of 10 / 3 = {}\".format(e))\n",
    "\n",
    "e2 = 17 % 3\n",
    "print(\"remainder of 17 / 3 = {}\".format(e2))"
   ]
  },
  {
   "cell_type": "code",
   "execution_count": 16,
   "metadata": {
    "scrolled": true
   },
   "outputs": [
    {
     "name": "stdout",
     "output_type": "stream",
     "text": [
      "2 ^ 3 = 8\n"
     ]
    }
   ],
   "source": [
    "# to use exponents, or raise something to a power, \n",
    "# you use a double asterick **\n",
    "f = 2 ** 3 \n",
    "print('2 ^ 3 = {}'.format(f))\n",
    "\n",
    "# Python uses the PEMDAS Order of Operations, just like math.\n",
    "# When in doubt, use parentheses to be explicit\n",
    "# Run this cell to see the differences of outcomes."
   ]
  },
  {
   "cell_type": "markdown",
   "metadata": {},
   "source": [
    "# Comparisons"
   ]
  },
  {
   "cell_type": "markdown",
   "metadata": {},
   "source": [
    "Operators such as the equal sign = compare values on either side of it, and decide on the relation among them. These operators are called comparison or relational operators. \n",
    "\n",
    "Comparison Operators return booleans. Booleans are either True or False values. "
   ]
  },
  {
   "cell_type": "code",
   "execution_count": 18,
   "metadata": {},
   "outputs": [
    {
     "name": "stdout",
     "output_type": "stream",
     "text": [
      "10 equals 20\n",
      "False\n"
     ]
    }
   ],
   "source": [
    "a = 10\n",
    "b = 20\n",
    "\n",
    "# to see if two values are equal, use double equal signs \n",
    "# (we use one equal sign to assign values, and two to compare them)\n",
    "print(\"10 equals 20\")\n",
    "print(a==b)\n"
   ]
  },
  {
   "cell_type": "code",
   "execution_count": 19,
   "metadata": {},
   "outputs": [
    {
     "name": "stdout",
     "output_type": "stream",
     "text": [
      "10 does not equal 20\n",
      "True\n"
     ]
    }
   ],
   "source": [
    "# since a is not equal to b, this will return false\n",
    "# another way to write that a is not equal to b is with the !\n",
    "# ! means not\n",
    "print(\"10 does not equal 20\")\n",
    "print(a != b)"
   ]
  },
  {
   "cell_type": "code",
   "execution_count": 20,
   "metadata": {},
   "outputs": [
    {
     "name": "stdout",
     "output_type": "stream",
     "text": [
      "10 is greater than 20\n",
      "False\n",
      "10 is less than 20\n",
      "True\n"
     ]
    }
   ],
   "source": [
    "# more straightforward operators are those such as less then\n",
    "# or greater than signs.\n",
    "print(\"10 is greater than 20\")\n",
    "print(a > b)\n",
    "\n",
    "print(\"10 is less than 20\")\n",
    "print(a < b)"
   ]
  },
  {
   "cell_type": "code",
   "execution_count": 21,
   "metadata": {},
   "outputs": [
    {
     "name": "stdout",
     "output_type": "stream",
     "text": [
      "10 is less than or equal to 20\n",
      "True\n",
      "10 is greater than or equal to 20\n",
      "False\n"
     ]
    }
   ],
   "source": [
    "print(\"10 is less than or equal to 20\")\n",
    "print(a <= b)\n",
    "\n",
    "print(\"10 is greater than or equal to 20\")\n",
    "print(a >= b)"
   ]
  },
  {
   "cell_type": "markdown",
   "metadata": {},
   "source": [
    "# Logical Operators"
   ]
  },
  {
   "cell_type": "markdown",
   "metadata": {},
   "source": [
    "There is an order of operations on these too! \n",
    "\n",
    "From highest precedence to lowest is: NOT, AND, OR"
   ]
  },
  {
   "cell_type": "code",
   "execution_count": 22,
   "metadata": {},
   "outputs": [
    {
     "name": "stdout",
     "output_type": "stream",
     "text": [
      "False\n",
      "True\n",
      "True\n"
     ]
    }
   ],
   "source": [
    "# the key words AND, OR, and NOT are used on groups of things\n",
    "# for example:\n",
    "a = True\n",
    "b = False\n",
    "\n",
    "print(a and b) # means if a and b are true, then it returns true.\n",
    "print(a or b) # means if either are true, it returns true\n",
    "print(not(a and b)) # this is used to reverse the logical state of a and b."
   ]
  },
  {
   "cell_type": "markdown",
   "metadata": {},
   "source": [
    "# Expand on this ^^ and below"
   ]
  },
  {
   "cell_type": "markdown",
   "metadata": {},
   "source": [
    "# Membership"
   ]
  },
  {
   "cell_type": "code",
   "execution_count": 7,
   "metadata": {},
   "outputs": [
    {
     "name": "stdout",
     "output_type": "stream",
     "text": [
      "True\n"
     ]
    }
   ],
   "source": [
    "# To test if an item is included in a sequence, such as a string or list\n",
    "# you can use the keyword IN\n",
    "dict = ['x']\n",
    "if 'x' in dict:\n",
    "    print(True)\n",
    "    \n"
   ]
  },
  {
   "cell_type": "markdown",
   "metadata": {},
   "source": [
    "# Exercises"
   ]
  },
  {
   "cell_type": "markdown",
   "metadata": {},
   "source": [
    "Frankie, Alex and Sam are given tablets that they are able to distribute to their communities, and they want to split the group evenly among themselves. \n",
    "For the sake of their friendship and fairness, any tablets left over will be given back. For example, if they collectively\n",
    "bring home 91 tablets, they'll take 30 each and return 1.\n",
    "\n",
    "Write an arithmetic expression below to calculate how many tablets they must return for a given haul."
   ]
  },
  {
   "cell_type": "code",
   "execution_count": 9,
   "metadata": {
    "collapsed": true
   },
   "outputs": [
    {
     "name": "stdout",
     "output_type": "stream",
     "text": [
      "1\n"
     ]
    }
   ],
   "source": [
    "# Variables representing the number of candies collected by Frankie, Alex, and Sam.\n",
    "frankie_tablets = 121\n",
    "alex_tablets = 77\n",
    "sam_tablets = 109\n",
    "\n",
    "# Your code goes here! Replace the right-hand side of this assignment with an expression\n",
    "# involving frankie_tablets, alex_tablets, and sam_tablets\n",
    "to_return = -1 \n",
    "\n",
    "print(to_return)\n",
    "\n",
    "# run this cell, and if your answer is = 1, you are correct!\n",
    "# if this is not your answer, try using the modulo operator!"
   ]
  },
  {
   "cell_type": "code",
   "execution_count": null,
   "metadata": {},
   "outputs": [],
   "source": [
    "# Complete the variable num with your favorite number\n",
    "# (make it a float)\n",
    "num = \n",
    "\n",
    "# complete the if statement to print whether the number is\n",
    "# even or odd\n",
    "# hint: think of remainders for even and odd numbers\n",
    "if num :\n",
    "    print(\"num is even\")\n",
    "else:\n",
    "    print('num is odd')"
   ]
  },
  {
   "cell_type": "code",
   "execution_count": null,
   "metadata": {},
   "outputs": [],
   "source": [
    "# Create variables with your name and age\n",
    "\n",
    "# Print out a message addressed to the name that\n",
    "# tells them the year they will turn 100 years old\n",
    "\n"
   ]
  },
  {
   "cell_type": "code",
   "execution_count": null,
   "metadata": {},
   "outputs": [],
   "source": [
    "# Write a function that takes in the following list,\n",
    "# and returns if the element 7 is in the list.\n",
    "\n"
   ]
  },
  {
   "cell_type": "markdown",
   "metadata": {},
   "source": [
    "# Homework"
   ]
  },
  {
   "cell_type": "markdown",
   "metadata": {},
   "source": [
    "Finish writing your app's pseudocode in the jupyter notebook and commit to a new “your_name” branch."
   ]
  }
 ],
 "metadata": {
  "kernelspec": {
   "display_name": "Python 3",
   "language": "python",
   "name": "python3"
  },
  "language_info": {
   "codemirror_mode": {
    "name": "ipython",
    "version": 3
   },
   "file_extension": ".py",
   "mimetype": "text/x-python",
   "name": "python",
   "nbconvert_exporter": "python",
   "pygments_lexer": "ipython3",
   "version": "3.7.3"
  }
 },
 "nbformat": 4,
 "nbformat_minor": 2
}

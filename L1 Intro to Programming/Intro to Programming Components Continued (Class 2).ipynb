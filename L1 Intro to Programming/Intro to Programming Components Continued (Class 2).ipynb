{
 "cells": [
  {
   "cell_type": "markdown",
   "metadata": {},
   "source": [
    "## Introduction to Programming Components Continued!"
   ]
  },
  {
   "cell_type": "markdown",
   "metadata": {},
   "source": [
    "Goal: Students will gain a deeper understanding of the components associated with programming. Students will be able to describe how all of the components will work together in order to create their application. Students will learn about Python, its history and its many advantages as a programming language. At the end of this lesson, students will be able to navigate confidently in their JupyterLab environments.\n",
    "\n",
    "Exercises: Git   (Github?)\n",
    "\n",
    "Homework: Finish writing pseudocode in the Jupyter Notebook and commit to a new “student_name” branch."
   ]
  },
  {
   "cell_type": "markdown",
   "metadata": {},
   "source": [
    "What is Github?\n",
    "    A system for tracking and sharing work among programmers."
   ]
  },
  {
   "cell_type": "markdown",
   "metadata": {},
   "source": [
    "How do we use it?\n",
    "    Upload files to your group, once you have created something. For this exercise it will be a jupyter notebook.\n",
    "    \n",
    "What is a jupyter notebook?\n",
    "    A web application that allows you to create and share documents that contain live code, equations, visualizations, and narrative text. C\n",
    "    Can produce interactive output (HTML, Images, LaTeX, etc)\n",
    "    Big data integration"
   ]
  },
  {
   "cell_type": "markdown",
   "metadata": {},
   "source": [
    "Refresher: What are the components of programming?\n",
    "    Variables, Control Structures, Data Structures, Syntax, Tools. ?\n",
    "How do they work together in a program? \n",
    "give an example ??\n"
   ]
  },
  {
   "cell_type": "markdown",
   "metadata": {},
   "source": [
    "Python: History, Advantages, Love\n"
   ]
  },
  {
   "cell_type": "markdown",
   "metadata": {},
   "source": [
    "# How to Use Jupyter Notebook"
   ]
  },
  {
   "cell_type": "markdown",
   "metadata": {},
   "source": [
    "There are two modes: Edit mode, and Command Mode.\n",
    "Edit mode allows us to write code, text, and more in the cells.\n",
    "Command mode does things to cells such as split, merge or add them.\n",
    "\n",
    "To get from one mode to the other, hit ESC or Enter. "
   ]
  },
  {
   "cell_type": "markdown",
   "metadata": {},
   "source": [
    "Command Mode:\n",
    "\n",
    "To create a cell above your current position, hit a.\n",
    "To create a cell below your current position, hit b.\n",
    "\n",
    "To delete a cell, select it, then type dd.\n",
    "To Undo type z or Ctrl+z\n",
    "\n",
    "To copy a cell, select it, and hit c. Then select the position you would like to paste what you copied, and hit v to paste that content.\n",
    "\n",
    "To run a cell (with code) and keep focus as is: Ctrl + Enter.\n",
    "To run a cell and move focus to next cell: Shift + Enter.\n",
    "To compile a markdown: Shift + Enter.\n",
    "\n",
    "To change mode of cell: y for code; m for markdown.\n",
    "(Markdown is a way of writing text, or things other than code.)"
   ]
  },
  {
   "cell_type": "markdown",
   "metadata": {},
   "source": [
    "What is a Kernel?\n",
    "    The place where your code is being executed. \n",
    "\n",
    "How to turn one off: Ctrl + C OR ii interupts cell running. \n",
    "How to run a selected cell: Enter + Shift"
   ]
  }
 ],
 "metadata": {
  "kernelspec": {
   "display_name": "Python 3",
   "language": "python",
   "name": "python3"
  },
  "language_info": {
   "codemirror_mode": {
    "name": "ipython",
    "version": 3
   },
   "file_extension": ".py",
   "mimetype": "text/x-python",
   "name": "python",
   "nbconvert_exporter": "python",
   "pygments_lexer": "ipython3",
   "version": "3.7.3"
  }
 },
 "nbformat": 4,
 "nbformat_minor": 2
}

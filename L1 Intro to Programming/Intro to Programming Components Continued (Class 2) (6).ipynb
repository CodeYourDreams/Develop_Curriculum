{
 "cells": [
  {
   "cell_type": "markdown",
   "metadata": {},
   "source": [
    "## Introduction to Programming Components Continued!"
   ]
  },
  {
   "cell_type": "markdown",
   "metadata": {},
   "source": [
    "## What is Git?\n",
    "    A system for tracking and sharing work among programmers. Also what you're going to use for this class!"
   ]
  },
  {
   "cell_type": "markdown",
   "metadata": {},
   "source": [
    "## How do we use it?\n",
    "  Upload files to your group, once you have created something. For this exercise it will be a jupyter notebook. An easy way to save and share is to download your notebook and then upload it to Git that way. "
   ]
  },
  {
   "cell_type": "markdown",
   "metadata": {},
   "source": [
    "### Refresher: What are the main components of programming?\n",
    "    Variables, Control Structures, Data Structures, Syntax, Tools.\n",
    "   Last lesson, we covered variables, control structures and syntax. Just two more!\n",
    "![diving](https://media.giphy.com/media/42V253WHTtqec/giphy.gif \"diving\")\n",
    "# Diving back in together!"
   ]
  },
  {
   "cell_type": "markdown",
   "metadata": {},
   "source": [
    "## Data Structures\n",
    "   Data Structures are a way of storing and organizing related data in the computer so that it can be used efficiently. \n",
    "   Fundamental Python data structures include list, tuple, dictionary, and set. \n",
    "   \n",
    "   Data structures are kind of like composite data types like we talked about earlier!\n",
    "   \n",
    "   In Python, the elements of data structures can hold any type of data, and can even have a mixture!"
   ]
  },
  {
   "cell_type": "markdown",
   "metadata": {},
   "source": [
    "### Lists"
   ]
  },
  {
   "cell_type": "code",
   "execution_count": 7,
   "metadata": {},
   "outputs": [],
   "source": [
    "# A list is a sequence of ordered elements that is changable\n",
    "# created with brackets []\n",
    "role_models = [\"Police women\", \"Firefighters\", \"Guardians\"]\n",
    "\n",
    "blue_lights = 5\n",
    "stop_signs = -2.7\n",
    "added_saftey_amount = [blue_lights, \"7 phone apps\", stop_signs]"
   ]
  },
  {
   "cell_type": "markdown",
   "metadata": {},
   "source": [
    "# You Try!"
   ]
  },
  {
   "cell_type": "code",
   "execution_count": 6,
   "metadata": {
    "collapsed": true
   },
   "outputs": [
    {
     "ename": "SyntaxError",
     "evalue": "invalid syntax (<ipython-input-6-2169dbce5334>, line 3)",
     "output_type": "error",
     "traceback": [
      "\u001b[1;36m  File \u001b[1;32m\"<ipython-input-6-2169dbce5334>\"\u001b[1;36m, line \u001b[1;32m3\u001b[0m\n\u001b[1;33m    comps =\u001b[0m\n\u001b[1;37m            ^\u001b[0m\n\u001b[1;31mSyntaxError\u001b[0m\u001b[1;31m:\u001b[0m invalid syntax\n"
     ]
    }
   ],
   "source": [
    "# Create a list of the main programming components\n",
    "# each item should be a string\n",
    "comps = "
   ]
  },
  {
   "cell_type": "markdown",
   "metadata": {},
   "source": [
    "### Tuples"
   ]
  },
  {
   "cell_type": "code",
   "execution_count": 5,
   "metadata": {},
   "outputs": [],
   "source": [
    "# A Tuple is a sequence of objects that is unchangeable\n",
    "# created with parentheses ()"
   ]
  },
  {
   "cell_type": "code",
   "execution_count": 2,
   "metadata": {},
   "outputs": [
    {
     "data": {
      "text/html": [
       "<img src=\"https://static.javatpoint.com/python/images/tuple-indexing-and-splitting.png\"/>"
      ],
      "text/plain": [
       "<IPython.core.display.Image object>"
      ]
     },
     "execution_count": 2,
     "metadata": {},
     "output_type": "execute_result"
    }
   ],
   "source": [
    "from IPython.display import Image\n",
    "from IPython.core.display import HTML\n",
    "Image(url= \"https://static.javatpoint.com/python/images/tuple-indexing-and-splitting.png\")"
   ]
  },
  {
   "cell_type": "markdown",
   "metadata": {},
   "source": [
    "### Dictionaries"
   ]
  },
  {
   "cell_type": "code",
   "execution_count": 4,
   "metadata": {},
   "outputs": [],
   "source": [
    "# A dictionary is a collection of items that cannot be duplicated and cannot be changed\n",
    "# each item has a key that relates to it (this simplifies finding it later)\n",
    "# created with curly braces {}, and key:value pairs\n",
    "mlb_team = {'Colorado':'Rockies', \n",
    "           'Boston':'Red Sox',\n",
    "           'New York':'Yankees'}\n",
    "\n",
    "discriminations = {'race':'racism',\n",
    "                  'age':'ageism',\n",
    "                  'gender':'sexism',\n",
    "                  'sexuality':'heterosexism'}"
   ]
  },
  {
   "cell_type": "markdown",
   "metadata": {},
   "source": [
    "# Your turn!"
   ]
  },
  {
   "cell_type": "code",
   "execution_count": 3,
   "metadata": {},
   "outputs": [],
   "source": [
    "# create a dictionary with items corresponding to \n",
    "# your app ideas!"
   ]
  },
  {
   "cell_type": "markdown",
   "metadata": {},
   "source": [
    "### Sets"
   ]
  },
  {
   "cell_type": "code",
   "execution_count": 2,
   "metadata": {},
   "outputs": [
    {
     "name": "stdout",
     "output_type": "stream",
     "text": [
      "My favorite flavor order today is {'vanilla', 'strawberry', 'chocolate'}\n"
     ]
    }
   ],
   "source": [
    "# A Set is an unordered collection data type that is iterable, mutable, and has no duplicate elements\n",
    "# created with curly braces {}\n",
    "\n",
    "  # The major advantage of using a set, as opposed to a list, is that it has a highly optimized method \n",
    "  # for checking whether a specific element is contained in the set\n",
    "\n",
    "ice_cream = {\"chocolate\", \"vanilla\", \"strawberry\"}\n",
    "print('My favorite flavor order today is ' + str(ice_cream))\n",
    "\n",
    "# Note: the set list is unordered, meaning: the items will appear in a random order."
   ]
  },
  {
   "cell_type": "markdown",
   "metadata": {},
   "source": [
    "## Tools\n",
    "   A tool in programming is something you can use while coding to make your code run faster! An important tool is an IDE, an Integrated Development Environment. This check's a program's syntax for errors, and will organize the files in a nice way to view them. Python has a library of tools that you can access by simply including the correct keyword into your code. "
   ]
  },
  {
   "cell_type": "markdown",
   "metadata": {},
   "source": [
    "### How do the components work all together in a program? \n",
    "   There are an infinite amount of different combinations of components to create a program. Here is just one example:"
   ]
  },
  {
   "cell_type": "code",
   "execution_count": 3,
   "metadata": {},
   "outputs": [
    {
     "name": "stdout",
     "output_type": "stream",
     "text": [
      "I have 4 items to purchase.\n",
      "These items are: apple mango banana orange \n",
      "\n",
      "The first item I will buy is: apple\n"
     ]
    }
   ],
   "source": [
    "shoplist = ['apple', 'mango', 'banana', 'orange']\n",
    "\n",
    "print('I have', len(shoplist), 'items to purchase.')\n",
    "print(\"These items are:\", end=' ')\n",
    "\n",
    "for item in shoplist:\n",
    "    print(item, end =' ')\n",
    "    \n",
    "print(\"\\n\")\n",
    "print('The first item I will buy is:', shoplist[0])\n"
   ]
  },
  {
   "cell_type": "markdown",
   "metadata": {},
   "source": [
    "To Explain: \n",
    "\n",
    "1. shoplist \n",
    "    is a variable holding my list of items.\n",
    "2. len(shoplist) \n",
    "    returns the length of my list as a number (type integer)\n",
    "3. (for item in shoplist) \n",
    "    goes through my list and prints each item.\n",
    "    -This is a data structure. \n",
    "4. shoplist[0] \n",
    "    refers to the first item in my list. \n",
    "    -This is a tool of the list data structure. \n",
    "5. note: I could add an if statement to decide whether or not to print an item in my list. This would be a control structure. \n",
    "6. syntax is the wierd conventions used to write the code above. It is not english, or human language, but Python. "
   ]
  },
  {
   "cell_type": "markdown",
   "metadata": {},
   "source": [
    "# Python: History and Advantages\n",
    "Python is named after the British TV comedy \"Monty Python\".\n",
    "![monty python](https://media.giphy.com/media/qu1GssFpndjDq/giphy.gif \"monty python\")   \n",
    "\n",
    "   The language is prized for its readability and simplicity. There may be fewer steps to do the same thing as another language, and less rules generally.\n",
    "   Python also holds a big standard library for users to access, and has automatic memory management, and other helpful features. \n"
   ]
  },
  {
   "cell_type": "markdown",
   "metadata": {},
   "source": [
    "## What is a jupyter notebook?\n",
    "  A web application that allows you to create and share documents that contain live code, equations, visualizations, and narrative text. \n",
    "  \n",
    "  It's what you're reading right now!"
   ]
  },
  {
   "cell_type": "markdown",
   "metadata": {},
   "source": [
    "# How to Use Jupyter Notebook\n",
    "\n",
    "Watch this tutorial and use the tips after it as guides for later reference!"
   ]
  },
  {
   "cell_type": "code",
   "execution_count": 1,
   "metadata": {},
   "outputs": [
    {
     "data": {
      "image/jpeg": "[encoded data removed]",
      "text/html": [
       "\n",
       "        <iframe\n",
       "            width=\"400\"\n",
       "            height=\"300\"\n",
       "            src=\"https://www.youtube.com/embed/KztbY361Kfk\"\n",
       "            frameborder=\"0\"\n",
       "            allowfullscreen\n",
       "        ></iframe>\n",
       "        "
      ],
      "text/plain": [
       "<IPython.lib.display.YouTubeVideo at 0x1d6af092c50>"
      ]
     },
     "execution_count": 1,
     "metadata": {},
     "output_type": "execute_result"
    }
   ],
   "source": [
    "from IPython.display import YouTubeVideo\n",
    "YouTubeVideo('KztbY361Kfk')"
   ]
  },
  {
   "cell_type": "markdown",
   "metadata": {},
   "source": [
    "There are two modes: Edit mode, and Command Mode.\n",
    "Edit mode allows us to write code, text, and more in the cells.\n",
    "Command mode does things to cells such as split, merge or add them.\n",
    "\n",
    "To get from one mode to the other, hit ESC or Enter. "
   ]
  },
  {
   "cell_type": "markdown",
   "metadata": {},
   "source": [
    "Command Mode:\n",
    "\n",
    "To create a cell above your current position, hit a.\n",
    "To create a cell below your current position, hit b.\n",
    "\n",
    "To delete a cell, select it, then type dd.\n",
    "To Undo type z or Ctrl+z\n",
    "\n",
    "To copy a cell, select it, and hit c. Then select the position you would like to paste what you copied, and hit v to paste that content.\n",
    "\n",
    "To run a cell (with code) and keep focus as is: Ctrl + Enter.\n",
    "To run a cell and move focus to next cell: Shift + Enter.\n",
    "To compile a markdown: Shift + Enter.\n",
    "\n",
    "To change mode of cell: y for code; m for markdown.\n",
    "(Markdown is a way of writing text, or things other than code.)"
   ]
  },
  {
   "cell_type": "markdown",
   "metadata": {},
   "source": [
    "What is a Kernel?\n",
    "    The place where your code is being executed. \n",
    "\n",
    "How to turn one off: Ctrl + C OR ii interupts cell running. \n",
    "How to run a selected cell: Enter + Shift"
   ]
  },
  {
   "cell_type": "markdown",
   "metadata": {},
   "source": [
    "## Exercises"
   ]
  },
  {
   "cell_type": "code",
   "execution_count": null,
   "metadata": {},
   "outputs": [],
   "source": [
    "# Upload something to github!\n",
    "# (maybe type a secret message)"
   ]
  },
  {
   "cell_type": "code",
   "execution_count": null,
   "metadata": {},
   "outputs": [],
   "source": [
    "# Create a list of the main programming components\n",
    "# each item should be a string\n",
    "comps = "
   ]
  },
  {
   "cell_type": "markdown",
   "metadata": {},
   "source": [
    "One advantage of Python over other programming languages, is that whitespace is more meaningful.\n",
    "    This means that tabs and spacing are very important in addition to the actual code. "
   ]
  },
  {
   "cell_type": "code",
   "execution_count": 4,
   "metadata": {},
   "outputs": [
    {
     "name": "stdout",
     "output_type": "stream",
     "text": [
      "hey watch Monty Python \n",
      "Done printing list!\n"
     ]
    }
   ],
   "source": [
    "# For example: This for loop uses spacing and whitespace\n",
    "# rather than curly braces to decide what is part of the loop\n",
    "# and what is not\n",
    "list = ['hey ' 'watch ' 'Monty ' 'Python ']\n",
    "for word in list:\n",
    "    print(word)\n",
    "\n",
    "print(\"Done printing list!\")\n",
    "\n",
    "# since the first print is indented, it is part of the for loop\n",
    "# the second print is not, so it is executed only \n",
    "# after the for loop is completed"
   ]
  },
  {
   "cell_type": "code",
   "execution_count": null,
   "metadata": {},
   "outputs": [],
   "source": [
    "# Write your own program using similar syntax as above. \n",
    "# maybe try writing an if statement\n",
    "\n"
   ]
  },
  {
   "cell_type": "markdown",
   "metadata": {},
   "source": [
    "Another advantage of Python is that programmers do not need to declare a variable before they assign something to it. This means that in one line, one can create a variable and assign it a value.\n",
    "\n",
    "Programmers also do not need to declare what type of value the variable is holding (like an integer). In fact, they can reassign a different type of value to the same variable later in their code!"
   ]
  },
  {
   "cell_type": "code",
   "execution_count": null,
   "metadata": {},
   "outputs": [],
   "source": [
    "my_variable = 0.5\n",
    "# this variable is holding a float (a decimal number)\n",
    "\n",
    "# reassign the variable above to something different\n",
    "# like a string (a word with \"\" or ''):\n"
   ]
  },
  {
   "cell_type": "markdown",
   "metadata": {},
   "source": [
    "# Homework\n",
    " Finish writing pseudocode for your app in your Jupyter Notebook\n",
    " and commit it to github under a new \"your_name\" branch\n",
    " \n",
    " When uploading and committing to git, there is an option button at the bottom of your screen that will ask you if you wish to start a new branch. "
   ]
  }
 ],
 "metadata": {
  "kernelspec": {
   "display_name": "Python 3",
   "language": "python",
   "name": "python3"
  },
  "language_info": {
   "codemirror_mode": {
    "name": "ipython",
    "version": 3
   },
   "file_extension": ".py",
   "mimetype": "text/x-python",
   "name": "python",
   "nbconvert_exporter": "python",
   "pygments_lexer": "ipython3",
   "version": "3.7.3"
  }
 },
 "nbformat": 4,
 "nbformat_minor": 2
}

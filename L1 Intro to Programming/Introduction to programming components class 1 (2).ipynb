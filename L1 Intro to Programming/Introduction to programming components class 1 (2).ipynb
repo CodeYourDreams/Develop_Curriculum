{
 "cells": [
  {
   "cell_type": "markdown",
   "metadata": {},
   "source": [
    "# Introduction to Comptuter Programming Components"
   ]
  },
  {
   "cell_type": "markdown",
   "metadata": {},
   "source": [
    "\n",
    "## What is Programming? \n",
    "   Programming is a way of giving computers instructions about what we want them to do next. Also called coding, it is a translation of our human instructions into computer language. The code is a way for the programmer to tell the computer how to solve problems or what tasks to perform. "
   ]
  },
  {
   "cell_type": "markdown",
   "metadata": {},
   "source": [
    "## What is the life of a programmer like? What do they do?\n",
    "   Since computer science can be applied to so many different ideas, programmers are pretty free to design content to address almost any need. Programming is what makes our technology work the way we need it to. \n",
    "   Computer scientists design, develop, and test software for performance, reliability, and security. Coding is often very collaborative, so teams work together to plan, discuss, and invent each part of their projects. \n",
    "   Projects can range from designing a website, to developing an android application to save the environment, to inventing a new video game, to adapting software for medical uses. "
   ]
  },
  {
   "cell_type": "markdown",
   "metadata": {},
   "source": [
    "# Why study Computer Science?\n",
    "   The most important aspect of computer science is problem solving, an essential skill for life. Students study the design, development and analysis of software and hardware used to solve problems in a variety of business, scientific and social contexts."
   ]
  },
  {
   "cell_type": "markdown",
   "metadata": {},
   "source": [
    "## What is pseudocode and why is it so important?\n",
    "   Pseudocode is a way of explaining code in a simplified way, without using real code. As it is super helpful to have a complete understanding of what you want to tell the computer, before you start coding, pseudocode can be helpful in this way. \n",
    "   Pseudocode is a way to organize your thoughts as well as your code, since it is a visual representation of what you plan to do. You can reference this pseudocode throughout the creation process to see what tools and strategies would work best for which parts."
   ]
  },
  {
   "cell_type": "markdown",
   "metadata": {},
   "source": [
    "# What are the main components associated with programming?\n",
    "    Variables, Control Structures, Data Structures, Syntax, Tools.\n",
    "    \n",
    "## Variables\n",
    "   Variables are the storage location and name of a piece of data. You can change the value of a variable at any time. \n",
    "       For example: "
   ]
  },
  {
   "cell_type": "code",
   "execution_count": null,
   "metadata": {},
   "outputs": [],
   "source": [
    "my_name = \"Abbey\"\n",
    "# the variable my_name stores the value of \"Abbey\" in the computer's memory.\n",
    "year = 2019\n",
    "# the variable year stores the value of 2019 for later use."
   ]
  },
  {
   "cell_type": "markdown",
   "metadata": {},
   "source": [
    "## Control Structures\n",
    "   Control Structures are a block of code which analyzes variables and chooses a direction in which to go based on given parameters. They determine how a computer will respong when given certain conditions. \n",
    "    \n",
    "   Control structures are used for (1) repetition and (2) selection:\n",
    "1. looping is repeating a piece of code mutliple times in a row. Programmers use loops instead of writing the same piece of         code more than once. \n",
    "2. sequential control is like following a recipe. This is the default mode where the code is executed in order of the              statements, i.e. one line after another. This is used for decision making and branching - choosing between 2 or more            alternative paths. \n",
    "   "
   ]
  },
  {
   "cell_type": "code",
   "execution_count": 2,
   "metadata": {},
   "outputs": [
    {
     "name": "stdout",
     "output_type": "stream",
     "text": [
      "Chicago\n",
      "my_community\n",
      "2019\n"
     ]
    }
   ],
   "source": [
    "# this is an example of the first control structure \n",
    "dictionary = {\n",
    "    \"Chicago\": \"city\",\n",
    "    \"my_community\": \"help\",\n",
    "    \"2019\": \"year\"\n",
    "    }\n",
    "# this is called a for loop\n",
    "# this prints an element in \"dictionary\" as long as \n",
    "# there are some left to print\n",
    "for x in dictionary:\n",
    "    print(x)"
   ]
  },
  {
   "cell_type": "markdown",
   "metadata": {},
   "source": [
    "## Data Structures\n",
    "   Data Structures are a way of storing and organizing related data in the computer so that it can be used efficiently. Built-in Python data structures include list, tuple, dictionary, and set. \n",
    "    \n",
    "   Types are a classification of a piece of data to relate similar pieces to each other. A string is 1 or more characters inside a set of double quotes \"\". A float is a number with a decimal. \n",
    "    For example:"
   ]
  },
  {
   "cell_type": "code",
   "execution_count": null,
   "metadata": {},
   "outputs": [],
   "source": [
    "# words is a variable that holds the list of strings \"Hello World!\"\n",
    "words = [\"Hello\", \"world\" \"!\"]\n",
    "\n",
    "# things is a variable that holds the list of many things (of different types)\n",
    "# including a string, numbers, another list, and a float\n",
    "things = [\"string\", 0, [1, 2, number], 4.56]\n",
    "\n",
    "# EXTRA INFO\n",
    "# Types are a classification of a piece of data that can \n",
    "# relate it to similar pieces. For example, a string is\n",
    "# 1 or more characters inside a set of double quotes \"\"\n",
    "# A float is a number with a decimal like 3.0"
   ]
  },
  {
   "cell_type": "markdown",
   "metadata": {},
   "source": [
    "## Syntax\n",
    "   Syntax is a set of rules that define the combination of symbols that the computer will be able to understand, and which allow your program to run faster. \n",
    "   Spaces, tabs, newlines, and code are all components of syntax. An example of a python syntax rule is that unlike in other languages, there is no terminating character for lines like a semicolon. You just skip to the next line like this:"
   ]
  },
  {
   "cell_type": "code",
   "execution_count": 2,
   "metadata": {},
   "outputs": [
    {
     "name": "stdout",
     "output_type": "stream",
     "text": [
      "hello\n",
      "This is a paragraph\n",
      "which has multiple lines\n"
     ]
    }
   ],
   "source": [
    "word = \"hello\"\n",
    "para = \"\"\"This is a paragraph\n",
    "which has multiple lines\"\"\"\n",
    "print(word)\n",
    "print(para)\n",
    "# print is a way to tell the computer what to display to the user. \n",
    "#try running this cell. "
   ]
  },
  {
   "cell_type": "markdown",
   "metadata": {},
   "source": [
    "## Tools\n",
    "   A tool in programming is something you can use while coding to make your code run faster! An important tool is an IDE, an Integrated Development Environment. This check's a program's syntax for errors, and will organize the files in a nice way to view them. Python has a library of tools that you can access by simply including the correct keyword into your code. "
   ]
  },
  {
   "cell_type": "markdown",
   "metadata": {},
   "source": [
    "## What is a console?\n",
    "   A console is a way for the computer and the user to communicate. The keyboard is used to access input from the user, and the monitor provides the output from the computer. \n",
    "   When using a print statement like above, the computer displays the print argument to the console. "
   ]
  },
  {
   "cell_type": "markdown",
   "metadata": {},
   "source": [
    "## What is a language in Computer Science? \n",
    "   A language is a vocabulary and set of grammatical rules for instructing a computer or computing device to perform specific tasks. How we communicate with the computer!\n",
    "   The language we are coding in is called Python. Python is a language with applications in numerous areas, including web programming, scripting, scientific computing, and artificial intelligence. It is very popular and used by organizations such as Google, Nasa, the CIA, and Disney!!\n",
    "    \n",
    "   Why do we use Python?\n",
    "       It is general purpose langauge that can be used for both desktop and web applications. The syntax is generally considered easy to read, and Python is designed to facilitate data analysis and visualization. Python also has a big standard library as well as open framework for us to use!"
   ]
  },
  {
   "cell_type": "markdown",
   "metadata": {},
   "source": [
    "## What does storage mean in the World of Programming?\n",
    "\n",
    "Storage is computer memory where it keeps things we create, or things we want to use later. Just like a variable stores a value, that means that the computer now remembers what that value means by remembering its name, and also remembers where it puts that piece of data in its memory box. "
   ]
  },
  {
   "cell_type": "markdown",
   "metadata": {},
   "source": [
    "# Exercises"
   ]
  },
  {
   "cell_type": "code",
   "execution_count": null,
   "metadata": {
    "scrolled": true
   },
   "outputs": [],
   "source": [
    "# to run a cell, press the run button or \n",
    "# select the cell by clicking on it, and \n",
    "# pressing Ctrl + Enter on your keyboard\n",
    "# (in command mode meaning you are not typing)\n",
    "print(\"Congrats! You are interacting with the console!\")\n",
    "print('You have now run some Python code!')\n",
    "\n",
    "# try adding another line of code and re-running the cell\n"
   ]
  },
  {
   "cell_type": "code",
   "execution_count": 1,
   "metadata": {},
   "outputs": [],
   "source": [
    "# create the following variables, and assign \n",
    "# to them their corresponding definitions:\n",
    "# console, storage, language, python\n",
    "# Complete the follow variables with their corresponding definitions\n",
    "ide = \"Integrated Development Environment\"\n",
    "console = \"\" \n",
    "storage = \"\"\n",
    "language = \"\"\n",
    "python = \"\"\n",
    "\n",
    "# Now get the computer to portray those variables to the console\n",
    "# To print a variable you can just type print(var_name) and then \n",
    "# run this cell. "
   ]
  },
  {
   "cell_type": "code",
   "execution_count": null,
   "metadata": {},
   "outputs": [],
   "source": [
    "# Translate the following code into pseudocode\n",
    "# Hint: describe what the following code is doing\n",
    "if i < 5\n",
    "    print(\"num is less than 5\")\n",
    "else\n",
    "    print(\"num is greater than 5\")\n",
    "    \n",
    "## Write here"
   ]
  },
  {
   "cell_type": "code",
   "execution_count": null,
   "metadata": {},
   "outputs": [],
   "source": [
    "# Insert the rest of the main programming components into the list\n",
    "comps = [variables, ]"
   ]
  },
  {
   "cell_type": "markdown",
   "metadata": {},
   "source": [
    "## Homework"
   ]
  },
  {
   "cell_type": "code",
   "execution_count": null,
   "metadata": {},
   "outputs": [],
   "source": [
    "# Write pseudocode outlinig key features of your application\n",
    "# Hint: create an outline for your app in summary form\n"
   ]
  }
 ],
 "metadata": {
  "kernelspec": {
   "display_name": "Python 3",
   "language": "python",
   "name": "python3"
  },
  "language_info": {
   "codemirror_mode": {
    "name": "ipython",
    "version": 3
   },
   "file_extension": ".py",
   "mimetype": "text/x-python",
   "name": "python",
   "nbconvert_exporter": "python",
   "pygments_lexer": "ipython3",
   "version": "3.7.3"
  }
 },
 "nbformat": 4,
 "nbformat_minor": 2
}

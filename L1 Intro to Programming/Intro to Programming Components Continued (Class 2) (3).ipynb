{
 "cells": [
  {
   "cell_type": "markdown",
   "metadata": {},
   "source": [
    "## Introduction to Programming Components Continued!"
   ]
  },
  {
   "cell_type": "markdown",
   "metadata": {},
   "source": [
    "## What is Git?\n",
    "    A system for tracking and sharing work among programmers."
   ]
  },
  {
   "cell_type": "markdown",
   "metadata": {},
   "source": [
    "## How do we use it?\n",
    "    Upload files to your group, once you have created something. For this exercise it will be a jupyter notebook. An easy way to save and share is to download your notebook and then upload it to Git that way. \n",
    "    \n",
    "## What is a jupyter notebook?\n",
    "    A web application that allows you to create and share documents that contain live code, equations, visualizations, and narrative text. \n",
    "    Can produce interactive output (HTML, Images, LaTeX, etc.) and is commonly used for big data integration."
   ]
  },
  {
   "cell_type": "markdown",
   "metadata": {},
   "source": [
    "### Refresher: What are the components of programming?\n",
    "    Variables, Control Structures, Data Structures, Syntax, Tools.\n",
    "\n",
    "### How do they work together in a program? \n",
    "   There are an infinite amount of different combinations of these components and more to create a program. Here is just one example:\n"
   ]
  },
  {
   "cell_type": "code",
   "execution_count": null,
   "metadata": {},
   "outputs": [],
   "source": [
    "shoplist = ['apple', 'mango', 'banana', 'orange']\n",
    "\n",
    "print('I have', len(shoplist), 'items to purchase.')\n",
    "print(\"These items are:\", end=' ')\n",
    "\n",
    "for item in shoplist:\n",
    "    print(item, end =' ')\n",
    "    \n",
    "print('The first item I will buy is', shoplist[0])\n"
   ]
  },
  {
   "cell_type": "markdown",
   "metadata": {},
   "source": [
    "To Explain: \n",
    "1. shoplist is a variable holding my list of items.\n",
    "2. len(shoplist) returns the length of my list as a number (type integer)\n",
    "3. (for item in shoplist) goes through my list and prints each item.\n",
    "    -This is a data structure. \n",
    "4. shoplist[0] refers to the first item in my list. \n",
    "    -This is a tool of the list data structure. \n",
    "5. note: I could add an if statement to decide whether or not to print an item in my list. This would be a control structure. \n",
    "6. syntax is the wierd conventions used to write the code above. It is not english, or human language, but Python. "
   ]
  },
  {
   "cell_type": "markdown",
   "metadata": {},
   "source": [
    "# Python: History and Advantages\n",
    "   Python is named after the British TV comedy \"Monty Python\".\n",
    "   The language is prized for its readability and simplicity. There may be fewer steps to do the same thing as another language, and less rules generally.\n",
    "   Python also holds a big standard library for users to access, and has automatic memory management, and other helpful features. \n",
    "   The Python language has diversified application in the software development companies such as in gaming, web frameworks and applications, language development, prototyping, graphic design applications, etc. "
   ]
  },
  {
   "cell_type": "markdown",
   "metadata": {},
   "source": [
    "# How to Use Jupyter Notebook"
   ]
  },
  {
   "cell_type": "markdown",
   "metadata": {},
   "source": [
    "There are two modes: Edit mode, and Command Mode.\n",
    "Edit mode allows us to write code, text, and more in the cells.\n",
    "Command mode does things to cells such as split, merge or add them.\n",
    "\n",
    "To get from one mode to the other, hit ESC or Enter. "
   ]
  },
  {
   "cell_type": "markdown",
   "metadata": {},
   "source": [
    "Command Mode:\n",
    "\n",
    "To create a cell above your current position, hit a.\n",
    "To create a cell below your current position, hit b.\n",
    "\n",
    "To delete a cell, select it, then type dd.\n",
    "To Undo type z or Ctrl+z\n",
    "\n",
    "To copy a cell, select it, and hit c. Then select the position you would like to paste what you copied, and hit v to paste that content.\n",
    "\n",
    "To run a cell (with code) and keep focus as is: Ctrl + Enter.\n",
    "To run a cell and move focus to next cell: Shift + Enter.\n",
    "To compile a markdown: Shift + Enter.\n",
    "\n",
    "To change mode of cell: y for code; m for markdown.\n",
    "(Markdown is a way of writing text, or things other than code.)"
   ]
  },
  {
   "cell_type": "markdown",
   "metadata": {},
   "source": [
    "What is a Kernel?\n",
    "    The place where your code is being executed. \n",
    "\n",
    "How to turn one off: Ctrl + C OR ii interupts cell running. \n",
    "How to run a selected cell: Enter + Shift"
   ]
  },
  {
   "cell_type": "markdown",
   "metadata": {},
   "source": [
    "## Exercises"
   ]
  },
  {
   "cell_type": "code",
   "execution_count": null,
   "metadata": {},
   "outputs": [],
   "source": [
    "# Upload something to github!\n",
    "# (maybe type a secret message)"
   ]
  },
  {
   "cell_type": "markdown",
   "metadata": {},
   "source": [
    "One advantage of Python over other programming languages, is that whitespace is more meaningful.\n",
    "    This means that tabs and spacing is very important in addition to the actual code. "
   ]
  },
  {
   "cell_type": "code",
   "execution_count": 4,
   "metadata": {},
   "outputs": [
    {
     "name": "stdout",
     "output_type": "stream",
     "text": [
      "hey watch Monty Python \n",
      "Done printing list!\n"
     ]
    }
   ],
   "source": [
    "# For example: This for loop uses spacing and whitespace\n",
    "# rather than curly braces to decide what is part of the loop\n",
    "# and what is not\n",
    "list = ['hey ' 'watch ' 'Monty ' 'Python ']\n",
    "for word in list:\n",
    "    print(word)\n",
    "\n",
    "print(\"Done printing list!\")\n",
    "\n",
    "# since the first print is indented, it is part of the for loop\n",
    "# the second print is not, so it is executed only \n",
    "# after the for loop is completed"
   ]
  },
  {
   "cell_type": "markdown",
   "metadata": {},
   "source": [
    "Another advantage of Python is that programmers do not need to declare a variable before they assign something to it. This means that in one line, one can create a variable and assign it a value.\n",
    "\n",
    "Programmers also do not need to declare what type of value the variable is holding (like an integer). In fact, they can reassign a different type of value to the same variable later in their code!"
   ]
  },
  {
   "cell_type": "code",
   "execution_count": null,
   "metadata": {},
   "outputs": [],
   "source": [
    "my_variable = 0.5\n",
    "# this variable is holding a float (a decimal number)\n",
    "\n",
    "# reassign the variable above to something different\n",
    "# like a string (a word with \"\" or ''):\n"
   ]
  },
  {
   "cell_type": "markdown",
   "metadata": {},
   "source": [
    "# Homework\n",
    " Finish writing pseudocode for your app in your Jupyter Notebook\n",
    " and commit it to github under a new \"your_name\" branch\n",
    " \n",
    " When uploading and committing to git, there is an option button at the bottom of your screen that will ask you if you wish to start a new branch. "
   ]
  }
 ],
 "metadata": {
  "kernelspec": {
   "display_name": "Python 3",
   "language": "python",
   "name": "python3"
  },
  "language_info": {
   "codemirror_mode": {
    "name": "ipython",
    "version": 3
   },
   "file_extension": ".py",
   "mimetype": "text/x-python",
   "name": "python",
   "nbconvert_exporter": "python",
   "pygments_lexer": "ipython3",
   "version": "3.7.3"
  }
 },
 "nbformat": 4,
 "nbformat_minor": 2
}

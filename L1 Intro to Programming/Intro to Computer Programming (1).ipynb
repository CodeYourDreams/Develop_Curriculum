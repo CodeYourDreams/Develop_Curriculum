{
 "cells": [
  {
   "cell_type": "markdown",
   "metadata": {},
   "source": [
    "# Introduction To Programming Components"
   ]
  },
  {
   "cell_type": "markdown",
   "metadata": {},
   "source": [
    "Goal:  Students will learn about what programming is and will be able to describe the life of a programmer, \n",
    "    as well as the benefits of pursuing a degree in Computer Science. Students will be able to learn about \n",
    "    the need for pseudocode and be able to take a task and translate that task into pseudocode. At the end \n",
    "    of this lesson, students will be able to list the main components associated with programming.\n",
    "    \n",
    "Exercises: IDE, console, Languages, Pseudocode, Python, storage\n",
    "    \n",
    "Homework: Write pseudocode in the Jupyter Notebook outlining key features for the application.\n",
    "    \n"
   ]
  },
  {
   "cell_type": "markdown",
   "metadata": {},
   "source": [
    "notes:\n",
    "    What is programming?\n",
    "        A way of giving computers instructions about what we want them to do next. Coding is a translation of these instructions from english into computer language. The code is a way for the programmer to tell the computer how to solve problems or how to perform a tasks.\n",
    "    What is the life of a programmer?\n",
    "        Since computer science can be applied to so many different fields, programmers are pretty free to design content in which to address almost any need. Progamming is what makes our technology work the way we need it to. \n",
    "        Programmers design, develop and test software for performance, reliability, and security. Computer science if often very collaborative, so teams work toegether to plan, discuss, and invent each part of their project.\n",
    "    What is pseudocode and why is it important?\n",
    "        Pseudocode is a way of explaining code in a simplified way, without using real code. It is important to completely understand what you want to tell the computer to do before you start writing actual code. Pseudocode can be helpful in this way, to organize thoughts as well as have a visual representation of the program you are about to write. You can reference this pseudocode throughout the process of creating the project to see what tools to use for which parts, etc. \n",
    "    What are the main components associated with programming?\n",
    "        input, output, arithmetic, conditional, and looping #??\n",
    "        "
   ]
  }
 ],
 "metadata": {
  "kernelspec": {
   "display_name": "Python 3",
   "language": "python",
   "name": "python3"
  },
  "language_info": {
   "codemirror_mode": {
    "name": "ipython",
    "version": 3
   },
   "file_extension": ".py",
   "mimetype": "text/x-python",
   "name": "python",
   "nbconvert_exporter": "python",
   "pygments_lexer": "ipython3",
   "version": "3.7.3"
  }
 },
 "nbformat": 4,
 "nbformat_minor": 2
}

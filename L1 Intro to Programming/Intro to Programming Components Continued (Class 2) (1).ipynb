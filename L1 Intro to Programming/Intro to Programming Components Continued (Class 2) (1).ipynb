{
 "cells": [
  {
   "cell_type": "markdown",
   "metadata": {},
   "source": [
    "## Introduction to Programming Components Continued!"
   ]
  },
  {
   "cell_type": "markdown",
   "metadata": {},
   "source": [
    "## What is Github?\n",
    "    A system for tracking and sharing work among programmers."
   ]
  },
  {
   "cell_type": "markdown",
   "metadata": {},
   "source": [
    "## How do we use it?\n",
    "    Upload files to your group, once you have created something. For this exercise it will be a jupyter notebook.\n",
    "    \n",
    "## What is a jupyter notebook?\n",
    "    A web application that allows you to create and share documents that contain live code, equations, visualizations, and narrative text. C\n",
    "    Can produce interactive output (HTML, Images, LaTeX, etc)\n",
    "    Big data integration"
   ]
  },
  {
   "cell_type": "markdown",
   "metadata": {},
   "source": [
    "### Refresher: What are the components of programming?\n",
    "    Variables, Control Structures, Data Structures, Syntax, Tools.\n",
    "\n",
    "### How do they work together in a program? \n",
    "    There are an infinite amount of different combinations of these components and more to create a program. Here is just one example:\n"
   ]
  },
  {
   "cell_type": "code",
   "execution_count": null,
   "metadata": {},
   "outputs": [],
   "source": [
    "shoplist = ['apple', 'mango', 'banana', 'orange']\n",
    "\n",
    "print('I have', len(shoplist), 'items to purchase.')\n",
    "print(\"These items are:\", end=' ')\n",
    "\n",
    "for item in shoplist:\n",
    "    print(item, end =' ')\n",
    "    \n",
    "print('The first item I will buy is', shoplist[0])\n"
   ]
  },
  {
   "cell_type": "markdown",
   "metadata": {},
   "source": [
    "To Explain: \n",
    "1. shoplist is a variable holding my list of items.\n",
    "2. len(shoplist) returns the length of my list as a number (type integer)\n",
    "3. for item in shoplist goes through my list and prints each item\n",
    "    this is a data structure. \n",
    "4. shoplist[0] refers to the first item in my list. \n",
    "    this is a tool of the list data structure. \n",
    "5. note: I could add an if statement to decide whether or not to print an item in my list. This would be a control structure. \n",
    "6. syntax is the wierd conventions used to write the code above. It is not english, or human language, but Python. "
   ]
  },
  {
   "cell_type": "markdown",
   "metadata": {},
   "source": [
    "Python: History, Advantages, Love\n",
    "## research more"
   ]
  },
  {
   "cell_type": "markdown",
   "metadata": {},
   "source": [
    "# How to Use Jupyter Notebook"
   ]
  },
  {
   "cell_type": "markdown",
   "metadata": {},
   "source": [
    "There are two modes: Edit mode, and Command Mode.\n",
    "Edit mode allows us to write code, text, and more in the cells.\n",
    "Command mode does things to cells such as split, merge or add them.\n",
    "\n",
    "To get from one mode to the other, hit ESC or Enter. "
   ]
  },
  {
   "cell_type": "markdown",
   "metadata": {},
   "source": [
    "Command Mode:\n",
    "\n",
    "To create a cell above your current position, hit a.\n",
    "To create a cell below your current position, hit b.\n",
    "\n",
    "To delete a cell, select it, then type dd.\n",
    "To Undo type z or Ctrl+z\n",
    "\n",
    "To copy a cell, select it, and hit c. Then select the position you would like to paste what you copied, and hit v to paste that content.\n",
    "\n",
    "To run a cell (with code) and keep focus as is: Ctrl + Enter.\n",
    "To run a cell and move focus to next cell: Shift + Enter.\n",
    "To compile a markdown: Shift + Enter.\n",
    "\n",
    "To change mode of cell: y for code; m for markdown.\n",
    "(Markdown is a way of writing text, or things other than code.)"
   ]
  },
  {
   "cell_type": "markdown",
   "metadata": {},
   "source": [
    "What is a Kernel?\n",
    "    The place where your code is being executed. \n",
    "\n",
    "How to turn one off: Ctrl + C OR ii interupts cell running. \n",
    "How to run a selected cell: Enter + Shift"
   ]
  },
  {
   "cell_type": "markdown",
   "metadata": {},
   "source": [
    "## Exercises and Homework"
   ]
  },
  {
   "cell_type": "code",
   "execution_count": null,
   "metadata": {},
   "outputs": [],
   "source": [
    "# Upload something to github!\n",
    "# (maybe a picture or cool gif) ?"
   ]
  },
  {
   "cell_type": "code",
   "execution_count": null,
   "metadata": {},
   "outputs": [],
   "source": [
    "# Finish writing pseudocode for your app in Jupyter Notebook\n",
    "# and commit it to github under a new \"studen_name\" branch"
   ]
  }
 ],
 "metadata": {
  "kernelspec": {
   "display_name": "Python 3",
   "language": "python",
   "name": "python3"
  },
  "language_info": {
   "codemirror_mode": {
    "name": "ipython",
    "version": 3
   },
   "file_extension": ".py",
   "mimetype": "text/x-python",
   "name": "python",
   "nbconvert_exporter": "python",
   "pygments_lexer": "ipython3",
   "version": "3.7.3"
  }
 },
 "nbformat": 4,
 "nbformat_minor": 2
}

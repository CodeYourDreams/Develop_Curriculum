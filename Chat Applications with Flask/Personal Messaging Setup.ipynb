{
 "cells": [
  {
   "cell_type": "markdown",
   "metadata": {},
   "source": [
    "# Personal Messaging Example Setup\n",
    "(Kind of like a walkthrough)"
   ]
  },
  {
   "cell_type": "markdown",
   "metadata": {},
   "source": [
    "### Firstly, check that you have your starting imports\n",
    "1. Flask\n",
    "3. Database (MongoDB)\n",
    "2. Atlas\n",
    "3. Compass\n",
    "\n",
    "If there are any problems with any of the above refer to the database lesson!"
   ]
  },
  {
   "cell_type": "code",
   "execution_count": null,
   "metadata": {},
   "outputs": [],
   "source": [
    "# include them in your code!\n",
    "from flask import Flask\n",
    "import pymongo\n",
    "from pymongo import MongoClient"
   ]
  },
  {
   "cell_type": "markdown",
   "metadata": {},
   "source": [
    "### Another extension used in this example is Mongoengine\n",
    "### Why?"
   ]
  },
  {
   "cell_type": "markdown",
   "metadata": {},
   "source": [
    "MongoEngine is an object mapper that is easy to use with databases alongside MongoDB and Python.\n",
    "\n",
    "We use this for user log in as well as documents which clearly organize our database data alongside MongoDB"
   ]
  },
  {
   "cell_type": "code",
   "execution_count": null,
   "metadata": {},
   "outputs": [],
   "source": [
    "# to include:\n",
    "from mongoengine import *"
   ]
  },
  {
   "cell_type": "markdown",
   "metadata": {},
   "source": [
    "### NOW, configuring your app, and client connections"
   ]
  },
  {
   "cell_type": "markdown",
   "metadata": {},
   "source": [
    "![logistics](https://user-images.githubusercontent.com/51918954/63808179-f4ff9500-c8e4-11e9-870f-4512a95f1c64.jpg)\n"
   ]
  },
  {
   "cell_type": "code",
   "execution_count": null,
   "metadata": {},
   "outputs": [],
   "source": [
    "# Connecting Flask\n",
    "app = Flask(__name__)"
   ]
  },
  {
   "cell_type": "code",
   "execution_count": null,
   "metadata": {},
   "outputs": [],
   "source": [
    "# Encrypting your app\n",
    "app.config[ 'SECRET_KEY' ] = 'jsbcfsbfjefebw237u3gdbdc'"
   ]
  },
  {
   "cell_type": "code",
   "execution_count": null,
   "metadata": {},
   "outputs": [],
   "source": [
    "# Connecting your app path to your base directory\n",
    "basedir = os.path.abspath(os.path.dirname(__file__))"
   ]
  },
  {
   "cell_type": "code",
   "execution_count": null,
   "metadata": {},
   "outputs": [],
   "source": [
    "# Connecting to MongoDB \n",
    "# Either Compass or Atlas or both\n",
    "\n",
    "################ YOU MAY GET THESE LINKS FROM ATLAS ##################\n",
    "\n",
    "# Atlas\n",
    "client = pymongo.MongoClient(\"mongodb+srv://<username>:<password>@cluster0-x2fzi.mongodb.net/test\")\n",
    "# when replacing your information, remove <> \n",
    "\n",
    "# Compass\n",
    "client = pymongo.MongoClient(\"mongodb+srv://<username>:<password>@cluster0-x2fzi.mongodb.net/test?retryWrites=true&w=majority\")"
   ]
  },
  {
   "cell_type": "markdown",
   "metadata": {},
   "source": [
    "## Starting app specific information!"
   ]
  },
  {
   "cell_type": "code",
   "execution_count": null,
   "metadata": {},
   "outputs": [],
   "source": [
    "# Connecting your database\n",
    "db = client.DatabaseName\n",
    "\n",
    "# example:\n",
    "db = client.ChatInfo"
   ]
  },
  {
   "cell_type": "code",
   "execution_count": null,
   "metadata": {},
   "outputs": [],
   "source": [
    "# Connecting your collections\n",
    "collection_name = db.collection_name\n",
    "\n",
    "#examples:\n",
    "messages = db.messages\n",
    "users = db.users"
   ]
  },
  {
   "cell_type": "markdown",
   "metadata": {},
   "source": [
    "##### ^^ Collections are specific sections in your database that you wish to keep track of. ^^"
   ]
  },
  {
   "cell_type": "code",
   "execution_count": null,
   "metadata": {},
   "outputs": [],
   "source": [
    "# More Flask\n",
    "Migrate(app, db)\n",
    "\n",
    "from flask_bootstrap import Bootstrap\n",
    "bootstrap = Bootstrap(app)"
   ]
  },
  {
   "cell_type": "markdown",
   "metadata": {},
   "source": [
    "### Lastly!!"
   ]
  },
  {
   "cell_type": "code",
   "execution_count": null,
   "metadata": {},
   "outputs": [],
   "source": [
    "# Connecting to MongoDB\n",
    "connect('Project0')"
   ]
  },
  {
   "cell_type": "markdown",
   "metadata": {},
   "source": [
    "## Database Dictionaries!"
   ]
  },
  {
   "cell_type": "markdown",
   "metadata": {},
   "source": [
    "![dictionary](https://media.giphy.com/media/l2Je66zG6mAAZxgqI/giphy.gif)"
   ]
  },
  {
   "cell_type": "markdown",
   "metadata": {},
   "source": [
    "Your mongodb database as seen in Atlas or Compass is must be specified in your code first!"
   ]
  },
  {
   "cell_type": "code",
   "execution_count": null,
   "metadata": {},
   "outputs": [],
   "source": [
    "# Quickly first import ObjectId to make your life easier\n",
    "from bson.objectid import ObjectId"
   ]
  },
  {
   "cell_type": "code",
   "execution_count": null,
   "metadata": {},
   "outputs": [],
   "source": [
    "# Then, I suggest making a dictionary for each of your collections\n",
    "\n",
    "# Example:\n",
    "users = \n",
    "{\n",
    "    '_id' : ObjectId(), # MongoDB creates an index for each input\n",
    "    'username' : 'Guest',\n",
    "    'last_seen' : datetime.datetime.now(), #current time. import datetime\n",
    "    'messages_sent' : [{}, ...],\n",
    "    'messages_received' : [{}, ...],\n",
    "    'last_message_read_time' : datetime.datetime.now()\n",
    "}\n",
    "\n",
    "### if you don't have a default or example as a placeholder, it is okay to\n",
    "### use {} or ... as above\n",
    "\n",
    "messages = \n",
    "{\n",
    "    '_id' : ObjectId(),\n",
    "    'author' : 'Guest', # can be used as default or placeholder\n",
    "    'recipient' : 'Guest',\n",
    "    'body' : 'BODY',\n",
    "    'timestamp' : datetime.datetime.now()\n",
    "}\n"
   ]
  },
  {
   "cell_type": "markdown",
   "metadata": {},
   "source": [
    "## MongoEngine Documents!"
   ]
  },
  {
   "cell_type": "markdown",
   "metadata": {},
   "source": [
    "Similar to the database dicitonaries, these documents are a type of class to hold your database data with specifications"
   ]
  },
  {
   "cell_type": "code",
   "execution_count": null,
   "metadata": {},
   "outputs": [],
   "source": [
    "# Example Message Class"
   ]
  },
  {
   "cell_type": "markdown",
   "metadata": {},
   "source": [
    "![Screenshot (14)](https://user-images.githubusercontent.com/51918954/63810873-79551680-c8eb-11e9-950b-ba24f2c0bd68.png)"
   ]
  },
  {
   "cell_type": "markdown",
   "metadata": {},
   "source": [
    "![explain](https://media.giphy.com/media/1iUixiLvgO2jyBtZoy/giphy.gif)"
   ]
  },
  {
   "cell_type": "markdown",
   "metadata": {},
   "source": [
    "1. Embedded Documents \n",
    "    - allow the sharing of fields between classes. This will be evident with the next User class\n",
    "2. Fields\n",
    "    - each class attribute includes a field explaining the type of data it will hold\n",
    "3. Meta\n",
    "    - allows EmbeddedDocument to share inheritance of the next class"
   ]
  },
  {
   "cell_type": "markdown",
   "metadata": {},
   "source": [
    "## The next step is important\n",
    "Firstly, it is important that the EmbeddedDocument come before the other classess. \n",
    "\n",
    "Secondly, in order to use a LoginManager extension to simplify user experience, a few internal functions must be defined within the class. "
   ]
  },
  {
   "cell_type": "code",
   "execution_count": null,
   "metadata": {},
   "outputs": [],
   "source": [
    "# Example User Class"
   ]
  },
  {
   "cell_type": "markdown",
   "metadata": {},
   "source": [
    "![Screenshot (15)](https://user-images.githubusercontent.com/51918954/63811989-96d7af80-c8ee-11e9-87c2-9a681a0ea45f.png)"
   ]
  },
  {
   "cell_type": "markdown",
   "metadata": {},
   "source": [
    "###### Again an Explanation:\n",
    "1. UserMixin & AnonymousUserMixin\n",
    "    - these must be imported from flask_login, but they simplify the login process for everyone\n",
    "2. Document\n",
    "    - this is a regular document, meaning it is its own class within the database\n",
    "3. Primary=True\n",
    "    - this is the primary identification for Users, similar to the ObjectId in the dictionaries\n",
    "4. EmbeddedDocumentField(Message)\n",
    "    - these User attributes will inherit all the Message class attributes. AKA, they are messages, but can be attached as well to each user\n",
    "5. the rest of the internal functions\n",
    "    - these allow for the user_loader from LoginManager (will be seen next), to accurately find which user is logged in. These can be interchanged and altered for different results. "
   ]
  },
  {
   "cell_type": "markdown",
   "metadata": {},
   "source": [
    "## Lastly!!\n",
    "![phew](https://media.giphy.com/media/Zvx9ttT97cevkbyVik/giphy.gif)\n",
    "\n",
    "#### user_loader!"
   ]
  },
  {
   "cell_type": "markdown",
   "metadata": {},
   "source": [
    "The user_loader is again, used by LoginManager in order to load a \"current_user\""
   ]
  },
  {
   "cell_type": "code",
   "execution_count": null,
   "metadata": {},
   "outputs": [],
   "source": [
    "# At the top these are defined as:\n",
    "from flask_login import LoginManager, UserMixin, current_user, login_required, login_user, AnonymousUserMixin\n",
    "\n",
    "login = LoginManager()\n",
    "login.init_app(app)"
   ]
  },
  {
   "cell_type": "markdown",
   "metadata": {},
   "source": [
    "The following example shows how the LoginManager takes the username to identify users from the database. "
   ]
  },
  {
   "cell_type": "code",
   "execution_count": null,
   "metadata": {},
   "outputs": [],
   "source": [
    "# Actual Code Example:\n",
    "\n",
    "@login.user_loader\n",
    "def load_user(username):\n",
    "    u = db.users.find_one({\"username\" : username})\n",
    "    if not u:\n",
    "        return None\n",
    "    return User(username = u['username'])"
   ]
  },
  {
   "cell_type": "code",
   "execution_count": null,
   "metadata": {},
   "outputs": [],
   "source": [
    "@login.user_loader\n",
    "def load_user(username):\n",
    "    u = db.users.find_one({\"username\" : username})\n",
    "    if not u:\n",
    "        return None\n",
    "    return User(username = u['username'])"
   ]
  }
 ],
 "metadata": {
  "kernelspec": {
   "display_name": "Python 3",
   "language": "python",
   "name": "python3"
  },
  "language_info": {
   "codemirror_mode": {
    "name": "ipython",
    "version": 3
   },
   "file_extension": ".py",
   "mimetype": "text/x-python",
   "name": "python",
   "nbconvert_exporter": "python",
   "pygments_lexer": "ipython3",
   "version": "3.7.3"
  }
 },
 "nbformat": 4,
 "nbformat_minor": 2
}

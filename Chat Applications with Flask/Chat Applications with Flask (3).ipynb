{
 "cells": [
  {
   "cell_type": "markdown",
   "metadata": {},
   "source": [
    "# Chat Applications with Flask! 👩🏾‍💻 🗣"
   ]
  },
  {
   "cell_type": "markdown",
   "metadata": {},
   "source": [
    "If you are looking to include a message or text interactive component to your application, you're in the right place!\n",
    "\n",
    "#### First, make sure you have installed flask. If you have not yet done so, simply type this into your prompt environment:"
   ]
  },
  {
   "cell_type": "code",
   "execution_count": null,
   "metadata": {},
   "outputs": [],
   "source": [
    "pip install flask"
   ]
  },
  {
   "cell_type": "code",
   "execution_count": null,
   "metadata": {},
   "outputs": [],
   "source": [
    "# when coding in your python file, access Flask with the following:\n",
    "from flask import Flask"
   ]
  },
  {
   "cell_type": "markdown",
   "metadata": {},
   "source": [
    "#### What else do you need?\n",
    "A backend server to handle incoming messages and broadcast them to all connected clients if desired. \n",
    "\n",
    "We will be using SocketIO for this! (there are a ton of other options across the web of course)"
   ]
  },
  {
   "cell_type": "markdown",
   "metadata": {},
   "source": [
    "## What is SocketIO?\n",
    "\n",
    "It enables real-time, bi-directional communication between web clients and servers.\n",
    "\n",
    "If socket is open, then the communication gates are as well. "
   ]
  },
  {
   "cell_type": "code",
   "execution_count": null,
   "metadata": {},
   "outputs": [],
   "source": [
    "# to install this extension in command prompt:\n",
    "pip install flask-socketio\n",
    "\n",
    "# to import SocketIO from flask_socketio module in a python file:\n",
    "from flask_socketio import SocketIO"
   ]
  },
  {
   "cell_type": "markdown",
   "metadata": {},
   "source": [
    "## Here is a video that will walk you through the use of SocketIO\n",
    "### Follow along in your IDE! And listen carefully!\n",
    "[Creating a Chat App with Flask-SocketIO](https://www.youtube.com/watch?v=RdSrkkrj3l4)"
   ]
  },
  {
   "cell_type": "markdown",
   "metadata": {},
   "source": [
    "# Let's go over what you just watched\n",
    "\n",
    "(Answers at the bottom of this page)"
   ]
  },
  {
   "cell_type": "code",
   "execution_count": null,
   "metadata": {},
   "outputs": [],
   "source": [
    "# 1. What does the following code mean?\n",
    "\n",
    "@app.route('/')\n",
    "def sessions():\n",
    "    return render_template('session.html')"
   ]
  },
  {
   "cell_type": "markdown",
   "metadata": {},
   "source": [
    "### 2. How do you add another page to your site?\n",
    "\n",
    "a) make a new app with flask and connect them\n",
    "\n",
    "b) use @app.route() with your new extension inside parens\n",
    "\n",
    "c) use @app.route('/')\n",
    "\n"
   ]
  },
  {
   "cell_type": "markdown",
   "metadata": {},
   "source": [
    "### 3. What URL do you use for your application home?"
   ]
  },
  {
   "cell_type": "markdown",
   "metadata": {},
   "source": [
    "### 4. How many users can connect to the app at once?"
   ]
  },
  {
   "cell_type": "markdown",
   "metadata": {},
   "source": [
    "![gif_url](https://media1.tenor.com/images/1243bae19fb26d6e16da59ccf7f5472d/tenor.gif?itemid=13432724 \"gif\")"
   ]
  },
  {
   "cell_type": "markdown",
   "metadata": {},
   "source": [
    "# Other examples of Chat App designs"
   ]
  },
  {
   "cell_type": "markdown",
   "metadata": {},
   "source": [
    "### 1. \n",
    "<img src=https://miro.medium.com/max/875/1*UdGRjC2Ba9m8Zjm3SJKMNQ.png width=\"600\"> "
   ]
  },
  {
   "cell_type": "markdown",
   "metadata": {},
   "source": [
    "<img src=https://miro.medium.com/max/875/1*H1EVRvj8Onk8kz0azN4xDg.png width=\"600\">"
   ]
  },
  {
   "cell_type": "markdown",
   "metadata": {},
   "source": [
    "### 2. \n",
    "<img src= https://user-images.githubusercontent.com/51918954/61403746-97b30580-a89b-11e9-86bb-1f3069ee0a19.png width=\"700\">\n",
    "<img src=https://user-images.githubusercontent.com/51918954/61403757-9bdf2300-a89b-11e9-8653-f5139dad240f.png width=\"700\">"
   ]
  },
  {
   "cell_type": "markdown",
   "metadata": {},
   "source": [
    "## Example code from the 2nd chat app pictured above\n",
    "### (see the comments embedded in the code for more guidance)\n",
    "credit:\n",
    "[chat app codeburst.io](https://codeburst.io/building-your-first-chat-application-using-flask-in-7-minutes-f98de4adfa5d), and \n",
    "[Ratib](https://www.youtube.com/watch?v=eayijy9f240)"
   ]
  },
  {
   "cell_type": "markdown",
   "metadata": {},
   "source": [
    "![Screenshot (64)](https://user-images.githubusercontent.com/51918954/61408136-fb8dfc00-a8a4-11e9-83dc-b1b790673596.png)\n",
    "![Screenshot (65)](https://user-images.githubusercontent.com/51918954/61408141-fe88ec80-a8a4-11e9-8f4d-8837dd37112c.png)\n",
    "![Screenshot (66)](https://user-images.githubusercontent.com/51918954/61408153-034da080-a8a5-11e9-82c9-c96baf7e19e5.png)\n",
    "![Screenshot (67)](https://user-images.githubusercontent.com/51918954/61408162-06489100-a8a5-11e9-92a0-d49c035978a6.png)\n"
   ]
  },
  {
   "cell_type": "markdown",
   "metadata": {},
   "source": [
    "### Here is the link to the code above if you would like to try playing around with this example:\n",
    "[chat_app2](https://github.com/rakibtg/Python-Chat-App)"
   ]
  },
  {
   "cell_type": "markdown",
   "metadata": {},
   "source": [
    "## Quick Check Answers"
   ]
  },
  {
   "cell_type": "markdown",
   "metadata": {},
   "source": [
    "1. (When the user visits your home page [indicated by the single slash '/'] it triggers the sessions view you made.)\n",
    "2. b!! whatever you put in the parentheses of @app.route is the url connecting the pages of your app\n",
    "3. Initial URL is http://127.0.0.1:5000\n",
    "4. As many users as desired can be connected to the open app! (0-infinity)"
   ]
  },
  {
   "cell_type": "markdown",
   "metadata": {},
   "source": [
    "#### A little bit on localhost and your local server url\n",
    "\n",
    "It is easier to test applications from a local place on the web, than to launch it new when it is possibly incomplete\n",
    "\n",
    "\"The localhost is the default name describing the local computer address also known as the loopback address. For example, typing: ping localhost would ping the local IP address of 127.0.0.1 (the loopback address). When setting up a web server or software on a web server, 127.0.0.1 is used to point the software to the local machine.\" \n",
    "\n",
    "credit: [localhost](https://whatismyipaddress.com/localhost)"
   ]
  },
  {
   "cell_type": "markdown",
   "metadata": {},
   "source": [
    "- On almost all networking systems, localhost uses the IP address 127.0.0.1. \n",
    "\n",
    "- That is the most commonly used IPv4 \"loopback address\" and it is reserved for that purpose. Usually, the default address is “localhost:5000.”\n",
    "\n",
    "- Some computer types can be seen wearing shirts that say \"There's no place like 127.0.0.1.\" 🏡"
   ]
  },
  {
   "cell_type": "markdown",
   "metadata": {},
   "source": [
    "# Homework"
   ]
  },
  {
   "cell_type": "code",
   "execution_count": null,
   "metadata": {},
   "outputs": [],
   "source": [
    "# Write pseudocode for the chat part of your app!\n",
    "# commit it to Git"
   ]
  },
  {
   "cell_type": "markdown",
   "metadata": {},
   "source": [
    "### Extra: Helpful Tips\n",
    "1. python main.py (or whatever you named your python file) in terminal or command prompt. \n",
    "\n",
    "2. then, go to url http://127.0.0.1:5000/ or whatever your local host is.\n",
    "\n",
    "3. check the outputs to make sure you code is doing what you want it to. \n",
    "\n",
    "4. make sure to be in right environment in order for this to work"
   ]
  },
  {
   "cell_type": "markdown",
   "metadata": {},
   "source": [
    "- To change the port address, we can pass in a parameter to the run method assigning it to any desired port number. We need to restart our server whenever we change the code in our application, to overcome that we can use debug parameter given to run method and set it to “True”. Now, whenever if there are any changes made to the source code the server automatically restarts. The debugger is also used to track the errors if there’re any. Below is the code snippet of main function.\n"
   ]
  },
  {
   "cell_type": "code",
   "execution_count": null,
   "metadata": {},
   "outputs": [],
   "source": [
    "if __name__ ==\"__main__\":\n",
    "    app.run(debug=True, port=8080)"
   ]
  },
  {
   "cell_type": "markdown",
   "metadata": {},
   "source": [
    "credit: [flask_from_scratch](https://hackernoon.com/flask-web-programming-from-scratch-9ada8088fde1)"
   ]
  },
  {
   "cell_type": "markdown",
   "metadata": {},
   "source": [
    "![cheatsheet flask](https://user-images.githubusercontent.com/51918954/61265757-587b9c00-a757-11e9-94b1-d6a1dac002b1.png)"
   ]
  }
 ],
 "metadata": {
  "kernelspec": {
   "display_name": "Python 3",
   "language": "python",
   "name": "python3"
  },
  "language_info": {
   "codemirror_mode": {
    "name": "ipython",
    "version": 3
   },
   "file_extension": ".py",
   "mimetype": "text/x-python",
   "name": "python",
   "nbconvert_exporter": "python",
   "pygments_lexer": "ipython3",
   "version": "3.7.3"
  }
 },
 "nbformat": 4,
 "nbformat_minor": 2
}

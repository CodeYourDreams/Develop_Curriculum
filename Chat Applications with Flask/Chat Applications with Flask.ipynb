{
 "cells": [
  {
   "cell_type": "markdown",
   "metadata": {},
   "source": [
    "# Chat Applications with Flask!"
   ]
  },
  {
   "cell_type": "markdown",
   "metadata": {},
   "source": [
    "If you are looking to include a message or text interactive component to your application, you're in the right place!\n",
    "\n",
    "#### First, make sure you have installed flask. If not simply type this into your prompt:"
   ]
  },
  {
   "cell_type": "code",
   "execution_count": null,
   "metadata": {},
   "outputs": [],
   "source": [
    "pip install flask"
   ]
  },
  {
   "cell_type": "code",
   "execution_count": null,
   "metadata": {},
   "outputs": [],
   "source": [
    "# when coding in your python file access Flask with the following:\n",
    "from flask import Flask"
   ]
  },
  {
   "cell_type": "markdown",
   "metadata": {},
   "source": [
    "## What is SocketIO?\n",
    "\n",
    "Using this, you can make sure any browser will be able to connect to your application. \n",
    "\n",
    "It establishes a path through which one computer can interact with another. \n",
    "\n",
    "If socket is open, then the communication gates are as well. "
   ]
  },
  {
   "cell_type": "code",
   "execution_count": null,
   "metadata": {},
   "outputs": [],
   "source": [
    "# to install this extension:\n",
    "pip install flask-socketio\n",
    "\n",
    "# to import SocketIO from flask_socketio module:\n",
    "from flask_socketio import SocketIO"
   ]
  },
  {
   "cell_type": "markdown",
   "metadata": {},
   "source": [
    "Integrating SocketJS in Flask templates:\n",
    "\n",
    "<script src=\"https://ajax.googleapis.com/ajax/libs/jquery/1.12.4/jquery.min.js\"></script>\n",
    "\n",
    "   <script src=\"https://cdnjs.cloudflare.com/ajax/libs/socket.io/1.7.3/socket.io.min.js\"></script>\n",
    "   \n",
    "   URL is http://127.0.0.1:5000"
   ]
  },
  {
   "cell_type": "code",
   "execution_count": null,
   "metadata": {},
   "outputs": [],
   "source": [
    "<form action=\"\" method=\"POST\">\n",
    "      <input type=\"text\" class=\"username\" placeholder=\"User Name\"/>\n",
    "      <input type=\"text\" class=\"message\" placeholder=\"Messages\"/>\n",
    "      <input type=\"submit\"/>\n",
    "</form>"
   ]
  },
  {
   "cell_type": "code",
   "execution_count": null,
   "metadata": {},
   "outputs": [],
   "source": [
    "var socket = io.connect('http://' + document.domain + ':' + location.port);"
   ]
  },
  {
   "cell_type": "code",
   "execution_count": null,
   "metadata": {},
   "outputs": [],
   "source": [
    " <!DOCTYPE html>\n",
    "  <html lang=\"en\">\n",
    "  <head>\n",
    "    <title>Flask_Chat_App</title>\n",
    "  </head>\n",
    "  <body>\n",
    "\n",
    "    <h3 style='color: #ccc;font-size: 30px;'>No message yet..</h3>\n",
    "    <div class=\"message_holder\"></div>\n",
    "\n",
    "    <form action=\"\" method=\"POST\">\n",
    "      <input type=\"text\" class=\"username\" placeholder=\"User Name\"/>\n",
    "      <input type=\"text\" class=\"message\" placeholder=\"Messages\"/>\n",
    "      <input type=\"submit\"/>\n",
    "    </form>\n",
    "\n",
    "    <!-- jQuery (necessary for Bootstrap's JavaScript plugins) -->\n",
    "    <script src=\"https://ajax.googleapis.com/ajax/libs/jquery/1.12.4/jquery.min.js\"></script>\n",
    "    <script src=\"https://cdnjs.cloudflare.com/ajax/libs/socket.io/1.7.3/socket.io.min.js\"></script>\n",
    "    <script type=\"text/javascript\">\n",
    "      var socket = io.connect('http://' + document.domain + ':' + location.port);\n",
    "                  \n",
    "                 \n",
    "    socket.on( 'connect', function() {\n",
    "        socket.emit( 'my event', {\n",
    "          data: 'User Connected'\n",
    "        } )\n",
    "        var form = $( 'form' ).on( 'submit', function( e ) {\n",
    "          e.preventDefault()\n",
    "          let user_name = $( 'input.username' ).val()\n",
    "          let user_input = $( 'input.message' ).val()\n",
    "          socket.emit( 'my event', {\n",
    "            user_name : user_name,\n",
    "            message : user_input\n",
    "          } )\n",
    "          $( 'input.message' ).val( '' ).focus()\n",
    "        } )\n",
    "      } )\n",
    "      socket.on( 'my response', function( msg ) {\n",
    "        console.log( msg )\n",
    "        if( typeof msg.user_name !== 'undefined' ) {\n",
    "          $( 'h3' ).remove()\n",
    "          $( 'div.message_holder' ).append( '<div><b style=\"color: #000\">'+msg.user_name+'</b> '+msg.message+'</div>' )\n",
    "        }\n",
    "      })\n",
    "    </script>\n",
    "\n",
    "  </body>\n",
    "  </html>"
   ]
  },
  {
   "cell_type": "markdown",
   "metadata": {},
   "source": [
    "![chat1](https://miro.medium.com/max/875/1*UdGRjC2Ba9m8Zjm3SJKMNQ.png \"chat1\")"
   ]
  },
  {
   "cell_type": "markdown",
   "metadata": {},
   "source": [
    "![chat2](https://miro.medium.com/max/875/1*qvsPoNWhEmv3RIqqdPBEUA.png \"chat2\")"
   ]
  },
  {
   "cell_type": "markdown",
   "metadata": {},
   "source": [
    "![chat3](https://miro.medium.com/max/875/1*H1EVRvj8Onk8kz0azN4xDg.png \"chat3\")"
   ]
  },
  {
   "cell_type": "markdown",
   "metadata": {},
   "source": [
    "credit:\n",
    "[chat app codeburst.io](https://codeburst.io/building-your-first-chat-application-using-flask-in-7-minutes-f98de4adfa5d)"
   ]
  },
  {
   "cell_type": "markdown",
   "metadata": {},
   "source": [
    "how to send / see app\n",
    "\n",
    "python main.py in terminal or command prompt.\n",
    "then, go to url http://127.0.0.1:5000/ or whatever pops up in your terminal/cp\n",
    "check the outputs to make sure you code is doing what you want it to. \n",
    "\n",
    "make sure to be in right environment in order for this to work"
   ]
  },
  {
   "cell_type": "markdown",
   "metadata": {},
   "source": [
    "[Creating a Chat App with Flask-SocketIO](https://www.youtube.com/watch?v=RdSrkkrj3l4)"
   ]
  }
 ],
 "metadata": {
  "kernelspec": {
   "display_name": "Python 3",
   "language": "python",
   "name": "python3"
  },
  "language_info": {
   "codemirror_mode": {
    "name": "ipython",
    "version": 3
   },
   "file_extension": ".py",
   "mimetype": "text/x-python",
   "name": "python",
   "nbconvert_exporter": "python",
   "pygments_lexer": "ipython3",
   "version": "3.7.3"
  }
 },
 "nbformat": 4,
 "nbformat_minor": 2
}

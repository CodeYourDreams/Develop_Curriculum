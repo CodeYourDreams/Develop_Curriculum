{
 "cells": [
  {
   "cell_type": "markdown",
   "metadata": {},
   "source": [
    "# Private Messaging Extras!\n",
    "![extra](https://user-images.githubusercontent.com/51918954/63889995-ad8e0d00-c9a7-11e9-9f50-94a70c253f42.jpg)\n"
   ]
  },
  {
   "cell_type": "markdown",
   "metadata": {},
   "source": [
    "## Option 1: Passwords for Login 🙅‍♀️\n",
    "credit: [flask_mega_tutorial](https://blog.miguelgrinberg.com/post/the-flask-mega-tutorial-part-v-user-logins)"
   ]
  },
  {
   "cell_type": "markdown",
   "metadata": {},
   "source": [
    "a) password hashing! this creates some security for the users and requires real authentication"
   ]
  },
  {
   "cell_type": "code",
   "execution_count": null,
   "metadata": {},
   "outputs": [],
   "source": [
    "# one easy implementation of this is through the use of the Werkzeug package\n",
    "\n",
    "from werkzeug.security import generate_password_hash\n",
    "hash = generate_password_hash('foobar')\n",
    "\n",
    ">>> hash\n",
    "'pbkdf2:sha256:50000$vT9fkZM8$04dfa35c6476acf7e788a1b5b3c35e217c78dc04539d295f011f01f18cd2175f'"
   ]
  },
  {
   "cell_type": "code",
   "execution_count": null,
   "metadata": {},
   "outputs": [],
   "source": [
    "# The verification process is done with a second function from Werkzeug, as follows:\n",
    "\n",
    "from werkzeug.security import check_password_hash\n",
    "\n",
    ">>> check_password_hash(hash, 'foobar')\n",
    "True\n",
    ">>> check_password_hash(hash, 'barfoo')\n",
    "False"
   ]
  },
  {
   "cell_type": "markdown",
   "metadata": {},
   "source": [
    "This can be implemented as a method in your User Document!"
   ]
  },
  {
   "cell_type": "markdown",
   "metadata": {},
   "source": [
    "b) logging users in"
   ]
  },
  {
   "cell_type": "code",
   "execution_count": 2,
   "metadata": {
    "collapsed": true
   },
   "outputs": [
    {
     "ename": "SyntaxError",
     "evalue": "unexpected EOF while parsing (<ipython-input-2-b6ab8828fdea>, line 4)",
     "output_type": "error",
     "traceback": [
      "\u001b[1;36m  File \u001b[1;32m\"<ipython-input-2-b6ab8828fdea>\"\u001b[1;36m, line \u001b[1;32m4\u001b[0m\n\u001b[1;33m    def set_password(self, password):\u001b[0m\n\u001b[1;37m                                     ^\u001b[0m\n\u001b[1;31mSyntaxError\u001b[0m\u001b[1;31m:\u001b[0m unexpected EOF while parsing\n"
     ]
    }
   ],
   "source": [
    "class User(Document, UserMixin, AnonymousUserMixin):\n",
    "    password = StringField(max_length = 27, Required=True)\n",
    "    # ...\n",
    "    \n",
    "    def set_password(self, password):\n",
    "        self.password_hash = generate_password_hash(password)\n",
    "        \n",
    "    def check_password(self, password):\n",
    "        return check_password_hash(self.password_hash, password)"
   ]
  },
  {
   "cell_type": "markdown",
   "metadata": {},
   "source": [
    "As for your Flask_login, just add a check for the correct password!"
   ]
  },
  {
   "cell_type": "code",
   "execution_count": null,
   "metadata": {},
   "outputs": [],
   "source": [
    "# EXAMPLE\n",
    "from flask import flash\n",
    "\n",
    "@app.route('/login', methods=['GET', 'POST'])\n",
    "def login():\n",
    "    if current_user.is_authenticated:\n",
    "        return redirect(url_for('index'))\n",
    "    \n",
    "    form = LoginForm\n",
    "    \n",
    "    if form.valiate_on_submit():\n",
    "        #query user\n",
    "        if User is None or not user.check_password(form.password.data)\n",
    "            flash('Invalid username or password')\n",
    "            # ...\n",
    "            \n",
    "        login_user(user, remember=form.remember_me.data)"
   ]
  },
  {
   "cell_type": "code",
   "execution_count": null,
   "metadata": {},
   "outputs": [],
   "source": [
    "@login_required # also works with passwords!"
   ]
  },
  {
   "cell_type": "markdown",
   "metadata": {},
   "source": [
    "c) logging users out"
   ]
  },
  {
   "cell_type": "code",
   "execution_count": null,
   "metadata": {},
   "outputs": [],
   "source": [
    "# similar to login_user!\n",
    "\n",
    "from flask_login import logout_user"
   ]
  },
  {
   "cell_type": "code",
   "execution_count": null,
   "metadata": {},
   "outputs": [],
   "source": [
    "@app.route('/logout')\n",
    "def logout():\n",
    "    logout_user()\n",
    "    return redirect(url_for('index'))"
   ]
  },
  {
   "cell_type": "markdown",
   "metadata": {},
   "source": [
    "###### Make sure to expose a logout link to users somewhere in your app!"
   ]
  },
  {
   "cell_type": "markdown",
   "metadata": {},
   "source": [
    "# Option 2: User Avatars 🤠 "
   ]
  },
  {
   "cell_type": "markdown",
   "metadata": {},
   "source": [
    "First, use a bootstrap media selection! (within a new template)\n",
    "\n",
    "credit [CoreyMSchafer](https://github.com/CoreyMSchafer/code_snippets/blob/master/Python/Flask_Blog/07-User-Account-Profile-Pic/flaskblog/routes.py) or he has a youtube chanel as well"
   ]
  },
  {
   "cell_type": "code",
   "execution_count": null,
   "metadata": {},
   "outputs": [],
   "source": [
    "{% extends 'chat_site_home.html' %}\n",
    "{% block content %}\n",
    "\n",
    "<div class=\"content-section\">\n",
    "  <div class=\"media\">\n",
    "    <img class=\"rounded-circle-account-img\" src=\"{{ image_file }}\">\n",
    "    <div class=\"media-body\">\n",
    "      <h2 class=\"account-heading\">{{ current_user.username }}</h2>\n",
    "      <p class=\"text-secondary\">username@email.com</p>\n",
    "    </div>\n",
    "  </div>\n",
    "  <!-- FORM HERE -->\n",
    "</div>\n",
    "\n",
    "{% endblock content %}"
   ]
  },
  {
   "cell_type": "markdown",
   "metadata": {},
   "source": [
    "1. image_file will be added to your User Document!\n",
    "2. current_user.username will be imported when rendering the template"
   ]
  },
  {
   "cell_type": "code",
   "execution_count": null,
   "metadata": {},
   "outputs": [],
   "source": [
    "class User(Document, UserMixin, AnonymousUserMixin):\n",
    "    # ...\n",
    "    \n",
    "    image_file = StringField(unique=True, default = \"default.jpg\")\n",
    "    \n",
    "    # ...\n",
    "    \n",
    "    def __repr__(self):\n",
    "        return '<User {} {}>'.format(self.username, self.image_file)"
   ]
  },
  {
   "cell_type": "markdown",
   "metadata": {},
   "source": [
    "You will somehow need to ask your user for their picture, perhaps in a form, then relay that information to your template, wherever you wish to place that!\n",
    "\n",
    "Again, more information at the lik above!"
   ]
  },
  {
   "cell_type": "markdown",
   "metadata": {},
   "source": [
    "# Option 3: Changing Messages Style 🎊"
   ]
  },
  {
   "cell_type": "markdown",
   "metadata": {},
   "source": [
    "a) changing color"
   ]
  },
  {
   "cell_type": "code",
   "execution_count": null,
   "metadata": {},
   "outputs": [],
   "source": [
    "# simply change the <span> tag in your template html code to \n",
    "# <font> and insert your color class\n",
    "\n",
    "# original:\n",
    "<span id=\"message{{ message.id }}\">{{ message.body }}</span>\n",
    "\n",
    "# new: \n",
    "<font class=\"purple\" id=\"message{{ message.id }}\">{{ message.body }}</font>"
   ]
  },
  {
   "cell_type": "code",
   "execution_count": null,
   "metadata": {},
   "outputs": [],
   "source": []
  }
 ],
 "metadata": {
  "kernelspec": {
   "display_name": "Python 3",
   "language": "python",
   "name": "python3"
  },
  "language_info": {
   "codemirror_mode": {
    "name": "ipython",
    "version": 3
   },
   "file_extension": ".py",
   "mimetype": "text/x-python",
   "name": "python",
   "nbconvert_exporter": "python",
   "pygments_lexer": "ipython3",
   "version": "3.7.3"
  }
 },
 "nbformat": 4,
 "nbformat_minor": 2
}

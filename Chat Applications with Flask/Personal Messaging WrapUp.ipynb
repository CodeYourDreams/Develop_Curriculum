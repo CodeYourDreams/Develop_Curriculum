{
 "cells": [
  {
   "cell_type": "markdown",
   "metadata": {},
   "source": [
    "# Personal Messaging Wrap Up!\n",
    "![wrapup](https://media.giphy.com/media/XkxfezUB7Rj4k/giphy.gif)"
   ]
  },
  {
   "cell_type": "markdown",
   "metadata": {},
   "source": [
    "#### Continuing the Chat Page from last lesson!"
   ]
  },
  {
   "cell_type": "code",
   "execution_count": null,
   "metadata": {},
   "outputs": [],
   "source": [
    "# In your messages route\n",
    "\n",
    "# Must create messages sent and recieved for the current user\n",
    "# (this is where the new_message will be saved under User document)\n",
    "\n",
    "sending = User(username = current_user.username,\n",
    "                    messages_sent=new_message).save()\n",
    "recieving = User(username=recipient,\n",
    "                    messages_received=new_message).save()"
   ]
  },
  {
   "cell_type": "markdown",
   "metadata": {},
   "source": [
    "### Showing these to the user!!\n",
    "### 1. Finding the messages in the MongoDB database"
   ]
  },
  {
   "cell_type": "code",
   "execution_count": null,
   "metadata": {},
   "outputs": [],
   "source": [
    "# query the messages collection and filter to find the messages for \n",
    "# sent and received\n",
    "\n",
    "received = db.messages.find({'recipient' : current_user.username,\n",
    "                                'author' : recipient}).sort('timestamp')\n",
    "\n",
    "sent = db.messages.find({'author' : current_user.username,\n",
    "                            'recipient' : recipient}).sort('timestamp')"
   ]
  },
  {
   "cell_type": "markdown",
   "metadata": {},
   "source": [
    "### 2. Rendering your template with these inputs"
   ]
  },
  {
   "cell_type": "code",
   "execution_count": null,
   "metadata": {},
   "outputs": [],
   "source": [
    "return render_template('messages.html', form=form, received=received,\n",
    "                            sent=sent, recipient=recipient)"
   ]
  },
  {
   "cell_type": "markdown",
   "metadata": {},
   "source": [
    "### 3. Actual Chat Template!"
   ]
  },
  {
   "cell_type": "code",
   "execution_count": null,
   "metadata": {},
   "outputs": [],
   "source": [
    "# Create content block content\n",
    "{% extends \"home_page.html\" %}\n",
    "\n",
    "# import quick form if desired\n",
    "{% import 'bootstrap/wtf.html' as wtf %}\n",
    "\n",
    "{% endblock %}"
   ]
  },
  {
   "cell_type": "code",
   "execution_count": null,
   "metadata": {},
   "outputs": [],
   "source": [
    "## Messages sent and recieved\n",
    "    # (input taken from render_template)\n",
    "    \n",
    "    {% for message in sent %}\n",
    "      {% include 'sent.html' %}\n",
    "    {% endfor %}\n",
    "\n",
    "    {% for message in received %}\n",
    "      {% include 'received.html' %}\n",
    "    {% endfor %}"
   ]
  },
  {
   "cell_type": "markdown",
   "metadata": {},
   "source": [
    "sent.html and received.html are templates to show and differentiate message data. \n",
    "\n",
    "For example:"
   ]
  },
  {
   "cell_type": "markdown",
   "metadata": {},
   "source": [
    "Received\n",
    "\n",
    "![Screenshot (55)](https://user-images.githubusercontent.com/51918954/63888646-060fdb00-c9a5-11e9-853b-1b3de2f02efd.png)\n",
    "\n",
    "Sent\n",
    "\n",
    "![Screenshot (56)](https://user-images.githubusercontent.com/51918954/63888647-060fdb00-c9a5-11e9-9f53-af24a01f02e7.png)"
   ]
  },
  {
   "cell_type": "markdown",
   "metadata": {},
   "source": [
    "### Next, allow the users to send another message!\n",
    "### This example uses another form for this\n",
    "\n",
    "\n",
    "# OUTPUT EXAMPLE :\n"
   ]
  },
  {
   "cell_type": "markdown",
   "metadata": {},
   "source": [
    "Key:\n",
    "    user = Abbs\n",
    "    recipient = Lisa\n",
    "    sent messages = right-hand side\n",
    "    received messages = left-hand side\n",
    "    \n",
    "    - messages are oriented into a table and are organized by timestamp\n",
    "    (as can be seen in the code for this page)"
   ]
  },
  {
   "cell_type": "markdown",
   "metadata": {},
   "source": [
    "![Screenshot (58)](https://user-images.githubusercontent.com/51918954/63888976-a960f000-c9a5-11e9-8912-082ffb21d93a.png)"
   ]
  },
  {
   "cell_type": "markdown",
   "metadata": {},
   "source": [
    "# Yay Look what you did!\n",
    "![done!](https://media.giphy.com/media/Is1O1TWV0LEJi/giphy.gif)\n",
    " ###### Be sure to make sure you have all your imports ;)"
   ]
  },
  {
   "cell_type": "markdown",
   "metadata": {},
   "source": [
    "## 🌶️ Spicy suggestions to consider:\n",
    "1. You may want your users to be able to use a \"remember me\" feature\n",
    "    - (there is a flask extension for this)\n",
    "2. You may wish to organize your messages differently, for example:\n",
    "    - differentiate sent and receieved by color\n",
    "    - organize all messages by timestamp rather than sent and received separately\n",
    "    - put messages below the message box\n",
    "3. Passwords for Login or Registration page with email\n",
    "4. User Notifications\n",
    "5. User Profiles\n",
    "6. APIs"
   ]
  },
  {
   "cell_type": "markdown",
   "metadata": {},
   "source": [
    "# You can check out some of these extras in the next lesson !"
   ]
  }
 ],
 "metadata": {
  "kernelspec": {
   "display_name": "Python 3",
   "language": "python",
   "name": "python3"
  },
  "language_info": {
   "codemirror_mode": {
    "name": "ipython",
    "version": 3
   },
   "file_extension": ".py",
   "mimetype": "text/x-python",
   "name": "python",
   "nbconvert_exporter": "python",
   "pygments_lexer": "ipython3",
   "version": "3.7.3"
  }
 },
 "nbformat": 4,
 "nbformat_minor": 2
}

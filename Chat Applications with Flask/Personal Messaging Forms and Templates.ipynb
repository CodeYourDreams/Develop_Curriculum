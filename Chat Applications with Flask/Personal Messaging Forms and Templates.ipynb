{
 "cells": [
  {
   "cell_type": "markdown",
   "metadata": {},
   "source": [
    "# Personal Messaging Forms and Templates\n",
    "![forms](https://media.giphy.com/media/3orif3HlX3i4fDdqCY/giphy.gif)"
   ]
  },
  {
   "cell_type": "markdown",
   "metadata": {},
   "source": [
    "### First, create a new file to include your forms, ie. chat_forms.py.\n",
    "\n",
    "We will be using Flask-WTF extension, so make sure you have this installed in your virtual environment"
   ]
  },
  {
   "cell_type": "code",
   "execution_count": null,
   "metadata": {},
   "outputs": [],
   "source": [
    "(venv) $ conda install flask-wtf"
   ]
  },
  {
   "cell_type": "markdown",
   "metadata": {},
   "source": [
    "Flask-WTF includes FlaskForms for structured user input as well as easy extraction of that data for you!\n",
    "### Review:"
   ]
  },
  {
   "cell_type": "code",
   "execution_count": null,
   "metadata": {},
   "outputs": [],
   "source": [
    "# At the top of your new file here are a few things to import\n",
    "\n",
    "from flask_wtf import FlaskForm"
   ]
  },
  {
   "cell_type": "code",
   "execution_count": null,
   "metadata": {},
   "outputs": [],
   "source": [
    "# You will need some of these, but you may exchange, add or remove some fields\n",
    "\n",
    "from wtforms import StringField, IntegerField, SubmitField, TextAreaField"
   ]
  },
  {
   "cell_type": "code",
   "execution_count": null,
   "metadata": {},
   "outputs": [],
   "source": [
    "# For each field, you may wish to encorporate validators\n",
    "\n",
    "# ex:\n",
    "from wtforms import validators\n",
    "from wtforms.validators import DataRequired"
   ]
  },
  {
   "cell_type": "markdown",
   "metadata": {},
   "source": [
    "### Now, everytime you wish to gain information from your user, you can use a form!\n",
    "\n",
    "Below is the way the example you have been following set up their private messaging forms. "
   ]
  },
  {
   "cell_type": "markdown",
   "metadata": {},
   "source": [
    "![Screenshot (16)](https://user-images.githubusercontent.com/51918954/63815576-c096d380-c8fa-11e9-9339-da83577ea52a.png)"
   ]
  },
  {
   "cell_type": "markdown",
   "metadata": {},
   "source": [
    "Similar to class attributes from the Setup lesson, each attribute in the form specifies what type of data it will store as well as what the form will look like. \n",
    "\n",
    "    - DataRequired is a validator which simply means that this field must be filled before the form can be submitted.\n",
    "    \n",
    "    - SubmitField is just a submit button for the user that sends that information to your database through your routing!"
   ]
  },
  {
   "cell_type": "markdown",
   "metadata": {},
   "source": [
    "![forms](https://user-images.githubusercontent.com/51918954/63816131-a958e580-c8fc-11e9-9b70-0a8c8198f2b6.jpg)\n"
   ]
  },
  {
   "cell_type": "markdown",
   "metadata": {},
   "source": [
    "For Private Messaging, this example contains the following:\n",
    "\n",
    "1. LoginForm\n",
    "    - to access which user is the current_user, AKA who is sending messages as well as which ones were sent to them\n",
    "2. RecipientForm\n",
    "    - to access which chat line the user wishes to engage in\n",
    "3. MessageForm\n",
    "    - contains the actual messages!!\n",
    "    \n",
    "    \n",
    "##### You may change or add as you see fit!!"
   ]
  },
  {
   "cell_type": "markdown",
   "metadata": {},
   "source": [
    "## Templates!"
   ]
  },
  {
   "cell_type": "markdown",
   "metadata": {},
   "source": [
    "There are two ways exemplified to use templates. \n",
    "\n",
    "The First is a regular form with html editing. "
   ]
  },
  {
   "cell_type": "markdown",
   "metadata": {},
   "source": [
    "Code For Login template\n",
    "(login.html)\n",
    "\n",
    "![Screenshot (17)](https://user-images.githubusercontent.com/51918954/63816528-2769bc00-c8fe-11e9-9201-81ebab8a0e47.png)\n",
    "\n",
    "Outcome\n",
    "\n",
    "![Screenshot (18)](https://user-images.githubusercontent.com/51918954/63816529-2769bc00-c8fe-11e9-8b58-7daf21ae94b3.png)"
   ]
  },
  {
   "cell_type": "markdown",
   "metadata": {},
   "source": [
    "## BREAKDOWN\n",
    "![breakdown](https://media.giphy.com/media/ygx2z9nIBYSeFPqt75/giphy.gif)"
   ]
  },
  {
   "cell_type": "code",
   "execution_count": null,
   "metadata": {},
   "outputs": [],
   "source": [
    "{% extends \"chat_site_home.html\" %}\n",
    "{% block content %}\n",
    "{% endblock %}\n",
    "\n",
    "# This allows for the input of this form within the construct of your website still.\n",
    "\n",
    "# There should also be a block content and endblock included in your home page html code"
   ]
  },
  {
   "cell_type": "code",
   "execution_count": null,
   "metadata": {},
   "outputs": [],
   "source": [
    "<div class=\"jumbotron\">\n",
    "# This is a type of container with the style of the grey box and large text as seen above"
   ]
  },
  {
   "cell_type": "code",
   "execution_count": 2,
   "metadata": {
    "collapsed": true
   },
   "outputs": [
    {
     "ename": "IndentationError",
     "evalue": "unindent does not match any outer indentation level (<tokenize>, line 6)",
     "output_type": "error",
     "traceback": [
      "\u001b[1;36m  File \u001b[1;32m\"<tokenize>\"\u001b[1;36m, line \u001b[1;32m6\u001b[0m\n\u001b[1;33m    </form>\u001b[0m\n\u001b[1;37m    ^\u001b[0m\n\u001b[1;31mIndentationError\u001b[0m\u001b[1;31m:\u001b[0m unindent does not match any outer indentation level\n"
     ]
    }
   ],
   "source": [
    "<form method=\"POST\"> # this stores the data from the form\n",
    "    \n",
    "    # generates a hidden field that includes a token that \n",
    "    # is used to protect the form against CSRF attacks\n",
    "    {{form.hidden_tag()}} \n",
    "    \n",
    "    # the two form attributes\n",
    "    {{form.username.label}}{{form.username()}}\n",
    "    {{form.submit()}}\n",
    "  </form>"
   ]
  },
  {
   "cell_type": "markdown",
   "metadata": {},
   "source": [
    "### After Login, a different form was used to decide the chat the user wished to engage in. \n",
    "### This second type of form was a bootstrap/flaskform mashup"
   ]
  },
  {
   "cell_type": "markdown",
   "metadata": {},
   "source": [
    "Code for Phonebook template\n",
    "(phonebook.html)\n",
    "\n",
    "![Screenshot (52)](https://user-images.githubusercontent.com/51918954/63816986-e07cc600-c8ff-11e9-8a20-d620628d6c8b.png)\n",
    "\n",
    "Outcome\n",
    "\n",
    "![Screenshot (53)](https://user-images.githubusercontent.com/51918954/63816987-e07cc600-c8ff-11e9-944c-908e43b932af.png)\n"
   ]
  },
  {
   "cell_type": "markdown",
   "metadata": {},
   "source": [
    "## What's Different ?\n",
    "![confused](https://user-images.githubusercontent.com/51918954/63817075-4bc69800-c900-11e9-8dae-afbb387e298c.jpg)\n"
   ]
  },
  {
   "cell_type": "code",
   "execution_count": 3,
   "metadata": {
    "collapsed": true
   },
   "outputs": [
    {
     "ename": "SyntaxError",
     "evalue": "invalid syntax (<ipython-input-3-b700da66df64>, line 2)",
     "output_type": "error",
     "traceback": [
      "\u001b[1;36m  File \u001b[1;32m\"<ipython-input-3-b700da66df64>\"\u001b[1;36m, line \u001b[1;32m2\u001b[0m\n\u001b[1;33m    {% import 'bootstrap/wtf.html' as wtf %}\u001b[0m\n\u001b[1;37m     ^\u001b[0m\n\u001b[1;31mSyntaxError\u001b[0m\u001b[1;31m:\u001b[0m invalid syntax\n"
     ]
    }
   ],
   "source": [
    "# Firstly!\n",
    "{% import 'bootstrap/wtf.html' as wtf %}\n",
    "\n",
    "# this allows for the following code"
   ]
  },
  {
   "cell_type": "code",
   "execution_count": null,
   "metadata": {},
   "outputs": [],
   "source": [
    " # another extension of hidden_tag() \n",
    "{{ form.csrf_token }} <br>\n",
    "\n",
    "# takes your form from your forms.py file, and \n",
    "# creates a field for each attribute for you!\n",
    "{{ wtf.quick_form(form) }} "
   ]
  },
  {
   "cell_type": "markdown",
   "metadata": {},
   "source": [
    "(Leaving quick hint: if you have trouble with your server or connections check that your current IP address is connected to Atlas)!"
   ]
  }
 ],
 "metadata": {
  "kernelspec": {
   "display_name": "Python 3",
   "language": "python",
   "name": "python3"
  },
  "language_info": {
   "codemirror_mode": {
    "name": "ipython",
    "version": 3
   },
   "file_extension": ".py",
   "mimetype": "text/x-python",
   "name": "python",
   "nbconvert_exporter": "python",
   "pygments_lexer": "ipython3",
   "version": "3.7.3"
  }
 },
 "nbformat": 4,
 "nbformat_minor": 2
}

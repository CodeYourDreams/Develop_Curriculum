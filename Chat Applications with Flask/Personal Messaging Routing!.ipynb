{
 "cells": [
  {
   "cell_type": "markdown",
   "metadata": {},
   "source": [
    "# Personal Messaging: \n",
    "# Routing!\n",
    "\n",
    "![route](https://media.giphy.com/media/5hpXZ7ENJKiCKVhULE/giphy.gif)"
   ]
  },
  {
   "cell_type": "markdown",
   "metadata": {},
   "source": [
    "### Now that you have most of the structure from your forms and templates, you have to guide your users to each of those pages!"
   ]
  },
  {
   "cell_type": "markdown",
   "metadata": {},
   "source": [
    "The way this working example is structured is to have a page for Login, Chat Choice, and then Private messaging. \n",
    "\n",
    "** Keep in mind that this all is up to your discretion, and may be edited as you see fit **"
   ]
  },
  {
   "cell_type": "markdown",
   "metadata": {},
   "source": [
    "# Basic routing with MongoDB, Mongoengine, and Flask\n",
    "\n",
    "1. Each of these pages will include one of your already created forms\n",
    "2. Both mongoengine and Flask data must be saved to their respective places\n",
    "3. Each page will redirect to the next page and render the template you have also previously created\n",
    "\n",
    "Example:\n"
   ]
  },
  {
   "cell_type": "markdown",
   "metadata": {},
   "source": [
    "![Screenshot (54)](https://user-images.githubusercontent.com/51918954/63884074-25096f80-c99b-11e9-8b28-abf08ca80ad5.png)\n"
   ]
  },
  {
   "cell_type": "markdown",
   "metadata": {},
   "source": [
    "![how](https://media.giphy.com/media/3o7btPCcdNniyf0ArS/giphy.gif)\n",
    "Whaaa\n",
    "\n",
    "### Explained:"
   ]
  },
  {
   "cell_type": "code",
   "execution_count": null,
   "metadata": {},
   "outputs": [],
   "source": [
    "# Form part!\n",
    "\n",
    "@app.route('/login', methods=['GET', 'POST'])\n",
    "def login():\n",
    "    form = LoginForm()\n",
    "\n",
    "    if form.validate_on_submit():"
   ]
  },
  {
   "cell_type": "code",
   "execution_count": null,
   "metadata": {},
   "outputs": [],
   "source": [
    "## Query to find if the user is already in the MongoDB database\n",
    "\n",
    "user = db.users.find_one({'username': form.username.data})"
   ]
  },
  {
   "cell_type": "code",
   "execution_count": null,
   "metadata": {},
   "outputs": [],
   "source": [
    "# If the user is not already saved, create a new profile\n",
    "\n",
    "if user is None:\n",
    "    user = {\n",
    "        'username' : form.username.data,\n",
    "        'last_seen' : datetime.datetime.now(),\n",
    "        'messages_received' : None,\n",
    "        'last_message_read_time' : datetime.datetime.now()\n",
    "    }"
   ]
  },
  {
   "cell_type": "markdown",
   "metadata": {},
   "source": [
    "Each of the above attributes for 'user' correspond to the 'users' Dictionary defined at the top of this page as well as in your database"
   ]
  },
  {
   "cell_type": "code",
   "execution_count": null,
   "metadata": {},
   "outputs": [],
   "source": [
    "# Lastly, SAVE!\n",
    "\n",
    "community = db.users.insert_one(user)"
   ]
  },
  {
   "cell_type": "markdown",
   "metadata": {},
   "source": [
    "###### Flask Part!"
   ]
  },
  {
   "cell_type": "code",
   "execution_count": null,
   "metadata": {},
   "outputs": [],
   "source": [
    "# Must create a new user for the Flask library as well\n",
    "\n",
    "new_user = User(username=form.username.data) \n",
    "new_user.last_seen = datetime.datetime.now()\n",
    "new_user.last_message_read_time = datetime.datetime.now()\n",
    "new_user.save() ## and SAVE"
   ]
  },
  {
   "cell_type": "code",
   "execution_count": null,
   "metadata": {},
   "outputs": [],
   "source": [
    "# OR \n",
    "new_user = User(username=form.username.data, \n",
    "                last_seen=datetime.datetime.now(), \n",
    "               last_message_read_time=datetime.datetime.now()).save()"
   ]
  },
  {
   "cell_type": "markdown",
   "metadata": {},
   "source": [
    "Why do all this?"
   ]
  },
  {
   "cell_type": "code",
   "execution_count": null,
   "metadata": {},
   "outputs": [],
   "source": [
    "# to be able to use this flask extension!\n",
    "\n",
    "login_user(new_user, force = True, fresh = True)"
   ]
  },
  {
   "cell_type": "markdown",
   "metadata": {},
   "source": [
    "login_user uses the user_loader from the first Setup lesson! It allows flask to remember who the current_user is and load them without looking through the databases!"
   ]
  },
  {
   "cell_type": "code",
   "execution_count": null,
   "metadata": {},
   "outputs": [],
   "source": [
    "# Lastly, for real\n",
    "\n",
    "# Send user to the next page (named chat in this example), and render \n",
    "# your login template with your form used above\n",
    "return redirect(url_for('chat'))\n",
    "    return render_template('cs_login.html', title='Sign In', form=form)"
   ]
  },
  {
   "cell_type": "markdown",
   "metadata": {},
   "source": [
    "### LOGGED IN\n",
    "![logged in](https://media.giphy.com/media/l4JyQbMga55ZDEZnG/giphy.gif)\n"
   ]
  },
  {
   "cell_type": "markdown",
   "metadata": {},
   "source": [
    "#### Next, there must be a way for the user to choose a chat to engage in!\n",
    "This example created another page with a form to do this as exemplified in the last lesson.\n",
    "\n",
    "Other options to do this may be:\n",
    "1. display their old chat members, and allow them to click buttons sending them to that chat\n",
    "2. display their old chat members in a drop down list including (new)\n",
    "3. click on profiles to chat with someone\n",
    "\n",
    "etc\n"
   ]
  },
  {
   "cell_type": "code",
   "execution_count": null,
   "metadata": {},
   "outputs": [],
   "source": [
    "# A simple example\n",
    "\n",
    "@app.route('/chat', methods=['GET', 'POST'])\n",
    "@login_required\n",
    "def chat():\n",
    "\n",
    "    form = RecipientForm() # choose who to chat with in a form\n",
    "\n",
    "    if form.validate_on_submit():\n",
    "        user = current_user\n",
    "        recipient = form.recipient.data\n",
    "        return redirect(url_for('send', recipient = recipient))\n",
    "\n",
    "    return render_template('phonebook.html', form=form)"
   ]
  },
  {
   "cell_type": "markdown",
   "metadata": {},
   "source": [
    "## Level up!\n",
    "\n",
    "![level up](https://media.giphy.com/media/Wt7u1mKdpNOPoAKVkn/giphy.gif)\n",
    "\n",
    "###### Now for the actual chat page!!!\n",
    "We will begin set up and tie up the loose ends in the next lesson!"
   ]
  },
  {
   "cell_type": "code",
   "execution_count": 1,
   "metadata": {},
   "outputs": [],
   "source": [
    "# SIMILAR TO THE LAST PAGE:\n",
    "        # form,\n",
    "        # create and insert into database\n",
    "        # save\n",
    "        # render template "
   ]
  },
  {
   "cell_type": "markdown",
   "metadata": {},
   "source": [
    "Example!"
   ]
  },
  {
   "cell_type": "code",
   "execution_count": null,
   "metadata": {},
   "outputs": [],
   "source": [
    "@app.route('/messages', methods=['GET', 'POST'])\n",
    "@login_required ########## works with flask_login to remember users ###\n",
    "def send():\n",
    "    \n",
    "    # this example uses forms to gain message data\n",
    "    form = MessageForm()\n",
    "    \n",
    "    # this example uses a form from the last page to gain recipient data\n",
    "    recipient = request.args.get('recipient')    "
   ]
  },
  {
   "cell_type": "code",
   "execution_count": null,
   "metadata": {},
   "outputs": [],
   "source": [
    "if form.validate_on_submit():\n",
    "        user = current_user\n",
    "        msg = {\n",
    "            'author' : user.username,\n",
    "            'recipient' : recipient,\n",
    "            'body' : form.body.data,\n",
    "            'timestamp' : datetime.datetime.now()\n",
    "        } #mongoengine db dictionary\n",
    "        \n",
    "        ######## this information must be added to both databases!! ######\n",
    "        chat = db.messages.insert_one(msg)\n",
    "        community = db.users.insert_one(msg)"
   ]
  },
  {
   "cell_type": "markdown",
   "metadata": {},
   "source": [
    "At this point, the message has been stored in its own database, and connected to it's author and recipient"
   ]
  },
  {
   "cell_type": "code",
   "execution_count": null,
   "metadata": {},
   "outputs": [],
   "source": [
    "# Flask document update\n",
    "    new_message = Message(author=current_user.username,\n",
    "                            recipient=recipient,\n",
    "                            body=form.body.data,\n",
    "                            timestamp=datetime.datetime.now())\n",
    "    \n",
    "# why does this not get saved?\n",
    "    # because Message is an embedded document and will be saved into a \n",
    "    # User document next lesson!"
   ]
  },
  {
   "cell_type": "code",
   "execution_count": null,
   "metadata": {},
   "outputs": [],
   "source": [
    "# DIFFERENT FROM THE LAST PAGE\n",
    "        # to be learned in the next lesson :)"
   ]
  }
 ],
 "metadata": {
  "kernelspec": {
   "display_name": "Python 3",
   "language": "python",
   "name": "python3"
  },
  "language_info": {
   "codemirror_mode": {
    "name": "ipython",
    "version": 3
   },
   "file_extension": ".py",
   "mimetype": "text/x-python",
   "name": "python",
   "nbconvert_exporter": "python",
   "pygments_lexer": "ipython3",
   "version": "3.7.3"
  }
 },
 "nbformat": 4,
 "nbformat_minor": 2
}

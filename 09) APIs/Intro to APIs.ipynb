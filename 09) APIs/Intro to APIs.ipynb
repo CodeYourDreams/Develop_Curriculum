{
 "cells": [
  {
   "cell_type": "markdown",
   "metadata": {},
   "source": [
    "# API'S"
   ]
  },
  {
   "cell_type": "markdown",
   "metadata": {},
   "source": [
    "## What is an API?\n",
    "\n",
    "API stands for Application Programming Interface. An API is a set of rules, instructions, and tools for building software applications. \n",
    "   Kind of like a messenger that delivers your request to the provider that your requesting it from and then delivers the response back to you. \n",
    "\n",
    "An API may be for a web-based system, operating system, database system, computer hardware, or software library.\n",
    "\n",
    "A user interface (the last part of API acronym) is how we as humans interact with an application. Interfaces are how we communicate with a machine, or how they communicate with each other. "
   ]
  },
  {
   "cell_type": "markdown",
   "metadata": {},
   "source": [
    "Watch the video below to learn more about API's\n",
    "https://youtu.be/s7wmiS2mSXY"
   ]
  },
  {
   "cell_type": "markdown",
   "metadata": {},
   "source": [
    "## What does an API look like?\n",
    "An API can take many forms, but often includes specifications for routines, data structures, object classes, variables, or remote calls. \n",
    "\n",
    "### Some examples: \n",
    "\n",
    "Amazon! Using the Amazon Product Advertising API, a third party web site can post direct links to Amazon products with updated prices and an option to \"buy now\"\n",
    "\n",
    "In the same way that Solitaire waits for you to click on a card to do something, a web server runs a program that waits for a person to ask it for a web page. Google and Bing work like this. \n",
    "\n",
    "Google Maps has multiple APIs, so does Twitter and Facebook!\n",
    "\n",
    "![googlemaps](https://tenor.com/view/zoom-forever-loop-map-coast-gif-5454443.gif \"google maps\")\n"
   ]
  },
  {
   "cell_type": "markdown",
   "metadata": {},
   "source": [
    "![twitter](https://media.giphy.com/media/zqDdTotHZlsas/giphy.gif \"twitter\")"
   ]
  },
  {
   "cell_type": "markdown",
   "metadata": {},
   "source": [
    "# What is the purpose of an API?\n",
    "\n",
    "An API simplifies programming by only exposing objects or actions the developer needs. \n",
    "\n",
    "An API for a file input/outpu might give the developer a function that copies a file from one location to another without requiring the developer to understand the file system operations occuring behind the scenes. \n",
    "\n",
    "A good API makes it easier to develop a program by providing all the building blocks, which are then put together by the programmer.\n",
    "\n",
    "# Some Examples:"
   ]
  },
  {
   "cell_type": "code",
   "execution_count": 1,
   "metadata": {},
   "outputs": [
    {
     "data": {
      "text/html": [
       "<img src=\"https://www.guillermocava.com/wp-content/uploads/2018/06/guillermo-antony-cava-nunez-api-6.jpg\"/>"
      ],
      "text/plain": [
       "<IPython.core.display.Image object>"
      ]
     },
     "execution_count": 1,
     "metadata": {},
     "output_type": "execute_result"
    }
   ],
   "source": [
    "from IPython.display import Image\n",
    "from IPython.core.display import HTML \n",
    "Image(url= \"https://www.guillermocava.com/wp-content/uploads/2018/06/guillermo-antony-cava-nunez-api-6.jpg\")"
   ]
  },
  {
   "cell_type": "markdown",
   "metadata": {},
   "source": [
    "#### Chute\n",
    "\n",
    "Chute is a visual marketing platform that allows users to search for media such as photos and videos that align with their marketing needs.\n",
    "\n",
    "There are client libraries on Chute for Ruby, Android, AngularJS, and IOS, and the interface is RESTful. All responses are sent to and received by the API as JSON data.\n",
    "\n",
    "Chute is cool because it is, in essence, a media management tool, which enables developers to add media capture, management, metadata, and publishing to applications or websites.\n",
    "\n",
    "   Examples of how you can use the Chute API include:\n",
    "    - Count the number of likes for media assets such as photos and videos.\n",
    "    - Explore photos and videos by location filters to see what’s trending in certain areas.\n",
    "    - Programmatically import media assets from websites and social media services such as Instagram."
   ]
  },
  {
   "cell_type": "markdown",
   "metadata": {},
   "source": [
    "#### Houndify\n",
    "Houndify provides smart, voice-enabled, conversational interfaces to anything with an internet connection. \n",
    "\n",
    "In this sense, Houndify’s intrigue lies in the fact that it acts as a hub for all the technologies required to voice-enable any IoT device. \n",
    "\n",
    "   Example Uses\n",
    "    - Developers can build speech-to-text applications with Houndify.\n",
    "    - Houndify can integrate with other services to build custom apps. ex: weather apps that read out the weather to users.\n",
    "    - Sharp and Houndify teamed up to integrate Sharp’s robotic platform with Houndify’s conversational interfaces to build smarter robots."
   ]
  },
  {
   "cell_type": "markdown",
   "metadata": {},
   "source": [
    "#### Lusha\n",
    "Lusha is a platform which locates business and individual profile information, such as emails and phone numbers, and it is used for recruitment, marketing, and sales purposes. \n",
    "\n",
    "   Some examples of what you can do with Lusha’s API are:\n",
    "    - Get complete profile information on individuals for marketing or recruitment purposes. Given full name and email, the Lusha API completes the picture with phone numbers and location details.\n",
    "    - Get rich information on company profiles for sales or marketing. You can get company logos, descriptions, location, and more\n",
    "    - Integrate Lusha with marketing tools and sales tools.\n",
    "    "
   ]
  },
  {
   "cell_type": "markdown",
   "metadata": {},
   "source": [
    "# How do you use one?\n",
    "\n",
    "### Youtube walk through:\n",
    "\n",
    "\n",
    "[API_video_link]('https://www.youtube.com/watch?v=-QMg39gK624)"
   ]
  },
  {
   "cell_type": "markdown",
   "metadata": {},
   "source": [
    "### Three Written Approaches:\n",
    "\n",
    "1. Most API's require an API key. Once you find an API you want to play with, look in the documentation for access requirements. Most API's will ask you to complete an identity verification, then you'll get a string of letters and numbers to use when accessing the API.\n",
    "\n",
    "2. The easiest way to start using an API is by finding an HTTP client online, like REST-Client, Postman, or Paw. These ready-made (and often free) tools help you structure your requests to access existing API's with the API key you recieved. \n",
    "\n",
    "3. Build a URL. Each API is slightly different, so you need to review the documentation for the API you’re interested in. Most of the time, the documentation will include examples that you can tweak to get the output that you’re after.\n",
    "\n",
    "    Example: we want to tweak a given API to find 10 links to the Star Wars Wikipedia page. \n",
    "    http://en.wikipedia.org/w/api.php?action=query&list=backlinks&bltitle=Star%20Wars&bllimit=10\n",
    "    \n",
    "    http://en.wikipedia.org/w/api.php — This is the place on the web where the API lives. Here, we’re using Wikipedia as an example, but you can replace this first part with the URL of any MediaWiki installation.\n",
    "    \n",
    "    action=query — fetch the data requested in the rest of the URL.\n",
    "    \n",
    "    list=backlinks — list pages that link to a specific page.\n",
    "    \n",
    "    bltitle=Star%20Wars — the specific page with the title “Star Wars” (note that %20 represents a space).\n",
    "    \n",
    "    bllimit=10 — limit to 10 results.\n",
    "    \n",
    "API calls can return a variety of formats depending on the service. It may be helpful to start out returning the data in HTML or XML format that can be easily viewed in a web browser to make sure that you are receiving the correct/anticipated results. Later you can switch to another format that may be easier to download for other purposes.  \n",
    "\n",
    "Let’s take a look at another example.  Here is the documentation for Twitter’s GET users/show function, which returns all of the available information about a user, including description, URL, link to profile image, last tweet, count of friends / followers, and much more: https://developer.twitter.com/en/docs/accounts-and-users/follow-search-get-users/api-reference/get-users-show.html\n",
    "Again, you can simply modify the provided example query to return the information your interested in:\n",
    "\n",
    "http://api.twitter.com/1/users/show.xml?screen_name=geekygirldawn\n",
    "\n",
    "http://api.twitter.com/1 — Version 1 of the Twitter API.\n",
    "users — users section of the API to gather information on a user.\n",
    "show.xml — display the output as XML.\n",
    "screen_name=geekygirldawn — the user that you want information about (geekygirldawn)"
   ]
  },
  {
   "cell_type": "markdown",
   "metadata": {},
   "source": [
    "# Exercises\n",
    "Connect to the following API's!\n",
    "Provide either the API key, or the URL you created after reading their documentation (online). \n",
    "Hint: just google 'whatever api' to find a place to apply for an API key"
   ]
  },
  {
   "cell_type": "code",
   "execution_count": 2,
   "metadata": {},
   "outputs": [],
   "source": [
    "# YouTube\n",
    "\n",
    "\n",
    "# Google Maps\n",
    "\n",
    "\n",
    "# NASA "
   ]
  },
  {
   "cell_type": "markdown",
   "metadata": {},
   "source": [
    "# Tutorial\n",
    "\n",
    "We're going to use the NASA API key you got above to access NASA's Astronomy Picture of the Day API!"
   ]
  },
  {
   "cell_type": "code",
   "execution_count": 31,
   "metadata": {},
   "outputs": [
    {
     "name": "stdout",
     "output_type": "stream",
     "text": [
      "<type 'instance'>\n",
      "<type 'str'>\n",
      "{u'copyright': u'Emanuele Petrilli', u'service_version': u'v1', u'url': u'https://apod.nasa.gov/apod/image/2008/trifidnebulaM20M21_1024.jpg', u'explanation': u\"The beautiful Trifid Nebula, also known as Messier 20, is easy to find with a small telescope in the nebula rich constellation Sagittarius. About 5,000 light-years away, the colorful study in cosmic contrasts shares this well-composed, nearly 1 degree wide field with open star cluster Messier 21 (right). Trisected by dust lanes the Trifid itself is about 40 light-years across and a mere 300,000 years old. That makes it one of the youngest star forming regions in our sky, with newborn and embryonic stars embedded in its natal dust and gas clouds. Estimates of the distance to open star cluster M21 are similar to M20's, but though they share this gorgeous telescopic skyscape there is no apparent connection between the two. In fact, M21's stars are much older, about 8 million years old.\", u'title': u'Messier 20 and 21', u'date': u'2020-08-06', u'media_type': u'image', u'hdurl': u'https://apod.nasa.gov/apod/image/2008/trifidnebulaM20M21_2048.jpg'}\n",
      "\n",
      "Go here: https://apod.nasa.gov/apod/image/2008/trifidnebulaM20M21_1024.jpg\n"
     ]
    }
   ],
   "source": [
    "from urllib import urlopen \n",
    "import json\n",
    "\n",
    "# Here we store our key and url as variables\n",
    "key = \"DEMO_KEY\" # your key in place of DEMO_KEY\n",
    "# our key is going to go at the end to allow us to make our request\n",
    "url = \"https://api.nasa.gov/planetary/apod?api_key=\"\n",
    "\n",
    "# These lines call the url and make a request\n",
    "apodurl = urllib.urlopen(url+key) #<- concatenate our url and key\n",
    "#print(type(apodurl)) #uncomment this print statement and the ones below to see how the type of apod changes!\n",
    " \n",
    "# read the file we received\n",
    "apodread = apodurl.read()\n",
    "# print(type(apodread))\n",
    "\n",
    "# this converts from json to a file usable in python, a dictionary\n",
    "apod = json.loads(apodread)\n",
    "# print(type(apod)) \n",
    "\n",
    "#this will return the decoded dictionary data, look for 'url' to find the image url\n",
    "# this dictionary also contains a description of the image and other data\n",
    "print(apod)\n",
    "\n",
    "print('')\n",
    "print(\"Go here: \" + apod['url'])\n",
    "\n"
   ]
  },
  {
   "cell_type": "markdown",
   "metadata": {},
   "source": [
    "Bonus: Write code to clean the data you retrieved above so you only have the URL and the image description. Even better, write a function that takes a list of the data you want, and cleanses the rest from the dictionary."
   ]
  }
 ],
 "metadata": {
  "kernelspec": {
   "display_name": "Python 2",
   "language": "python",
   "name": "python2"
  },
  "language_info": {
   "codemirror_mode": {
    "name": "ipython",
    "version": 2
   },
   "file_extension": ".py",
   "mimetype": "text/x-python",
   "name": "python",
   "nbconvert_exporter": "python",
   "pygments_lexer": "ipython2",
   "version": "2.7.17"
  }
 },
 "nbformat": 4,
 "nbformat_minor": 2
}

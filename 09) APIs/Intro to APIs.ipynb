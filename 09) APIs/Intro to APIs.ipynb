{
 "cells": [
  {
   "cell_type": "markdown",
   "metadata": {},
   "source": [
    "# API'S"
   ]
  },
  {
   "cell_type": "markdown",
   "metadata": {},
   "source": [
    "## What is an API?\n",
    "\n",
    "API stands for Application Programming Interface. An API is a set of rules, instructions, and tools for building software applications. \n",
    "   Kind of like a messenger that delivers your request to the provider that your requesting it from and then delivers the response back to you. \n",
    "\n",
    "An API may be for a web-based system, operating system, database system, computer hardware, or software library.\n",
    "\n",
    "A user interface (the last part of API acronym) is how we as humans interact with an application. Interfaces are how we communicate with a machine, or how they communicate with each other. "
   ]
  },
  {
   "cell_type": "markdown",
   "metadata": {},
   "source": [
    "Watch the video below to learn more about API's\n",
    "https://youtu.be/s7wmiS2mSXY"
   ]
  },
  {
   "cell_type": "markdown",
   "metadata": {},
   "source": [
    "## What does an API look like?\n",
    "An API can take many forms, but often includes specifications for routines, data structures, object classes, variables, or remote calls. \n",
    "\n",
    "### Some examples: \n",
    "\n",
    "Amazon! Using the Amazon Product Advertising API, a third party web site can post direct links to Amazon products with updated prices and an option to \"buy now\"\n",
    "\n",
    "In the same way that Solitaire waits for you to click on a card to do something, a web server runs a program that waits for a person to ask it for a web page. Google and Bing work like this. \n",
    "\n",
    "Google Maps has multiple APIs, so does Twitter and Facebook!\n",
    "\n",
    "![googlemaps](https://tenor.com/view/zoom-forever-loop-map-coast-gif-5454443.gif \"google maps\")\n"
   ]
  },
  {
   "cell_type": "markdown",
   "metadata": {},
   "source": [
    "![twitter](https://media.giphy.com/media/zqDdTotHZlsas/giphy.gif \"twitter\")"
   ]
  },
  {
   "cell_type": "markdown",
   "metadata": {},
   "source": [
    "# What is the purpose of an API?\n",
    "\n",
    "An API simplifies programming by only exposing objects or actions the developer needs. \n",
    "\n",
    "An API for a file input/outpu might give the developer a function that copies a file from one location to another without requiring the developer to understand the file system operations occuring behind the scenes. \n",
    "\n",
    "A good API makes it easier to develop a program by providing all the building blocks, which are then put together by the programmer.\n",
    "\n",
    "# Some Examples:"
   ]
  },
  {
   "cell_type": "code",
   "execution_count": 1,
   "metadata": {},
   "outputs": [
    {
     "data": {
      "text/html": [
       "<img src=\"https://www.guillermocava.com/wp-content/uploads/2018/06/guillermo-antony-cava-nunez-api-6.jpg\"/>"
      ],
      "text/plain": [
       "<IPython.core.display.Image object>"
      ]
     },
     "execution_count": 1,
     "metadata": {},
     "output_type": "execute_result"
    }
   ],
   "source": [
    "from IPython.display import Image\n",
    "from IPython.core.display import HTML \n",
    "Image(url= \"https://www.guillermocava.com/wp-content/uploads/2018/06/guillermo-antony-cava-nunez-api-6.jpg\")"
   ]
  },
  {
   "cell_type": "markdown",
   "metadata": {},
   "source": [
    "#### Chute\n",
    "\n",
    "Chute is a visual marketing platform that allows users to search for media such as photos and videos that align with their marketing needs.\n",
    "\n",
    "There are client libraries on Chute for Ruby, Android, AngularJS, and IOS, and the interface is RESTful. All responses are sent to and received by the API as JSON data.\n",
    "\n",
    "Chute is cool because it is, in essence, a media management tool, which enables developers to add media capture, management, metadata, and publishing to applications or websites.\n",
    "\n",
    "   Examples of how you can use the Chute API include:\n",
    "    - Count the number of likes for media assets such as photos and videos.\n",
    "    - Explore photos and videos by location filters to see what’s trending in certain areas.\n",
    "    - Programmatically import media assets from websites and social media services such as Instagram."
   ]
  },
  {
   "cell_type": "markdown",
   "metadata": {},
   "source": [
    "#### Houndify\n",
    "Houndify provides smart, voice-enabled, conversational interfaces to anything with an internet connection. \n",
    "\n",
    "In this sense, Houndify’s intrigue lies in the fact that it acts as a hub for all the technologies required to voice-enable any IoT device. \n",
    "\n",
    "   Example Uses\n",
    "    - Developers can build speech-to-text applications with Houndify.\n",
    "    - Houndify can integrate with other services to build custom apps. ex: weather apps that read out the weather to users.\n",
    "    - Sharp and Houndify teamed up to integrate Sharp’s robotic platform with Houndify’s conversational interfaces to build smarter robots."
   ]
  },
  {
   "cell_type": "markdown",
   "metadata": {},
   "source": [
    "#### Lusha\n",
    "Lusha is a platform which locates business and individual profile information, such as emails and phone numbers, and it is used for recruitment, marketing, and sales purposes. \n",
    "\n",
    "   Some examples of what you can do with Lusha’s API are:\n",
    "    - Get complete profile information on individuals for marketing or recruitment purposes. Given full name and email, the Lusha API completes the picture with phone numbers and location details.\n",
    "    - Get rich information on company profiles for sales or marketing. You can get company logos, descriptions, location, and more\n",
    "    - Integrate Lusha with marketing tools and sales tools.\n",
    "    "
   ]
  },
  {
   "cell_type": "markdown",
   "metadata": {},
   "source": [
    "# How do you use one?\n"
   ]
  },
  {
   "cell_type": "markdown",
   "metadata": {},
   "source": [
    "### Three Written Approaches:\n",
    "\n",
    "1. Most API's require an API key. Once you find an API you want to play with, look in the documentation for access requirements. Most API's will ask you to complete an identity verification, then you'll get a string of letters and numbers to use when accessing the API. You can usually just do a google search to find where to get your key.\n",
    "\n",
    "2. Build a URL. Each API is slightly different, so you need to review the documentation for the API you’re interested in. Most of the time, the documentation will include examples that you can tweak to get the output that you’re after.\n",
    "\n",
    "    Example: we want to tweak a given API to find 10 links to the Star Wars Wikipedia page. \n",
    "    http://en.wikipedia.org/w/api.php?action=query&list=backlinks&bltitle=Star%20Wars&bllimit=10\n",
    "    \n",
    "    http://en.wikipedia.org/w/api.php — This is the place on the web where the API lives. Here, we’re using Wikipedia as an example, but you can replace this first part with the URL of any MediaWiki installation.\n",
    "    \n",
    "    action=query — fetch the data requested in the rest of the URL.\n",
    "    \n",
    "    list=backlinks — list pages that link to a specific page.\n",
    "    \n",
    "    bltitle=Star%20Wars — the specific page with the title “Star Wars” (note that %20 represents a space).\n",
    "    \n",
    "    bllimit=10 — limit to 10 results.\n",
    "\n",
    "3. Python has a built in library called requests that we can use to send reqests, receive and work with data. Here is what a basic request will look like:\n",
    "    response = requests.get(url = yoururl, params = {api_key = \"Your_key\" param1 : \"this_is_param_1\"})\n",
    " We'll see a real example later.\n",
    "    \n",
    "API calls can return a variety of formats depending on the service. It may be helpful to start out returning the data in HTML or XML format that can be easily viewed in a web browser to make sure that you are receiving the correct/anticipated results. Later you can switch to another format that may be easier to download for other purposes.  \n",
    "\n",
    "Let’s take a look at another example.  Here is the documentation for Twitter’s GET users/show function, which returns all of the available information about a user, including description, URL, link to profile image, last tweet, count of friends / followers, and much more: https://developer.twitter.com/en/docs/accounts-and-users/follow-search-get-users/api-reference/get-users-show.html\n",
    "Again, you can simply modify the provided example query to return the information your interested in:\n",
    "\n",
    "http://api.twitter.com/1/users/show.xml?screen_name=geekygirldawn\n",
    "\n",
    "http://api.twitter.com/1 — Version 1 of the Twitter API.\n",
    "users — users section of the API to gather information on a user.\n",
    "show.xml — display the output as XML.\n",
    "screen_name=geekygirldawn — the user that you want information about (geekygirldawn)"
   ]
  },
  {
   "cell_type": "markdown",
   "metadata": {},
   "source": [
    "# Exercises\n",
    "Connect to the following API's!\n",
    "Provide either the API key, or the URL you created after reading their documentation (online). \n",
    "Hint: just google 'whatever api' to find a place to apply for an API key"
   ]
  },
  {
   "cell_type": "code",
   "execution_count": 2,
   "metadata": {},
   "outputs": [],
   "source": [
    "# YouTube\n",
    "\n",
    "\n",
    "# Google Maps\n",
    "\n",
    "\n",
    "# NASA "
   ]
  },
  {
   "cell_type": "markdown",
   "metadata": {},
   "source": [
    "# Tutorial\n",
    "\n",
    "We're going to use the NASA API key you got above to access NASA's Astronomy Picture of the Day API!\n",
    "\n",
    "You can find a list of all of Nasa's APIs here: https://api.nasa.gov/.\n",
    "Go to that page and check out the APOD API. \n",
    "\n",
    "There are a couple things to notice about the API description there. First, we see the URL we can make our request to. This is the URL we'll input into requests.get() later on. \n",
    "\n",
    "We also can see a description of all the parameters APOD accepts: date, api key, and hd. We're going to use date and api key in our code. Let's get started!\n",
    "\n",
    "You should already have an API key for NASA from above. Set that string to be our key value. Next, set the date to be your birthday (or check out any date you want) to see the APOD from that day. Then run!"
   ]
  },
  {
   "cell_type": "code",
   "execution_count": 5,
   "metadata": {},
   "outputs": [
    {
     "name": "stdout",
     "output_type": "stream",
     "text": [
      "\n",
      "Go here: https://apod.nasa.gov/apod/image/0002/merc4_m10.gif\n"
     ]
    }
   ],
   "source": [
    "import requests\n",
    "\n",
    "\n",
    "# Here we store our key and url as variables\n",
    "# Enter your key here!\n",
    "key = \"DEMO_KEY\"\n",
    "\n",
    "# Choose a day to check out here!\n",
    "date = \"2000-02-13\"\n",
    "url = \"https://api.nasa.gov/planetary/apod\"\n",
    "params = {\"date\": date, \"api_key\" : key}\n",
    "\n",
    "# These lines call the url and make a request\n",
    "response = requests.get(url, params = params)\n",
    "\n",
    "# read the file we received into a dictionary\n",
    "# uncomment the print statement to check out what we received\n",
    "apod = response.json()\n",
    "#print(apod)\n",
    "\n",
    "\n",
    "print('')\n",
    "print(\"Go here: \" + apod['url'])\n",
    "\n"
   ]
  },
  {
   "cell_type": "markdown",
   "metadata": {},
   "source": [
    "Bonus: Write code to clean the data you retrieved above so you only have the URL and the image description. Even better, write a function that takes a list of the data you want, and cleanses the rest from the dictionary."
   ]
  },
  {
   "cell_type": "markdown",
   "metadata": {},
   "source": [
    "## Homework\n",
    "\n",
    "Go to the NASA's API database here: https://api.nasa.gov/, and choose any API you want. Then make a request to it and check out the data you get back!\n",
    "\n",
    "Hint: If you're unsure what type of data you're working with at any point, you can print type(data) to see the datatype, and also print the data itself to figure it out. Good luck!"
   ]
  },
  {
   "cell_type": "code",
   "execution_count": null,
   "metadata": {},
   "outputs": [],
   "source": []
  }
 ],
 "metadata": {
  "kernelspec": {
   "display_name": "Python 2",
   "language": "python",
   "name": "python2"
  },
  "language_info": {
   "codemirror_mode": {
    "name": "ipython",
    "version": 2
   },
   "file_extension": ".py",
   "mimetype": "text/x-python",
   "name": "python",
   "nbconvert_exporter": "python",
   "pygments_lexer": "ipython2",
   "version": "2.7.17"
  }
 },
 "nbformat": 4,
 "nbformat_minor": 2
}

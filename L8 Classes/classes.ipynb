Lesson 8 Classes

Goal:  Students will be able to explain the purpose of classes as code templates for creating objects. Students will be able to explain how classes have their own attributes and functions. Students will be able to write a simple class on their own.
Exercises:  Group functions into classes
Homework: Choose Class - And write it

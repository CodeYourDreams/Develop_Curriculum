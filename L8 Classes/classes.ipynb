Lesson 8 Classes

Goal:  Students will be able to explain the purpose of classes as code templates for creating objects. Students will be able to explain how classes have their own attributes and functions. Students will be able to write a simple class on their own.
Exercises:  Group functions into classes
Homework: Choose Class - And write it


•	A class is like an object constructor, or a “blueprint” for creating objects
•	Class definitions
o	“”” Class definition”””
o	Describe the function of the class
•	Instance variables
o	Variables unique to each instance
o	Self.name
•	Class variables
o	Shared by all attributes and methods by all instances of the class
•	class Dream
o	name = ‘user’
o	def say_hello(self):
	‘’class method’’’’’
	The self-parameter is a reference to the class itself and is used to access variables that belong to the class. “Self” must be the first parameter of any function class.
•	After defining the class attributes to a class, the class object can be created by assigning the object to a variable. The created object would have instance attributes associated with it.
•	def test_class_objects():
•	    """Class Objects.
•	    Class objects support two kinds of operations:
•	    - attribute references
•	    - instantiation.
•	    """
•	
•	    # ATTRIBUTE REFERENCES use the standard syntax used for all attribute references in
•	    # Python: obj.name. Valid attribute names are all the names that were in the class’s namespace when the class object was created. For class MyCounter the following references are valid
•	    # attribute reference
•	Inheritance is one of the principles of object-oriented programming. Since classes may share a lot of the same code, inheritance allows a derived class to reuse the same code and modify accordingly


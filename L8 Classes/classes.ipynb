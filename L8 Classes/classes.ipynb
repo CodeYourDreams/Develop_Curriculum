{
 "cells": [
  {
   "cell_type": "markdown",
   "metadata": {},
   "source": [
    "# Lesson 8: Classes"
   ]
  },
  {
   "cell_type": "code",
   "execution_count": 9,
   "metadata": {},
   "outputs": [
    {
     "data": {
      "text/html": [
       "<video width=\"320\" height=\"240\" controls>\n",
       "  <source src=\"https://realpython.com/lessons/classes-python/\" type=\"video/mp4\">\n",
       "</video>\n"
      ],
      "text/plain": [
       "<IPython.core.display.HTML object>"
      ]
     },
     "metadata": {},
     "output_type": "display_data"
    }
   ],
   "source": [
    "%%HTML\n",
    "<video width=\"320\" height=\"240\" controls>\n",
    "  <source src=\"https://realpython.com/lessons/classes-python/\" type=\"video/mp4\">\n",
    "</video>"
   ]
  },
  {
   "cell_type": "markdown",
   "metadata": {},
   "source": [
    "This is a class!"
   ]
  },
  {
   "cell_type": "code",
   "execution_count": 2,
   "metadata": {},
   "outputs": [],
   "source": [
    "class MyFirstClass:\n",
    "    def __init__(self, name):\n",
    "        self.name = name\n",
    "\n",
    "    def greet(self):\n",
    "        print('Hello %s!'%(self.name))"
   ]
  },
  {
   "cell_type": "markdown",
   "metadata": {},
   "source": [
    "But, before we learn about classes, we must first address the question of:"
   ]
  },
  {
   "cell_type": "markdown",
   "metadata": {},
   "source": [
    "> What are objects?"
   ]
  },
  {
   "cell_type": "markdown",
   "metadata": {},
   "source": [
    "## Objects"
   ]
  },
  {
   "cell_type": "markdown",
   "metadata": {},
   "source": [
    "In Python, almost everything is an object with attributes and methods, or behaviors and states. For example, a state of a person could be their name, age, or neighborhood, while a behavior could be talking, walking, or eating. You may not know it, but you have already interacted with an object in Python. When you assign a variable, you are creating an object. The $type()$ function can be used to check the type of object something is:"
   ]
  },
  {
   "cell_type": "code",
   "execution_count": 6,
   "metadata": {},
   "outputs": [
    {
     "name": "stdout",
     "output_type": "stream",
     "text": [
      "<class 'int'>\n",
      "<class 'list'>\n",
      "<class 'dict'>\n"
     ]
    }
   ],
   "source": [
    "a = 1\n",
    "b = [\"North Lawndale\", \"Wicker Park\", \"Hyde Park\"]\n",
    "c = {\"Red line\": \"North/South\", \"Pink line\" : \"East/West\"}\n",
    "print(type(a))\n",
    "print(type(b))\n",
    "print(type(c))"
   ]
  },
  {
   "cell_type": "markdown",
   "metadata": {},
   "source": [
    "Given that the above items are objects, how do we create our own? This is where classes come in."
   ]
  },
  {
   "cell_type": "markdown",
   "metadata": {},
   "source": [
    "### Exercise 1: Objects??"
   ]
  },
  {
   "cell_type": "markdown",
   "metadata": {},
   "source": [
    "What are the two characteristics of an object?"
   ]
  },
  {
   "cell_type": "markdown",
   "metadata": {},
   "source": [
    "### Exercise 2: type()"
   ]
  },
  {
   "cell_type": "markdown",
   "metadata": {},
   "source": [
    "What classes do the following objects belong to?\n",
    "1. [\"Garden\", \"Pool\", \"Sports Field\",\"Playground\"]\n",
    "2. 2019"
   ]
  },
  {
   "cell_type": "markdown",
   "metadata": {},
   "source": [
    "## Class"
   ]
  },
  {
   "cell_type": "markdown",
   "metadata": {},
   "source": [
    "A class, which is prefaced with the word $class$, is like an object constructor, or a blueprint for defining the nature of a future object. <br><br>\n",
    "From classes, we can construct instances. An __instance__ is a specific object derived from a particular class."
   ]
  },
  {
   "cell_type": "code",
   "execution_count": 2,
   "metadata": {},
   "outputs": [],
   "source": [
    "dreamers = [1,2,3,5,9,10,8,7,2,11]"
   ]
  },
  {
   "cell_type": "markdown",
   "metadata": {},
   "source": [
    "In the above line, the object dreamers was created as an instance of a list object."
   ]
  },
  {
   "cell_type": "markdown",
   "metadata": {},
   "source": [
    "__Now let's breakdown MyFirstClass!__"
   ]
  },
  {
   "cell_type": "code",
   "execution_count": 6,
   "metadata": {},
   "outputs": [],
   "source": [
    "class MyFirstClass():\n",
    "    def __init__(self, name):\n",
    "        self.name = name\n",
    "\n",
    "    def greet(self):\n",
    "        print('Hello %s!'%(self.name))"
   ]
  },
  {
   "cell_type": "markdown",
   "metadata": {},
   "source": [
    "It's is standard to capitalize the name of a class. And similar to the restrictions on a function, a class name cannot include spaces or any special characters. The structure of a class is very similar to that of a function, except it is very common for a class to not take in an input in its definition."
   ]
  },
  {
   "cell_type": "markdown",
   "metadata": {},
   "source": [
    "## Methods"
   ]
  },
  {
   "cell_type": "markdown",
   "metadata": {},
   "source": [
    " Methods are functions inside of claseses. For example, if you were to reference our dreamers list created earlier and type \".\" and tab, all of the methods associated with a list will appear up, like pop, sort, and reverse."
   ]
  },
  {
   "cell_type": "code",
   "execution_count": 5,
   "metadata": {},
   "outputs": [
    {
     "data": {
      "text/plain": [
       "11"
      ]
     },
     "execution_count": 5,
     "metadata": {},
     "output_type": "execute_result"
    }
   ],
   "source": [
    "dreamers.pop()\n"
   ]
  },
  {
   "cell_type": "code",
   "execution_count": 15,
   "metadata": {},
   "outputs": [],
   "source": [
    "class MyFirstClass:\n",
    "    def __init__(self, name):\n",
    "        self.name = name\n",
    "\n",
    "    def greet(self):\n",
    "        print('Hello %s!'%(self.name))"
   ]
  },
  {
   "cell_type": "markdown",
   "metadata": {},
   "source": [
    "The first method defined in MyFirstClass is __ init__(). <br><br>\n",
    "__ init__() is a special method that is used for initializing instances of the class. It's called when you create an instance of the class."
   ]
  },
  {
   "cell_type": "markdown",
   "metadata": {},
   "source": [
    "The other method in MyFirstClass is .greet, which returns a greeting once it is called."
   ]
  },
  {
   "cell_type": "markdown",
   "metadata": {},
   "source": [
    "So, what's with all of the __selfs__ in MyFirstClass??? Attributes."
   ]
  },
  {
   "cell_type": "markdown",
   "metadata": {},
   "source": [
    "## Attributes"
   ]
  },
  {
   "cell_type": "markdown",
   "metadata": {},
   "source": [
    "An attribute is a characteristic of an object. For example, an attribute of a dog is its breed and an attribute of MyFirstClass is name.  <br>\n",
    "\n",
    "Attributes are created using the following syntax:"
   ]
  },
  {
   "cell_type": "markdown",
   "metadata": {},
   "source": [
    "self.atribute = thing"
   ]
  },
  {
   "cell_type": "markdown",
   "metadata": {},
   "source": [
    "$self$ represents an instance of the given class. The use of the $self$ keyword gives us access to the attributes and methods of the class; it links the attributes with the given arguments. When creating methods, $self$ must be the first agrument. For assigning attributes, the attribute must be prefaced with \"self.\" followed by the attribute name."
   ]
  },
  {
   "cell_type": "markdown",
   "metadata": {},
   "source": [
    "<br>In MyFirstClass(), the intializing method takes in a variable called name and assigns it to the name attribute:"
   ]
  },
  {
   "cell_type": "code",
   "execution_count": 13,
   "metadata": {},
   "outputs": [],
   "source": [
    "class MyFirstClass():\n",
    "    def __init__(self, name):\n",
    "        self.name = name\n",
    "\n",
    "    def greet(self):\n",
    "        print('Hello %s!'%(self.name))"
   ]
  },
  {
   "cell_type": "markdown",
   "metadata": {},
   "source": [
    "So now, we can call this:"
   ]
  },
  {
   "cell_type": "code",
   "execution_count": 14,
   "metadata": {},
   "outputs": [],
   "source": [
    "my_instance = MyFirstClass(\"John Doe\")"
   ]
  },
  {
   "cell_type": "code",
   "execution_count": 15,
   "metadata": {},
   "outputs": [
    {
     "data": {
      "text/plain": [
       "'John Doe'"
      ]
     },
     "execution_count": 15,
     "metadata": {},
     "output_type": "execute_result"
    }
   ],
   "source": [
    "my_instance.name"
   ]
  },
  {
   "cell_type": "markdown",
   "metadata": {},
   "source": [
    "We can also now check the type of my_instance:"
   ]
  },
  {
   "cell_type": "code",
   "execution_count": 16,
   "metadata": {},
   "outputs": [
    {
     "name": "stdout",
     "output_type": "stream",
     "text": [
      "<class '__main__.MyFirstClass'>\n"
     ]
    }
   ],
   "source": [
    "print(type(my_instance))"
   ]
  },
  {
   "cell_type": "markdown",
   "metadata": {},
   "source": [
    "### Exercise 2: Understanding check!"
   ]
  },
  {
   "cell_type": "markdown",
   "metadata": {},
   "source": [
    "Add comments to each line in MyFirstClass explaing what each line does or mean.<br> _Reference the information above if you get stuck._"
   ]
  },
  {
   "cell_type": "code",
   "execution_count": 64,
   "metadata": {},
   "outputs": [],
   "source": [
    "class MyFirstClass(): #comment 1\n",
    "    def __init__(self, name): #comment 2\n",
    "        self.name = name #comment 3\n",
    "\n",
    "    def greet(self): #comment 4\n",
    "        print('Hello %s!'%(self.name)) #comment 5"
   ]
  },
  {
   "cell_type": "markdown",
   "metadata": {},
   "source": [
    "### __ str__"
   ]
  },
  {
   "cell_type": "markdown",
   "metadata": {},
   "source": [
    "Similar to __ init__, __ str__ is also a special method. It is used to convert an instance of the class to a string: specifically when you want to print the instance. By defining __ str__, you can determine what is the printable version of the instances of your class. "
   ]
  },
  {
   "cell_type": "code",
   "execution_count": 65,
   "metadata": {},
   "outputs": [],
   "source": [
    "class Student():\n",
    "    \n",
    "    def __init__(self, name, age):\n",
    "        self.name = name\n",
    "        self.age = age\n",
    "    \n",
    "    def __str__(self):\n",
    "        return   ('Person: {}'.format(self.name))\n",
    "    "
   ]
  },
  {
   "cell_type": "code",
   "execution_count": 66,
   "metadata": {},
   "outputs": [
    {
     "name": "stdout",
     "output_type": "stream",
     "text": [
      "Person: Jane Doe\n"
     ]
    }
   ],
   "source": [
    "student1 = Student(\"Jane Doe\", 15)\n",
    "\n",
    "print(student1)"
   ]
  },
  {
   "cell_type": "markdown",
   "metadata": {},
   "source": [
    "### Exercise 3: Functions merger!"
   ]
  },
  {
   "cell_type": "markdown",
   "metadata": {},
   "source": [
    "Create a class named \"School\" based off the below functions and make the class printable:\n",
    "<br>\n",
    "_Hint: Figure out what each function does and takes in as inputs first, then look for which variables would need to be attributes._"
   ]
  },
  {
   "cell_type": "code",
   "execution_count": 67,
   "metadata": {},
   "outputs": [],
   "source": [
    "def school_name(name):\n",
    "    print(\"Welcome to %s. We are glad to have you.\" %(name))\n",
    "\n",
    "def attendance_rate(num):\n",
    "    temp = num/900 * 100\n",
    "    return temp\n",
    "\n",
    "def status(name, stats):\n",
    "    if (stats == 0):\n",
    "        print(\"%name is close. Come back later.\" %(name))\n",
    "    else:\n",
    "        print(\"%name is open. Classes are in sessions.\")"
   ]
  },
  {
   "cell_type": "markdown",
   "metadata": {},
   "source": [
    "### Class variables vs. Instance variables"
   ]
  },
  {
   "cell_type": "markdown",
   "metadata": {},
   "source": [
    "Class variables are shared between all instances of that class, while instance variables vary between each instance of the class. "
   ]
  },
  {
   "cell_type": "code",
   "execution_count": 17,
   "metadata": {},
   "outputs": [],
   "source": [
    "class Impact:\n",
    "    # These are class variables\n",
    "    city = 'Chicago'\n",
    "    description = 'An example of an Impact class'\n",
    "\n",
    "    def __init__(self, type):\n",
    "        # This is an instance variable\n",
    "        self.instance_variable = type\n",
    "\n",
    "    def impact_info(self):\n",
    "        info = 'instance_variable: {}, city: {}, description: {}'.format(\n",
    "            self.instance_variable, Impact.city, Impact.description) \n",
    "        # Instance variables are referenced throughout the Class prefaced by self.,\n",
    "        # while class variables are prefaced with class_name. (i.e. Impact.)\n",
    "        print(info)"
   ]
  },
  {
   "cell_type": "code",
   "execution_count": 18,
   "metadata": {},
   "outputs": [
    {
     "name": "stdout",
     "output_type": "stream",
     "text": [
      "instance_variable: Environmental, city: Chicago, description: An example of an Impact class\n",
      "instance_variable: Food insecurity, city: Chicago, description: An example of an Impact class\n"
     ]
    }
   ],
   "source": [
    "change1 = Impact(\"Environmental\")\n",
    "change2 = Impact(\"Food insecurity\")\n",
    "\n",
    "change1.impact_info()\n",
    "change2.impact_info() "
   ]
  },
  {
   "cell_type": "markdown",
   "metadata": {},
   "source": [
    "As you can see, city and description have the same values across both instances. We can also edit the class variables outside of the class blueprint by calling the class name and the name of the class variable."
   ]
  },
  {
   "cell_type": "code",
   "execution_count": 19,
   "metadata": {},
   "outputs": [],
   "source": [
    "# If you change the value of a class variable, it's changed across all instances\n",
    "\n",
    "Impact.city = 'New City'"
   ]
  },
  {
   "cell_type": "code",
   "execution_count": 7,
   "metadata": {},
   "outputs": [
    {
     "name": "stdout",
     "output_type": "stream",
     "text": [
      "instance_variable: Environmental, city: New City, description: An example of an Impact class\n",
      "instance_variable: Food insecurity, city: New City, description: An example of an Impact class\n"
     ]
    }
   ],
   "source": [
    "change1.impact_info()\n",
    "change2.impact_info()"
   ]
  },
  {
   "cell_type": "markdown",
   "metadata": {},
   "source": [
    "### Exercise 4"
   ]
  },
  {
   "cell_type": "code",
   "execution_count": 10,
   "metadata": {},
   "outputs": [],
   "source": [
    "class Example():\n",
    "    var1 = \"Change Makers\"\n",
    "    \n",
    "    def init (self, project_name):\n",
    "        self.var2 = project_name\n",
    "    var3 = \"Influencers\"\n",
    "    "
   ]
  },
  {
   "cell_type": "markdown",
   "metadata": {},
   "source": [
    "Based off the Example class above, write if the following variable is a class variable or an instance variable. If it is an instance variable, write a line of code that would change its value to a different impact word of your choosing."
   ]
  },
  {
   "cell_type": "code",
   "execution_count": 12,
   "metadata": {},
   "outputs": [],
   "source": [
    "# Instance or Class\n",
    "\n",
    "# 1. var1\n",
    "\n",
    "# 2. var2\n",
    "\n",
    "# 3. var3\n"
   ]
  },
  {
   "cell_type": "markdown",
   "metadata": {},
   "source": [
    "### Homework"
   ]
  },
  {
   "cell_type": "markdown",
   "metadata": {},
   "source": [
    "Choose a class and write it!"
   ]
  },
  {
   "cell_type": "code",
   "execution_count": null,
   "metadata": {},
   "outputs": [],
   "source": []
  }
 ],
 "metadata": {
  "kernelspec": {
   "display_name": "Python 3",
   "language": "python",
   "name": "python3"
  },
  "language_info": {
   "codemirror_mode": {
    "name": "ipython",
    "version": 3
   },
   "file_extension": ".py",
   "mimetype": "text/x-python",
   "name": "python",
   "nbconvert_exporter": "python",
   "pygments_lexer": "ipython3",
   "version": "3.7.3"
  }
 },
 "nbformat": 4,
 "nbformat_minor": 2
}

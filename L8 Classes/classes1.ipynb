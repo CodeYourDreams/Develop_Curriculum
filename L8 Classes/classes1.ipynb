{
 "cells": [
  {
   "cell_type": "markdown",
   "metadata": {},
   "source": [
    "# Lesson 8: Classes"
   ]
  },
  {
   "cell_type": "markdown",
   "metadata": {},
   "source": [
    "Intro video: https://realpython.com/lessons/classes-python/"
   ]
  },
  {
   "cell_type": "code",
   "execution_count": 2,
   "metadata": {},
   "outputs": [],
   "source": [
    "class MyFirstClass:\n",
    "    def __init__(self, name):\n",
    "        self.name = name\n",
    "\n",
    "    def greet(self):\n",
    "        print('Hello %s!'%(self.name))"
   ]
  },
  {
   "cell_type": "markdown",
   "metadata": {},
   "source": [
    "But, before we learn about classes, we must first address the question of:"
   ]
  },
  {
   "cell_type": "markdown",
   "metadata": {},
   "source": [
    "> What are objects?"
   ]
  },
  {
   "cell_type": "markdown",
   "metadata": {},
   "source": [
    "***"
   ]
  },
  {
   "cell_type": "markdown",
   "metadata": {},
   "source": [
    "## Objects"
   ]
  },
  {
   "cell_type": "markdown",
   "metadata": {},
   "source": [
    "***"
   ]
  },
  {
   "cell_type": "markdown",
   "metadata": {},
   "source": [
    "![Objects everywhere](https://github.com/CodeYourDreams/Develop_Curriculum/blob/master/L8%20Classes/Images/Objects.png?raw=true)"
   ]
  },
  {
   "cell_type": "markdown",
   "metadata": {},
   "source": [
    "In Python, almost everything is an object with attributes and methods, or behaviors and states. For example, a state of a person could be their name, age, or neighborhood, while a behavior could be talking, walking, or eating. You may not know it, but you have already interacted with objects in Python. When you assign a variable, you are creating an instance of an class, an object. An instance is a specific object derived from a particular class. To check the classes of various objects, we can use the $type()$ function:"
   ]
  },
  {
   "cell_type": "code",
   "execution_count": 6,
   "metadata": {},
   "outputs": [
    {
     "name": "stdout",
     "output_type": "stream",
     "text": [
      "<class 'int'>\n",
      "<class 'list'>\n",
      "<class 'dict'>\n"
     ]
    }
   ],
   "source": [
    "a = 1\n",
    "b = [\"North Lawndale\", \"Wicker Park\", \"Hyde Park\"]\n",
    "c = {\"Red line\": \"North/South\", \"Pink line\" : \"East/West\"}\n",
    "print(type(a))\n",
    "print(type(b))\n",
    "print(type(c))"
   ]
  },
  {
   "cell_type": "markdown",
   "metadata": {},
   "source": [
    "a is an instance of a integer object, b is an instance of a list object, and c is an instance of a dictionary object. <br><br>Given that the above items are objects, you may be now wondering how do we create our own? This is where class construction comes in."
   ]
  },
  {
   "cell_type": "markdown",
   "metadata": {},
   "source": [
    "### Exercise 1: Objects??"
   ]
  },
  {
   "cell_type": "markdown",
   "metadata": {},
   "source": [
    "What are the two characteristics of an object?"
   ]
  },
  {
   "cell_type": "markdown",
   "metadata": {},
   "source": [
    "_Answer: Attributes and methods or behaviors and states_"
   ]
  },
  {
   "cell_type": "markdown",
   "metadata": {},
   "source": [
    "### Exercise 2: type()"
   ]
  },
  {
   "cell_type": "markdown",
   "metadata": {},
   "source": [
    "What classes do the following objects belong to?\n",
    "1. [\"Garden\", \"Pool\", \"Sports Field\",\"Playground\"]\n",
    "2. \"Community\""
   ]
  },
  {
   "cell_type": "markdown",
   "metadata": {},
   "source": [
    "_Answer: 1. List ; 2. String_"
   ]
  },
  {
   "cell_type": "markdown",
   "metadata": {},
   "source": [
    "***"
   ]
  },
  {
   "cell_type": "markdown",
   "metadata": {},
   "source": [
    "## Class"
   ]
  },
  {
   "cell_type": "markdown",
   "metadata": {},
   "source": [
    "***"
   ]
  },
  {
   "cell_type": "markdown",
   "metadata": {},
   "source": [
    "A class, which is prefaced with the word $class$, is like an object constructor, or a blueprint for defining the nature of a future object. "
   ]
  },
  {
   "cell_type": "markdown",
   "metadata": {},
   "source": [
    "__Now let's breakdown the class MyFirstClass!__"
   ]
  },
  {
   "cell_type": "code",
   "execution_count": 6,
   "metadata": {},
   "outputs": [],
   "source": [
    "class MyFirstClass():\n",
    "    def __init__(self, name):\n",
    "        self.name = name\n",
    "\n",
    "    def greet(self):\n",
    "        print('Hello %s!'%(self.name))"
   ]
  },
  {
   "cell_type": "markdown",
   "metadata": {},
   "source": [
    "It's is standard to capitalize the name of a class. And similar to the restrictions on a function, a class name cannot include spaces or any special characters. The structure of a class is very similar to that of a function, except it is very common for a class to not take in an input in its definition."
   ]
  },
  {
   "cell_type": "markdown",
   "metadata": {},
   "source": [
    "***"
   ]
  },
  {
   "cell_type": "markdown",
   "metadata": {},
   "source": [
    "## Methods"
   ]
  },
  {
   "cell_type": "markdown",
   "metadata": {},
   "source": [
    "***"
   ]
  },
  {
   "cell_type": "markdown",
   "metadata": {},
   "source": [
    "Methods are functions inside of claseses. For example, if we were to create a list named dreamers and type \".\" and tab, all of the methods associated with the list class will appear, like pop, sort, and reverse."
   ]
  },
  {
   "cell_type": "code",
   "execution_count": 19,
   "metadata": {},
   "outputs": [],
   "source": [
    "dreamers = [1,2,3,5,9,10,8,7,2,11]"
   ]
  },
  {
   "cell_type": "code",
   "execution_count": 18,
   "metadata": {},
   "outputs": [
    {
     "data": {
      "text/plain": [
       "[1, 2, 3, 5, 9, 10, 8, 7, 2]"
      ]
     },
     "execution_count": 18,
     "metadata": {},
     "output_type": "execute_result"
    }
   ],
   "source": [
    "dreamers.reverse()\n",
    "dreamers"
   ]
  },
  {
   "cell_type": "markdown",
   "metadata": {},
   "source": [
    "What methods do you see in MyFirstClass?"
   ]
  },
  {
   "cell_type": "code",
   "execution_count": 15,
   "metadata": {},
   "outputs": [],
   "source": [
    "class MyFirstClass:\n",
    "    def __init__(self, name):\n",
    "        self.name = name\n",
    "\n",
    "    def greet(self):\n",
    "        print('Hello %s!'%(self.name))"
   ]
  },
  {
   "cell_type": "markdown",
   "metadata": {},
   "source": [
    "The first method defined in MyFirstClass is __ init__(). <br><br>\n",
    "__ init__() is a special method that is used for initializing instances of the class. It's called when you create an instance of the class."
   ]
  },
  {
   "cell_type": "markdown",
   "metadata": {},
   "source": [
    "The other method in MyFirstClass is .greet, which returns a greeting once it is called."
   ]
  },
  {
   "cell_type": "markdown",
   "metadata": {},
   "source": [
    "So, what's with all of the __selfs__ in MyFirstClass??? Attributes."
   ]
  },
  {
   "cell_type": "markdown",
   "metadata": {},
   "source": [
    "### Exercise 3: maerD ot eraD"
   ]
  },
  {
   "cell_type": "markdown",
   "metadata": {},
   "source": [
    "Create an instance of any built-in class of your choosing (string, list, dictionary, integer, etc.). Using the \".\" and tab sequence, explore and experiment with the methods associated with that class. If you find a method that interest you, write down the method name and explain its function."
   ]
  },
  {
   "cell_type": "markdown",
   "metadata": {},
   "source": [
    "_Hint: Strings have plenty of methods_"
   ]
  },
  {
   "cell_type": "code",
   "execution_count": 56,
   "metadata": {},
   "outputs": [],
   "source": [
    "# example = \"Dare to Dream\"\n",
    "# example.reverse -> \"maerD ot eraD\""
   ]
  },
  {
   "cell_type": "markdown",
   "metadata": {},
   "source": [
    "### Exercise 4: Methods for days..."
   ]
  },
  {
   "cell_type": "markdown",
   "metadata": {},
   "source": [
    "Identify the methods in the below Student class:"
   ]
  },
  {
   "cell_type": "code",
   "execution_count": 31,
   "metadata": {},
   "outputs": [],
   "source": [
    "class Student:\n",
    "    def __init__(self, name, age):\n",
    "        self.name = name\n",
    "        self.age = age\n",
    "    \n",
    "    def say_age(self):\n",
    "        return \"I am {}\" .format(self.age) + \" years old\"\n",
    "    \n",
    "    def fav_class(self, course):\n",
    "        self.course = course\n",
    "        print(\"My favorite class is {}.\" .format(self.course))"
   ]
  },
  {
   "cell_type": "code",
   "execution_count": 32,
   "metadata": {},
   "outputs": [],
   "source": [
    "# The methods for the Student class are..."
   ]
  },
  {
   "cell_type": "markdown",
   "metadata": {},
   "source": [
    "***"
   ]
  },
  {
   "cell_type": "markdown",
   "metadata": {},
   "source": [
    "## Attributes"
   ]
  },
  {
   "cell_type": "markdown",
   "metadata": {},
   "source": [
    "***"
   ]
  },
  {
   "cell_type": "markdown",
   "metadata": {},
   "source": [
    "An attribute is a characteristic of an object. For example, an attribute of a dog is its breed and an attribute of MyFirstClass is name.  <br>\n",
    "\n",
    "Attributes are created using the following syntax:"
   ]
  },
  {
   "cell_type": "markdown",
   "metadata": {},
   "source": [
    "self.atribute = thing"
   ]
  },
  {
   "cell_type": "markdown",
   "metadata": {},
   "source": [
    "$self$ represents an instance of the given class. The use of the $self$ keyword gives us access to the attributes and methods of the class; it links the attributes with the given arguments. When creating methods, $self$ must be the first agrument. For assigning attributes, the attribute must be prefaced with \"self.\" followed by the attribute name."
   ]
  },
  {
   "cell_type": "markdown",
   "metadata": {},
   "source": [
    "<br>In MyFirstClass(), the intializing method takes in a variable called name and assigns it to the name attribute:"
   ]
  },
  {
   "cell_type": "code",
   "execution_count": 13,
   "metadata": {},
   "outputs": [],
   "source": [
    "class MyFirstClass():\n",
    "    def __init__(self, name):\n",
    "        self.name = name\n",
    "\n",
    "    def greet(self):\n",
    "        print('Hello %s!'%(self.name))"
   ]
  },
  {
   "cell_type": "markdown",
   "metadata": {},
   "source": [
    "So now, we can call this:"
   ]
  },
  {
   "cell_type": "code",
   "execution_count": 14,
   "metadata": {},
   "outputs": [],
   "source": [
    "my_instance = MyFirstClass(\"John Doe\")"
   ]
  },
  {
   "cell_type": "code",
   "execution_count": 15,
   "metadata": {},
   "outputs": [
    {
     "data": {
      "text/plain": [
       "'John Doe'"
      ]
     },
     "execution_count": 15,
     "metadata": {},
     "output_type": "execute_result"
    }
   ],
   "source": [
    "my_instance.name"
   ]
  },
  {
   "cell_type": "markdown",
   "metadata": {},
   "source": [
    "We can also now check the type of my_instance:"
   ]
  },
  {
   "cell_type": "code",
   "execution_count": 16,
   "metadata": {},
   "outputs": [
    {
     "name": "stdout",
     "output_type": "stream",
     "text": [
      "<class '__main__.MyFirstClass'>\n"
     ]
    }
   ],
   "source": [
    "print(type(my_instance))"
   ]
  },
  {
   "cell_type": "markdown",
   "metadata": {},
   "source": [
    "### Exercise 5: Understanding check!"
   ]
  },
  {
   "cell_type": "markdown",
   "metadata": {},
   "source": [
    "Add comments to each line in MyFirstClass explaing what each line does or mean. Reference the Attribute and Method sections if you get stuck."
   ]
  },
  {
   "cell_type": "code",
   "execution_count": 64,
   "metadata": {},
   "outputs": [],
   "source": [
    "class MyFirstClass(): #comment 1\n",
    "    def __init__(self, name): #comment 2\n",
    "        self.name = name #comment 3\n",
    "\n",
    "    def greet(self): #comment 4\n",
    "        print('Hello %s!'%(self.name)) #comment 5"
   ]
  },
  {
   "cell_type": "markdown",
   "metadata": {},
   "source": [
    "### Homework\n",
    "Focusing solely on the structure, why will the class below produce an error? After identifying the errors, correct the class and remove the leading and following triple aposthrope signs to see if you were correct.\n",
    "<br>\n",
    "_Hint: There are 5 bugs."
   ]
  },
  {
   "cell_type": "code",
   "execution_count": 73,
   "metadata": {},
   "outputs": [
    {
     "data": {
      "text/plain": [
       "'\\nclass Buggy:\\n    def init(name, num_of_bugs):\\n        self.name = name\\n        \\n        num_of_bugs = num_of_bugs\\n        \\n    def terminator(self):\\n        print(\"%s eliminated the %s bugs!\" %(name, num_of_bugs))\\n        \\nbug = Buggy(\"Your_name\", 5)\\nbug.terminator()\\n'"
      ]
     },
     "execution_count": 73,
     "metadata": {},
     "output_type": "execute_result"
    }
   ],
   "source": [
    "'''\n",
    "class Buggy:\n",
    "    def init(name, num_of_bugs):\n",
    "        self.name = name\n",
    "        \n",
    "        num_of_bugs = num_of_bugs\n",
    "        \n",
    "    def terminator(self):\n",
    "        print(\"%s eliminated the %s bugs!\" %(name, num_of_bugs))\n",
    "        \n",
    "bug = Buggy(\"Your_name\", 5)\n",
    "bug.terminator()\n",
    "'''\n"
   ]
  },
  {
   "cell_type": "markdown",
   "metadata": {},
   "source": [
    "![A meme about fixing code bugs](https://github.com/CodeYourDreams/Develop_Curriculum/blob/master/L8%20Classes/Images/Debug_class.jpg?raw=true)"
   ]
  }
 ],
 "metadata": {
  "kernelspec": {
   "display_name": "Python 3",
   "language": "python",
   "name": "python3"
  },
  "language_info": {
   "codemirror_mode": {
    "name": "ipython",
    "version": 3
   },
   "file_extension": ".py",
   "mimetype": "text/x-python",
   "name": "python",
   "nbconvert_exporter": "python",
   "pygments_lexer": "ipython3",
   "version": "3.7.3"
  }
 },
 "nbformat": 4,
 "nbformat_minor": 2
}

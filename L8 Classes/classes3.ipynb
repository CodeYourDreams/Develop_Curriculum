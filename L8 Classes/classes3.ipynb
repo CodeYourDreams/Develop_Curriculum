{
 "cells": [
  {
   "cell_type": "markdown",
   "metadata": {},
   "source": [
    "# Lesson 9: Classes - Part 3"
   ]
  },
  {
   "cell_type": "markdown",
   "metadata": {},
   "source": [
    "<img src=\"https://i.imgflip.com/34dify.jpg\" title=\"made at imgflip.com\"/></a>"
   ]
  },
  {
   "cell_type": "markdown",
   "metadata": {},
   "source": [
    "## Inheritance"
   ]
  },
  {
   "cell_type": "markdown",
   "metadata": {},
   "source": [
    "Inheritance is a means of forming a new class while using a previous class as a base. With inheritance, once a class takes in a different class as a parameter, the new class absorbs all of the variables and methods of the base class."
   ]
  },
  {
   "cell_type": "markdown",
   "metadata": {},
   "source": [
    "For instance, the class Social_Impact will serve as our base class:"
   ]
  },
  {
   "cell_type": "code",
   "execution_count": 40,
   "metadata": {},
   "outputs": [],
   "source": [
    "class Social_Impact:\n",
    "    city = \"Chicago\"\n",
    "    \n",
    "    def __init__ (self, neighborhood, project, description):\n",
    "        self.neighborhood = neighborhood\n",
    "        self.project = project\n",
    "        self.description = description\n",
    "        \n",
    "    def info(self):\n",
    "        print(\"%s in the %s neighborhood\" %(self.project, self.neighborhood))\n",
    "\n",
    "    def impactful(self):\n",
    "        print(\"Let's impact %s!\" %(Social_Impact.city))\n"
   ]
  },
  {
   "cell_type": "markdown",
   "metadata": {},
   "source": [
    "Through inheritance, we can create other classes that use Social Impact as their base case:"
   ]
  },
  {
   "cell_type": "code",
   "execution_count": 39,
   "metadata": {},
   "outputs": [],
   "source": [
    "class Education(Social_Impact):\n",
    "    def age_group(self, age):\n",
    "        if age <= 6:\n",
    "            print(\"Early childhood education\")\n",
    "        elif age <= 13:\n",
    "            print(\"Childhood education\")\n",
    "        elif age <= 18:\n",
    "            print (\"Teen education\")\n",
    "        else:\n",
    "            print(\"Adult education\")\n",
    "\n",
    "            \n",
    "class Violence(Social_Impact):\n",
    "    def no_more (self):\n",
    "        print(\"Stop the violence\")\n",
    " "
   ]
  },
  {
   "cell_type": "markdown",
   "metadata": {},
   "source": [
    "Now, the methods and variables of the Social_Impact class, the base class, are attributed to the Education and Violence class."
   ]
  },
  {
   "cell_type": "code",
   "execution_count": 43,
   "metadata": {},
   "outputs": [
    {
     "name": "stdout",
     "output_type": "stream",
     "text": [
      "Learn Together in the Austin neighborhood\n",
      "Let's impact Chicago!\n"
     ]
    }
   ],
   "source": [
    "project1 = Education(\"Austin\",\"Learn Together\", \"An app that offers community members academic resources and tutoring services\")\n",
    "\n",
    "project2 = Violence(\"Chatham\", \"I Want to Grow Up\", \"Community chat feature, with weekly videos of kids within the community speaking about their dreams\")\n",
    "\n",
    "project1.info()\n",
    "project2.impactful()"
   ]
  },
  {
   "cell_type": "markdown",
   "metadata": {},
   "source": [
    "To modify any of the methods within the base class, just redefine that function within the new class."
   ]
  },
  {
   "cell_type": "code",
   "execution_count": 49,
   "metadata": {},
   "outputs": [],
   "source": [
    "class Education(Social_Impact):\n",
    "    def age_group(self, age):\n",
    "        if age <= 6:\n",
    "            print(\"Early childhood education\")\n",
    "        elif age <= 13:\n",
    "            print(\"Childhood education\")\n",
    "        elif age <= 18:\n",
    "            print (\"Teen education\")\n",
    "        else:\n",
    "            print(\"Adult education\")\n",
    "    \n",
    "    def impactful(self):\n",
    "        print(\"Let's impact %s through education enrichment!\" %(Social_Impact.city))\n",
    "\n",
    "\n",
    "class Violence(Social_Impact):\n",
    "    def no_more (self):\n",
    "        print(\"Stop the violence\")\n",
    "        \n",
    "    def impactful(self):\n",
    "        print(\"Let's impact %s through violence prevention!\" %(Social_Impact.city))\n",
    "        "
   ]
  },
  {
   "cell_type": "code",
   "execution_count": 50,
   "metadata": {},
   "outputs": [
    {
     "name": "stdout",
     "output_type": "stream",
     "text": [
      "Let's impact Chicago through education enrichment!\n",
      "Let's impact Chicago through violence prevention!\n"
     ]
    }
   ],
   "source": [
    "project1 = Education(\"Austin\",\"Learn Together\", \"An app that offers community members academic resources and tutoring services\")\n",
    "\n",
    "project2 = Violence(\"Chatham\", \"I Want to Grow Up\", \"Community chat feature, with weekly videos of kids within the community speaking about their dreams\")\n",
    "\n",
    "project1.impactful()\n",
    "project2.impactful()"
   ]
  },
  {
   "cell_type": "markdown",
   "metadata": {},
   "source": [
    "### Exercise 1: Inheriting "
   ]
  },
  {
   "cell_type": "code",
   "execution_count": 51,
   "metadata": {},
   "outputs": [],
   "source": [
    "class Dreamer1:\n",
    "    def method1(self):\n",
    "        return self.method2()\n",
    "\n",
    "    def method2(self):\n",
    "        return 'A'\n",
    "\n",
    "class Dreamer2 (Dreamer1):\n",
    "    def method2(self):\n",
    "        return 'B'\n",
    "\n",
    "instance1 = Dreamer1()\n",
    "\n",
    "instance2 = Dreamer2()"
   ]
  },
  {
   "cell_type": "markdown",
   "metadata": {},
   "source": [
    "What will be the output of the following print statements?"
   ]
  },
  {
   "cell_type": "code",
   "execution_count": 28,
   "metadata": {},
   "outputs": [],
   "source": [
    "# print (instance1.method1())\n",
    "# print (instance2.method1())\n",
    "# print (instance1.method2())\n",
    "# print (instance2.method2())"
   ]
  },
  {
   "cell_type": "markdown",
   "metadata": {},
   "source": [
    "## Polymorphism"
   ]
  },
  {
   "cell_type": "markdown",
   "metadata": {},
   "source": [
    "Polymorphism is a means by which multiple classes share a method with the same name even though they may take in different objects. In the below examples, .impactful is a polymorphic method:"
   ]
  },
  {
   "cell_type": "code",
   "execution_count": 55,
   "metadata": {},
   "outputs": [],
   "source": [
    "class Education:\n",
    "    def age_group(self, age):\n",
    "        if age <= 6:\n",
    "            print(\"Early childhood education\")\n",
    "        elif age <= 13:\n",
    "            print(\"Childhood education\")\n",
    "        elif age <= 18:\n",
    "            print (\"Teen education\")\n",
    "        else:\n",
    "            print(\"Adult education\")\n",
    "    \n",
    "    def impactful(self):\n",
    "        print(\"Let's impact %s through education enrichment!\" %(Social_Impact.city))\n",
    "\n",
    "\n",
    "class Violence:\n",
    "    def no_more (self):\n",
    "        print(\"Stop the violence\")\n",
    "        \n",
    "    def impactful(self):\n",
    "        print(\"Let's impact %s through violence prevention!\" %(Social_Impact.city))"
   ]
  },
  {
   "cell_type": "markdown",
   "metadata": {},
   "source": [
    "Polymorphism allows us to pass in different object types into loops and functions and obtain object specific results."
   ]
  },
  {
   "cell_type": "code",
   "execution_count": 57,
   "metadata": {},
   "outputs": [
    {
     "name": "stdout",
     "output_type": "stream",
     "text": [
      "Let's impact Chicago through education enrichment!\n",
      "Let's impact Chicago through violence prevention!\n"
     ]
    }
   ],
   "source": [
    "project1 = Education()\n",
    "\n",
    "project2 = Violence()\n",
    "\n",
    "\n",
    "for impact in [project1,project2]:\n",
    "    impact.impactful()"
   ]
  },
  {
   "cell_type": "markdown",
   "metadata": {},
   "source": [
    "### Exercise 2: Speaking of impact..."
   ]
  },
  {
   "cell_type": "code",
   "execution_count": 31,
   "metadata": {},
   "outputs": [],
   "source": [
    "class Education:\n",
    "    def impactful(self):\n",
    "        print(\"Let's impact %s through education enrichment!\" %(Social_Impact.city))\n",
    "\n",
    "\n",
    "class Violence:\n",
    "    def impactful(self):\n",
    "        print(\"Let's impact %s through violence prevention!\" %(Social_Impact.city))\n",
    "    "
   ]
  },
  {
   "cell_type": "markdown",
   "metadata": {},
   "source": [
    "Define a polymorphic function named involve that takes in an object and calls that object with its .impactful method. "
   ]
  },
  {
   "cell_type": "code",
   "execution_count": 58,
   "metadata": {},
   "outputs": [],
   "source": [
    "# involve(project1) -> 'Let's impact Chicago through education enrichment!'\n",
    "# involve(project2) -> 'Let's impact Chicago through violence prevention!'"
   ]
  },
  {
   "cell_type": "markdown",
   "metadata": {},
   "source": [
    "## Public vs Private"
   ]
  },
  {
   "cell_type": "markdown",
   "metadata": {},
   "source": [
    "As we mentioned in the last lecture, instance variables are assigned outside of the class. But what if you wanted to limit how an instance variable was accessed from outside of a class?"
   ]
  },
  {
   "cell_type": "markdown",
   "metadata": {},
   "source": [
    "In python, you can change the status of an instance variable or method from being public (accessible outside of class) to private by using the underscore. In the Impact class, the instance variable teammates is set to private."
   ]
  },
  {
   "cell_type": "code",
   "execution_count": 20,
   "metadata": {},
   "outputs": [],
   "source": [
    "class Impact:\n",
    "    def __init__(self, teammates):\n",
    "        self._teammates = teammates\n",
    "        \n",
    "impact1 = Impact(teammates = 3)\n",
    "# Because days is private, neither of these actions are possible\n",
    "# print(impact1.teammates)\n",
    "# impact1.teammates = 5"
   ]
  },
  {
   "cell_type": "markdown",
   "metadata": {},
   "source": [
    "Based off the above class, it may seem like there isn't much you can do with a private variable. But by using the property call, you can make a private variable readable, but not writable:"
   ]
  },
  {
   "cell_type": "code",
   "execution_count": 21,
   "metadata": {},
   "outputs": [
    {
     "name": "stdout",
     "output_type": "stream",
     "text": [
      "2\n"
     ]
    }
   ],
   "source": [
    "class Impact:\n",
    "    def __init__(self, teammates):\n",
    "        self._teammates = teammates\n",
    "    \n",
    "    @property\n",
    "    def teammates(self):\n",
    "        return self._teammates\n",
    "    \n",
    "impact2 = Impact(teammates = 2)\n",
    "# Now that the variable is readable,\n",
    "print(impact2.teammates)\n",
    "# But the value cannot be written over\n",
    "# impact2.days = 3"
   ]
  },
  {
   "cell_type": "markdown",
   "metadata": {},
   "source": [
    "Now, the variable teammates can be initially set, while preventing any future modifications. Additionally, the value of the private instance variable can still be altered from the inside of the class:"
   ]
  },
  {
   "cell_type": "code",
   "execution_count": 59,
   "metadata": {},
   "outputs": [
    {
     "name": "stdout",
     "output_type": "stream",
     "text": [
      "Now there are 3 ChangeMakers!\n",
      "3\n"
     ]
    }
   ],
   "source": [
    "class Impact:\n",
    "    def __init__(self, teammates):\n",
    "        self._teammates = teammates\n",
    "    \n",
    "    @property\n",
    "    def teammates(self):\n",
    "        return self._teammates\n",
    "    \n",
    "    def more_teammates(self):\n",
    "        self._teammates = self._teammates + 1\n",
    "        print(\"Now there are {} ChangeMakers!\".format(self.teammates))\n",
    "    \n",
    "impact2 = Impact(teammates = 2)\n",
    "\n",
    "impact2.more_teammates()\n",
    "\n",
    "print(impact2.teammates)"
   ]
  },
  {
   "cell_type": "markdown",
   "metadata": {},
   "source": [
    "### Exercise 3: "
   ]
  },
  {
   "cell_type": "markdown",
   "metadata": {},
   "source": [
    "In the Social_Impact class below, make the instance variable neighbors private. Create a method named new_neighbor that will increment the number of  neighbors by one and print a new message each time it is called."
   ]
  },
  {
   "cell_type": "code",
   "execution_count": 60,
   "metadata": {},
   "outputs": [],
   "source": [
    "class Social_Impact:\n",
    "    city = \"Chicago\"\n",
    "    \n",
    "    def __init__ (self, neighbors, neighborhood):\n",
    "        self.neighbors = neighbors\n",
    "        self.project = neighborhood\n",
    "        \n",
    "motivators = Social_Impact(100, \"Lakeview\")"
   ]
  },
  {
   "cell_type": "markdown",
   "metadata": {},
   "source": [
    "### Homework"
   ]
  },
  {
   "cell_type": "markdown",
   "metadata": {},
   "source": [
    "Comment your code so everybody understands it!"
   ]
  }
 ],
 "metadata": {
  "kernelspec": {
   "display_name": "Python 3",
   "language": "python",
   "name": "python3"
  },
  "language_info": {
   "codemirror_mode": {
    "name": "ipython",
    "version": 3
   },
   "file_extension": ".py",
   "mimetype": "text/x-python",
   "name": "python",
   "nbconvert_exporter": "python",
   "pygments_lexer": "ipython3",
   "version": "3.7.3"
  }
 },
 "nbformat": 4,
 "nbformat_minor": 2
}

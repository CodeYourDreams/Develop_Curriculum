{
 "cells": [
  {
   "cell_type": "markdown",
   "metadata": {},
   "source": [
    "# Data Cleansing "
   ]
  },
  {
   "cell_type": "markdown",
   "metadata": {},
   "source": [
    "## What is it? "
   ]
  },
  {
   "cell_type": "markdown",
   "metadata": {},
   "source": [
    "Data cleansing is a process of finding errors and corruptions in your data, and then fixing or deleting them, in order to make sure your data is accurate, usable, and consistent!"
   ]
  },
  {
   "cell_type": "markdown",
   "metadata": {},
   "source": [
    "![title](dataphoto.jpg)"
   ]
  },
  {
   "cell_type": "markdown",
   "metadata": {},
   "source": [
    "## Why is it important?"
   ]
  },
  {
   "cell_type": "markdown",
   "metadata": {},
   "source": [
    "When pulling multiple sources of data into one large dataset, errors, especially inconsistencies, are often going to occur. Even if you have amazing algorithms and code, unclean data can be extremely problematic!!"
   ]
  },
  {
   "cell_type": "markdown",
   "metadata": {},
   "source": [
    "Having unnecessary data in your dataset can make your runtime considerably slower than what it should be! Therefore cleaning your data is very helpful, and finding what is needed from the data becomes much easier "
   ]
  },
  {
   "cell_type": "markdown",
   "metadata": {},
   "source": [
    "In terms of an application that has been developed and is now being used by people, if the data is clean and error free, everyone using the app will be happier with its performance, because it will not only be faster, but also providing them with consistently correct and concise data"
   ]
  },
  {
   "cell_type": "markdown",
   "metadata": {},
   "source": [
    "#### Example!"
   ]
  },
  {
   "cell_type": "markdown",
   "metadata": {},
   "source": [
    "Let's say you have a large dataset about the students at a school, that consists of each student's: grades, age, parents, and address. If you are writing a program that calculates the GPA of each student, you only need the students grades and their names, so you should remove the other data, as it will just take up unecessary space and slowdown running time! "
   ]
  },
  {
   "cell_type": "markdown",
   "metadata": {},
   "source": [
    "## How do you do it:"
   ]
  },
  {
   "cell_type": "markdown",
   "metadata": {},
   "source": [
    "### Data visualization "
   ]
  },
  {
   "cell_type": "markdown",
   "metadata": {},
   "source": [
    "Data visualization is the creation and study of a visual representation of data"
   ]
  },
  {
   "cell_type": "markdown",
   "metadata": {},
   "source": [
    "Often done through tools such as statistical graphs, plots, infographics, ect. "
   ]
  },
  {
   "cell_type": "markdown",
   "metadata": {},
   "source": [
    "![title](datagraphs.png)"
   ]
  },
  {
   "cell_type": "markdown",
   "metadata": {},
   "source": [
    "Example of data visualization of data on social media usage of an application!"
   ]
  },
  {
   "cell_type": "markdown",
   "metadata": {},
   "source": [
    "Python has several data visualization packages/libraries available:\n",
    "matplotlib, seaborn, ggplot, bokeh, and many more "
   ]
  },
  {
   "cell_type": "markdown",
   "metadata": {},
   "source": [
    "Steps to getting and using these:"
   ]
  },
  {
   "cell_type": "code",
   "execution_count": 2,
   "metadata": {},
   "outputs": [
    {
     "data": {
      "image/png": "[encoded data removed]",
      "text/plain": [
       "<Figure size 432x288 with 1 Axes>"
      ]
     },
     "metadata": {
      "needs_background": "light"
     },
     "output_type": "display_data"
    }
   ],
   "source": [
    "#1. First must get the library by using \"import\"\n",
    "#you need to import a library\n",
    "#you can give the library an \"alias\" if the name is long:\n",
    "import matplotlib.pyplot as mpl\n",
    "\n",
    "#2. Now that they are imported you can use the tools that the libraries provide \n",
    "#You can see the description of the functions that a library contains using \"help\":\n",
    "help(mpl)\n",
    "ClassScores1 = [90.0, 85.0, 94.0, 75.0, 66.0, 98.0, 82.0]\n",
    "ClassScores2 = [80.0, 82.0, 86.0, 88.0, 85.0, 83.0, 60.0]\n",
    "ClassScores3 = [100.0, 72.0, 87.0, 65.0, 95.0, 88.0, 80.0]\n",
    "\n",
    "def ClassAverage(classlist):\n",
    "    total = 0\n",
    "    classsize = 0\n",
    "    for x in classlist:\n",
    "        total += x\n",
    "        classsize += 1\n",
    "    return total/classsize\n",
    "averages = [ClassAverage(ClassScores1), ClassAverage(ClassScores2), ClassAverage(ClassScores3)]\n",
    "mpl.plot([1, 2, 3], averages, 'ro')\n",
    "mpl.axis([0, 6, 70, 100])\n",
    "mpl.show()\n",
    "        "
   ]
  },
  {
   "cell_type": "markdown",
   "metadata": {},
   "source": [
    "### Methods"
   ]
  },
  {
   "cell_type": "markdown",
   "metadata": {},
   "source": [
    "![title](cleandata.jpeg)"
   ]
  },
  {
   "cell_type": "markdown",
   "metadata": {},
   "source": [
    "## Comonalities and Duplicates!!"
   ]
  },
  {
   "cell_type": "markdown",
   "metadata": {},
   "source": [
    "When looking at the errors occuring, look at where the errors are most commonly coming from, so you can more easily pinpoint the cause of the error, and what needs to be fixed, or deleted. "
   ]
  },
  {
   "cell_type": "markdown",
   "metadata": {},
   "source": [
    "Check your data for duplicates and irrelevant data, as this is a common occurence "
   ]
  },
  {
   "cell_type": "markdown",
   "metadata": {},
   "source": [
    "## Mislabling "
   ]
  },
  {
   "cell_type": "markdown",
   "metadata": {},
   "source": [
    "Mislabled classes can be the cause of many problems, because it causes two separate classes taht should be the smae "
   ]
  },
  {
   "cell_type": "markdown",
   "metadata": {},
   "source": [
    "## Helpful fixes!! "
   ]
  },
  {
   "cell_type": "markdown",
   "metadata": {},
   "source": [
    "Standardizing your data processes, and place of entry, simplifies the process and reduces duplication "
   ]
  },
  {
   "cell_type": "markdown",
   "metadata": {},
   "source": [
    "Make sure the data is accurate, even after you have cleaned it. There are cleaning tools, that are designed to ensure accuracy in your data in real time "
   ]
  }
 ],
 "metadata": {
  "kernelspec": {
   "display_name": "Python 3",
   "language": "python",
   "name": "python3"
  },
  "language_info": {
   "codemirror_mode": {
    "name": "ipython",
    "version": 3
   },
   "file_extension": ".py",
   "mimetype": "text/x-python",
   "name": "python",
   "nbconvert_exporter": "python",
   "pygments_lexer": "ipython3",
   "version": "3.7.3"
  }
 },
 "nbformat": 4,
 "nbformat_minor": 2
}

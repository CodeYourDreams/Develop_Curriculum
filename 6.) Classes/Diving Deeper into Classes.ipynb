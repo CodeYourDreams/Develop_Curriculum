{
 "cells": [
  {
   "cell_type": "markdown",
   "metadata": {},
   "source": [
    "# Lesson 9: Classes - Part 2"
   ]
  },
  {
   "cell_type": "markdown",
   "metadata": {},
   "source": [
    "![Ready for another day of classes?](https://github.com/CodeYourDreams/Develop_Curriculum/blob/master/L8%20Classes/Images/More_classes.jpg?raw=true)"
   ]
  },
  {
   "cell_type": "markdown",
   "metadata": {},
   "source": [
    "### Quick review"
   ]
  },
  {
   "cell_type": "markdown",
   "metadata": {},
   "source": [
    "#### What is a class? Briefly talk about the elements in the class below:"
   ]
  },
  {
   "cell_type": "code",
   "execution_count": 9,
   "metadata": {},
   "outputs": [],
   "source": [
    "class MyFirstClass():\n",
    "    def __init__(self, name):\n",
    "        self.name = name\n",
    "\n",
    "    def greet(self):\n",
    "        print('Hello %s!'%(self.name))"
   ]
  },
  {
   "cell_type": "markdown",
   "metadata": {},
   "source": [
    "***"
   ]
  },
  {
   "cell_type": "markdown",
   "metadata": {},
   "source": [
    "### Class variables vs. Instance variables"
   ]
  },
  {
   "cell_type": "markdown",
   "metadata": {},
   "source": [
    "***"
   ]
  },
  {
   "cell_type": "markdown",
   "metadata": {},
   "source": [
    "Class variables are shared between all instances of that class, while instance variables vary between each instance of the class. "
   ]
  },
  {
   "cell_type": "code",
   "execution_count": 28,
   "metadata": {},
   "outputs": [],
   "source": [
    "class Impact:\n",
    "    # These are class variables\n",
    "    city = 'Chicago'\n",
    "    description = 'An example of an Impact class'\n",
    "\n",
    "    def __init__(self, type):\n",
    "        # This is an instance variable\n",
    "        self.instance_variable = type\n",
    "\n",
    "    def impact_info(self):\n",
    "        info = 'instance_variable: {}, city: {}, description: {}'.format(\n",
    "            self.instance_variable, Impact.city, Impact.description) \n",
    "        # Instance variables are referenced throughout the Class prefaced by self.,\n",
    "        # while class variables are prefaced with the class name (i.e. Impact.)\n",
    "        print(info)"
   ]
  },
  {
   "cell_type": "code",
   "execution_count": 18,
   "metadata": {},
   "outputs": [
    {
     "name": "stdout",
     "output_type": "stream",
     "text": [
      "instance_variable: Environmental, city: Chicago, description: An example of an Impact class\n",
      "instance_variable: Food insecurity, city: Chicago, description: An example of an Impact class\n"
     ]
    }
   ],
   "source": [
    "change1 = Impact(\"Environmental\")\n",
    "change2 = Impact(\"Food insecurity\")\n",
    "\n",
    "change1.impact_info()\n",
    "change2.impact_info() "
   ]
  },
  {
   "cell_type": "markdown",
   "metadata": {},
   "source": [
    "As you can see, city and description have the same values across both instances. We can also edit the class variables outside of the class blueprint by calling the class name and the name of the class variable."
   ]
  },
  {
   "cell_type": "code",
   "execution_count": 19,
   "metadata": {},
   "outputs": [],
   "source": [
    "# If you change the value of a class variable, it's changed across all instances\n",
    "\n",
    "Impact.city = 'New City'"
   ]
  },
  {
   "cell_type": "code",
   "execution_count": 7,
   "metadata": {},
   "outputs": [
    {
     "name": "stdout",
     "output_type": "stream",
     "text": [
      "instance_variable: Environmental, city: New City, description: An example of an Impact class\n",
      "instance_variable: Food insecurity, city: New City, description: An example of an Impact class\n"
     ]
    }
   ],
   "source": [
    "change1.impact_info()\n",
    "change2.impact_info()"
   ]
  },
  {
   "cell_type": "markdown",
   "metadata": {},
   "source": [
    "### Exercise 1: Instance of inspiration"
   ]
  },
  {
   "cell_type": "code",
   "execution_count": 10,
   "metadata": {},
   "outputs": [],
   "source": [
    "class Inspirers():\n",
    "    var1 = \"Change Makers\"\n",
    "    \n",
    "    def init (self, project_name):\n",
    "        self.var2 = project_name\n",
    "    var3 = \"Influencers\"\n",
    "    "
   ]
  },
  {
   "cell_type": "markdown",
   "metadata": {},
   "source": [
    "Based off the Inspirers class above, write if the following variable is a class variable or an instance variable. If it is an instance variable, write a line of code that would change its value to a different impact word of your choosing."
   ]
  },
  {
   "cell_type": "code",
   "execution_count": 29,
   "metadata": {},
   "outputs": [],
   "source": [
    "# Instance or Class\n",
    "\n",
    "# 1. var1\n",
    "\n",
    "# 2. var2\n",
    "\n",
    "# 3. var3\n"
   ]
  },
  {
   "cell_type": "markdown",
   "metadata": {},
   "source": [
    "<br><br>Built-in classes are able to interact with other built-in functions. For example, if you input a dictionary into the print function, the dictionary prints to the screen."
   ]
  },
  {
   "cell_type": "code",
   "execution_count": 14,
   "metadata": {},
   "outputs": [
    {
     "name": "stdout",
     "output_type": "stream",
     "text": [
      "{'Musuems': ['The Art Institute', 'The Field Musuem'], 'Aquarium': ['The Shedd Aquarium']}\n"
     ]
    }
   ],
   "source": [
    "downtown = {\"Musuems\": [\"The Art Institute\", \"The Field Musuem\"], \"Aquarium\" : [\"The Shedd Aquarium\"]}\n",
    "\n",
    "print(downtown)"
   ]
  },
  {
   "cell_type": "markdown",
   "metadata": {},
   "source": [
    "But let's see what happens if we try to print our class. "
   ]
  },
  {
   "cell_type": "code",
   "execution_count": 12,
   "metadata": {},
   "outputs": [
    {
     "name": "stdout",
     "output_type": "stream",
     "text": [
      "<__main__.MyFirstClass object at 0x000001FEC6F0EB70>\n"
     ]
    }
   ],
   "source": [
    "instance = MyFirstClass(\"sample\")\n",
    "\n",
    "print (instance)"
   ]
  },
  {
   "cell_type": "markdown",
   "metadata": {},
   "source": [
    "Because the system is unsure what our class looks like as a string, it only returns the function information. This is where the __ str__ method comes in:"
   ]
  },
  {
   "cell_type": "markdown",
   "metadata": {},
   "source": [
    "***"
   ]
  },
  {
   "cell_type": "markdown",
   "metadata": {},
   "source": [
    "## __ str__"
   ]
  },
  {
   "cell_type": "markdown",
   "metadata": {},
   "source": [
    "---"
   ]
  },
  {
   "cell_type": "markdown",
   "metadata": {},
   "source": [
    "Similar to __ init__, __ str__ is also a special method. It is used to convert an instance of the class to a string; specifically when you want to print an instance of the class. By defining __ str__, you can determine what is the printable version of the instances of your class. "
   ]
  },
  {
   "cell_type": "code",
   "execution_count": 19,
   "metadata": {},
   "outputs": [],
   "source": [
    "class Student():\n",
    "    \n",
    "    def __init__(self, name, age):\n",
    "        self.name = name\n",
    "        self.age = age\n",
    "    \n",
    "    def __str__(self):\n",
    "        return   ('Person: {}'.format(self.name))\n",
    "    "
   ]
  },
  {
   "cell_type": "markdown",
   "metadata": {},
   "source": [
    "In the __ str__  method, we return what we want our class to look like as a string. In the case of the Student class, our printable version is:"
   ]
  },
  {
   "cell_type": "code",
   "execution_count": 20,
   "metadata": {},
   "outputs": [
    {
     "name": "stdout",
     "output_type": "stream",
     "text": [
      "Person: Jane Doe\n"
     ]
    }
   ],
   "source": [
    "student1 = Student(\"Jane Doe\", 15)\n",
    "\n",
    "print(student1)"
   ]
  },
  {
   "cell_type": "markdown",
   "metadata": {},
   "source": [
    "### Exercise 2: Stringify"
   ]
  },
  {
   "cell_type": "markdown",
   "metadata": {},
   "source": [
    "Modify MyFirstClass to be printable:"
   ]
  },
  {
   "cell_type": "code",
   "execution_count": 30,
   "metadata": {},
   "outputs": [],
   "source": [
    "class MyFirstClass():\n",
    "    def __init__(self, name):\n",
    "        self.name = name\n",
    "\n",
    "    def greet(self):\n",
    "        print('Hello %s!'%(self.name))\n",
    "\n",
    "#test = MyFirstClass(\"Your_name\")\n",
    "#print(test)"
   ]
  },
  {
   "cell_type": "markdown",
   "metadata": {},
   "source": [
    "#### __Quick Check: Does init or str work with only one leading and following underscore?__"
   ]
  },
  {
   "cell_type": "markdown",
   "metadata": {},
   "source": [
    "## Other Special Methods"
   ]
  },
  {
   "cell_type": "markdown",
   "metadata": {},
   "source": [
    "Similar to __ str__, there exist a special method for giving the length of a class, __ len__, and for deleting an instance of the class, __ del__."
   ]
  },
  {
   "cell_type": "code",
   "execution_count": 34,
   "metadata": {},
   "outputs": [],
   "source": [
    "class Impact:\n",
    "    def __init__(self,project, category, days):\n",
    "        self.project = project\n",
    "        self.category = category\n",
    "        self.days = days\n",
    "        \n",
    "    def __str__(self):\n",
    "        return \"Project name: %s, type: %s, duration: %s days\" %(self.project, self.category, self.days)\n",
    "    \n",
    "    def __len__(self):\n",
    "        return self.days\n",
    "    \n",
    "    def __del__(self):\n",
    "        print(\"Project: %s is completed!\" %(self.project))\n",
    "    "
   ]
  },
  {
   "cell_type": "code",
   "execution_count": 37,
   "metadata": {},
   "outputs": [
    {
     "name": "stdout",
     "output_type": "stream",
     "text": [
      "Project: Go Green is completed!\n",
      "Project name: Go Green, type: Environmental, duration: 14 days\n",
      "14\n",
      "Project: Go Green is completed!\n"
     ]
    }
   ],
   "source": [
    "greenhouse = Impact(\"Go Green\", \"Environmental\",14)\n",
    "\n",
    "print(greenhouse)\n",
    "print(len(greenhouse))\n",
    "del greenhouse"
   ]
  },
  {
   "cell_type": "markdown",
   "metadata": {},
   "source": [
    "### Exercise 3: Stringify plus++"
   ]
  },
  {
   "cell_type": "markdown",
   "metadata": {},
   "source": [
    "Building off the class you created in Exercise 2, modify your code to include the deletion and length special method."
   ]
  },
  {
   "cell_type": "code",
   "execution_count": null,
   "metadata": {},
   "outputs": [],
   "source": [
    "#test = MyFirstClass(\"Your_name\")\n",
    "#print(len(test))\n",
    "#del test"
   ]
  },
  {
   "cell_type": "markdown",
   "metadata": {},
   "source": [
    "There are plenty of other special methods that exist to enhance your classes. Search \"special methods in classes\" or check out this link here to see some other methods and their application: https://dbader.org/blog/python-dunder-methods."
   ]
  },
  {
   "cell_type": "markdown",
   "metadata": {},
   "source": [
    "### Exercise 4: Functions merger!"
   ]
  },
  {
   "cell_type": "markdown",
   "metadata": {},
   "source": [
    "Create a class named \"School\" based off the below functions and make the class printable:\n",
    "<br>\n",
    "_Hint: Figure out what each function does and takes in as inputs first, then look for which variables would need to be attributes._"
   ]
  },
  {
   "cell_type": "code",
   "execution_count": 67,
   "metadata": {},
   "outputs": [],
   "source": [
    "def school_name(name):\n",
    "    print(\"Welcome to %s. We are glad to have you.\" %(name))\n",
    "\n",
    "def attendance_rate(num):\n",
    "    rate = num/900 * 100\n",
    "    return rate\n",
    "\n",
    "def status(name, stats):\n",
    "    if (stats == 0):\n",
    "        print(\"%name is close. Come back later.\" %(name))\n",
    "    else:\n",
    "        print(\"%name is open. Classes are in sessions.\")"
   ]
  },
  {
   "cell_type": "markdown",
   "metadata": {},
   "source": [
    "### Homework"
   ]
  },
  {
   "cell_type": "markdown",
   "metadata": {},
   "source": [
    "Choose a class and write it!"
   ]
  },
  {
   "cell_type": "code",
   "execution_count": null,
   "metadata": {},
   "outputs": [],
   "source": []
  }
 ],
 "metadata": {
  "kernelspec": {
   "display_name": "Python 3",
   "language": "python",
   "name": "python3"
  },
  "language_info": {
   "codemirror_mode": {
    "name": "ipython",
    "version": 3
   },
   "file_extension": ".py",
   "mimetype": "text/x-python",
   "name": "python",
   "nbconvert_exporter": "python",
   "pygments_lexer": "ipython3",
   "version": "3.7.3"
  }
 },
 "nbformat": 4,
 "nbformat_minor": 2
}

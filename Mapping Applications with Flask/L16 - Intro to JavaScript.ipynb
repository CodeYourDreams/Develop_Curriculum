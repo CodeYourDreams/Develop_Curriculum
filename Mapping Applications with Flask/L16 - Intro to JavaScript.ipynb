{
 "cells": [
  {
   "cell_type": "markdown",
   "metadata": {},
   "source": [
    "# Lesson 16 - JavaScript Mini Lesson"
   ]
  },
  {
   "cell_type": "markdown",
   "metadata": {},
   "source": [
    "----"
   ]
  },
  {
   "cell_type": "markdown",
   "metadata": {},
   "source": [
    "![JavaScript](https://www.thelead.io/wp-content/uploads/2019/06/javascript-illustration.png)"
   ]
  },
  {
   "cell_type": "markdown",
   "metadata": {},
   "source": [
    "Like Python, JavaScript is another popular programming langauge. JavaScript is a client-side programming language that enable web developers to make dynamic and interactive web applications. "
   ]
  },
  {
   "cell_type": "markdown",
   "metadata": {},
   "source": [
    "When incorporate mapping technologies into your web app, you will encounter JavaScript code. So, to prepare for that encounter, in this lesson we will learn the basics of JavaScript and go over some of the syntax used with maps."
   ]
  },
  {
   "cell_type": "code",
   "execution_count": 3,
   "metadata": {},
   "outputs": [
    {
     "data": {
      "text/html": [
       "<iframe width=\"560\" height=\"315\" src=\"https://www.youtube.com/embed/Ukg_U3CnJWI?start=5\" frameborder=\"0\" allow=\"accelerometer; autoplay; encrypted-media; gyroscope; picture-in-picture\" allowfullscreen></iframe>"
      ],
      "text/plain": [
       "<IPython.core.display.HTML object>"
      ]
     },
     "execution_count": 3,
     "metadata": {},
     "output_type": "execute_result"
    }
   ],
   "source": [
    "from IPython.display import HTML\n",
    "HTML('<iframe width=\"560\" height=\"315\" src=\"https://www.youtube.com/embed/Ukg_U3CnJWI?start=5\" frameborder=\"0\" allow=\"accelerometer; autoplay; encrypted-media; gyroscope; picture-in-picture\" allowfullscreen></iframe>')"
   ]
  },
  {
   "cell_type": "markdown",
   "metadata": {},
   "source": [
    "### Key Concepts"
   ]
  },
  {
   "cell_type": "markdown",
   "metadata": {},
   "source": [
    "---"
   ]
  },
  {
   "cell_type": "markdown",
   "metadata": {},
   "source": [
    "#### Variables"
   ]
  },
  {
   "cell_type": "markdown",
   "metadata": {},
   "source": [
    "'var' prefixes any variable definition."
   ]
  },
  {
   "cell_type": "markdown",
   "metadata": {},
   "source": [
    "![map](https://github.com/CodeYourDreams/Develop_Curriculum/blob/master/Mapping%20Applications%20with%20Flask/Images/js_variables.png?raw=true)"
   ]
  },
  {
   "cell_type": "markdown",
   "metadata": {},
   "source": [
    "#### Conditionals"
   ]
  },
  {
   "cell_type": "markdown",
   "metadata": {},
   "source": [
    "![map](https://github.com/CodeYourDreams/Develop_Curriculum/blob/master/Mapping%20Applications%20with%20Flask/Images/conditions.png?raw=true)"
   ]
  },
  {
   "cell_type": "markdown",
   "metadata": {},
   "source": [
    "Note how the brackets are used to enclose the code block. Identation is not required, but is suggested for formatting purposes."
   ]
  },
  {
   "cell_type": "markdown",
   "metadata": {},
   "source": [
    "#### Loops"
   ]
  },
  {
   "cell_type": "markdown",
   "metadata": {},
   "source": [
    "![map](https://github.com/CodeYourDreams/Develop_Curriculum/blob/master/Mapping%20Applications%20with%20Flask/Images/loop.png?raw=true)"
   ]
  },
  {
   "cell_type": "markdown",
   "metadata": {},
   "source": [
    "#### Functions"
   ]
  },
  {
   "cell_type": "markdown",
   "metadata": {},
   "source": [
    "![map](https://github.com/CodeYourDreams/Develop_Curriculum/blob/master/Mapping%20Applications%20with%20Flask/Images/functions.png?raw=true)"
   ]
  },
  {
   "cell_type": "markdown",
   "metadata": {},
   "source": [
    "## JavaScript Code Breakdown"
   ]
  },
  {
   "cell_type": "markdown",
   "metadata": {},
   "source": [
    "To review some of the topics reviewed above, let's take a look at JavaScript code in the context of mapping code."
   ]
  },
  {
   "cell_type": "markdown",
   "metadata": {},
   "source": [
    "Keep in mind that the below block of code generates this map:"
   ]
  },
  {
   "cell_type": "markdown",
   "metadata": {},
   "source": [
    "![map](https://github.com/CodeYourDreams/Develop_Curriculum/blob/master/Mapping%20Applications%20with%20Flask/Images/Mapbox%20map.png?raw=true)"
   ]
  },
  {
   "cell_type": "markdown",
   "metadata": {},
   "source": [
    "Most of the code in the below block will not make sense on its own because pieces of it belong to predefined classes and functions, but we will try to understand the overall function and syntax of the code blocks:\n"
   ]
  },
  {
   "cell_type": "markdown",
   "metadata": {},
   "source": [
    "\n",
    "   <!DOCTYPE html>\n",
    "    <html>\n",
    "      <head>\n",
    "          <meta charset='utf-8' />\n",
    "          <title>Sample Map</title>\n",
    "          <meta name='viewport' content='initial-scale=1,maximum-scale=1,user-scalable=no' />      \n",
    "> __Java file included in the head tag__    \n",
    "          \n",
    "          <script src='https://api.tiles.mapbox.com/mapbox-gl-js/v1.1.1/mapbox-gl.js'></script>\n",
    "> __CSS file included__\n",
    "          \n",
    "          <link href='https://api.tiles.mapbox.com/mapbox-gl-js/v1.1.1/mapbox-gl.css' rel='stylesheet' />\n",
    "          \n",
    "> __Can use the style tag to include css code in a html file included__\n",
    "          \n",
    "          <style>\n",
    "              body { margin:0; padding:0; }\n",
    "              #map { position:absolute; top:0; bottom:0; width:100%; }\n",
    "          </style>\n",
    "          \n",
    "      </head>\n",
    "    <body>\n",
    "\n",
    "> __div container for the map__\n",
    "        \n",
    "        <div id='map'>\n",
    "             \n",
    "> __The script tag contains the JavaScript code for the map__\n",
    "            \n",
    "          <script>\n",
    "    \n",
    "> __Each code segment in JavaScript must end with a ';'__\n",
    "              \n",
    "            mapboxgl.accessToken = 'YOUR_KEY_HERE';\n",
    "              \n",
    "> __'var' prefaces all new variable definitions__\n",
    "\n",
    "            var map = new mapboxgl.Map({\n",
    "                container: 'map',\n",
    "                style: 'mapbox://styles/kiana1317/cjynmrtem3n7g1cnprggyspgj',\n",
    "                center: [-87.661557, 41.893748],\n",
    "                zoom: 10\n",
    "            });\n",
    "\n",
    "            map.on('click', function(e) {\n",
    "              var features = map.queryRenderedFeatures(e.point, {\n",
    "                layers: ['chicago-parks'] \n",
    "              });\n",
    "\n",
    "> __If statements use brackets to enclose code__\n",
    "             \n",
    "            if (!features.length) {\n",
    "                return;\n",
    "              }\n",
    "\n",
    "              var feature = features[0];\n",
    "\n",
    "              var popup = new mapboxgl.Popup({ offset: [0, -15] })\n",
    "                .setLngLat(feature.geometry.coordinates)\n",
    "                .setHTML('<h3>' + feature.properties.title + '</h3><p>' + feature.properties.description + '</p>')\n",
    "                .addTo(map);\n",
    "            });\n",
    "          </script>\n",
    "        </div>\n",
    "      </body>\n",
    "    </html>"
   ]
  },
  {
   "cell_type": "markdown",
   "metadata": {},
   "source": [
    "### Exercise "
   ]
  },
  {
   "cell_type": "markdown",
   "metadata": {},
   "source": [
    "Convert the following code blocks into JavaScript code."
   ]
  },
  {
   "cell_type": "markdown",
   "metadata": {},
   "source": [
    "Example:"
   ]
  },
  {
   "cell_type": "code",
   "execution_count": 10,
   "metadata": {},
   "outputs": [],
   "source": [
    "# in Python\n",
    "sample = 'Hello'\n",
    "\n",
    "# in JavaScript\n",
    "# var sample = 'Hello'\n"
   ]
  },
  {
   "cell_type": "code",
   "execution_count": 25,
   "metadata": {},
   "outputs": [],
   "source": [
    "# 1.\n",
    "dreamer = 'Your name'\n",
    "\n",
    "# 2.\n",
    "def say_dream():\n",
    "    return 'dream'"
   ]
  },
  {
   "cell_type": "markdown",
   "metadata": {},
   "source": [
    "## Homework"
   ]
  },
  {
   "cell_type": "markdown",
   "metadata": {},
   "source": [
    "Based off what you have learned today, what are two differences between the syntax in Python and JavaScript?"
   ]
  },
  {
   "cell_type": "markdown",
   "metadata": {},
   "source": [
    "![JS vs. Python](http://www.techgeekbuzz.com/wp-content/uploads/2019/02/Python-compressor.png)"
   ]
  }
 ],
 "metadata": {
  "kernelspec": {
   "display_name": "Python 3",
   "language": "python",
   "name": "python3"
  },
  "language_info": {
   "codemirror_mode": {
    "name": "ipython",
    "version": 3
   },
   "file_extension": ".py",
   "mimetype": "text/x-python",
   "name": "python",
   "nbconvert_exporter": "python",
   "pygments_lexer": "ipython3",
   "version": "3.7.3"
  }
 },
 "nbformat": 4,
 "nbformat_minor": 2
}

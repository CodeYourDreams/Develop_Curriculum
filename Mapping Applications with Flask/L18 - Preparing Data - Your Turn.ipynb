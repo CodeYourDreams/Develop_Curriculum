{
 "cells": [
  {
   "cell_type": "markdown",
   "metadata": {},
   "source": [
    "# Lesson 18: Preparing Data"
   ]
  },
  {
   "cell_type": "markdown",
   "metadata": {},
   "source": [
    "---"
   ]
  },
  {
   "cell_type": "markdown",
   "metadata": {},
   "source": [
    "In the last lecture, we created a basemap using the software Mapbox, like the one below:"
   ]
  },
  {
   "cell_type": "markdown",
   "metadata": {},
   "source": [
    "![Mapbox](https://miro.medium.com/max/1500/1*fBtNHX8-L2493hR5f1LtKw.png)"
   ]
  },
  {
   "cell_type": "markdown",
   "metadata": {},
   "source": [
    "__But what's a completed map, without data???__"
   ]
  },
  {
   "cell_type": "markdown",
   "metadata": {},
   "source": [
    "When using any mapping software, you'll be dealing with geometric data, specifically data with shape geometry, and latitude and longitude values."
   ]
  },
  {
   "cell_type": "markdown",
   "metadata": {},
   "source": [
    "---"
   ]
  },
  {
   "cell_type": "markdown",
   "metadata": {},
   "source": [
    "## GeoJSON <br>![JSON](https://encrypted-tbn0.gstatic.com/images?q=tbn:ANd9GcRTSdZjBgpqTiu5p0In6sbJDl_bvjX5BwDCSvhiEKJ3nmgwc_-k)"
   ]
  },
  {
   "cell_type": "markdown",
   "metadata": {},
   "source": [
    "JSON, or JavaScript Object Notation, is a way to store files in an easily readable way. JSON data is generally stored as several dictionaries in an arrray. "
   ]
  },
  {
   "cell_type": "code",
   "execution_count": 2,
   "metadata": {},
   "outputs": [],
   "source": [
    "# Example of Json data\n",
    "chicago = [{\n",
    "    \"name\" : \"Loop\",\n",
    "    \"direction\" : \"Central\"\n",
    "},\n",
    "{\n",
    "    \"name\" : \"Austin\",\n",
    "    \"direction\" : \"West\"\n",
    "},\n",
    "{\n",
    "    \"name\" : \"Lincoln Park\",\n",
    "    \"direction\" : \"North\"\n",
    "}]"
   ]
  },
  {
   "cell_type": "markdown",
   "metadata": {},
   "source": [
    "A GeoJson is a specific type of JSON file that inlcude geometry information to encode for a variety of geographical structures, such as:"
   ]
  },
  {
   "cell_type": "markdown",
   "metadata": {},
   "source": [
    "- Point ⚫\n",
    "- LineString _〰_\n",
    "- Polygon 🔶\n",
    "- MultiPoint ⚫⚫⚫⚫⚫\n",
    "- MultiLineString _〰〰〰〰〰_\n",
    "- MultiPolygon 🔶🔶🔶🔶🔶"
   ]
  },
  {
   "cell_type": "code",
   "execution_count": 4,
   "metadata": {},
   "outputs": [
    {
     "data": {
      "text/plain": [
       "{'type': 'Feature',\n",
       " 'geometry': {'type': 'Point', 'coordinates': [41.8781, -87.6298]},\n",
       " 'properties': {'name': 'Chicago'}}"
      ]
     },
     "execution_count": 4,
     "metadata": {},
     "output_type": "execute_result"
    }
   ],
   "source": [
    "{\n",
    "  \"type\": \"Feature\",\n",
    "  \"geometry\": { # the geometry field signifies a GeoJson dataset\n",
    "    \"type\": \"Point\", # the geometry type\n",
    "    \"coordinates\": [41.8781, -87.6298] # [longitude, latitude]\n",
    "  },\n",
    "  \"properties\": {\n",
    "    \"name\": \"Chicago\" # column names and corresponding values for the given feature\n",
    "  }\n",
    "}"
   ]
  },
  {
   "cell_type": "markdown",
   "metadata": {},
   "source": [
    "---"
   ]
  },
  {
   "cell_type": "markdown",
   "metadata": {},
   "source": [
    "Luckily for us, Mapbox has a simple way of adding data points to maps. Follow along to the tutorial below:"
   ]
  },
  {
   "cell_type": "markdown",
   "metadata": {},
   "source": [
    "[Mapbox Adding Data Tutorial](https://docs.mapbox.com/help/tutorials/add-points-pt-1/)\n",
    "<br>"
   ]
  },
  {
   "cell_type": "markdown",
   "metadata": {},
   "source": [
    "__Keep in mind that for some Mapbox functionalities and tutorials it may be easier to load data by linking your data as a GeoJSON file:__"
   ]
  },
  {
   "cell_type": "code",
   "execution_count": 6,
   "metadata": {},
   "outputs": [
    {
     "ename": "SyntaxError",
     "evalue": "invalid syntax (<ipython-input-6-109519a162f4>, line 1)",
     "output_type": "error",
     "traceback": [
      "\u001b[1;36m  File \u001b[1;32m\"<ipython-input-6-109519a162f4>\"\u001b[1;36m, line \u001b[1;32m1\u001b[0m\n\u001b[1;33m    <script>\u001b[0m\n\u001b[1;37m    ^\u001b[0m\n\u001b[1;31mSyntaxError\u001b[0m\u001b[1;31m:\u001b[0m invalid syntax\n"
     ]
    }
   ],
   "source": [
    "<script>\n",
    "    map.addSource('some id', {\n",
    "      type: 'geojson',\n",
    "      data: 'https://mydomain.mydata.geojson'\n",
    "    });\n",
    "</script>"
   ]
  },
  {
   "cell_type": "markdown",
   "metadata": {},
   "source": [
    "__Or by copying your GeoJSON data directly into your javascript section, instead:__   "
   ]
  },
  {
   "cell_type": "code",
   "execution_count": 7,
   "metadata": {},
   "outputs": [
    {
     "ename": "SyntaxError",
     "evalue": "invalid syntax (<ipython-input-7-e42546e12010>, line 1)",
     "output_type": "error",
     "traceback": [
      "\u001b[1;36m  File \u001b[1;32m\"<ipython-input-7-e42546e12010>\"\u001b[1;36m, line \u001b[1;32m1\u001b[0m\n\u001b[1;33m    <script>\u001b[0m\n\u001b[1;37m    ^\u001b[0m\n\u001b[1;31mSyntaxError\u001b[0m\u001b[1;31m:\u001b[0m invalid syntax\n"
     ]
    }
   ],
   "source": [
    "<script>\n",
    "    var rentals = {\n",
    "            \"type\": \"FeatureCollection\",\n",
    "            \"features\": [\n",
    "              {\n",
    "                \"type\": \"Feature\",\n",
    "                \"properties\": {\n",
    "                  \"community\": \"Woodlawn\",\n",
    "                  \"type\": \"Multifamily\",\n",
    "                  \"name\": \"The Grant at Woodlawn Pk Phase I\",\n",
    "                  \"address\": \"6227-29 S. Cottage Grove Ave.\",\n",
    "                  \"zip\": \"60637\",\n",
    "                  \"phone\": \"312-283-0030\",\n",
    "                  \"comp\": \"Preservation Housing Management LLC\",\n",
    "                  \"units\": \"67\"\n",
    "                },\n",
    "                \"geometry\": {\n",
    "                  \"coordinates\": [\n",
    "                    -87.605807,\n",
    "                    41.781408\n",
    "                  ],\n",
    "                  \"type\": \"Point\"\n",
    "                },\n",
    "                \"id\": \"01615628e9296c4a94701b6436ff8ec6\"\n",
    "              },\n",
    "              {\n",
    "                \"type\": \"Feature\",\n",
    "                \"properties\": {\n",
    "                  \"community\": \"Near North Side\",\n",
    "                  \"type\": \"Multifamily\",\n",
    "                  \"name\": \"North Town Village II\",\n",
    "                  \"address\": \"1311 N. Halsted St.\",\n",
    "                  \"zip\": \"60642\",\n",
    "                  \"phone\": \"312-944-9488\",\n",
    "                  \"comp\": \"Holsten Real Estate Dev. Corp.\",\n",
    "                  \"units\": \"112\"\n",
    "                },\n",
    "                \"geometry\": {\n",
    "                  \"coordinates\": [\n",
    "                    -87.647982,\n",
    "                    41.905438\n",
    "                  ],\n",
    "                  \"type\": \"Point\"\n",
    "                },\n",
    "                \"id\": \"01de95f0296020c0b3779500ec34a554\"\n",
    "              },\n",
    "              {\n",
    "                \"type\": \"Feature\",\n",
    "                \"properties\": {\n",
    "                  \"community\": \"Grand Boulevard\",\n",
    "                  \"type\": \"Multifamily\",\n",
    "                  \"name\": \"Shops & Lofts at 47\",\n",
    "                  \"address\": \"747 E. 47th St.\",\n",
    "                  \"zip\": \"60653\",\n",
    "                  \"phone\": \"855-618-4959\",\n",
    "                  \"comp\": \"The Community Builders Inc.\",\n",
    "                  \"units\": \"72\"\n",
    "                },\n",
    "                \"geometry\": {\n",
    "                  \"coordinates\": [\n",
    "                    -87.607085,\n",
    "                    41.809413\n",
    "                  ],\n",
    "                  \"type\": \"Point\"\n",
    "                },\n",
    "                \"id\": \"01fefa38f7362806725d66951a3fb75c\"\n",
    "              }\n",
    "        ]\n",
    "    };\n",
    "</script>"
   ]
  },
  {
   "cell_type": "markdown",
   "metadata": {},
   "source": [
    "Then use the 'addLayer' function to add those data points to your map:"
   ]
  },
  {
   "cell_type": "code",
   "execution_count": 9,
   "metadata": {},
   "outputs": [
    {
     "ename": "SyntaxError",
     "evalue": "invalid syntax (<ipython-input-9-ec20a6ab751f>, line 1)",
     "output_type": "error",
     "traceback": [
      "\u001b[1;36m  File \u001b[1;32m\"<ipython-input-9-ec20a6ab751f>\"\u001b[1;36m, line \u001b[1;32m1\u001b[0m\n\u001b[1;33m    <script>\u001b[0m\n\u001b[1;37m    ^\u001b[0m\n\u001b[1;31mSyntaxError\u001b[0m\u001b[1;31m:\u001b[0m invalid syntax\n"
     ]
    }
   ],
   "source": [
    "<script>\n",
    "    map.addLayer({\n",
    "             id: 'houses', # Layer name\n",
    "             type: 'symbol', \n",
    "             source: {\n",
    "               type: 'geojson', # Data type\n",
    "               data: rentals # Variable name of the dataset\n",
    "             },\n",
    "             layout: {\n",
    "               'icon-image': 'home-15', # Icon image\n",
    "               'icon-allow-overlap': true, # Allows icons to overlap\n",
    "             }\n",
    "    });\n",
    "</script>"
   ]
  },
  {
   "cell_type": "markdown",
   "metadata": {},
   "source": [
    "---"
   ]
  },
  {
   "cell_type": "markdown",
   "metadata": {},
   "source": [
    "## Additional Resources"
   ]
  },
  {
   "cell_type": "markdown",
   "metadata": {},
   "source": [
    "### Databases"
   ]
  },
  {
   "cell_type": "markdown",
   "metadata": {},
   "source": [
    "For your map, you can either display your own data you've collected or data found online."
   ]
  },
  {
   "cell_type": "markdown",
   "metadata": {},
   "source": [
    "Here's a list of some useful databases:\n",
    "1. City of Chicago Database\n",
    "        https://data.cityofchicago.org/\n",
    "2. Socrata Developers\n",
    "        https://dev.socrata.com/data/\n",
    "3. City of Chicago | Developers\n",
    "        http://dev.cityofchicago.org/\n",
    "4. Data.GOV\n",
    "        https://catalog.data.gov/dataset"
   ]
  },
  {
   "cell_type": "markdown",
   "metadata": {},
   "source": [
    "### Geocoding"
   ]
  },
  {
   "cell_type": "markdown",
   "metadata": {},
   "source": [
    "A key aspect of mapping data is that the data has longitude and latitude values. Most data exported from databases will feature these values. However, in the case that these values are missing, there are some online resources available to convert addresses to geographical coordinates, like [GeoCodio](https://www.geocod.io/)."
   ]
  },
  {
   "cell_type": "markdown",
   "metadata": {},
   "source": [
    "---"
   ]
  },
  {
   "cell_type": "markdown",
   "metadata": {},
   "source": [
    "## Group Work"
   ]
  },
  {
   "cell_type": "markdown",
   "metadata": {},
   "source": [
    "In your development group, determined what data source you are using for your map. Then, start drafting your map."
   ]
  },
  {
   "cell_type": "markdown",
   "metadata": {},
   "source": [
    "![Group Work Meme](https://i2.wp.com/gingerlewman.com/wp-content/uploads/2013/08/screen-shot-2013-08-28-at-9-30-26-am.png?fit=733%2C565&ssl=1)"
   ]
  },
  {
   "cell_type": "markdown",
   "metadata": {},
   "source": [
    "---"
   ]
  },
  {
   "cell_type": "markdown",
   "metadata": {},
   "source": [
    "## Homework"
   ]
  },
  {
   "cell_type": "markdown",
   "metadata": {},
   "source": [
    "Identify what steps remain to complete your map, and prepare a rough timeline for these steps"
   ]
  },
  {
   "cell_type": "code",
   "execution_count": null,
   "metadata": {},
   "outputs": [],
   "source": []
  }
 ],
 "metadata": {
  "kernelspec": {
   "display_name": "Python 3",
   "language": "python",
   "name": "python3"
  },
  "language_info": {
   "codemirror_mode": {
    "name": "ipython",
    "version": 3
   },
   "file_extension": ".py",
   "mimetype": "text/x-python",
   "name": "python",
   "nbconvert_exporter": "python",
   "pygments_lexer": "ipython3",
   "version": "3.7.3"
  }
 },
 "nbformat": 4,
 "nbformat_minor": 2
}

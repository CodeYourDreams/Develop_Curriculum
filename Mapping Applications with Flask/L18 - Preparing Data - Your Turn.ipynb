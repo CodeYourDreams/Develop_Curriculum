{
 "cells": [
  {
   "cell_type": "markdown",
   "metadata": {},
   "source": [
    "# Lesson 18: Preparing Data"
   ]
  },
  {
   "cell_type": "markdown",
   "metadata": {},
   "source": [
    "---"
   ]
  },
  {
   "cell_type": "markdown",
   "metadata": {},
   "source": [
    "In the last lecture, we created a basemap using the software Mapbox, like the one below:"
   ]
  },
  {
   "cell_type": "markdown",
   "metadata": {},
   "source": [
    "![Mapbox](https://miro.medium.com/max/1500/1*fBtNHX8-L2493hR5f1LtKw.png)"
   ]
  },
  {
   "cell_type": "markdown",
   "metadata": {},
   "source": [
    "__But what's a completed map, without data???__"
   ]
  },
  {
   "cell_type": "markdown",
   "metadata": {},
   "source": [
    "When using any of the mapping softwares mentioned, you'll be dealing with geometric data, specifically data with shape geometry, and latitude and longitude values."
   ]
  },
  {
   "cell_type": "markdown",
   "metadata": {},
   "source": [
    "Luckily for us, Mapbox has a simple way of adding data points to maps. Follow along to the tutorial below:"
   ]
  },
  {
   "cell_type": "markdown",
   "metadata": {},
   "source": [
    "[Mapbox Adding Data Tutorial](https://docs.mapbox.com/help/tutorials/add-points-pt-1/)"
   ]
  },
  {
   "cell_type": "markdown",
   "metadata": {},
   "source": [
    "---"
   ]
  },
  {
   "cell_type": "markdown",
   "metadata": {},
   "source": [
    "## Additional Resources"
   ]
  },
  {
   "cell_type": "markdown",
   "metadata": {},
   "source": [
    "### Databases"
   ]
  },
  {
   "cell_type": "markdown",
   "metadata": {},
   "source": [
    "For your map, you can either display your own data you've collected or data found online"
   ]
  },
  {
   "cell_type": "markdown",
   "metadata": {},
   "source": [
    "Here's a list of some useful databases:\n",
    "1. City of Chicago Database\n",
    "        https://data.cityofchicago.org/\n",
    "2. Socrata Developers\n",
    "        https://dev.socrata.com/data/\n",
    "3. City of Chicago | Developers\n",
    "        http://dev.cityofchicago.org/\n",
    "4. Data.GOV\n",
    "        https://catalog.data.gov/dataset"
   ]
  },
  {
   "cell_type": "markdown",
   "metadata": {},
   "source": [
    "### Geocoding"
   ]
  },
  {
   "cell_type": "markdown",
   "metadata": {},
   "source": [
    "The key aspect of mapping data is that the data must have longitude and latitude values. Most data exported from databases will feature these values. However, in the case that these values are missing, there are some online resources available to convert addresses to geographical coordinates, like [GeoCodio](https://www.geocod.io/)."
   ]
  },
  {
   "cell_type": "markdown",
   "metadata": {},
   "source": [
    "---"
   ]
  },
  {
   "cell_type": "markdown",
   "metadata": {},
   "source": [
    "## Group Work"
   ]
  },
  {
   "cell_type": "markdown",
   "metadata": {},
   "source": [
    "In your development group, determined what data source you are using for your map. Then, start drafting your map."
   ]
  },
  {
   "cell_type": "markdown",
   "metadata": {},
   "source": [
    "![Group Work Meme](https://i2.wp.com/gingerlewman.com/wp-content/uploads/2013/08/screen-shot-2013-08-28-at-9-30-26-am.png?fit=733%2C565&ssl=1)"
   ]
  },
  {
   "cell_type": "markdown",
   "metadata": {},
   "source": [
    "---"
   ]
  },
  {
   "cell_type": "markdown",
   "metadata": {},
   "source": [
    "## Homework"
   ]
  },
  {
   "cell_type": "markdown",
   "metadata": {},
   "source": [
    "Identify what steps remain to complete your map, and prepare a rough timeline for these steps"
   ]
  },
  {
   "cell_type": "code",
   "execution_count": null,
   "metadata": {},
   "outputs": [],
   "source": []
  }
 ],
 "metadata": {
  "kernelspec": {
   "display_name": "Python 3",
   "language": "python",
   "name": "python3"
  },
  "language_info": {
   "codemirror_mode": {
    "name": "ipython",
    "version": 3
   },
   "file_extension": ".py",
   "mimetype": "text/x-python",
   "name": "python",
   "nbconvert_exporter": "python",
   "pygments_lexer": "ipython3",
   "version": "3.7.3"
  }
 },
 "nbformat": 4,
 "nbformat_minor": 2
}

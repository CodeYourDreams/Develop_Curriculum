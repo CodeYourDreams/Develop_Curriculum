{
 "cells": [
  {
   "cell_type": "markdown",
   "metadata": {},
   "source": [
    "# Lesson 16- Sample Map"
   ]
  },
  {
   "cell_type": "markdown",
   "metadata": {},
   "source": [
    "----"
   ]
  },
  {
   "attachments": {},
   "cell_type": "markdown",
   "metadata": {},
   "source": [
    "![Taking Google Maps too seriously](https://raw.githubusercontent.com/CodeYourDreams/Develop_Curriculum/master/Mapping%20Applications%20with%20Flask/Images/Google-Map.jpg?token=AKRDA5JURK2EX6YZWQXQOYC5JCYJE \"segment\")"
   ]
  },
  {
   "cell_type": "markdown",
   "metadata": {},
   "source": [
    "Now that we've learned about cartography and the various elements in mapmaking, it's time to put that knowledge to code!"
   ]
  },
  {
   "cell_type": "markdown",
   "metadata": {},
   "source": [
    "There are various mapping tools available for web app development. In this lesson, we will briefly cover some of the most common options."
   ]
  },
  {
   "cell_type": "markdown",
   "metadata": {},
   "source": [
    "---"
   ]
  },
  {
   "cell_type": "markdown",
   "metadata": {},
   "source": [
    "## Mapping Tools"
   ]
  },
  {
   "cell_type": "markdown",
   "metadata": {},
   "source": [
    "### 1. Leaflet "
   ]
  },
  {
   "cell_type": "markdown",
   "metadata": {},
   "source": [
    "Leaflet is an open-source JavaScript library for creating mobile-friendly, interactive maps. With simplicity and usability in mind, leaflet maps works across various desktop and mobile devices. The large array of plugins, like adding a search bar and marker customization available, makes leaflet maps easily customizable."
   ]
  },
  {
   "cell_type": "markdown",
   "metadata": {},
   "source": [
    "You can find the available features here: https://leafletjs.com/#features"
   ]
  },
  {
   "cell_type": "markdown",
   "metadata": {},
   "source": [
    "__Best for:__\n",
    "<br>Multipurpose mapping solution if you don’t need a graphical interface"
   ]
  },
  {
   "cell_type": "markdown",
   "metadata": {},
   "source": [
    "![Leaflet example 1](https://raw.githubusercontent.com/CodeYourDreams/Develop_Curriculum/master/Mapping%20Applications%20with%20Flask/Images/Leaflet.png?token=AKRDA5IIW4O5OW2IDZTS4FC5JCY7G \"segment\")"
   ]
  },
  {
   "cell_type": "markdown",
   "metadata": {},
   "source": [
    "![Leaflet example 2](https://raw.githubusercontent.com/CodeYourDreams/Develop_Curriculum/master/Mapping%20Applications%20with%20Flask/Images/Leaflet_sample.png?token=AKRDA5LNIWF6V7LC3BWDJC25JCZEI \"segment\")"
   ]
  },
  {
   "cell_type": "markdown",
   "metadata": {},
   "source": [
    "### 2. Mapbox.js"
   ]
  },
  {
   "cell_type": "markdown",
   "metadata": {},
   "source": [
    "Mapbox.js is another widely used mapping tool. Mapbox.js is built on top of the Leaflet library. Similar to Leaflet, it is an open source library and is compatible with all modern browsers. Customization is Mapbox core strength and it comes with a map editor named TileMill.\n",
    "<br><br>Quickstart tutorial: https://blog.mapbox.com/quickstart-guide-to-mapbox-javascript-api-4b376c68dd46"
   ]
  },
  {
   "cell_type": "markdown",
   "metadata": {},
   "source": [
    "__Best for:__\n",
    "<br>Complex maps where you want precise control over styling, or need to use multiple layers of data\n",
    "\n"
   ]
  },
  {
   "cell_type": "markdown",
   "metadata": {},
   "source": [
    "![Mapbox.js Sample](https://raw.githubusercontent.com/CodeYourDreams/Develop_Curriculum/master/Mapping%20Applications%20with%20Flask/Images/Mapbox.png?token=AKRDA5IB4MSFYKQEV57M7G25JCZH6 \"segment\")"
   ]
  },
  {
   "cell_type": "markdown",
   "metadata": {},
   "source": [
    "![Mapbox customization](https://raw.githubusercontent.com/CodeYourDreams/Develop_Curriculum/master/Mapping%20Applications%20with%20Flask/Images/TileMill.jpg?token=AKRDA5OTJCRMPPN5GP4AFK25JC2PY \"segment\")"
   ]
  },
  {
   "cell_type": "markdown",
   "metadata": {},
   "source": [
    "### 3. Google Map"
   ]
  },
  {
   "cell_type": "markdown",
   "metadata": {},
   "source": [
    "The Google Maps API, 𝑔𝑚𝑎𝑝𝑠, is a python plugin that allows users to embed Google Maps inside of their notebooks. It is a powerful API that makes it easy to visualize data and incorportate geocoding, directions, and map layering. Additionally, Google has an extensive API library for all of your mapping needs."
   ]
  },
  {
   "cell_type": "markdown",
   "metadata": {},
   "source": [
    "Check out this documentation for a how-to guide on building a Google Map: https://buildmedia.readthedocs.org/media/pdf/jupyter-gmaps/latest/jupyter-gmaps.pdf?source=post_page\n"
   ]
  },
  {
   "cell_type": "markdown",
   "metadata": {},
   "source": [
    "__Best for:__ <br>Free multipurpose mapping solution, that allows for refined routing and directions. Google Maps Engine works well for small data sets where you don’t mind inputting markers and polygons manually."
   ]
  },
  {
   "cell_type": "markdown",
   "metadata": {},
   "source": [
    "![Google Geolocation](https://raw.githubusercontent.com/CodeYourDreams/Develop_Curriculum/master/Mapping%20Applications%20with%20Flask/Images/google%20map.png?token=AKRDA5PTVGWHSHXYISTG6DK5JC2T2 \"segment\)"
   ]
  },
  {
   "cell_type": "markdown",
   "metadata": {},
   "source": [
    "There are plenty of other mapping options available, so feel free to explore to see what other services exist."
   ]
  },
  {
   "cell_type": "markdown",
   "metadata": {},
   "source": [
    "---"
   ]
  },
  {
   "cell_type": "markdown",
   "metadata": {},
   "source": [
    "## Leaflet Tutorial"
   ]
  },
  {
   "cell_type": "markdown",
   "metadata": {},
   "source": [
    "Now that we have learned about a few of the basemaps that exist, let's pratice creating a basemap with leaflet!"
   ]
  },
  {
   "cell_type": "markdown",
   "metadata": {},
   "source": [
    "https://leafletjs.com/examples/quick-start/"
   ]
  },
  {
   "cell_type": "markdown",
   "metadata": {},
   "source": [
    "---"
   ]
  },
  {
   "cell_type": "markdown",
   "metadata": {},
   "source": [
    "## Homework"
   ]
  },
  {
   "cell_type": "markdown",
   "metadata": {},
   "source": [
    "Considering the functionality of your app, identify which basemap you want to use for your app."
   ]
  },
  {
   "cell_type": "code",
   "execution_count": null,
   "metadata": {},
   "outputs": [],
   "source": []
  }
 ],
 "metadata": {
  "kernelspec": {
   "display_name": "Python 3",
   "language": "python",
   "name": "python3"
  },
  "language_info": {
   "codemirror_mode": {
    "name": "ipython",
    "version": 3
   },
   "file_extension": ".py",
   "mimetype": "text/x-python",
   "name": "python",
   "nbconvert_exporter": "python",
   "pygments_lexer": "ipython3",
   "version": "3.7.3"
  }
 },
 "nbformat": 4,
 "nbformat_minor": 2
}

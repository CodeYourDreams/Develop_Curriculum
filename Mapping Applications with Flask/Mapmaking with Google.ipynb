{
 "cells": [
  {
   "cell_type": "markdown",
   "metadata": {},
   "source": [
    "# Intro to Google Maps API"
   ]
  },
  {
   "cell_type": "markdown",
   "metadata": {},
   "source": [
    "----"
   ]
  },
  {
   "cell_type": "markdown",
   "metadata": {},
   "source": [
    "![Taking Google Maps too seriously](https://github.com/CodeYourDreams/Develop_Curriculum/blob/master/Mapping%20Applications%20with%20Flask/Images/Google-Map.jpg?raw=true)"
   ]
  },
  {
   "cell_type": "markdown",
   "metadata": {},
   "source": [
    "Now that we've learned about cartography and the various elements in mapmaking, it's time to put that knowledge to code!"
   ]
  },
  {
   "cell_type": "markdown",
   "metadata": {},
   "source": [
    "To make our maps, we will be using the Google Maps API $gmaps$. $gmaps$ is a python plugin that allows users to embed Google Maps inside of their notebooks. It is a powerful API that makes it easy to visualize data and incorportate geocoding, directions, and map layering."
   ]
  },
  {
   "cell_type": "markdown",
   "metadata": {},
   "source": [
    "For this lesson, we will focus on creating a basic interactive map that can be customizable with additional plugins."
   ]
  },
  {
   "cell_type": "markdown",
   "metadata": {},
   "source": [
    "---"
   ]
  },
  {
   "cell_type": "markdown",
   "metadata": {},
   "source": [
    "## Setup"
   ]
  },
  {
   "cell_type": "markdown",
   "metadata": {},
   "source": [
    "### Installation"
   ]
  },
  {
   "cell_type": "markdown",
   "metadata": {},
   "source": [
    "In order to start using $gmaps$, we must first install the library. To do so, run the following in your terminal:\n"
   ]
  },
  {
   "cell_type": "code",
   "execution_count": 44,
   "metadata": {},
   "outputs": [],
   "source": [
    "# $ conda install -c conda-forge gmaps\n"
   ]
  },
  {
   "cell_type": "markdown",
   "metadata": {},
   "source": [
    "Now your notebook should be set to handle displaying google maps:"
   ]
  },
  {
   "cell_type": "code",
   "execution_count": 47,
   "metadata": {},
   "outputs": [],
   "source": [
    "import gmaps"
   ]
  },
  {
   "cell_type": "markdown",
   "metadata": {},
   "source": [
    "For this lesson, we will be using a notebook that is not opened through Jupyter Lab.\n"
   ]
  },
  {
   "cell_type": "markdown",
   "metadata": {},
   "source": [
    "### API"
   ]
  },
  {
   "cell_type": "markdown",
   "metadata": {},
   "source": [
    "Next, we have to authenticate our map with Google:"
   ]
  },
  {
   "cell_type": "markdown",
   "metadata": {},
   "source": [
    "https://www.youtube.com/watch?v=9ImLCQBj9SE"
   ]
  },
  {
   "cell_type": "markdown",
   "metadata": {},
   "source": [
    "As highlighted in the video, getting a map API is a simple process. Head to the below site to get your API code from google:\n",
    "<br>https://cloud.google.com/maps-platform/?__utma=102347093.1413588589.1563772883.1563772893.1563772893.1&__utmb=102347093.0.10.1563772893&__utmc=102347093&__utmx=-&__utmz=102347093.1563772893.1.1.utmcsr=(direct)|utmccn=(direct)|utmcmd=(none)&__utmv=-&__utmk=154912056&_ga=2.262327308.1843256364.1563772883-1413588589.1563772883#get-started"
   ]
  },
  {
   "cell_type": "markdown",
   "metadata": {},
   "source": [
    "_Make sure  Maps JavaScript API is enabled in your API Library_"
   ]
  },
  {
   "cell_type": "code",
   "execution_count": 18,
   "metadata": {},
   "outputs": [],
   "source": [
    "import gmaps\n",
    "import os\n",
    "import gmaps.datasets\n",
    "gmaps.configure(api_key='api_key') #"
   ]
  },
  {
   "cell_type": "markdown",
   "metadata": {},
   "source": [
    "_Although this example, we are hardcoding our API key directly into our map, when you develop your app, you'll want to explore options to keep your API secure, like creating a config.py file._"
   ]
  },
  {
   "cell_type": "code",
   "execution_count": 19,
   "metadata": {
    "scrolled": true
   },
   "outputs": [
    {
     "data": {
      "application/vnd.jupyter.widget-view+json": {
       "model_id": "cceb2cf6cf04481992e5174f3f74521f",
       "version_major": 2,
       "version_minor": 0
      },
      "text/plain": [
       "Figure(layout=FigureLayout(height='420px'))"
      ]
     },
     "metadata": {},
     "output_type": "display_data"
    }
   ],
   "source": [
    "gmaps.figure()"
   ]
  },
  {
   "cell_type": "markdown",
   "metadata": {},
   "source": [
    "## Base Map"
   ]
  },
  {
   "cell_type": "markdown",
   "metadata": {},
   "source": [
    "$gmaps$, which is the name of the Google API, is grounded on the idea of building layers off of a base map. Here is the base map:"
   ]
  },
  {
   "cell_type": "code",
   "execution_count": 24,
   "metadata": {},
   "outputs": [
    {
     "data": {
      "application/vnd.jupyter.widget-view+json": {
       "model_id": "e9a01257ff8247f2b4d1a6350682f222",
       "version_major": 2,
       "version_minor": 0
      },
      "text/plain": [
       "Figure(layout=FigureLayout(height='420px'))"
      ]
     },
     "metadata": {},
     "output_type": "display_data"
    }
   ],
   "source": [
    "base = gmaps.figure()\n",
    "base"
   ]
  },
  {
   "cell_type": "markdown",
   "metadata": {},
   "source": [
    "$gmaps.figure()$ builds an empty map that has enlarging, zoom, street view, and satellite capabilities."
   ]
  },
  {
   "cell_type": "markdown",
   "metadata": {},
   "source": [
    "_Note: If you do not have a valid API Key, the map will not populate._"
   ]
  },
  {
   "cell_type": "markdown",
   "metadata": {},
   "source": [
    "In $gmaps.figure$ you can also edit the zoom level and map center:"
   ]
  },
  {
   "cell_type": "code",
   "execution_count": 40,
   "metadata": {},
   "outputs": [
    {
     "data": {
      "application/vnd.jupyter.widget-view+json": {
       "model_id": "79eb0c1c0f8c4180add64d22f16c49e7",
       "version_major": 2,
       "version_minor": 0
      },
      "text/plain": [
       "Figure(layout=FigureLayout(height='420px'))"
      ]
     },
     "metadata": {},
     "output_type": "display_data"
    }
   ],
   "source": [
    "gmaps.figure(center = (41.871, -87.6298), zoom_level = 15)"
   ]
  },
  {
   "cell_type": "markdown",
   "metadata": {},
   "source": [
    "## Layout"
   ]
  },
  {
   "cell_type": "markdown",
   "metadata": {},
   "source": [
    "$gmaps.figure$ also takes in a layout parameter. The layout argument allows us to adjust the width, height, border, and padding of the map:"
   ]
  },
  {
   "cell_type": "code",
   "execution_count": 30,
   "metadata": {},
   "outputs": [
    {
     "data": {
      "application/vnd.jupyter.widget-view+json": {
       "model_id": "ac6cc05af3f047a694c4add0f6361582",
       "version_major": 2,
       "version_minor": 0
      },
      "text/plain": [
       "Figure(layout=FigureLayout(border='5px solid black', height='400px', padding='1px', width='400px'))"
      ]
     },
     "metadata": {},
     "output_type": "display_data"
    }
   ],
   "source": [
    "figure_layout = {\n",
    "'width': '400px', # Figure width\n",
    "'height': '400px', # Figure height\n",
    "'border': '5px solid black', # Map border\n",
    "'padding': '1px' # Gap between the map and the border\n",
    "}\n",
    "\n",
    "gmaps.figure(center = (41.871, -87.6298), zoom_level = 12,\n",
    "                layout = figure_layout)"
   ]
  },
  {
   "cell_type": "markdown",
   "metadata": {},
   "source": [
    "The layout aspects align with CSS styling, so the $width$\n",
    "and $height$ should be a CSS dimension, $border$ should be a valid CSS border, and $padding$ should be a valid CSS padding."
   ]
  },
  {
   "cell_type": "markdown",
   "metadata": {},
   "source": [
    "As a reminder of what these aspects should look like, checkout the links below:\n",
    "- CSS Dimensions: https://developer.mozilla.org/en-US/docs/Web/CSS/width\n",
    "* CSS Border: https://developer.mozilla.org/en-US/docs/Web/CSS/border\n",
    "* CSS Padding: https://developer.mozilla.org/en-US/docs/Web/CSS/padding"
   ]
  },
  {
   "cell_type": "markdown",
   "metadata": {},
   "source": [
    "The layout feature will be most useful for when you are trying to position your map on your app."
   ]
  },
  {
   "cell_type": "markdown",
   "metadata": {},
   "source": [
    "### Exercise "
   ]
  },
  {
   "cell_type": "markdown",
   "metadata": {},
   "source": [
    "Generate a map that has a:\n",
    "1. Center at some location or place within your community\n",
    "2. Width of 500px and height of 400px\n",
    "3. Zoom level of 10"
   ]
  }
 ],
 "metadata": {
  "kernelspec": {
   "display_name": "Python 3",
   "language": "python",
   "name": "python3"
  },
  "language_info": {
   "codemirror_mode": {
    "name": "ipython",
    "version": 3
   },
   "file_extension": ".py",
   "mimetype": "text/x-python",
   "name": "python",
   "nbconvert_exporter": "python",
   "pygments_lexer": "ipython3",
   "version": "3.7.3"
  }
 },
 "nbformat": 4,
 "nbformat_minor": 2
}

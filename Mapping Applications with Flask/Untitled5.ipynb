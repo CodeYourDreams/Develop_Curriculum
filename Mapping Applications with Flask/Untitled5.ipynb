{
 "cells": [
  {
   "cell_type": "markdown",
   "metadata": {},
   "source": [
    "# Mini JavaScript Lesson"
   ]
  },
  {
   "cell_type": "markdown",
   "metadata": {},
   "source": [
    "---"
   ]
  },
  {
   "cell_type": "markdown",
   "metadata": {},
   "source": [
    "Before we began coding our, it maybe useful to get accumulated to JavaScript!"
   ]
  },
  {
   "cell_type": "markdown",
   "metadata": {},
   "source": [
    "JavaScript is another programming language that is commonly used web development."
   ]
  },
  {
   "cell_type": "markdown",
   "metadata": {},
   "source": [
    "![video](https://www.youtube.com/watch?v=Ukg_U3CnJWI \\\"video\\\")"
   ]
  },
  {
   "cell_type": "code",
   "execution_count": 16,
   "metadata": {},
   "outputs": [
    {
     "name": "stderr",
     "output_type": "stream",
     "text": [
      "C:\\Users\\Kiana\\Anaconda3\\lib\\site-packages\\IPython\\core\\display.py:689: UserWarning: Consider using IPython.display.IFrame instead\n",
      "  warnings.warn(\"Consider using IPython.display.IFrame instead\")\n"
     ]
    },
    {
     "data": {
      "text/html": [
       "<iframe width=\"560\" height=\"315\" src=\"https://www.youtube.com/embed/Ukg_U3CnJWI?start=5\" frameborder=\"0\" allow=\"accelerometer; autoplay; encrypted-media; gyroscope; picture-in-picture\" allowfullscreen></iframe>"
      ],
      "text/plain": [
       "<IPython.core.display.HTML object>"
      ]
     },
     "execution_count": 16,
     "metadata": {},
     "output_type": "execute_result"
    }
   ],
   "source": [
    "{\n",
    "    \"tags\": [\n",
    "        \"hide_input\",\n",
    "    ]\n",
    "}  \n",
    "from IPython.display import HTML\n",
    "# Youtube\n",
    "HTML('<iframe width=\"560\" height=\"315\" src=\"https://www.youtube.com/embed/Ukg_U3CnJWI?start=5\" frameborder=\"0\" allow=\"accelerometer; autoplay; encrypted-media; gyroscope; picture-in-picture\" allowfullscreen></iframe>')\n"
   ]
  },
  {
   "cell_type": "markdown",
   "metadata": {},
   "source": [
    "## Video Review"
   ]
  },
  {
   "cell_type": "markdown",
   "metadata": {},
   "source": [
    "- JavaScript is written inside of HTML files"
   ]
  },
  {
   "cell_type": "code",
   "execution_count": null,
   "metadata": {},
   "outputs": [],
   "source": []
  },
  {
   "cell_type": "markdown",
   "metadata": {},
   "source": [
    "<!DOCTYPE html>\n",
    "<html>\n",
    "  <head>\n",
    "      <meta charset='utf-8' />\n",
    "      <title>Sample Map</title>\n",
    "      <meta name='viewport' content='initial-scale=1,maximum-scale=1,user-scalable=no' />\n",
    "      <script src='https://api.tiles.mapbox.com/mapbox-gl-js/v1.1.1/mapbox-gl.js'></script>\n",
    "      <link href='https://api.tiles.mapbox.com/mapbox-gl-js/v1.1.1/mapbox-gl.css' rel='stylesheet' />\n",
    "      <style>\n",
    "          body { margin:0; padding:0; }\n",
    "          #map { position:absolute; top:0; bottom:0; width:100%; }\n",
    "      </style>\n",
    "  </head>\n",
    "<body>\n",
    "    <div id='map'>\n",
    "      <script>\n",
    "        mapboxgl.accessToken = 'YOUR_KEY_HERE';\n",
    "        var map = new mapboxgl.Map({\n",
    "            container: 'map',\n",
    "            style: 'mapbox://styles/kiana1317/cjynmrtem3n7g1cnprggyspgj',\n",
    "            center: [-87.661557, 41.893748],\n",
    "            zoom: 10\n",
    "        });\n",
    "\n",
    "        map.on('click', function(e) {\n",
    "          var features = map.queryRenderedFeatures(e.point, {\n",
    "            layers: ['chicago-parks'] \n",
    "          });\n",
    "\n",
    "          if (!features.length) {\n",
    "            return;\n",
    "          }\n",
    "\n",
    "          var feature = features[0];\n",
    "\n",
    "          var popup = new mapboxgl.Popup({ offset: [0, -15] })\n",
    "            .setLngLat(feature.geometry.coordinates)\n",
    "            .setHTML('<h3>' + feature.properties.title + '</h3><p>' + feature.properties.description + '</p>')\n",
    "            .addTo(map);\n",
    "        });\n",
    "      </script>\n",
    "    </div>\n",
    "  </body>\n",
    "</html>"
   ]
  },
  {
   "cell_type": "code",
   "execution_count": null,
   "metadata": {},
   "outputs": [],
   "source": []
  }
 ],
 "metadata": {
  "kernelspec": {
   "display_name": "Python 3",
   "language": "python",
   "name": "python3"
  },
  "language_info": {
   "codemirror_mode": {
    "name": "ipython",
    "version": 3
   },
   "file_extension": ".py",
   "mimetype": "text/x-python",
   "name": "python",
   "nbconvert_exporter": "python",
   "pygments_lexer": "ipython3",
   "version": "3.7.3"
  }
 },
 "nbformat": 4,
 "nbformat_minor": 2
}

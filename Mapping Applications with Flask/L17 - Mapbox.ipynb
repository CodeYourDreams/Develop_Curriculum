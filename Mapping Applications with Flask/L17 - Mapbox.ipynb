{
 "cells": [
  {
   "cell_type": "markdown",
   "metadata": {},
   "source": [
    "# Lesson 17: Sample Map"
   ]
  },
  {
   "cell_type": "markdown",
   "metadata": {},
   "source": [
    "----"
   ]
  },
  {
   "cell_type": "markdown",
   "metadata": {},
   "source": [
    "![Taking Google Maps too seriously](https://github.com/CodeYourDreams/Develop_Curriculum/blob/master/Mapping%20Applications%20with%20Flask/Images/Google-Map.jpg?raw=true)"
   ]
  },
  {
   "cell_type": "markdown",
   "metadata": {},
   "source": [
    "Now that we've learned about cartography and the various elements in mapmaking, it's time to put that knowledge to code!"
   ]
  },
  {
   "cell_type": "markdown",
   "metadata": {},
   "source": [
    "---"
   ]
  },
  {
   "cell_type": "markdown",
   "metadata": {},
   "source": [
    "## Mapbox"
   ]
  },
  {
   "cell_type": "markdown",
   "metadata": {},
   "source": [
    "Mapbox is a widely used mapping tool. Mapbox is built on top of the Leaflet library, which is an open-source JavaScript library for creating mobile-friendly, interactive maps. Similar to Leaflet, it is an open source library and is compatible with all modern browsers. <br><br>Customization is Mapbox's core strength and it comes with a map editor named TileMill. The large array of function extension, like adding a search bar and marker customization available, makes Mapbox maps easily customizable and user-friendly.\n",
    "<br><br> "
   ]
  },
  {
   "cell_type": "markdown",
   "metadata": {},
   "source": [
    "![Mapbox.js Sample](https://github.com/CodeYourDreams/Develop_Curriculum/blob/master/Mapping%20Applications%20with%20Flask/Images/Mapbox.png?raw=true)"
   ]
  },
  {
   "cell_type": "markdown",
   "metadata": {},
   "source": [
    "![Mapbox customization](https://github.com/CodeYourDreams/Develop_Curriculum/blob/master/Mapping%20Applications%20with%20Flask/Images/TileMill.jpg?raw=true)"
   ]
  },
  {
   "cell_type": "markdown",
   "metadata": {},
   "source": [
    "---"
   ]
  },
  {
   "cell_type": "markdown",
   "metadata": {},
   "source": [
    "## Mapbox Tutorial"
   ]
  },
  {
   "cell_type": "markdown",
   "metadata": {},
   "source": [
    "Now, let's pratice creating a basic with Mapbox! <br>"
   ]
  },
  {
   "cell_type": "markdown",
   "metadata": {},
   "source": [
    "__Before starting the tutorial, setup a basic web app (one python file and a html script).__"
   ]
  },
  {
   "cell_type": "markdown",
   "metadata": {},
   "source": [
    "[Mapbox Tutorial](https://blog.mapbox.com/quickstart-guide-to-mapbox-javascript-api-4b376c68dd46)"
   ]
  },
  {
   "cell_type": "markdown",
   "metadata": {},
   "source": [
    "<br><br> ![Completed first map](https://media2.giphy.com/media/d31w24psGYeekCZy/giphy.gif)"
   ]
  },
  {
   "cell_type": "markdown",
   "metadata": {},
   "source": [
    "Congratulations on creating you first map! While this map is pretty amazing, in the next lesson we will learn how to create a map that features your own data and customizations."
   ]
  },
  {
   "cell_type": "markdown",
   "metadata": {},
   "source": [
    "---"
   ]
  },
  {
   "cell_type": "markdown",
   "metadata": {},
   "source": [
    "## Homework"
   ]
  },
  {
   "cell_type": "markdown",
   "metadata": {},
   "source": [
    "In order to pratice searching through the Mapbox documentation for function extensions, find the code that adds map navigation controls and include it in your map.<br>\n",
    "[Extensions](https://docs.mapbox.com/mapbox-gl-js/examples/) <br><br>\n",
    "_Hint: You should only have to add one line to your script_\n"
   ]
  }
 ],
 "metadata": {
  "kernelspec": {
   "display_name": "Python 3",
   "language": "python",
   "name": "python3"
  },
  "language_info": {
   "codemirror_mode": {
    "name": "ipython",
    "version": 3
   },
   "file_extension": ".py",
   "mimetype": "text/x-python",
   "name": "python",
   "nbconvert_exporter": "python",
   "pygments_lexer": "ipython3",
   "version": "3.7.3"
  }
 },
 "nbformat": 4,
 "nbformat_minor": 2
}

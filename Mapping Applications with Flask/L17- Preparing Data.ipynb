{
 "cells": [
  {
   "cell_type": "markdown",
   "metadata": {},
   "source": [
    "# Lesson 17 - Preparing Data"
   ]
  },
  {
   "cell_type": "markdown",
   "metadata": {},
   "source": [
    "---"
   ]
  },
  {
   "cell_type": "markdown",
   "metadata": {},
   "source": [
    "![Data Prep](https://github.com/CodeYourDreams/Develop_Curriculum/blob/master/Mapping%20Applications%20with%20Flask/Images/file.png?raw=true \"segment\")"
   ]
  },
  {
   "cell_type": "markdown",
   "metadata": {},
   "source": [
    "In the last lecture, we reviewed some of the common mapping tools and everyone was tasked with determining which mapping tool was best for their application."
   ]
  },
  {
   "cell_type": "markdown",
   "metadata": {},
   "source": [
    "__But what's a completed map, without data???__"
   ]
  },
  {
   "cell_type": "markdown",
   "metadata": {},
   "source": [
    "When using any of the mapping softwares mentioned, you'll be dealing with geometric data, specifically data with shape geometry, and latitude and longitude values."
   ]
  },
  {
   "cell_type": "markdown",
   "metadata": {},
   "source": [
    "However, not all data comes with geometeric values. "
   ]
  },
  {
   "cell_type": "markdown",
   "metadata": {},
   "source": [
    "---"
   ]
  },
  {
   "cell_type": "markdown",
   "metadata": {},
   "source": [
    "## CSV <br>![CSV](https://www.fundrecs.com/img/CSV.png)"
   ]
  },
  {
   "cell_type": "markdown",
   "metadata": {},
   "source": [
    "A CSV, or a comma-seperated values, file is a plain file type that is used to store tabular data such as a database or spreadsheet. CSV files are very common; they can be created and exported from services like Microsoft Excel and Google Sheets.\n"
   ]
  },
  {
   "cell_type": "markdown",
   "metadata": {},
   "source": [
    "Let's take a look at one CSV file from the City of Chicago Database Library. <br><br>__Use pandas to open this dataset:__ <br>https://data.cityofchicago.org/api/views/j8a4-a59k/rows.json?accessType=DOWNLOAD"
   ]
  },
  {
   "cell_type": "code",
   "execution_count": 1,
   "metadata": {},
   "outputs": [],
   "source": [
    "#conda install pandas"
   ]
  },
  {
   "cell_type": "code",
   "execution_count": 2,
   "metadata": {},
   "outputs": [
    {
     "name": "stdout",
     "output_type": "stream",
     "text": [
      "   Inspection ID                        DBA Name                   AKA Name  \\\n",
      "0        2300607  77 W WACKER DR HOSPITALITY LLC                    CLUB 77   \n",
      "1        2300609                  TOTTO'S MARKET             TOTTO'S MARKET   \n",
      "2        2300603                LA FIESTA BAKERY  LA FIESTA BAKERY/TAQUERIA   \n",
      "3        2300586                 THE BEER TEMPLE            THE BEER TEMPLE   \n",
      "4        2300589                 THE BEER TEMPLE            THE BEER TEMPLE   \n",
      "\n",
      "   License #  Facility Type           Risk                  Address     City  \\\n",
      "0  2658215.0     Restaurant   Risk 3 (Low)          77 W WACKER DR   CHICAGO   \n",
      "1  2637113.0  Grocery Store   Risk 3 (Low)       751 S DEARBORN ST   CHICAGO   \n",
      "2  1488177.0     Restaurant  Risk 1 (High)       6424 S PULASKI RD   CHICAGO   \n",
      "3  2670921.0   TAVERN/STORE   Risk 3 (Low)  3169-3175 N ELSTON AVE   CHICAGO   \n",
      "4  2670919.0   TAVERN/STORE   Risk 3 (Low)  3169-3175 N ELSTON AVE   CHICAGO   \n",
      "\n",
      "  State      Zip Inspection Date Inspection Type             Results  \\\n",
      "0    IL  60601.0      07/02/2019         License                Pass   \n",
      "1    IL  60605.0      07/02/2019         License  Pass w/ Conditions   \n",
      "2    IL  60629.0      07/02/2019         Canvass                Fail   \n",
      "3    IL  60618.0      07/02/2019         License                Pass   \n",
      "4    IL  60618.0      07/02/2019         License                Pass   \n",
      "\n",
      "    Latitude  Longitude  \n",
      "0  41.886708 -87.630795  \n",
      "1  41.872340 -87.628985  \n",
      "2  41.776073 -87.722841  \n",
      "3  41.938773 -87.697206  \n",
      "4  41.938773 -87.697206  \n"
     ]
    }
   ],
   "source": [
    "import pandas\n",
    "data = pandas.read_csv('Chicago_Restaurants_Data.csv')\n",
    "print(data.head()) # the .head() command is used to display only the first 5 rows of data"
   ]
  },
  {
   "cell_type": "markdown",
   "metadata": {},
   "source": [
    "This dataset is derived from food inspections from various restaurants and food distributors in Chicago."
   ]
  },
  {
   "cell_type": "markdown",
   "metadata": {},
   "source": [
    "The key piece of information needed for any data dealing with mapping is a longitude and latitude column. As you can see in the last two columns, we have the longitude and latitude of each restaurant in the dataset. "
   ]
  },
  {
   "cell_type": "markdown",
   "metadata": {},
   "source": [
    "---"
   ]
  },
  {
   "cell_type": "markdown",
   "metadata": {},
   "source": [
    "## JSON <br>![JSON](https://encrypted-tbn0.gstatic.com/images?q=tbn:ANd9GcRTSdZjBgpqTiu5p0In6sbJDl_bvjX5BwDCSvhiEKJ3nmgwc_-k)"
   ]
  },
  {
   "cell_type": "markdown",
   "metadata": {},
   "source": [
    "In order to make these values usable in out maps, we must convert our CSV file into a JSON file. JSON, or JavaScript Object Notation, is a way to store files in an easily readable way. JSON data is generally stored as several dictionaries in an arrray."
   ]
  },
  {
   "cell_type": "markdown",
   "metadata": {},
   "source": [
    "For instance, this is an example of JSON Data:"
   ]
  },
  {
   "cell_type": "code",
   "execution_count": 12,
   "metadata": {},
   "outputs": [],
   "source": [
    "chicago = [{\n",
    "    \"name\" : \"Loop\",\n",
    "    \"direction\" : \"Central\"\n",
    "},\n",
    "{\n",
    "    \"name\" : \"Austin\",\n",
    "    \"direction\" : \"West\"\n",
    "},\n",
    "{\n",
    "    \"name\" : \"Lincoln Park\",\n",
    "    \"direction\" : \"North\"\n",
    "}]"
   ]
  },
  {
   "cell_type": "markdown",
   "metadata": {},
   "source": [
    "Let's take a look at this video that breaks down how to convert a CSV file to a JSON file:<br><br>https://www.youtube.com/watch?v=La6ZO8vu-1w (stop at 5:40)"
   ]
  },
  {
   "cell_type": "markdown",
   "metadata": {},
   "source": [
    "### Breaking down the steps"
   ]
  },
  {
   "cell_type": "markdown",
   "metadata": {},
   "source": [
    "![Instructions](https://i.gifer.com/ZCLZ.gif)"
   ]
  },
  {
   "cell_type": "markdown",
   "metadata": {},
   "source": [
    "1. Import csv and json packages\n",
    "        import csv \n",
    "        import json \n",
    "<br>\n",
    "2. Create a file path for your CSV file \n",
    "       csvFilePath = \"file.csv\"\n",
    "<br>       \n",
    "3. Create a file path for your new JSON file \n",
    "       jsonFilePath = \"newfile.json\"\n",
    "<br>       \n",
    "4. Create an empty dictionary to store your JSON Data \n",
    "       data = {}\n",
    "<br>\n",
    "5. Open and read the CSV file: \n",
    "        with open(csvFilePath) as csvFile:\n",
    "                csvReader = csv.DictReader(csvFile)\n",
    "                for csvRow in csvReader:\n",
    "                        id = csvRow['id']  <- look at this line for exercise 1\n",
    "                        data[id] = csvRow\n",
    "            \n",
    "       \n",
    "\n"
   ]
  },
  {
   "cell_type": "markdown",
   "metadata": {},
   "source": [
    "6. Using the file path from step 3, create a JSON file to write the converted data on:\n",
    "        with open(jsonFilePath, 'w') as jsonFile:\n",
    "        jsonFile.write(json.dumps(data, indent = 4))"
   ]
  },
  {
   "cell_type": "markdown",
   "metadata": {},
   "source": [
    "----"
   ]
  },
  {
   "cell_type": "markdown",
   "metadata": {},
   "source": [
    "### Exercise 1"
   ]
  },
  {
   "cell_type": "markdown",
   "metadata": {},
   "source": [
    "Using what you have learned from the video, determine what variable name should be referenced to gain access to each row in the Chicago_Restaurants_Data.csv file. <br><br> _Hint: Open the file in a text editor to see what column name appears first_ "
   ]
  },
  {
   "cell_type": "code",
   "execution_count": 61,
   "metadata": {},
   "outputs": [],
   "source": [
    "# id = csvRow['Your answer here']"
   ]
  },
  {
   "cell_type": "markdown",
   "metadata": {},
   "source": [
    "---"
   ]
  },
  {
   "cell_type": "markdown",
   "metadata": {},
   "source": [
    "### Exercise 2"
   ]
  },
  {
   "cell_type": "markdown",
   "metadata": {},
   "source": [
    "Building off the id you found in exercise 1, convert the Chicago Restaurants CSV file to a JSON file name Chicago_Restaurants.json."
   ]
  },
  {
   "cell_type": "code",
   "execution_count": null,
   "metadata": {},
   "outputs": [],
   "source": []
  },
  {
   "cell_type": "markdown",
   "metadata": {},
   "source": [
    "If you ran the commands correctly, a Chicago_Restaurants.json file should be created within your current directory."
   ]
  },
  {
   "cell_type": "markdown",
   "metadata": {},
   "source": [
    "----"
   ]
  },
  {
   "cell_type": "markdown",
   "metadata": {},
   "source": [
    "## GeoJson"
   ]
  },
  {
   "cell_type": "markdown",
   "metadata": {},
   "source": [
    "Another file type that you will likely encounter while creating maps is GeoJson. GeoJson is a format that encodes for a variety of geographical structures. "
   ]
  },
  {
   "cell_type": "markdown",
   "metadata": {},
   "source": [
    "For instance:\n",
    "- Point ⚫\n",
    "- LineString _〰_\n",
    "- Polygon 🔶\n",
    "- MultiPoint\n",
    "- MultiLineString\n",
    "- MultiPolygon"
   ]
  },
  {
   "cell_type": "markdown",
   "metadata": {},
   "source": [
    "A GeoJSON file still ends with a .json tag, yet, the structure of the dataset inside the file sets a GeoJSON apart from a regular JSON file:"
   ]
  },
  {
   "cell_type": "code",
   "execution_count": 14,
   "metadata": {},
   "outputs": [
    {
     "data": {
      "text/plain": [
       "{'type': 'Feature',\n",
       " 'geometry': {'type': 'Point', 'coordinates': [41.8781, -87.6298]},\n",
       " 'properties': {'name': 'Chicago'}}"
      ]
     },
     "execution_count": 14,
     "metadata": {},
     "output_type": "execute_result"
    }
   ],
   "source": [
    "{\n",
    "  \"type\": \"Feature\",\n",
    "  \"geometry\": {\n",
    "    \"type\": \"Point\", # the geometry type\n",
    "    \"coordinates\": [41.8781, -87.6298] # [longitude, latitude]\n",
    "  },\n",
    "  \"properties\": {\n",
    "    \"name\": \"Chicago\" # other aspects of the data\n",
    "  }\n",
    "}"
   ]
  },
  {
   "cell_type": "markdown",
   "metadata": {},
   "source": [
    "Now let's convert a CSV file to a GeoJSON file:"
   ]
  },
  {
   "cell_type": "markdown",
   "metadata": {},
   "source": [
    "1. For this conversion, we not only need the libraries we inputted earlier, but we also need somes features from the geojson library:"
   ]
  },
  {
   "cell_type": "code",
   "execution_count": 22,
   "metadata": {},
   "outputs": [],
   "source": [
    "import csv, json\n",
    "from geojson import Feature, FeatureCollection, Point"
   ]
  },
  {
   "cell_type": "markdown",
   "metadata": {},
   "source": [
    "2. Next, create an empty list to hold the new GeoJSON data"
   ]
  },
  {
   "cell_type": "code",
   "execution_count": 23,
   "metadata": {},
   "outputs": [],
   "source": [
    "features = []"
   ]
  },
  {
   "cell_type": "markdown",
   "metadata": {},
   "source": [
    "3. Open the csv file and read in each row"
   ]
  },
  {
   "cell_type": "code",
   "execution_count": 38,
   "metadata": {},
   "outputs": [
    {
     "name": "stdout",
     "output_type": "stream",
     "text": [
      "This is what \"row\" gives back \n",
      "['Inspection ID', 'DBA Name', 'AKA Name', 'License #', 'Facility Type', 'Risk', 'Address', 'City', 'State', 'Zip', 'Inspection Date', 'Inspection Type', 'Results', 'Latitude', 'Longitude']\n"
     ]
    }
   ],
   "source": [
    "with open('Chicago_Restaurants_Data.csv', newline='') as csvfile:\n",
    "    reader = csv.reader(csvfile, delimiter=',')\n",
    "    for  row in reader:\n",
    "        print('This is what \"row\" gives back ') # This part is not included in the final function, only used to show what row gives back\n",
    "        print(row) # This part is not included in the final function, only used to show what row gives back\n",
    "        break"
   ]
  },
  {
   "cell_type": "markdown",
   "metadata": {},
   "source": [
    "4. Index the latitude and longitude values from each row, in addition to any other values you want in the properties section. Include them in the following outline:"
   ]
  },
  {
   "cell_type": "code",
   "execution_count": 42,
   "metadata": {},
   "outputs": [
    {
     "ename": "NameError",
     "evalue": "name 'latitude' is not defined",
     "output_type": "error",
     "traceback": [
      "\u001b[1;31m---------------------------------------------------------------------------\u001b[0m",
      "\u001b[1;31mNameError\u001b[0m                                 Traceback (most recent call last)",
      "\u001b[1;32m<ipython-input-42-ecde0210471d>\u001b[0m in \u001b[0;36m<module>\u001b[1;34m\u001b[0m\n\u001b[0;32m      2\u001b[0m     \u001b[0mreader\u001b[0m \u001b[1;33m=\u001b[0m \u001b[0mcsv\u001b[0m\u001b[1;33m.\u001b[0m\u001b[0mreader\u001b[0m\u001b[1;33m(\u001b[0m\u001b[0mcsvfile\u001b[0m\u001b[1;33m,\u001b[0m \u001b[0mdelimiter\u001b[0m\u001b[1;33m=\u001b[0m\u001b[1;34m','\u001b[0m\u001b[1;33m)\u001b[0m\u001b[1;33m\u001b[0m\u001b[1;33m\u001b[0m\u001b[0m\n\u001b[0;32m      3\u001b[0m     \u001b[1;32mfor\u001b[0m  \u001b[0mrow\u001b[0m \u001b[1;32min\u001b[0m \u001b[0mreader\u001b[0m\u001b[1;33m:\u001b[0m\u001b[1;33m\u001b[0m\u001b[1;33m\u001b[0m\u001b[0m\n\u001b[1;32m----> 4\u001b[1;33m         \u001b[0mlatitude\u001b[0m\u001b[1;33m,\u001b[0m \u001b[0mlongitude\u001b[0m \u001b[1;33m=\u001b[0m \u001b[0mmap\u001b[0m\u001b[1;33m(\u001b[0m\u001b[0mfloat\u001b[0m\u001b[1;33m,\u001b[0m \u001b[1;33m(\u001b[0m\u001b[0mlatitude\u001b[0m\u001b[1;33m,\u001b[0m \u001b[0mlongitude\u001b[0m\u001b[1;33m)\u001b[0m\u001b[1;33m)\u001b[0m \u001b[1;31m# latitude should equal row[-2]\u001b[0m\u001b[1;33m\u001b[0m\u001b[1;33m\u001b[0m\u001b[0m\n\u001b[0m\u001b[0;32m      5\u001b[0m         features.append(\n\u001b[0;32m      6\u001b[0m             Feature(\n",
      "\u001b[1;31mNameError\u001b[0m: name 'latitude' is not defined"
     ]
    }
   ],
   "source": [
    "with open('Chicago_Restaurants_Data.csv', newline='') as csvfile:\n",
    "    reader = csv.reader(csvfile, delimiter=',')\n",
    "    for  row in reader:\n",
    "        latitude, longitude = map(float, (latitude, longitude)) # latitude should equal row[-2] -> latitude, longitude = map(float, (row[-2], longitude))\n",
    "        features.append(\n",
    "            Feature(\n",
    "                geometry = Point((longitude, latitude)),                 \n",
    "                properties = {\n",
    "                    'name': name, # name should equal row[1] -> 'name' : row[1]\n",
    "                    'risk': risk,\n",
    "                  'results' : results\n",
    "                 }\n",
    "             )\n",
    "       )\n"
   ]
  },
  {
   "cell_type": "markdown",
   "metadata": {},
   "source": [
    "---"
   ]
  },
  {
   "cell_type": "markdown",
   "metadata": {},
   "source": [
    "![Error](https://www.publicdomainpictures.net/pictures/250000/nahled/erorr.jpg)"
   ]
  },
  {
   "cell_type": "markdown",
   "metadata": {},
   "source": [
    "-----"
   ]
  },
  {
   "cell_type": "markdown",
   "metadata": {},
   "source": [
    "### Exercise 3"
   ]
  },
  {
   "cell_type": "markdown",
   "metadata": {},
   "source": [
    "Edit the above code with the appropriate index values in the variable row. Use the comments in the code to get you started. <br> The code should run error free if it's written correctly."
   ]
  },
  {
   "cell_type": "markdown",
   "metadata": {},
   "source": [
    "---"
   ]
  },
  {
   "cell_type": "markdown",
   "metadata": {},
   "source": [
    "5. Lastly, create a JSON file and write the data to it:"
   ]
  },
  {
   "cell_type": "code",
   "execution_count": 49,
   "metadata": {},
   "outputs": [],
   "source": [
    "collection = FeatureCollection(features)\n",
    "with open(\"GeoObs.json\", \"w\") as f:\n",
    "    f.write('%s' % collection)"
   ]
  },
  {
   "cell_type": "markdown",
   "metadata": {},
   "source": [
    "<br>"
   ]
  },
  {
   "cell_type": "markdown",
   "metadata": {},
   "source": [
    "#### Now no matter what mapping tool you're using, you can convert your data to the necessary file format to map your data!"
   ]
  },
  {
   "cell_type": "markdown",
   "metadata": {},
   "source": [
    "---"
   ]
  },
  {
   "cell_type": "markdown",
   "metadata": {},
   "source": [
    "## Homework"
   ]
  },
  {
   "cell_type": "markdown",
   "metadata": {},
   "source": [
    "Write out the steps to prepare the data for your app "
   ]
  },
  {
   "cell_type": "code",
   "execution_count": null,
   "metadata": {},
   "outputs": [],
   "source": []
  }
 ],
 "metadata": {
  "kernelspec": {
   "display_name": "Python 3",
   "language": "python",
   "name": "python3"
  },
  "language_info": {
   "codemirror_mode": {
    "name": "ipython",
    "version": 3
   },
   "file_extension": ".py",
   "mimetype": "text/x-python",
   "name": "python",
   "nbconvert_exporter": "python",
   "pygments_lexer": "ipython3",
   "version": "3.7.3"
  }
 },
 "nbformat": 4,
 "nbformat_minor": 2
}

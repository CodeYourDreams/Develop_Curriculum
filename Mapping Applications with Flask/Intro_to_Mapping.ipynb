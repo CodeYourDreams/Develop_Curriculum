{
 "cells": [
  {
   "cell_type": "markdown",
   "metadata": {},
   "source": [
    "# Lesson 15: Intro to Mapping"
   ]
  },
  {
   "cell_type": "markdown",
   "metadata": {},
   "source": [
    "![SegmentLocal](https://raw.githubusercontent.com/CodeYourDreams/Develop_Curriculum/master/Mapping%20Applications%20with%20Flask/Images/Google-Map.jpg?token=AKRDA5N5SLXNTO2MA234FIS5I6MIA")"
   ]
  },
  {
   "cell_type": "markdown",
   "metadata": {},
   "source": [
    "## What is Mapmaking (or Cartography)?"
   ]
  },
  {
   "cell_type": "markdown",
   "metadata": {},
   "source": [
    "![Chicago Map](https://raw.githubusercontent.com/CodeYourDreams/Develop_Curriculum/master/Mapping%20Applications%20with%20Flask/mapexamples/Screen%20Shot%202019-06-16%20at%205.41.57%20PM.png?token=AKRDA5J6BEKVUDGNGS2DI625JB43K \"segment\")"
   ]
  },
  {
   "cell_type": "markdown",
   "metadata": {},
   "source": [
    "As the name suggests, mapmaking is the making of maps and charts."
   ]
  },
  {
   "cell_type": "markdown",
   "metadata": {},
   "source": [
    "* __Do you use maps? Why?__ \n",
    "* __Do you make maps? Why?__\n",
    "* __Is mapmaking simple or complex? Why?__"
   ]
  },
  {
   "cell_type": "markdown",
   "metadata": {},
   "source": [
    "----"
   ]
  },
  {
   "cell_type": "markdown",
   "metadata": {},
   "source": [
    "### Quick Draw"
   ]
  },
  {
   "cell_type": "markdown",
   "metadata": {},
   "source": [
    "Take 2 minutes to draw a map of Chicago. <br> _Remember everyone is an artist_ :) "
   ]
  },
  {
   "cell_type": "markdown",
   "metadata": {},
   "source": [
    "Share your map with your neighbor. Think about:\n",
    "- What is the same?\n",
    "- What is different?\n",
    "- Which one is correct?"
   ]
  },
  {
   "cell_type": "markdown",
   "metadata": {},
   "source": [
    "----"
   ]
  },
  {
   "cell_type": "markdown",
   "metadata": {},
   "source": [
    "There are four decisions involved in mapmaking:\n",
    "1. __Set the map's agenda__ <br> Select traits of the object to be mapped<br>\n",
    "2. __Generalization__ <br> Reduce complexity, noise <br>\n",
    "3. __Represent Terrain__ <br> Map Projections <br>\n",
    "4. __Design__ <br> Convey the message to the audience"
   ]
  },
  {
   "cell_type": "markdown",
   "metadata": {},
   "source": [
    "Addressing the above aspects ensures that your information and/or message is conveyed effectively."
   ]
  },
  {
   "cell_type": "markdown",
   "metadata": {},
   "source": [
    "## Map Components"
   ]
  },
  {
   "cell_type": "markdown",
   "metadata": {},
   "source": [
    "We can summarize the components of a map by using the 'TOSSLAD' acronym:"
   ]
  },
  {
   "cell_type": "markdown",
   "metadata": {},
   "source": [
    "![Tosslad](https://github.com/CodeYourDreams/Develop_Curriculum/blob/master/Mapping%20Applications%20with%20Flask/Images/Tosslad.png?raw=true)"
   ]
  },
  {
   "cell_type": "markdown",
   "metadata": {},
   "source": [
    "Let's look at some samples! <br>"
   ]
  },
  {
   "cell_type": "markdown",
   "metadata": {},
   "source": [
    "As we look over the samples, think about:<br>\n",
    "1. What is the map's agenda?\n",
    "2. Do you see the TOSSLAD components?\n",
    "3. What other components do you see?"
   ]
  },
  {
   "cell_type": "markdown",
   "metadata": {},
   "source": [
    "Also, consider design:\n",
    "1. Which maps catch your eye? Why? <br>\n",
    "2. Does the map achieve its agenda?"
   ]
  },
  {
   "cell_type": "markdown",
   "metadata": {},
   "source": [
    "#### Map 1"
   ]
  },
  {
   "cell_type": "markdown",
   "metadata": {},
   "source": [
    "![Average Air Pollution Map](https://github.com/CodeYourDreams/Develop_Curriculum/blob/master/Mapping%20Applications%20with%20Flask/mapexamples/DPlZ70HXUAIS8ru.jpg?raw=true)"
   ]
  },
  {
   "cell_type": "markdown",
   "metadata": {},
   "source": [
    "#### Map 2"
   ]
  },
  {
   "cell_type": "markdown",
   "metadata": {},
   "source": [
    "![Globe](https://github.com/CodeYourDreams/Develop_Curriculum/blob/master/Mapping%20Applications%20with%20Flask/mapexamples/DpLC9WHW0AIm9tI.jpg?raw=true)"
   ]
  },
  {
   "cell_type": "markdown",
   "metadata": {},
   "source": [
    " #### Map 3"
   ]
  },
  {
   "cell_type": "markdown",
   "metadata": {},
   "source": [
    "![Most Common Job Held By Immigrants](https://github.com/CodeYourDreams/Develop_Curriculum/blob/master/Mapping%20Applications%20with%20Flask/mapexamples/The-most-common-jobs-held-by-immigrants-940x705.jpg?raw=true)"
   ]
  },
  {
   "cell_type": "markdown",
   "metadata": {},
   "source": [
    "#### Map 4"
   ]
  },
  {
   "cell_type": "markdown",
   "metadata": {},
   "source": [
    "![Animals](https://github.com/CodeYourDreams/Develop_Curriculum/blob/master/Mapping%20Applications%20with%20Flask/mapexamples/animals2007_big.png?raw=true)"
   ]
  },
  {
   "cell_type": "markdown",
   "metadata": {},
   "source": [
    "#### Map 5"
   ]
  },
  {
   "cell_type": "markdown",
   "metadata": {},
   "source": [
    "![Chicago Mayor Race Voting](https://github.com/CodeYourDreams/Develop_Curriculum/blob/master/Mapping%20Applications%20with%20Flask/mapexamples/Chicago_mayor_race.png?raw=true)"
   ]
  },
  {
   "cell_type": "markdown",
   "metadata": {},
   "source": [
    "#### Bonus Map"
   ]
  },
  {
   "cell_type": "markdown",
   "metadata": {},
   "source": [
    "![You guys vs. Yall](https://github.com/CodeYourDreams/Develop_Curriculum/blob/master/Mapping%20Applications%20with%20Flask/mapexamples/these_interesting_maps_tell_us_a_lot_about_the_united_states_640_14.jpg?raw=true)"
   ]
  },
  {
   "cell_type": "markdown",
   "metadata": {},
   "source": [
    "## Maps in Applications"
   ]
  },
  {
   "cell_type": "markdown",
   "metadata": {},
   "source": [
    "One commonality between all of the maps we have seen so far is that they are all static. The maps are not interactive: we cannot click on features in it or toggle our view of it."
   ]
  },
  {
   "cell_type": "markdown",
   "metadata": {},
   "source": [
    "With this in mind, what possibilities does an interactive map open up?"
   ]
  },
  {
   "cell_type": "markdown",
   "metadata": {},
   "source": [
    "* Layer Control\n",
    "* Pan\n",
    "* Zoom\n",
    "* Animation\n",
    "* Sliders\n",
    "* Dropdown Menus\n",
    "* Annotations\n",
    "* Links\n",
    "* And more!\n"
   ]
  },
  {
   "cell_type": "markdown",
   "metadata": {},
   "source": [
    "One common map you've likely encountered is Goolge Maps: "
   ]
  },
  {
   "cell_type": "markdown",
   "metadata": {},
   "source": [
    "![Google Maps](https://github.com/CodeYourDreams/Develop_Curriculum/blob/master/Mapping%20Applications%20with%20Flask/mapexamples/Screen%20Shot%202019-06-16%20at%207.37.34%20PM.png?raw=true)"
   ]
  },
  {
   "cell_type": "markdown",
   "metadata": {},
   "source": [
    "Here's an example of another interactive map created by individuals at the University of Richmond that depicts the prominence of redlining in America:"
   ]
  },
  {
   "cell_type": "markdown",
   "metadata": {},
   "source": [
    "https://dsl.richmond.edu/panorama/redlining/#loc=5/-77.994/-538.000&opacity=0.8&adview=full&text=about"
   ]
  },
  {
   "cell_type": "markdown",
   "metadata": {},
   "source": [
    "## Spatial Data"
   ]
  },
  {
   "cell_type": "markdown",
   "metadata": {},
   "source": [
    "Spatial data are data that describes various instances through time and space. Simply put, spatial data are data with location information included."
   ]
  },
  {
   "cell_type": "markdown",
   "metadata": {},
   "source": [
    "Spatial data are gathered through satellites (GPS), cell towers, and devices with known locations."
   ]
  },
  {
   "cell_type": "markdown",
   "metadata": {},
   "source": [
    "Spatial data can be represented by numerical values in a geographic coordinate system (example: 41.878765, -87.635905). In the geographic coordinate system, the first value represents the longitude and the second value represents the latitude."
   ]
  },
  {
   "cell_type": "markdown",
   "metadata": {},
   "source": [
    "![Longitude/Latitude](https://github.com/CodeYourDreams/Develop_Curriculum/blob/master/Mapping%20Applications%20with%20Flask/Images/latitude-vs-longitude2.jpg?raw=true)"
   ]
  },
  {
   "cell_type": "markdown",
   "metadata": {},
   "source": [
    "![Long/Lat Table](https://github.com/CodeYourDreams/Develop_Curriculum/blob/master/Mapping%20Applications%20with%20Flask/Images/Long_Lat_Table.png?raw=true)"
   ]
  },
  {
   "cell_type": "markdown",
   "metadata": {},
   "source": [
    "### Homework"
   ]
  },
  {
   "cell_type": "markdown",
   "metadata": {},
   "source": [
    "Look at your app design plan.\n",
    "<br>\n",
    "1. Define your map's agenda. Does it accomplish this?\n",
    "2. Identify the components of your map. For interactive components, what does each component do? Will the user understand?\n",
    "3. Is anything missing? Can you improve your map design?\n",
    "4. Write out the data sources you need, and where you will find them. (Be specific! You may have to change your plan if the data is not available unless you can collect it yourself)"
   ]
  }
 ],
 "metadata": {
  "kernelspec": {
   "display_name": "Python 3",
   "language": "python",
   "name": "python3"
  },
  "language_info": {
   "codemirror_mode": {
    "name": "ipython",
    "version": 3
   },
   "file_extension": ".py",
   "mimetype": "text/x-python",
   "name": "python",
   "nbconvert_exporter": "python",
   "pygments_lexer": "ipython3",
   "version": "3.7.3"
  }
 },
 "nbformat": 4,
 "nbformat_minor": 2
}
